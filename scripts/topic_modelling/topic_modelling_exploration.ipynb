{
 "cells": [
  {
   "cell_type": "markdown",
   "metadata": {},
   "source": [
    "# Topic modelling for tweets of covid19"
   ]
  },
  {
   "cell_type": "markdown",
   "metadata": {},
   "source": [
    "On this first exploratory work, we intend to find and visualize the main topics on a subset of our corpus of tweets about covid19. We perform un unsupervised learning in order to detect emerging topics for our study of the social narratives of the pandemic."
   ]
  },
  {
   "cell_type": "code",
   "execution_count": 2,
   "metadata": {},
   "outputs": [],
   "source": [
    "corpus_label = 'dhcovid_texts_2020-04-25_es_ar' # We select all the tweets in spanish for april 25th.\n",
    "corpus_minilabel = corpus_label.replace('dhcovid_texts_', '')\n",
    "\n",
    "with open(f'data/{corpus_label}.txt', 'r') as fi:\n",
    "    tweets=fi.readlines()"
   ]
  },
  {
   "cell_type": "code",
   "execution_count": 9,
   "metadata": {},
   "outputs": [],
   "source": [
    "with open('data/stopwords-spa.lst', 'r') as s: # Generic Spanish stopwords\n",
    "    stop_words = s.read()\n",
    "    \n",
    "with open(\"data/stopwords-spa.extra.lst\") as s: # This list is modified according to our corpus\n",
    "    stop_words += s.read()\n",
    "\n",
    "stop_words = stop_words.split()\n",
    "\n",
    "with open('data/emojinames.parsed.extras.txt') as fi:\n",
    "    emoji_labels=fi.read()\n",
    "emoji_labels= emoji_labels.split()"
   ]
  },
  {
   "cell_type": "markdown",
   "metadata": {},
   "source": [
    "Predictably, stopwords are of no interest for topic modelling, so we will filter them. And based on the results, we refresh the list of stopwords to eliminate noise (for ex, 'retwitt') or words that are too obvious (for ex, 'covid19'). We will also filter emojis."
   ]
  },
  {
   "cell_type": "markdown",
   "metadata": {},
   "source": [
    "## Preprocessing"
   ]
  },
  {
   "cell_type": "markdown",
   "metadata": {},
   "source": [
    "Topic modelling focuses in nouns, since it is the category that prototypically holds the more information load of a text. We use Stanza (from Stanford NLP) for part of speech detection and lemmatization. Lemmatization reduces all the flexions of a word to the same lemma, a very helpful preprocessing step when dealing with texts in Spanish. "
   ]
  },
  {
   "cell_type": "code",
   "execution_count": 4,
   "metadata": {},
   "outputs": [
    {
     "name": "stderr",
     "output_type": "stream",
     "text": [
      "2020-06-19 17:12:10 INFO: Loading these models for language: es (Spanish):\n",
      "=======================\n",
      "| Processor | Package |\n",
      "-----------------------\n",
      "| tokenize  | ancora  |\n",
      "| pos       | ancora  |\n",
      "| lemma     | ancora  |\n",
      "=======================\n",
      "\n",
      "2020-06-19 17:12:10 INFO: Use device: cpu\n",
      "2020-06-19 17:12:10 INFO: Loading: tokenize\n",
      "2020-06-19 17:12:10 INFO: Loading: pos\n",
      "2020-06-19 17:12:11 INFO: Loading: lemma\n",
      "2020-06-19 17:12:11 INFO: Done loading processors!\n"
     ]
    }
   ],
   "source": [
    "import stanza\n",
    "nlp_stanza = stanza.Pipeline('es', processors='tokenize, pos, lemma')"
   ]
  },
  {
   "cell_type": "code",
   "execution_count": 5,
   "metadata": {},
   "outputs": [
    {
     "name": "stderr",
     "output_type": "stream",
     "text": [
      "100%|██████████| 2601/2601 [08:51<00:00,  4.89it/s]\n"
     ]
    }
   ],
   "source": [
    "from tqdm import tqdm\n",
    "stanza_tweets = [nlp_stanza(tweet) for tweet in tqdm(tweets)]"
   ]
  },
  {
   "cell_type": "code",
   "execution_count": 6,
   "metadata": {},
   "outputs": [
    {
     "name": "stdout",
     "output_type": "stream",
     "text": [
      "#albertofernandez #albertofernandez NOUN\n",
      "#laplata #laplata NOUN\n",
      "casos caso NOUN\n",
      "joven joven NOUN\n",
      "años año NOUN\n",
      "pagina pagina NOUN\n",
      "informe informe NOUN\n",
      "community community NOUN\n",
      "of of NOUN\n",
      "insurance insurance NOUN\n",
      "impacto impacto NOUN\n",
      "perspectivas perspectiva NOUN\n",
      "parte parte NOUN\n",
      "equipo equipo NOUN\n",
      "actualidad actualidad NOUN\n",
      "pais pais NOUN\n",
      "supuesto supuesto NOUN\n",
      "#sanmartin #sanmartin NOUN\n",
      "cosas cosa NOUN\n",
      "materia materia NOUN\n",
      "salud salud NOUN\n",
      "vecinos vecino NOUN\n",
      "presos preso NOUN\n",
      "gente gente NOUN\n",
      "mujeres mujer NOUN\n",
      "vomitos vomito NOUN\n",
      "sintomas sintoma NOUN\n",
      "tele tele NOUN\n",
      "contagio contagio NOUN\n",
      "agarra agarra NOUN\n",
      "botella botella NOUN\n",
      "vino vino NOUN\n",
      "saque saque NOUN\n",
      "true true NOUN\n",
      "story story NOUN\n",
      "man man NOUN\n",
      "kim kim NOUN\n",
      "yoyo yoyo NOUN\n",
      "chino chino NOUN\n",
      "gangnam gangnam NOUN\n",
      "style style NOUN\n",
      "mascarillas mascarilla NOUN\n",
      "narices nariz NOUN\n",
      "bocas boca NOUN\n",
      "german german NOUN\n",
      "cocina cocina NOUN\n",
      "humo humo NOUN\n",
      "fondo fondo NOUN\n",
      "falta falta NOUN\n",
      "mama mama NOUN\n"
     ]
    }
   ],
   "source": [
    "for tweet in stanza_tweets[:10]:\n",
    "    for sent in tweet.sentences:\n",
    "        for word in sent.words:\n",
    "            if word.text not in stop_words and word.upos=='NOUN':\n",
    "                print(word.text, word.lemma, word.upos)"
   ]
  },
  {
   "cell_type": "markdown",
   "metadata": {},
   "source": [
    "We define a cleaning function where we remove numbers, emoji labels and stopwords and we return two lists, the list of all the lemmas of the tweet and the list of the noun lemmas of the tweet:"
   ]
  },
  {
   "cell_type": "code",
   "execution_count": 7,
   "metadata": {},
   "outputs": [],
   "source": [
    "def clean_stanza(stanza_word, lemas_list, nouns_list):\n",
    "    if not stanza_word.text.isnumeric():\n",
    "        if stanza_word.text and stanza_word.lemma not in stop_words:\n",
    "            if 'emoji_not_identified' not in stanza_word.text:\n",
    "                if stanza_word.text.replace(':', '') not in emoji_labels:\n",
    "                    lemas_list.append(stanza_word.lemma)\n",
    "                #else:\n",
    "                #    print(stanza_word.text)\n",
    "                    if stanza_word.upos=='NOUN':\n",
    "                        nouns_list.append(stanza_word.lemma)\n",
    "    return lemas_list, nouns_list"
   ]
  },
  {
   "cell_type": "code",
   "execution_count": 10,
   "metadata": {},
   "outputs": [
    {
     "name": "stderr",
     "output_type": "stream",
     "text": [
      "100%|██████████| 2601/2601 [00:01<00:00, 1996.26it/s]\n"
     ]
    }
   ],
   "source": [
    "from pprint import pprint\n",
    "\n",
    "lemas_tweets = [] # all the tweets, without stopwords, lemmatized\n",
    "nouns_tweets = [] # all the tweets, without stopwords, lemmatized, nouns only\n",
    "\n",
    "# Generamos una lista de tweets donde cada tweet es una lista de lemas\n",
    "\n",
    "for tweet_doc in tqdm(stanza_tweets):\n",
    "    this_tweet_lemas = []\n",
    "    this_tweet_nouns = []\n",
    "\n",
    "    for sent in tweet_doc.sentences:\n",
    "        for word in sent.words:\n",
    "            this_tweet_lemas, this_tweet_nouns= clean_stanza(word, this_tweet_lemas, this_tweet_nouns)\n",
    "    lemas_tweets.append(this_tweet_lemas)\n",
    "    nouns_tweets.append(this_tweet_nouns)"
   ]
  },
  {
   "cell_type": "markdown",
   "metadata": {},
   "source": [
    "In the previous step, we have generated a list with all the lemmas of the tweet that we will use on the next step to create the bigrams of the tweet. We generate the bigrams because we are interested in expressions such as \"nuevo_caso\" or \"flexibilizar_cuarentena\".\n",
    "Then we will add those bigrams to the list of nouns that we will later use to calculate the topics."
   ]
  },
  {
   "cell_type": "code",
   "execution_count": 12,
   "metadata": {},
   "outputs": [],
   "source": [
    "from gensim.models import Phrases\n",
    "\n",
    "# Generate bigrams (only the ones that appear 20 times or more, all types of POS).\n",
    "bigram = Phrases(lemas_tweets, min_count=20)"
   ]
  },
  {
   "cell_type": "code",
   "execution_count": 13,
   "metadata": {},
   "outputs": [],
   "source": [
    "for idx in range(len(lemas_tweets)):\n",
    "    for token in bigram[lemas_tweets[idx]]:\n",
    "        if '_' in token: # gensim joins bigrams with underscore\n",
    "            #print(token)\n",
    "            nouns_tweets[idx].append(token) # we add the bigrams to the list of nouns of the tweet"
   ]
  },
  {
   "cell_type": "markdown",
   "metadata": {},
   "source": [
    "## Unsupervised learning"
   ]
  },
  {
   "cell_type": "markdown",
   "metadata": {},
   "source": [
    "Now we will process our tweets with Gensim, a Python library for unsupervised topic modeling. "
   ]
  },
  {
   "cell_type": "code",
   "execution_count": 14,
   "metadata": {},
   "outputs": [],
   "source": [
    "import gensim\n",
    "from gensim import corpora\n",
    "\n",
    "dictionary = corpora.Dictionary(nouns_tweets)"
   ]
  },
  {
   "cell_type": "code",
   "execution_count": 15,
   "metadata": {},
   "outputs": [],
   "source": [
    "doc_term_matrix = [dictionary.doc2bow(one_tweet_nouns) for one_tweet_nouns in nouns_tweets]"
   ]
  },
  {
   "cell_type": "markdown",
   "metadata": {},
   "source": [
    "We train our model with LDA for several number of topics and we save our models."
   ]
  },
  {
   "cell_type": "code",
   "execution_count": 17,
   "metadata": {},
   "outputs": [
    {
     "name": "stdout",
     "output_type": "stream",
     "text": [
      "Ya lo habíamos entrenado con 3 topics\n",
      "Ya lo habíamos entrenado con 4 topics\n",
      "Ya lo habíamos entrenado con 5 topics\n",
      "Ya lo habíamos entrenado con 6 topics\n",
      "Ya lo habíamos entrenado con 7 topics\n",
      "Ya lo habíamos entrenado con 8 topics\n",
      "Ya lo habíamos entrenado con 9 topics\n",
      "Ya lo habíamos entrenado con 10 topics\n",
      "Ya lo habíamos entrenado con 11 topics\n",
      "Ya lo habíamos entrenado con 12 topics\n",
      "Ya lo habíamos entrenado con 13 topics\n",
      "Ya lo habíamos entrenado con 14 topics\n",
      "Ya lo habíamos entrenado con 15 topics\n",
      "Ya lo habíamos entrenado con 16 topics\n",
      "Ya lo habíamos entrenado con 17 topics\n",
      "Ya lo habíamos entrenado con 18 topics\n",
      "Ya lo habíamos entrenado con 19 topics\n",
      "Ya lo habíamos entrenado con 20 topics\n",
      "Ya lo habíamos entrenado con 21 topics\n",
      "Ya lo habíamos entrenado con 22 topics\n",
      "Ya lo habíamos entrenado con 23 topics\n",
      "Ya lo habíamos entrenado con 24 topics\n",
      "Ya lo habíamos entrenado con 25 topics\n",
      "Ya lo habíamos entrenado con 26 topics\n",
      "Ya lo habíamos entrenado con 27 topics\n",
      "Ya lo habíamos entrenado con 28 topics\n",
      "Ya lo habíamos entrenado con 29 topics\n",
      "Entrenando LDA model con 30 topics\n",
      "Guardando en modelos_gensim/2020-04-25_es_ar-lema_2gram_LDA-ntopics30\n"
     ]
    }
   ],
   "source": [
    "from gensim.models.ldamodel import LdaModel\n",
    "from os.path import isfile\n",
    "# import logging\n",
    "# logging.basicConfig(format='%(asctime)s : %(levelname)s : %(message)s', level=logging.INFO)\n",
    "\n",
    "model_label = 'lema_2gram_LDA'\n",
    "\n",
    "def cargar_modelo_LDA(ntopics):\n",
    "    archivo_modelo = f'modelos_gensim/{corpus_minilabel}-{model_label}-ntopics{ntopics:02}'\n",
    "    return LdaModel.load(archivo_modelo)\n",
    "\n",
    "modelos_LDA = {}\n",
    "topic_numbers_to_try = range(3, 31) ##\n",
    "\n",
    "for n in topic_numbers_to_try:\n",
    "    archivo_destino = f\"modelos_gensim/{corpus_minilabel}-{model_label}-ntopics{n:02}\"\n",
    "    \n",
    "    if isfile(archivo_destino):\n",
    "        print(f\"Ya lo habíamos entrenado con {n} topics\")\n",
    "        modelo = cargar_modelo_LDA(n)\n",
    "    else:\n",
    "        # logging.basicConfig(filename=f\"modelos_gensim/{model_label}_n{n:02}.log\")\n",
    "        print(f\"Entrenando LDA model con {n} topics\")\n",
    "        modelo = LdaModel(\n",
    "            doc_term_matrix,\n",
    "            num_topics=n,\n",
    "            id2word=dictionary,\n",
    "            passes=20,\n",
    "            eval_every=1,\n",
    "            iterations=50\n",
    "        )\n",
    "        print(f\"Guardando en {archivo_destino}\")\n",
    "        modelo.save(archivo_destino)\n",
    "        \n",
    "    modelos_LDA[n] = modelo"
   ]
  },
  {
   "cell_type": "markdown",
   "metadata": {},
   "source": [
    "## Calculating topic coherence"
   ]
  },
  {
   "cell_type": "markdown",
   "metadata": {},
   "source": [
    "In the previous step, we have calculated a range of topics from 3 to 50, since we can't know in advance how many topics are in the corpus. We could ask a human evaluator to read the corpus and look at these topics and say which is the correct number of topics of our corpus but that would take a lot of time. Topic coherence is a measure that evaluates each topic in the different models and allows us to find the best number of topics automatically."
   ]
  },
  {
   "cell_type": "code",
   "execution_count": 18,
   "metadata": {},
   "outputs": [
    {
     "name": "stderr",
     "output_type": "stream",
     "text": [
      "100%|██████████| 28/28 [01:58<00:00,  4.24s/it]\n"
     ]
    },
    {
     "data": {
      "text/html": [
       "<div>\n",
       "<style scoped>\n",
       "    .dataframe tbody tr th:only-of-type {\n",
       "        vertical-align: middle;\n",
       "    }\n",
       "\n",
       "    .dataframe tbody tr th {\n",
       "        vertical-align: top;\n",
       "    }\n",
       "\n",
       "    .dataframe thead th {\n",
       "        text-align: right;\n",
       "    }\n",
       "</style>\n",
       "<table border=\"1\" class=\"dataframe\">\n",
       "  <thead>\n",
       "    <tr style=\"text-align: right;\">\n",
       "      <th></th>\n",
       "      <th>corpus</th>\n",
       "      <th>modelo</th>\n",
       "      <th>num_topics</th>\n",
       "      <th>c_npmi</th>\n",
       "      <th>c_uci</th>\n",
       "      <th>u_mass</th>\n",
       "      <th>c_v</th>\n",
       "    </tr>\n",
       "  </thead>\n",
       "  <tbody>\n",
       "    <tr>\n",
       "      <th>0</th>\n",
       "      <td>2020-04-25_es_ar</td>\n",
       "      <td>lema_2gram_LDA</td>\n",
       "      <td>3</td>\n",
       "      <td>-0.145117</td>\n",
       "      <td>-4.905199</td>\n",
       "      <td>-8.362319</td>\n",
       "      <td>0.357672</td>\n",
       "    </tr>\n",
       "    <tr>\n",
       "      <th>1</th>\n",
       "      <td>2020-04-25_es_ar</td>\n",
       "      <td>lema_2gram_LDA</td>\n",
       "      <td>4</td>\n",
       "      <td>-0.177748</td>\n",
       "      <td>-5.943440</td>\n",
       "      <td>-9.523216</td>\n",
       "      <td>0.408892</td>\n",
       "    </tr>\n",
       "    <tr>\n",
       "      <th>2</th>\n",
       "      <td>2020-04-25_es_ar</td>\n",
       "      <td>lema_2gram_LDA</td>\n",
       "      <td>5</td>\n",
       "      <td>-0.159665</td>\n",
       "      <td>-5.775284</td>\n",
       "      <td>-9.500018</td>\n",
       "      <td>0.413654</td>\n",
       "    </tr>\n",
       "    <tr>\n",
       "      <th>3</th>\n",
       "      <td>2020-04-25_es_ar</td>\n",
       "      <td>lema_2gram_LDA</td>\n",
       "      <td>6</td>\n",
       "      <td>-0.220512</td>\n",
       "      <td>-7.620373</td>\n",
       "      <td>-11.513579</td>\n",
       "      <td>0.486193</td>\n",
       "    </tr>\n",
       "    <tr>\n",
       "      <th>4</th>\n",
       "      <td>2020-04-25_es_ar</td>\n",
       "      <td>lema_2gram_LDA</td>\n",
       "      <td>7</td>\n",
       "      <td>-0.244838</td>\n",
       "      <td>-8.087879</td>\n",
       "      <td>-12.047784</td>\n",
       "      <td>0.487599</td>\n",
       "    </tr>\n",
       "    <tr>\n",
       "      <th>5</th>\n",
       "      <td>2020-04-25_es_ar</td>\n",
       "      <td>lema_2gram_LDA</td>\n",
       "      <td>8</td>\n",
       "      <td>-0.259692</td>\n",
       "      <td>-8.651508</td>\n",
       "      <td>-12.722810</td>\n",
       "      <td>0.479919</td>\n",
       "    </tr>\n",
       "    <tr>\n",
       "      <th>6</th>\n",
       "      <td>2020-04-25_es_ar</td>\n",
       "      <td>lema_2gram_LDA</td>\n",
       "      <td>9</td>\n",
       "      <td>-0.285625</td>\n",
       "      <td>-9.314048</td>\n",
       "      <td>-13.505824</td>\n",
       "      <td>0.516679</td>\n",
       "    </tr>\n",
       "    <tr>\n",
       "      <th>7</th>\n",
       "      <td>2020-04-25_es_ar</td>\n",
       "      <td>lema_2gram_LDA</td>\n",
       "      <td>10</td>\n",
       "      <td>-0.290413</td>\n",
       "      <td>-9.449702</td>\n",
       "      <td>-13.624317</td>\n",
       "      <td>0.491266</td>\n",
       "    </tr>\n",
       "    <tr>\n",
       "      <th>8</th>\n",
       "      <td>2020-04-25_es_ar</td>\n",
       "      <td>lema_2gram_LDA</td>\n",
       "      <td>11</td>\n",
       "      <td>-0.292633</td>\n",
       "      <td>-9.462372</td>\n",
       "      <td>-13.733714</td>\n",
       "      <td>0.511050</td>\n",
       "    </tr>\n",
       "    <tr>\n",
       "      <th>9</th>\n",
       "      <td>2020-04-25_es_ar</td>\n",
       "      <td>lema_2gram_LDA</td>\n",
       "      <td>12</td>\n",
       "      <td>-0.333822</td>\n",
       "      <td>-10.487849</td>\n",
       "      <td>-14.821172</td>\n",
       "      <td>0.535773</td>\n",
       "    </tr>\n",
       "    <tr>\n",
       "      <th>10</th>\n",
       "      <td>2020-04-25_es_ar</td>\n",
       "      <td>lema_2gram_LDA</td>\n",
       "      <td>13</td>\n",
       "      <td>-0.324595</td>\n",
       "      <td>-10.345947</td>\n",
       "      <td>-14.837527</td>\n",
       "      <td>0.529920</td>\n",
       "    </tr>\n",
       "    <tr>\n",
       "      <th>11</th>\n",
       "      <td>2020-04-25_es_ar</td>\n",
       "      <td>lema_2gram_LDA</td>\n",
       "      <td>14</td>\n",
       "      <td>-0.326617</td>\n",
       "      <td>-10.476834</td>\n",
       "      <td>-14.992347</td>\n",
       "      <td>0.522366</td>\n",
       "    </tr>\n",
       "    <tr>\n",
       "      <th>12</th>\n",
       "      <td>2020-04-25_es_ar</td>\n",
       "      <td>lema_2gram_LDA</td>\n",
       "      <td>15</td>\n",
       "      <td>-0.342777</td>\n",
       "      <td>-10.748122</td>\n",
       "      <td>-15.422873</td>\n",
       "      <td>0.541315</td>\n",
       "    </tr>\n",
       "    <tr>\n",
       "      <th>13</th>\n",
       "      <td>2020-04-25_es_ar</td>\n",
       "      <td>lema_2gram_LDA</td>\n",
       "      <td>16</td>\n",
       "      <td>-0.322462</td>\n",
       "      <td>-10.372392</td>\n",
       "      <td>-14.879872</td>\n",
       "      <td>0.505993</td>\n",
       "    </tr>\n",
       "    <tr>\n",
       "      <th>14</th>\n",
       "      <td>2020-04-25_es_ar</td>\n",
       "      <td>lema_2gram_LDA</td>\n",
       "      <td>17</td>\n",
       "      <td>-0.342483</td>\n",
       "      <td>-10.865077</td>\n",
       "      <td>-15.486809</td>\n",
       "      <td>0.551340</td>\n",
       "    </tr>\n",
       "    <tr>\n",
       "      <th>15</th>\n",
       "      <td>2020-04-25_es_ar</td>\n",
       "      <td>lema_2gram_LDA</td>\n",
       "      <td>18</td>\n",
       "      <td>-0.337752</td>\n",
       "      <td>-10.755475</td>\n",
       "      <td>-15.356965</td>\n",
       "      <td>0.546696</td>\n",
       "    </tr>\n",
       "    <tr>\n",
       "      <th>16</th>\n",
       "      <td>2020-04-25_es_ar</td>\n",
       "      <td>lema_2gram_LDA</td>\n",
       "      <td>19</td>\n",
       "      <td>-0.342614</td>\n",
       "      <td>-10.854749</td>\n",
       "      <td>-15.509537</td>\n",
       "      <td>0.543438</td>\n",
       "    </tr>\n",
       "    <tr>\n",
       "      <th>17</th>\n",
       "      <td>2020-04-25_es_ar</td>\n",
       "      <td>lema_2gram_LDA</td>\n",
       "      <td>20</td>\n",
       "      <td>-0.338521</td>\n",
       "      <td>-10.809702</td>\n",
       "      <td>-15.628857</td>\n",
       "      <td>0.547190</td>\n",
       "    </tr>\n",
       "    <tr>\n",
       "      <th>18</th>\n",
       "      <td>2020-04-25_es_ar</td>\n",
       "      <td>lema_2gram_LDA</td>\n",
       "      <td>21</td>\n",
       "      <td>-0.355193</td>\n",
       "      <td>-11.223780</td>\n",
       "      <td>-16.081734</td>\n",
       "      <td>0.554760</td>\n",
       "    </tr>\n",
       "    <tr>\n",
       "      <th>19</th>\n",
       "      <td>2020-04-25_es_ar</td>\n",
       "      <td>lema_2gram_LDA</td>\n",
       "      <td>22</td>\n",
       "      <td>-0.360330</td>\n",
       "      <td>-11.279696</td>\n",
       "      <td>-16.153072</td>\n",
       "      <td>0.561224</td>\n",
       "    </tr>\n",
       "    <tr>\n",
       "      <th>20</th>\n",
       "      <td>2020-04-25_es_ar</td>\n",
       "      <td>lema_2gram_LDA</td>\n",
       "      <td>23</td>\n",
       "      <td>-0.352088</td>\n",
       "      <td>-11.139521</td>\n",
       "      <td>-16.065065</td>\n",
       "      <td>0.544103</td>\n",
       "    </tr>\n",
       "    <tr>\n",
       "      <th>21</th>\n",
       "      <td>2020-04-25_es_ar</td>\n",
       "      <td>lema_2gram_LDA</td>\n",
       "      <td>24</td>\n",
       "      <td>-0.363869</td>\n",
       "      <td>-11.448612</td>\n",
       "      <td>-16.400008</td>\n",
       "      <td>0.569949</td>\n",
       "    </tr>\n",
       "    <tr>\n",
       "      <th>22</th>\n",
       "      <td>2020-04-25_es_ar</td>\n",
       "      <td>lema_2gram_LDA</td>\n",
       "      <td>25</td>\n",
       "      <td>-0.373885</td>\n",
       "      <td>-11.663026</td>\n",
       "      <td>-16.557270</td>\n",
       "      <td>0.567122</td>\n",
       "    </tr>\n",
       "    <tr>\n",
       "      <th>23</th>\n",
       "      <td>2020-04-25_es_ar</td>\n",
       "      <td>lema_2gram_LDA</td>\n",
       "      <td>26</td>\n",
       "      <td>-0.373719</td>\n",
       "      <td>-11.637961</td>\n",
       "      <td>-16.665895</td>\n",
       "      <td>0.575830</td>\n",
       "    </tr>\n",
       "    <tr>\n",
       "      <th>24</th>\n",
       "      <td>2020-04-25_es_ar</td>\n",
       "      <td>lema_2gram_LDA</td>\n",
       "      <td>27</td>\n",
       "      <td>-0.356608</td>\n",
       "      <td>-11.243313</td>\n",
       "      <td>-16.152632</td>\n",
       "      <td>0.545699</td>\n",
       "    </tr>\n",
       "    <tr>\n",
       "      <th>25</th>\n",
       "      <td>2020-04-25_es_ar</td>\n",
       "      <td>lema_2gram_LDA</td>\n",
       "      <td>28</td>\n",
       "      <td>-0.351703</td>\n",
       "      <td>-11.113840</td>\n",
       "      <td>-16.020713</td>\n",
       "      <td>0.547563</td>\n",
       "    </tr>\n",
       "    <tr>\n",
       "      <th>26</th>\n",
       "      <td>2020-04-25_es_ar</td>\n",
       "      <td>lema_2gram_LDA</td>\n",
       "      <td>29</td>\n",
       "      <td>-0.378044</td>\n",
       "      <td>-11.775494</td>\n",
       "      <td>-16.818680</td>\n",
       "      <td>0.568473</td>\n",
       "    </tr>\n",
       "    <tr>\n",
       "      <th>27</th>\n",
       "      <td>2020-04-25_es_ar</td>\n",
       "      <td>lema_2gram_LDA</td>\n",
       "      <td>30</td>\n",
       "      <td>-0.369667</td>\n",
       "      <td>-11.562069</td>\n",
       "      <td>-16.643023</td>\n",
       "      <td>0.567243</td>\n",
       "    </tr>\n",
       "  </tbody>\n",
       "</table>\n",
       "</div>"
      ],
      "text/plain": [
       "              corpus          modelo  num_topics    c_npmi      c_uci  \\\n",
       "0   2020-04-25_es_ar  lema_2gram_LDA           3 -0.145117  -4.905199   \n",
       "1   2020-04-25_es_ar  lema_2gram_LDA           4 -0.177748  -5.943440   \n",
       "2   2020-04-25_es_ar  lema_2gram_LDA           5 -0.159665  -5.775284   \n",
       "3   2020-04-25_es_ar  lema_2gram_LDA           6 -0.220512  -7.620373   \n",
       "4   2020-04-25_es_ar  lema_2gram_LDA           7 -0.244838  -8.087879   \n",
       "5   2020-04-25_es_ar  lema_2gram_LDA           8 -0.259692  -8.651508   \n",
       "6   2020-04-25_es_ar  lema_2gram_LDA           9 -0.285625  -9.314048   \n",
       "7   2020-04-25_es_ar  lema_2gram_LDA          10 -0.290413  -9.449702   \n",
       "8   2020-04-25_es_ar  lema_2gram_LDA          11 -0.292633  -9.462372   \n",
       "9   2020-04-25_es_ar  lema_2gram_LDA          12 -0.333822 -10.487849   \n",
       "10  2020-04-25_es_ar  lema_2gram_LDA          13 -0.324595 -10.345947   \n",
       "11  2020-04-25_es_ar  lema_2gram_LDA          14 -0.326617 -10.476834   \n",
       "12  2020-04-25_es_ar  lema_2gram_LDA          15 -0.342777 -10.748122   \n",
       "13  2020-04-25_es_ar  lema_2gram_LDA          16 -0.322462 -10.372392   \n",
       "14  2020-04-25_es_ar  lema_2gram_LDA          17 -0.342483 -10.865077   \n",
       "15  2020-04-25_es_ar  lema_2gram_LDA          18 -0.337752 -10.755475   \n",
       "16  2020-04-25_es_ar  lema_2gram_LDA          19 -0.342614 -10.854749   \n",
       "17  2020-04-25_es_ar  lema_2gram_LDA          20 -0.338521 -10.809702   \n",
       "18  2020-04-25_es_ar  lema_2gram_LDA          21 -0.355193 -11.223780   \n",
       "19  2020-04-25_es_ar  lema_2gram_LDA          22 -0.360330 -11.279696   \n",
       "20  2020-04-25_es_ar  lema_2gram_LDA          23 -0.352088 -11.139521   \n",
       "21  2020-04-25_es_ar  lema_2gram_LDA          24 -0.363869 -11.448612   \n",
       "22  2020-04-25_es_ar  lema_2gram_LDA          25 -0.373885 -11.663026   \n",
       "23  2020-04-25_es_ar  lema_2gram_LDA          26 -0.373719 -11.637961   \n",
       "24  2020-04-25_es_ar  lema_2gram_LDA          27 -0.356608 -11.243313   \n",
       "25  2020-04-25_es_ar  lema_2gram_LDA          28 -0.351703 -11.113840   \n",
       "26  2020-04-25_es_ar  lema_2gram_LDA          29 -0.378044 -11.775494   \n",
       "27  2020-04-25_es_ar  lema_2gram_LDA          30 -0.369667 -11.562069   \n",
       "\n",
       "       u_mass       c_v  \n",
       "0   -8.362319  0.357672  \n",
       "1   -9.523216  0.408892  \n",
       "2   -9.500018  0.413654  \n",
       "3  -11.513579  0.486193  \n",
       "4  -12.047784  0.487599  \n",
       "5  -12.722810  0.479919  \n",
       "6  -13.505824  0.516679  \n",
       "7  -13.624317  0.491266  \n",
       "8  -13.733714  0.511050  \n",
       "9  -14.821172  0.535773  \n",
       "10 -14.837527  0.529920  \n",
       "11 -14.992347  0.522366  \n",
       "12 -15.422873  0.541315  \n",
       "13 -14.879872  0.505993  \n",
       "14 -15.486809  0.551340  \n",
       "15 -15.356965  0.546696  \n",
       "16 -15.509537  0.543438  \n",
       "17 -15.628857  0.547190  \n",
       "18 -16.081734  0.554760  \n",
       "19 -16.153072  0.561224  \n",
       "20 -16.065065  0.544103  \n",
       "21 -16.400008  0.569949  \n",
       "22 -16.557270  0.567122  \n",
       "23 -16.665895  0.575830  \n",
       "24 -16.152632  0.545699  \n",
       "25 -16.020713  0.547563  \n",
       "26 -16.818680  0.568473  \n",
       "27 -16.643023  0.567243  "
      ]
     },
     "execution_count": 18,
     "metadata": {},
     "output_type": "execute_result"
    }
   ],
   "source": [
    "from gensim.models import CoherenceModel\n",
    "import pandas as pd\n",
    "\n",
    "scores = []\n",
    "scores_disponibles = [\"c_npmi\", \"c_uci\", \"u_mass\", \"c_v\"] # we use different scores to calculate topic coherence\n",
    "\n",
    "for num_topics in tqdm(topic_numbers_to_try):\n",
    "    modelo = cargar_modelo_LDA(num_topics)\n",
    "    scoring = {\"corpus\": corpus_minilabel, \"modelo\": model_label, \"num_topics\": num_topics}\n",
    "    \n",
    "    for coherence_score in scores_disponibles:\n",
    "        # Based on: https://radimrehurek.com/gensim/models/coherencemodel.html\n",
    "        # NB: the 'texts' must be the same -same preprocessing if any- we used to generate the model we are loading!  \n",
    "        cm = CoherenceModel(model=modelo, dictionary=dictionary, coherence=coherence_score, texts=nouns_tweets)\n",
    "        scoring[coherence_score] = cm.get_coherence()\n",
    "        \n",
    "    scores.append(scoring)\n",
    "    \n",
    "scores = pd.DataFrame(scores)\n",
    "scores"
   ]
  },
  {
   "cell_type": "markdown",
   "metadata": {},
   "source": [
    "Let's visualize the topic coherence in a graphic:"
   ]
  },
  {
   "cell_type": "code",
   "execution_count": 19,
   "metadata": {},
   "outputs": [
    {
     "name": "stderr",
     "output_type": "stream",
     "text": [
      "\n",
      "Bad key \"text.kerning_factor\" on line 4 in\n",
      "/home/yoki/anaconda3/lib/python3.7/site-packages/matplotlib/mpl-data/stylelib/_classic_test_patch.mplstyle.\n",
      "You probably need to get an updated matplotlibrc file from\n",
      "https://github.com/matplotlib/matplotlib/blob/v3.1.3/matplotlibrc.template\n",
      "or from the matplotlib source distribution\n"
     ]
    },
    {
     "data": {
      "image/png": "[encoded data removed]",
      "text/plain": [
       "<Figure size 1440x288 with 4 Axes>"
      ]
     },
     "metadata": {
      "needs_background": "light"
     },
     "output_type": "display_data"
    }
   ],
   "source": [
    "import matplotlib.pyplot as plt\n",
    "\n",
    "with plt.style.context(\"bmh\"):\n",
    "    fig, axes = plt.subplots(nrows=1, ncols=4, figsize=(20, 4))\n",
    "\n",
    "    for i, score in enumerate(scores_disponibles):\n",
    "        ax = axes.flat[i]\n",
    "        ax.plot(scores.num_topics, scores[score], \"-o\")\n",
    "        ax.set_title(f\"Coherence measured with: {score}\\n{corpus_minilabel} | {model_label}\")\n",
    "        ax.set_xlabel(\"Number of Topics\")\n",
    "        ax.set_ylabel(\"Coherence Score\")\n",
    "    \n",
    "    plt.tight_layout()\n",
    "    plt.savefig(f'modelos_gensim/{corpus_minilabel}-{model_label}-coherence.png')\n",
    "    plt.show()"
   ]
  },
  {
   "cell_type": "markdown",
   "metadata": {},
   "source": [
    "Now that we know which are the best models, we can visualize the topics of those models."
   ]
  },
  {
   "cell_type": "markdown",
   "metadata": {},
   "source": [
    "## Visualizing the models"
   ]
  },
  {
   "cell_type": "markdown",
   "metadata": {},
   "source": [
    "On this step, we use pyLDAvis to visualize the models that obtained the best scores for topic coherence."
   ]
  },
  {
   "cell_type": "code",
   "execution_count": 20,
   "metadata": {},
   "outputs": [],
   "source": [
    "import pyLDAvis.gensim\n",
    "pyLDAvis.enable_notebook()\n",
    "\n",
    "def cargar_modelo_y_graficar(ntopics, dictionary, doc_term_matrix, verbose=False):\n",
    "    '''\n",
    "    ntopics: numero de topics\n",
    "    tweets_procesados: lista de tweets que son listas de strings\n",
    "    '''\n",
    "    ldamodel = cargar_modelo_LDA(ntopics)\n",
    "    \n",
    "    if verbose:\n",
    "        print(f\"** Modelo con #topics = {ntopics} **\")\n",
    "        for i in range(ntopics):\n",
    "            topic_words_and_weights = ldamodel.show_topic(i)\n",
    "            topic_words = \" \".join([word for word, weight in topic_words_and_weights])\n",
    "            print(f\" * \", topic_words)\n",
    "        print()\n",
    "    \n",
    "    return pyLDAvis.gensim.prepare(ldamodel, doc_term_matrix, dictionary)"
   ]
  },
  {
   "cell_type": "code",
   "execution_count": 21,
   "metadata": {},
   "outputs": [
    {
     "data": {
      "text/html": [
       "\n",
       "<link rel=\"stylesheet\" type=\"text/css\" href=\"https://cdn.rawgit.com/bmabey/pyLDAvis/files/ldavis.v1.0.0.css\">\n",
       "\n",
       "\n",
       "<div id=\"ldavis_el21733140343760934224851876810\"></div>\n",
       "<script type=\"text/javascript\">\n",
       "\n",
       "var ldavis_el21733140343760934224851876810_data = {\"mdsDat\": {\"x\": [-0.1899251490244492, 0.12396262013539802, 0.06596252888905108], \"y\": [-0.02971442509542168, -0.13109557372775646, 0.16080999882317812], \"topics\": [1, 2, 3], \"cluster\": [1, 1, 1], \"Freq\": [37.9801139831543, 31.016069412231445, 31.003812789916992]}, \"tinfo\": {\"Term\": [\"caso\", \"hijo\", \"nombre\", \"nuevo_caso\", \"ciro\", \"argentino\", \"ir_poner\", \"fe\", \"santo_fe\", \"gente\", \"muerte\", \"persona\", \"provincia\", \"paciente\", \"beber\", \"virus\", \"poner_nombre\", \"viernes\", \"contagio\", \"medio\", \"ciudad\", \"aislamiento\", \"total\", \"a\\u00f1o\", \"padre\", \"barrio\", \"protocolo\", \"informe\", \"poner_ciro\", \"reportar\", \"caso\", \"nuevo_caso\", \"argentino\", \"fe\", \"santo_fe\", \"provincia\", \"muerte\", \"paciente\", \"ciudad\", \"total\", \"viernes\", \"contagio\", \"reportar\", \"barrio\", \"protocolo\", \"informe\", \"poner_ciro\", \"caso_positivo\", \"ni\\u00f1o\", \"registro\", \"hora\", \"ministerio\", \"ministerio_salud\", \"cer\", \"hombre\", \"victima\", \"clinica\", \"caso_sospechoso\", \"localidad\", \"miercoles\", \"recien_nacido\", \"muerto\", \"poner_segundo\", \"pais\", \"dia\", \"beber\", \"salud\", \"ciro\", \"a\\u00f1o\", \"mundo\", \"situacion\", \"persona\", \"hijo\", \"ir_poner\", \"poner_nombre\", \"medio\", \"poner_hijo\", \"miedo\", \"puta\", \"cabeza\", \"pibe\", \"barbijo\", \"favor\", \"hija\", \"#distanciamiento\", \"linea\", \"nombre\", \"adema\", \"chorro\", \"corona\", \"partido\", \"lucha\", \"asado\", \"serio\", \"padre\", \"mano\", \"cumplea\\u00f1os\", \"virus\", \"relacion\", \"ojo\", \"asi\", \"realidad\", \"club\", \"mama\", \"vida\", \"ciro\", \"madre\", \"familia\", \"pandemia\", \"beber\", \"a\\u00f1o\", \"cuarentena\", \"vacuna\", \"delincuente\", \"#covid\", \"casa\", \"dia\", \"gente\", \"aislamiento\", \"frente\", \"resultado\", \"control\", \"pa\\u00eds\", \"trabajo\", \"diagnostico\", \"adulto\", \"ciencia\", \"testeo\", \"oms\", \"prueba\", \"mill\\u00f3n\", \"ciudadano\", \"marco\", \"comisaria\", \"establecimiento\", \"transporte\", \"pedo\", \"red\", \"brote\", \"pueblo\", \"hogar\", \"equipo\", \"#nolosliberen\", \"cti\", \"origen\", \"dolar\", \"necesidad\", \"personal\", \"persona\", \"tiempo\", \"gobierno\", \"preso\", \"vez\", \"medida\", \"cosa\", \"casa\", \"gracias\", \"dia\", \"carcel\", \"situacion\", \"salud\", \"nota\", \"pandemia\", \"test\", \"historia\", \"cuarentena\", \"crisis\", \"san\", \"pais\"], \"Freq\": [320.0, 129.0, 146.0, 101.0, 190.0, 89.0, 70.0, 76.0, 73.0, 60.0, 64.0, 104.0, 59.0, 57.0, 127.0, 48.0, 36.0, 42.0, 41.0, 32.0, 38.0, 31.0, 37.0, 84.0, 33.0, 33.0, 32.0, 32.0, 32.0, 31.0, 319.6884460449219, 100.84346008300781, 89.03179168701172, 75.73894500732422, 72.96570587158203, 58.60197067260742, 64.23870086669922, 56.831451416015625, 37.95527267456055, 37.080970764160156, 42.19874954223633, 40.6370735168457, 31.227880477905273, 32.700355529785156, 32.34624481201172, 32.37458801269531, 31.740829467773438, 28.609840393066406, 30.415475845336914, 28.124103546142578, 28.46880531311035, 28.417387008666992, 24.895967483520508, 22.561538696289062, 24.85909652709961, 20.966936111450195, 19.850000381469727, 19.104135513305664, 16.565017700195312, 14.561873435974121, 17.085649490356445, 35.60176086425781, 26.29799461364746, 60.171844482421875, 76.8559341430664, 61.74578094482422, 41.99913787841797, 66.47773742675781, 41.3493766784668, 32.03214645385742, 31.345449447631836, 31.202495574951172, 129.3052520751953, 69.9924545288086, 35.83565139770508, 32.25669860839844, 23.66438865661621, 20.62373161315918, 19.14264678955078, 17.98505401611328, 18.030193328857422, 15.642762184143066, 16.159278869628906, 13.615005493164062, 13.341072082519531, 13.881507873535156, 139.06503295898438, 9.967412948608398, 9.965184211730957, 9.416360855102539, 9.100939750671387, 10.221654891967773, 9.099555015563965, 8.967309951782227, 31.235124588012695, 8.52478313446045, 8.395630836486816, 45.22785186767578, 9.31513500213623, 8.076205253601074, 9.174063682556152, 7.521960258483887, 7.6428093910217285, 14.417502403259277, 29.747011184692383, 123.6109619140625, 15.837066650390625, 19.776517868041992, 62.518943786621094, 65.5521011352539, 42.857513427734375, 35.79657745361328, 16.19175910949707, 13.249714851379395, 12.378124237060547, 16.91048812866211, 17.356403350830078, 59.31277847290039, 30.701704025268555, 24.935213088989258, 20.04030418395996, 18.826406478881836, 18.513412475585938, 17.677410125732422, 17.13324546813965, 16.39060401916504, 14.578988075256348, 13.192044258117676, 12.771919250488281, 11.822936058044434, 11.940788269042969, 11.031023979187012, 12.072931289672852, 10.345457077026367, 9.156352996826172, 9.462540626525879, 9.132708549499512, 8.075762748718262, 8.198812484741211, 8.054399490356445, 8.05309772491455, 7.9129133224487305, 7.734679222106934, 7.733077049255371, 7.728951454162598, 7.878669738769531, 7.5725507736206055, 11.205338478088379, 72.93353271484375, 30.2861270904541, 36.01773452758789, 29.890928268432617, 20.22745132446289, 19.458213806152344, 13.810898780822754, 24.060163497924805, 20.20821762084961, 42.20055389404297, 17.085298538208008, 25.009765625, 27.309309005737305, 15.906721115112305, 28.100116729736328, 14.238642692565918, 13.85810375213623, 18.983335494995117, 15.26844596862793, 13.617775917053223, 13.61998176574707], \"Total\": [320.0, 129.0, 146.0, 101.0, 190.0, 89.0, 70.0, 76.0, 73.0, 60.0, 64.0, 104.0, 59.0, 57.0, 127.0, 48.0, 36.0, 42.0, 41.0, 32.0, 38.0, 31.0, 37.0, 84.0, 33.0, 33.0, 32.0, 32.0, 32.0, 31.0, 320.24139404296875, 101.3794174194336, 89.67182922363281, 76.31185913085938, 73.53600311279297, 59.16945266723633, 64.8665771484375, 57.41791534423828, 38.51059341430664, 37.62913513183594, 42.82417297363281, 41.290611267089844, 31.767364501953125, 33.268348693847656, 32.91175842285156, 32.958499908447266, 32.338356018066406, 29.170724868774414, 31.015975952148438, 28.681615829467773, 29.03943634033203, 28.992650985717773, 25.46729850769043, 23.130155563354492, 25.511722564697266, 21.545927047729492, 20.40182876586914, 19.65155029296875, 17.138551712036133, 15.11176872253418, 17.755327224731445, 38.05548858642578, 30.206279754638672, 85.20550537109375, 136.41290283203125, 127.57759094238281, 76.35429382324219, 190.36805725097656, 84.51863861083984, 56.09150695800781, 60.48824691772461, 104.41886901855469, 129.85269165039062, 70.53788757324219, 36.38809585571289, 32.84404754638672, 24.20246696472168, 21.17962646484375, 19.686443328857422, 18.548831939697266, 18.67920684814453, 16.2268009185791, 16.798818588256836, 14.163068771362305, 13.902078628540039, 14.472865104675293, 146.3268585205078, 10.523880004882812, 10.524351119995117, 9.954730987548828, 9.647257804870605, 10.836081504821777, 9.64736270904541, 9.516631126403809, 33.19493103027344, 9.07834529876709, 8.9478120803833, 48.24199676513672, 9.96104621887207, 8.639619827270508, 9.826746940612793, 8.070226669311523, 8.200582504272461, 16.184833526611328, 37.67992401123047, 190.36805725097656, 18.845184326171875, 25.105409622192383, 117.62907409667969, 127.57759094238281, 84.51863861083984, 76.25679016113281, 28.646163940429688, 19.895429611206055, 18.155454635620117, 41.24261474609375, 136.41290283203125, 60.50519561767578, 31.34490966796875, 25.477689743041992, 20.583927154541016, 19.363656997680664, 19.081069946289062, 18.278156280517578, 17.756065368652344, 17.006441116333008, 15.129443168640137, 13.720295906066895, 13.300065040588379, 12.358749389648438, 12.497154235839844, 11.558832168579102, 12.683444023132324, 10.896225929260254, 9.677979469299316, 10.006376266479492, 9.676077842712402, 8.597275733947754, 8.735991477966309, 8.59555435180664, 8.595443725585938, 8.455373764038086, 8.266029357910156, 8.26596450805664, 8.265645027160645, 8.4527587890625, 8.124414443969727, 12.450722694396973, 104.41886901855469, 38.595703125, 51.53717041015625, 42.95261001586914, 29.367067337036133, 29.802589416503906, 18.454904556274414, 41.24261474609375, 33.57383346557617, 136.41290283203125, 28.998111724853516, 60.48824691772461, 76.35429382324219, 28.66796875, 117.62907409667969, 22.422454833984375, 21.500568389892578, 76.25679016113281, 36.670372009277344, 21.060604095458984, 85.20550537109375], \"Category\": [\"Default\", \"Default\", \"Default\", \"Default\", \"Default\", \"Default\", \"Default\", \"Default\", \"Default\", \"Default\", \"Default\", \"Default\", \"Default\", \"Default\", \"Default\", \"Default\", \"Default\", \"Default\", \"Default\", \"Default\", \"Default\", \"Default\", \"Default\", \"Default\", \"Default\", \"Default\", \"Default\", \"Default\", \"Default\", \"Default\", \"Topic1\", \"Topic1\", \"Topic1\", \"Topic1\", \"Topic1\", \"Topic1\", \"Topic1\", \"Topic1\", \"Topic1\", \"Topic1\", \"Topic1\", \"Topic1\", \"Topic1\", \"Topic1\", \"Topic1\", \"Topic1\", \"Topic1\", \"Topic1\", \"Topic1\", \"Topic1\", \"Topic1\", \"Topic1\", \"Topic1\", \"Topic1\", \"Topic1\", \"Topic1\", \"Topic1\", \"Topic1\", \"Topic1\", \"Topic1\", \"Topic1\", \"Topic1\", \"Topic1\", \"Topic1\", \"Topic1\", \"Topic1\", \"Topic1\", \"Topic1\", \"Topic1\", \"Topic1\", \"Topic1\", \"Topic1\", \"Topic2\", \"Topic2\", \"Topic2\", \"Topic2\", \"Topic2\", \"Topic2\", \"Topic2\", \"Topic2\", \"Topic2\", \"Topic2\", \"Topic2\", \"Topic2\", \"Topic2\", \"Topic2\", \"Topic2\", \"Topic2\", \"Topic2\", \"Topic2\", \"Topic2\", \"Topic2\", \"Topic2\", \"Topic2\", \"Topic2\", \"Topic2\", \"Topic2\", \"Topic2\", \"Topic2\", \"Topic2\", \"Topic2\", \"Topic2\", \"Topic2\", \"Topic2\", \"Topic2\", \"Topic2\", \"Topic2\", \"Topic2\", \"Topic2\", \"Topic2\", \"Topic2\", \"Topic2\", \"Topic2\", \"Topic2\", \"Topic2\", \"Topic2\", \"Topic2\", \"Topic3\", \"Topic3\", \"Topic3\", \"Topic3\", \"Topic3\", \"Topic3\", \"Topic3\", \"Topic3\", \"Topic3\", \"Topic3\", \"Topic3\", \"Topic3\", \"Topic3\", \"Topic3\", \"Topic3\", \"Topic3\", \"Topic3\", \"Topic3\", \"Topic3\", \"Topic3\", \"Topic3\", \"Topic3\", \"Topic3\", \"Topic3\", \"Topic3\", \"Topic3\", \"Topic3\", \"Topic3\", \"Topic3\", \"Topic3\", \"Topic3\", \"Topic3\", \"Topic3\", \"Topic3\", \"Topic3\", \"Topic3\", \"Topic3\", \"Topic3\", \"Topic3\", \"Topic3\", \"Topic3\", \"Topic3\", \"Topic3\", \"Topic3\", \"Topic3\", \"Topic3\", \"Topic3\", \"Topic3\", \"Topic3\", \"Topic3\", \"Topic3\", \"Topic3\"], \"logprob\": [30.0, 29.0, 28.0, 27.0, 26.0, 25.0, 24.0, 23.0, 22.0, 21.0, 20.0, 19.0, 18.0, 17.0, 16.0, 15.0, 14.0, 13.0, 12.0, 11.0, 10.0, 9.0, 8.0, 7.0, 6.0, 5.0, 4.0, 3.0, 2.0, 1.0, -2.8510000705718994, -4.004799842834473, -4.129300117492676, -4.290999889373779, -4.3282999992370605, -4.547599792480469, -4.455699920654297, -4.578199863433838, -4.981900215148926, -5.005199909210205, -4.875899791717529, -4.913700103759766, -5.177000045776367, -5.13100004196167, -5.1417999267578125, -5.140999794006348, -5.160699844360352, -5.264599800109863, -5.203400135040283, -5.281700134277344, -5.269499778747559, -5.271299839019775, -5.403600215911865, -5.502099990844727, -5.405099868774414, -5.575399875640869, -5.630099773406982, -5.668399810791016, -5.810999870300293, -5.939899921417236, -5.780099868774414, -5.045899868011475, -5.348800182342529, -4.521100044250488, -4.276400089263916, -4.495299816131592, -4.88070011138916, -4.421500205993652, -4.896299839019775, -5.151599884033203, -5.173299789428711, -5.177800178527832, -3.5536000728607178, -4.167399883270264, -4.8368000984191895, -4.9421000480651855, -5.251800060272217, -5.3892998695373535, -5.463900089263916, -5.526199817657471, -5.52370023727417, -5.665800094604492, -5.633299827575684, -5.804599761962891, -5.824900150299072, -5.785200119018555, -3.480799913406372, -6.116499900817871, -6.116700172424316, -6.173299789428711, -6.207399845123291, -6.091300010681152, -6.207600116729736, -6.2221999168396, -4.9741997718811035, -6.272799968719482, -6.288099765777588, -4.604100227355957, -6.184100151062012, -6.326900005340576, -6.199399948120117, -6.3979997634887695, -6.381999969482422, -5.747300148010254, -5.023099899291992, -3.598599910736084, -5.65339994430542, -5.431300163269043, -4.280300140380859, -4.232900142669678, -4.657899856567383, -4.837900161743164, -5.63129997253418, -5.8317999839782715, -5.899799823760986, -5.587800025939941, -5.561800003051758, -4.332600116729736, -4.991099834442139, -5.199100017547607, -5.417600154876709, -5.480100154876709, -5.4969000816345215, -5.543099880218506, -5.574399948120117, -5.61870002746582, -5.735799789428711, -5.8358001708984375, -5.868100166320801, -5.945300102233887, -5.935400009155273, -6.014699935913086, -5.9243998527526855, -6.078800201416016, -6.200900077819824, -6.168000221252441, -6.203499794006348, -6.326499938964844, -6.311399936676025, -6.32919979095459, -6.3292999267578125, -6.34689998626709, -6.369699954986572, -6.369900226593018, -6.3703999519348145, -6.351200103759766, -6.390900135040283, -5.999000072479248, -4.125800132751465, -5.004700183868408, -4.831399917602539, -5.0177998542785645, -5.408299922943115, -5.4471001625061035, -5.789899826049805, -5.234799861907959, -5.409299850463867, -4.672999858856201, -5.577199935913086, -5.196100234985352, -5.1082000732421875, -5.648600101470947, -5.079599857330322, -5.759399890899658, -5.786499977111816, -5.471799850463867, -5.689599990844727, -5.803999900817871, -5.803800106048584], \"loglift\": [30.0, 29.0, 28.0, 27.0, 26.0, 25.0, 24.0, 23.0, 22.0, 21.0, 20.0, 19.0, 18.0, 17.0, 16.0, 15.0, 14.0, 13.0, 12.0, 11.0, 10.0, 9.0, 8.0, 7.0, 6.0, 5.0, 4.0, 3.0, 2.0, 1.0, 0.9664000272750854, 0.9628000259399414, 0.9609000086784363, 0.9606000185012817, 0.9603000283241272, 0.9585000276565552, 0.9584000110626221, 0.9577999711036682, 0.9535999894142151, 0.9534000158309937, 0.9534000158309937, 0.9521999955177307, 0.9509999752044678, 0.9509000182151794, 0.9508000016212463, 0.9502000212669373, 0.9495000243186951, 0.9487000107765198, 0.9485999941825867, 0.9484999775886536, 0.9483000040054321, 0.9480999708175659, 0.9453999996185303, 0.9431999921798706, 0.9422000050544739, 0.9409000277519226, 0.9406999945640564, 0.9398999810218811, 0.9340999722480774, 0.9309999942779541, 0.9297000169754028, 0.9014999866485596, 0.8295999765396118, 0.620199978351593, 0.3944000005722046, 0.24240000545978546, 0.37040001153945923, -0.08399999886751175, 0.2531999945640564, 0.40790000557899475, 0.310699999332428, -0.23980000615119934, 1.1663999557495117, 1.1628999710083008, 1.155400037765503, 1.1526000499725342, 1.1482000350952148, 1.1440999507904053, 1.142699956893921, 1.139799952507019, 1.1353000402450562, 1.1339999437332153, 1.1318999528884888, 1.1311999559402466, 1.1295000314712524, 1.1289000511169434, 1.1197999715805054, 1.1162999868392944, 1.1160999536514282, 1.1151000261306763, 1.1124000549316406, 1.1123000383377075, 1.1122000217437744, 1.111199975013733, 1.1097999811172485, 1.107800006866455, 1.1069999933242798, 1.1060999631881714, 1.103600025177002, 1.1031999588012695, 1.1018999814987183, 1.1002999544143677, 1.1002000570297241, 1.0549999475479126, 0.9343000054359436, 0.7387999892234802, 0.9968000054359436, 0.9320999979972839, 0.5386000275611877, 0.504800021648407, 0.49160000681877136, 0.41440001130104065, 0.6000999808311462, 0.76419997215271, 0.7875999808311462, 0.2791000008583069, -0.8910999894142151, 1.1512000560760498, 1.1503000259399414, 1.1495000123977661, 1.1442999839782715, 1.142899990081787, 1.1409000158309937, 1.1375999450683594, 1.1354000568389893, 1.1341999769210815, 1.1339999437332153, 1.1318000555038452, 1.1304999589920044, 1.1267000436782837, 1.125499963760376, 1.1243000030517578, 1.1217000484466553, 1.1191999912261963, 1.1157000064849854, 1.1152000427246094, 1.1132999658584595, 1.1085000038146973, 1.1075999736785889, 1.1059999465942383, 1.1059000492095947, 1.1047999858856201, 1.104599952697754, 1.1044000387191772, 1.1038999557495117, 1.1007000207901, 1.1007000207901, 1.0657000541687012, 0.8122000098228455, 0.928600013256073, 0.8127999901771545, 0.8084999918937683, 0.7982000112533569, 0.744700014591217, 0.8812000155448914, 0.632099986076355, 0.6633999943733215, -0.002199999988079071, 0.6420000195503235, 0.28790000081062317, 0.1429000049829483, 0.5820000171661377, -0.260699987411499, 0.7170000076293945, 0.7318999767303467, -0.21950000524520874, 0.29490000009536743, 0.7350000143051147, -0.6625000238418579]}, \"token.table\": {\"Topic\": [2, 3, 2, 3, 2, 3, 3, 1, 2, 2, 1, 2, 2, 1, 1, 2, 3, 2, 1, 2, 3, 2, 3, 1, 1, 1, 1, 2, 3, 1, 2, 1, 3, 1, 2, 3, 1, 3, 2, 2, 3, 1, 2, 3, 3, 1, 2, 3, 2, 1, 2, 1, 2, 3, 3, 3, 3, 3, 1, 2, 2, 1, 3, 2, 3, 1, 2, 3, 2, 3, 2, 2, 1, 2, 3, 3, 1, 1, 1, 2, 2, 1, 2, 2, 3, 1, 2, 2, 3, 1, 3, 2, 2, 1, 3, 1, 1, 1, 1, 3, 1, 2, 3, 3, 1, 1, 2, 1, 2, 3, 1, 2, 3, 3, 1, 1, 2, 1, 2, 3, 1, 2, 3, 2, 3, 3, 1, 3, 1, 3, 2, 1, 2, 2, 1, 2, 3, 2, 3, 1, 1, 3, 3, 2, 2, 1, 3, 1, 2, 1, 3, 1, 2, 3, 1, 3, 1, 2, 1, 2, 3, 1, 3, 3, 1, 3, 1, 3, 3, 2, 3, 2, 3, 1, 2, 3, 1, 1, 2], \"Freq\": [0.6609584093093872, 0.3304792046546936, 0.935111939907074, 0.9678165316581726, 0.9502198696136475, 0.9408199787139893, 0.9889963269233704, 0.9925079345703125, 0.9328974485397339, 0.9158676862716675, 0.4851000905036926, 0.5087634921073914, 0.9860230684280396, 0.9919338226318359, 0.48597875237464905, 0.5173322558403015, 0.9157518148422241, 0.9704115390777588, 0.1724250167608261, 0.2413950264453888, 0.586245059967041, 0.41219499707221985, 0.5819223523139954, 0.9992462396621704, 0.9941474199295044, 0.9668448567390442, 0.9943729043006897, 0.9501773715019226, 0.9914442896842957, 0.3466968238353729, 0.6513698101043701, 0.9867414832115173, 0.951653242111206, 0.9803043007850647, 0.9755404591560364, 0.9177489876747131, 0.9929618239402771, 0.9812195897102356, 0.9040927290916443, 0.2167445570230484, 0.75860595703125, 0.2999696731567383, 0.2999696731567383, 0.4090495705604553, 0.9678241610527039, 0.275385320186615, 0.47208911180496216, 0.24915814399719238, 0.8940733075141907, 0.30157679319381714, 0.6534163951873779, 0.5644627213478088, 0.12462164461612701, 0.30788877606391907, 0.9574193358421326, 0.9464365839958191, 0.9461438655853271, 0.9299461841583252, 0.19916026294231415, 0.7966410517692566, 0.9524479508399963, 0.9959133863449097, 0.9812506437301636, 0.016527505591511726, 0.97512286901474, 0.05821041390299797, 0.23284165561199188, 0.6985249519348145, 0.3872063159942627, 0.5957019925117493, 0.9884863495826721, 0.99343341588974, 0.18604159355163574, 0.1395311951637268, 0.6511455774307251, 0.930725634098053, 0.9799416661262512, 0.9642060399055481, 0.9709179997444153, 0.9923744797706604, 0.9673274755477905, 0.991915762424469, 0.922842800617218, 0.8490232825279236, 0.15919186174869537, 0.061786238104104996, 0.8650073409080505, 0.9913700819015503, 0.946115255355835, 0.335541307926178, 0.6375284790992737, 0.9743013381958008, 0.9915189146995544, 0.9926038384437561, 0.960218608379364, 0.9657619595527649, 0.9816510081291199, 0.9866406321525574, 0.9459870457649231, 0.052554838359355927, 0.5704963207244873, 0.21393613517284393, 0.21393613517284393, 0.9846863746643066, 0.967243492603302, 0.047838106751441956, 0.9499281644821167, 0.24417495727539062, 0.20929281413555145, 0.5581141710281372, 0.9962574243545532, 0.9259666800498962, 0.9774388074874878, 0.967861533164978, 0.9927214980125427, 0.060250163078308105, 0.9338775277137756, 0.7041798233985901, 0.12909963726997375, 0.16430863738059998, 0.2295350879430771, 0.5355818867683411, 0.2380363941192627, 0.9329075813293457, 0.9957512617111206, 0.9301289319992065, 0.29688119888305664, 0.6991073489189148, 0.08031662553548813, 0.8834828734397888, 0.9636383652687073, 0.9895370006561279, 0.9916344285011292, 0.9893345236778259, 0.8607481718063354, 0.06621139496564865, 0.06621139496564865, 0.30265915393829346, 0.6984441876411438, 0.9722968935966492, 0.9971361756324768, 0.9709720611572266, 0.9307136535644531, 0.9651311635971069, 0.9912980794906616, 0.9574590921401978, 0.9305273294448853, 0.9762350916862488, 0.9035195708274841, 0.9758442640304565, 0.9716318845748901, 0.5500673055648804, 0.09167788177728653, 0.3536146879196167, 0.33237412571907043, 0.6647482514381409, 0.9927110075950623, 0.9457128047943115, 0.5124962329864502, 0.06612855195999146, 0.4133034348487854, 0.35678520798683167, 0.6243740916252136, 0.9475014209747314, 0.20727695524692535, 0.7772886157035828, 0.9832806587219238, 0.9847820401191711, 0.8994265198707581, 0.5585390329360962, 0.41890424489974976, 0.306465744972229, 0.6810349822044373, 0.974662184715271, 0.7961799502372742, 0.2123146504163742, 0.9807544946670532, 0.062186479568481445, 0.9327971935272217], \"Term\": [\"#covid\", \"#covid\", \"#distanciamiento\", \"#nolosliberen\", \"adema\", \"adulto\", \"aislamiento\", \"argentino\", \"asado\", \"asi\", \"a\\u00f1o\", \"a\\u00f1o\", \"barbijo\", \"barrio\", \"beber\", \"beber\", \"brote\", \"cabeza\", \"carcel\", \"carcel\", \"carcel\", \"casa\", \"casa\", \"caso\", \"caso_positivo\", \"caso_sospechoso\", \"cer\", \"chorro\", \"ciencia\", \"ciro\", \"ciro\", \"ciudad\", \"ciudadano\", \"clinica\", \"club\", \"comisaria\", \"contagio\", \"control\", \"corona\", \"cosa\", \"cosa\", \"crisis\", \"crisis\", \"crisis\", \"cti\", \"cuarentena\", \"cuarentena\", \"cuarentena\", \"cumplea\\u00f1os\", \"delincuente\", \"delincuente\", \"dia\", \"dia\", \"dia\", \"diagnostico\", \"dolar\", \"equipo\", \"establecimiento\", \"familia\", \"familia\", \"favor\", \"fe\", \"frente\", \"gente\", \"gente\", \"gobierno\", \"gobierno\", \"gobierno\", \"gracias\", \"gracias\", \"hija\", \"hijo\", \"historia\", \"historia\", \"historia\", \"hogar\", \"hombre\", \"hora\", \"informe\", \"ir_poner\", \"linea\", \"localidad\", \"lucha\", \"madre\", \"madre\", \"mama\", \"mama\", \"mano\", \"marco\", \"medida\", \"medida\", \"medio\", \"miedo\", \"miercoles\", \"mill\\u00f3n\", \"ministerio\", \"ministerio_salud\", \"muerte\", \"muerto\", \"muerto\", \"mundo\", \"mundo\", \"mundo\", \"necesidad\", \"ni\\u00f1o\", \"nombre\", \"nombre\", \"nota\", \"nota\", \"nota\", \"nuevo_caso\", \"ojo\", \"oms\", \"origen\", \"paciente\", \"padre\", \"padre\", \"pais\", \"pais\", \"pais\", \"pandemia\", \"pandemia\", \"pandemia\", \"partido\", \"pa\\u00eds\", \"pedo\", \"persona\", \"persona\", \"personal\", \"personal\", \"pibe\", \"poner_ciro\", \"poner_hijo\", \"poner_nombre\", \"poner_segundo\", \"poner_segundo\", \"poner_segundo\", \"preso\", \"preso\", \"protocolo\", \"provincia\", \"prueba\", \"pueblo\", \"puta\", \"realidad\", \"recien_nacido\", \"red\", \"registro\", \"relacion\", \"reportar\", \"resultado\", \"salud\", \"salud\", \"salud\", \"san\", \"san\", \"santo_fe\", \"serio\", \"situacion\", \"situacion\", \"situacion\", \"test\", \"test\", \"testeo\", \"tiempo\", \"tiempo\", \"total\", \"trabajo\", \"transporte\", \"vacuna\", \"vacuna\", \"vez\", \"vez\", \"victima\", \"vida\", \"vida\", \"viernes\", \"virus\", \"virus\"]}, \"R\": 30, \"lambda.step\": 0.01, \"plot.opts\": {\"xlab\": \"PC1\", \"ylab\": \"PC2\"}, \"topic.order\": [1, 2, 3]};\n",
       "\n",
       "function LDAvis_load_lib(url, callback){\n",
       "  var s = document.createElement('script');\n",
       "  s.src = url;\n",
       "  s.async = true;\n",
       "  s.onreadystatechange = s.onload = callback;\n",
       "  s.onerror = function(){console.warn(\"failed to load library \" + url);};\n",
       "  document.getElementsByTagName(\"head\")[0].appendChild(s);\n",
       "}\n",
       "\n",
       "if(typeof(LDAvis) !== \"undefined\"){\n",
       "   // already loaded: just create the visualization\n",
       "   !function(LDAvis){\n",
       "       new LDAvis(\"#\" + \"ldavis_el21733140343760934224851876810\", ldavis_el21733140343760934224851876810_data);\n",
       "   }(LDAvis);\n",
       "}else if(typeof define === \"function\" && define.amd){\n",
       "   // require.js is available: use it to load d3/LDAvis\n",
       "   require.config({paths: {d3: \"https://cdnjs.cloudflare.com/ajax/libs/d3/3.5.5/d3.min\"}});\n",
       "   require([\"d3\"], function(d3){\n",
       "      window.d3 = d3;\n",
       "      LDAvis_load_lib(\"https://cdn.rawgit.com/bmabey/pyLDAvis/files/ldavis.v1.0.0.js\", function(){\n",
       "        new LDAvis(\"#\" + \"ldavis_el21733140343760934224851876810\", ldavis_el21733140343760934224851876810_data);\n",
       "      });\n",
       "    });\n",
       "}else{\n",
       "    // require.js not available: dynamically load d3 & LDAvis\n",
       "    LDAvis_load_lib(\"https://cdnjs.cloudflare.com/ajax/libs/d3/3.5.5/d3.min.js\", function(){\n",
       "         LDAvis_load_lib(\"https://cdn.rawgit.com/bmabey/pyLDAvis/files/ldavis.v1.0.0.js\", function(){\n",
       "                 new LDAvis(\"#\" + \"ldavis_el21733140343760934224851876810\", ldavis_el21733140343760934224851876810_data);\n",
       "            })\n",
       "         });\n",
       "}\n",
       "</script>"
      ],
      "text/plain": [
       "PreparedData(topic_coordinates=              x         y  topics  cluster       Freq\n",
       "topic                                                \n",
       "0     -0.189925 -0.029714       1        1  37.980114\n",
       "1      0.123963 -0.131096       2        1  31.016069\n",
       "2      0.065963  0.160810       3        1  31.003813, topic_info=           Term        Freq       Total Category  logprob  loglift\n",
       "3          caso  320.000000  320.000000  Default  30.0000  30.0000\n",
       "416        hijo  129.000000  129.000000  Default  29.0000  29.0000\n",
       "117      nombre  146.000000  146.000000  Default  28.0000  28.0000\n",
       "64   nuevo_caso  101.000000  101.000000  Default  27.0000  27.0000\n",
       "461        ciro  190.000000  190.000000  Default  26.0000  26.0000\n",
       "..          ...         ...         ...      ...      ...      ...\n",
       "241    historia   13.858104   21.500568   Topic3  -5.7865   0.7319\n",
       "151  cuarentena   18.983335   76.256790   Topic3  -5.4718  -0.2195\n",
       "393      crisis   15.268446   36.670372   Topic3  -5.6896   0.2949\n",
       "437         san   13.617776   21.060604   Topic3  -5.8040   0.7350\n",
       "17         pais   13.619982   85.205505   Topic3  -5.8038  -0.6625\n",
       "\n",
       "[169 rows x 6 columns], token_table=      Topic      Freq              Term\n",
       "term                                   \n",
       "703       2  0.660958            #covid\n",
       "703       3  0.330479            #covid\n",
       "691       2  0.935112  #distanciamiento\n",
       "1373      3  0.967817     #nolosliberen\n",
       "1034      2  0.950220             adema\n",
       "...     ...       ...               ...\n",
       "106       2  0.796180              vida\n",
       "106       3  0.212315              vida\n",
       "520       1  0.980754           viernes\n",
       "74        1  0.062186             virus\n",
       "74        2  0.932797             virus\n",
       "\n",
       "[179 rows x 3 columns], R=30, lambda_step=0.01, plot_opts={'xlab': 'PC1', 'ylab': 'PC2'}, topic_order=[1, 2, 3])"
      ]
     },
     "execution_count": 21,
     "metadata": {},
     "output_type": "execute_result"
    }
   ],
   "source": [
    "cargar_modelo_y_graficar(3,dictionary, doc_term_matrix) "
   ]
  },
  {
   "cell_type": "code",
   "execution_count": 23,
   "metadata": {},
   "outputs": [
    {
     "data": {
      "text/html": [
       "\n",
       "<link rel=\"stylesheet\" type=\"text/css\" href=\"https://cdn.rawgit.com/bmabey/pyLDAvis/files/ldavis.v1.0.0.css\">\n",
       "\n",
       "\n",
       "<div id=\"ldavis_el217331403435555455521299574109\"></div>\n",
       "<script type=\"text/javascript\">\n",
       "\n",
       "var ldavis_el217331403435555455521299574109_data = {\"mdsDat\": {\"x\": [-0.18326579453763295, 0.20194771169527606, -0.025403092271316836, -0.05109231803248043, 0.057813493146154374], \"y\": [0.14042115922129483, 0.14289882464823409, -0.062491170413399806, -0.07396961384165496, -0.1468591996144743], \"topics\": [1, 2, 3, 4, 5], \"cluster\": [1, 1, 1, 1, 1], \"Freq\": [25.73357582092285, 23.63343048095703, 18.72499656677246, 17.83498191833496, 14.073016166687012]}, \"tinfo\": {\"Term\": [\"caso\", \"ciro\", \"nombre\", \"hijo\", \"beber\", \"nuevo_caso\", \"pandemia\", \"ir_poner\", \"muerte\", \"fe\", \"a\\u00f1o\", \"santo_fe\", \"viernes\", \"ni\\u00f1o\", \"salud\", \"provincia\", \"preso\", \"pais\", \"total\", \"poner_nombre\", \"mundo\", \"padre\", \"protocolo\", \"poner_ciro\", \"reportar\", \"covid\", \"poner_segundo\", \"tiempo\", \"caso_positivo\", \"ministerio\", \"caso\", \"nuevo_caso\", \"muerte\", \"viernes\", \"total\", \"protocolo\", \"reportar\", \"caso_positivo\", \"ministerio\", \"ministerio_salud\", \"caso_sospechoso\", \"aca\", \"contacto\", \"cantidad\", \"geriatrico\", \"uruguay\", \"general\", \"monarca\", \"nacion\", \"ultima\", \"autoridad\", \"estadistica\", \"necesidad\", \"venado\", \"asentamiento\", \"residencia\", \"msp\", \"residencial\", \"anciano\", \"foro\", \"hora\", \"provincia\", \"registro\", \"pais\", \"barrio\", \"abril\", \"paciente\", \"situacion\", \"informe\", \"cordoba\", \"hombre\", \"salud\", \"argentino\", \"a\\u00f1o\", \"muerto\", \"mujer\", \"dia\", \"estudio\", \"numero\", \"persona\", \"crisis\", \"nombre\", \"ciro\", \"hijo\", \"beber\", \"ir_poner\", \"poner_nombre\", \"padre\", \"poner_ciro\", \"poner_segundo\", \"poner_hijo\", \"puta\", \"pibe\", \"recien_nacido\", \"localidad\", \"nene\", \"segundo_nombre\", \"#argentina\", \"recien\", \"prioridad\", \"lpm\", \"inicio\", \"miguel\", \"#lightroom\", \"app\", \"experiencia\", \"hije\", \"dialogo\", \"honor\", \"jajaja\", \"ejemplo\", \"cer\", \"cuenta\", \"pandemia\", \"fe\", \"santo_fe\", \"#distanciamiento\", \"virus\", \"mama\", \"cabeza\", \"familia\", \"dengue\", \"nota\", \"vida\", \"cuarentena\", \"dia\", \"argentino\", \"momento\", \"gente\", \"mundo\", \"clinica\", \"riesgo\", \"pami\", \"manera\", \"#graciaspresidentepor\", \"asado\", \"partido\", \"establecimiento\", \"escobar\", \"consejo\", \"mayo\", \"exclamation\", \"peligro\", \"jajajajaja\", \"brasil\", \"apoyo\", \"c\", \"palabra\", \"dolor\", \"reunion\", \"sangre\", \"circunstancia\", \"cumplimiento\", \"verguenza\", \"responsable\", \"epoca\", \"sorete\", \"dificultad\", \"avance\", \"pm\", \"lucha\", \"tema\", \"vez\", \"area\", \"edad\", \"mundo\", \"gana\", \"pa\\u00eds\", \"aislamiento\", \"mierda\", \"barbijo\", \"amigo\", \"salud\", \"persona\", \"miedo\", \"vacuna\", \"mill\\u00f3n\", \"gobierno\", \"gente\", \"san\", \"sistema\", \"vida\", \"argentino\", \"centro\", \"muerto\", \"dia\", \"gracias\", \"paciente\", \"casa\", \"informacion\", \"crisis\", \"ni\\u00f1o\", \"sintoma\", \"diagnostico\", \"linea\", \"testeo\", \"laboratorio\", \"relacion\", \"cumplea\\u00f1os\", \"#ahora\", \"pendejo\", \"imagen\", \"reclamo\", \"cientifico\", \"fiebre\", \"cancer\", \"facultad\", \"sancti\", \"spiritu\", \"analisis\", \"afectado\", \"hdp\", \"diego\", \"motivo\", \"detalle\", \"familiar\", \"camino\", \"imbecil\", \"#noscuidamosentretodos\", \"saludo\", \"caos\", \"tiempo\", \"seguridad\", \"a\\u00f1o\", \"medida\", \"duda\", \"dia\", \"resultado\", \"historia\", \"contagio\", \"ciencia\", \"enfermedad\", \"gobierno\", \"carcel\", \"cuarentena\", \"adema\", \"casa\", \"vacuna\", \"numero\", \"persona\", \"mes\", \"argentino\", \"situacion\", \"chico\", \"paciente\", \"ciudad\", \"covid\", \"alberto\", \"derecho\", \"ahi\", \"condici\\u00f3n\", \"culpa\", \"maria\", \"entrevista\", \"carta\", \"hilo\", \"realidad\", \"hogar\", \"dolar\", \"adentro\", \"encierro\", \"pareja\", \"diabetes\", \"raz\\u00f3n\", \"negro\", \"default\", \"olor\", \"fing\", \"pehuajo\", \"organizacion\", \"bullying\", \"cir\", \"milicia\", \"brian\", \"luca\", \"boletin\", \"preso\", \"tipo\", \"favor\", \"problema\", \"comisaria\", \"delincuente\", \"carcel\", \"cuerpo\", \"devoto\", \"cosa\", \"frente\", \"cuarentena\", \"gracias\", \"poblacion\", \"prueba\", \"persona\", \"medio\", \"pandemia\", \"dia\", \"gente\", \"barrio\", \"casa\"], \"Freq\": [333.0, 183.0, 141.0, 125.0, 122.0, 105.0, 111.0, 68.0, 67.0, 74.0, 89.0, 71.0, 44.0, 32.0, 79.0, 60.0, 39.0, 88.0, 39.0, 35.0, 57.0, 32.0, 34.0, 31.0, 33.0, 20.0, 28.0, 38.0, 30.0, 30.0, 333.3150939941406, 105.06470489501953, 66.93880462646484, 43.99311828613281, 38.57435989379883, 33.64936447143555, 32.46493148803711, 29.751113891601562, 29.566936492919922, 25.891963958740234, 19.82839584350586, 13.569083213806152, 13.116094589233398, 12.654500007629395, 11.278501510620117, 10.977581977844238, 10.037996292114258, 10.081209182739258, 9.764376640319824, 8.846339225769043, 7.924177169799805, 7.463601589202881, 7.325217247009277, 7.987835884094238, 7.185012340545654, 6.865812301635742, 6.862088203430176, 6.733219623565674, 6.731457233428955, 6.52285099029541, 26.222335815429688, 50.12748718261719, 24.732498168945312, 68.2901611328125, 25.439584732055664, 21.392438888549805, 37.78352355957031, 36.85546112060547, 22.650922775268555, 12.012497901916504, 17.92388153076172, 37.15681457519531, 40.30813217163086, 39.19435501098633, 22.9315128326416, 20.144145965576172, 41.82488250732422, 18.483417510986328, 16.93255615234375, 26.098936080932617, 17.85641860961914, 140.51785278320312, 182.51177978515625, 124.65640258789062, 122.16381072998047, 67.43440246582031, 34.48918151855469, 31.399322509765625, 30.428789138793945, 28.312726974487305, 22.707561492919922, 18.376140594482422, 17.399120330810547, 16.4320125579834, 15.827980041503906, 14.189762115478516, 13.893831253051758, 13.450911521911621, 11.774541854858398, 8.135965347290039, 6.861414909362793, 6.319550514221191, 6.3714985847473145, 5.602637767791748, 5.472583770751953, 5.437180519104004, 5.052466869354248, 5.428155899047852, 5.0509490966796875, 5.03827428817749, 4.92618989944458, 19.772253036499023, 11.598980903625488, 92.32545471191406, 58.66037368774414, 55.949790954589844, 10.499234199523926, 27.538127899169922, 11.402021408081055, 12.99955940246582, 14.869643211364746, 16.919811248779297, 15.591025352478027, 17.026630401611328, 23.11728858947754, 24.934452056884766, 19.49930763244629, 14.276363372802734, 14.633794784545898, 14.247360229492188, 21.55714988708496, 15.977598190307617, 13.86719799041748, 11.311005592346191, 10.49869441986084, 9.876788139343262, 9.864969253540039, 9.253774642944336, 7.185750961303711, 7.037923336029053, 7.032098770141602, 6.84935188293457, 6.702393054962158, 6.783442974090576, 5.934271812438965, 5.738004684448242, 5.737020969390869, 5.589863300323486, 5.113587856292725, 4.972955226898193, 4.782736778259277, 4.775442600250244, 4.772204399108887, 4.638219356536865, 4.6344709396362305, 4.634557723999023, 4.750451564788818, 4.747560024261475, 4.493584632873535, 4.302131175994873, 9.772380828857422, 15.5476713180542, 21.224727630615234, 6.206850528717041, 6.1976094245910645, 37.20630645751953, 10.566899299621582, 13.938652992248535, 20.7246150970459, 11.121224403381348, 12.083621978759766, 10.535635948181152, 37.507972717285156, 43.762428283691406, 14.011076927185059, 16.788726806640625, 9.215925216674805, 23.698747634887695, 22.70802116394043, 12.19961929321289, 9.78747844696045, 14.343008041381836, 20.500295639038086, 9.677589416503906, 12.105169296264648, 15.599690437316895, 11.240148544311523, 12.099943161010742, 11.00920295715332, 10.210440635681152, 10.059965133666992, 32.32694625854492, 21.037118911743164, 17.093751907348633, 14.796908378601074, 13.063764572143555, 11.033745765686035, 9.966547012329102, 8.889570236206055, 8.558798789978027, 8.085000991821289, 8.48993968963623, 8.044669151306152, 7.475639343261719, 7.0102715492248535, 7.009227752685547, 6.6739678382873535, 6.671187400817871, 6.671187400817871, 6.534430980682373, 6.660172939300537, 6.401274681091309, 6.068545818328857, 6.06667947769165, 6.064336776733398, 5.604007720947266, 5.601643085479736, 5.578859806060791, 5.323061943054199, 5.136721611022949, 5.136149883270264, 27.253517150878906, 7.411798000335693, 44.84748077392578, 17.00774383544922, 8.570183753967285, 42.60142517089844, 11.746169090270996, 11.85665225982666, 16.7753849029541, 9.05885124206543, 11.156991004943848, 15.033065795898438, 11.434473037719727, 14.335046768188477, 7.603745937347412, 11.548632621765137, 10.216928482055664, 9.96861743927002, 13.577020645141602, 9.064417839050293, 12.495955467224121, 10.58927059173584, 9.270914077758789, 10.241165161132812, 9.414189338684082, 19.905975341796875, 10.969661712646484, 10.147319793701172, 9.319967269897461, 8.368865966796875, 7.830062389373779, 7.667683124542236, 7.543651103973389, 7.568700790405273, 7.006669998168945, 7.005065441131592, 7.003742694854736, 6.880931854248047, 6.304389953613281, 6.054296970367432, 5.761709690093994, 5.477713108062744, 5.327241897583008, 4.940524101257324, 4.939199447631836, 4.513034820556641, 4.113251209259033, 4.112014293670654, 3.9843244552612305, 3.9754958152770996, 3.7003884315490723, 3.7003839015960693, 3.6992855072021484, 3.6985926628112793, 3.698091506958008, 29.090145111083984, 12.80345344543457, 12.212238311767578, 11.265763282775879, 7.260288715362549, 12.319998741149902, 15.707454681396484, 6.77438497543335, 7.2662506103515625, 9.97754955291748, 11.36038589477539, 21.681047439575195, 12.569212913513184, 8.302879333496094, 7.025658130645752, 14.197028160095215, 9.814384460449219, 14.120675086975098, 12.623306274414062, 9.197598457336426, 7.873439311981201, 7.147988796234131], \"Total\": [333.0, 183.0, 141.0, 125.0, 122.0, 105.0, 111.0, 68.0, 67.0, 74.0, 89.0, 71.0, 44.0, 32.0, 79.0, 60.0, 39.0, 88.0, 39.0, 35.0, 57.0, 32.0, 34.0, 31.0, 33.0, 20.0, 28.0, 38.0, 30.0, 30.0, 333.9481506347656, 105.6949234008789, 67.6103286743164, 44.62602615356445, 39.20792770385742, 34.288291931152344, 33.095462799072266, 30.386064529418945, 30.200149536132812, 26.523069381713867, 20.459299087524414, 14.208995819091797, 13.749649047851562, 13.29014778137207, 11.910872459411621, 11.633657455444336, 10.66895580291748, 10.717415809631348, 10.395225524902344, 9.476028442382812, 8.556543350219727, 8.0966796875, 7.959652423858643, 8.694756507873535, 7.822366237640381, 7.499908447265625, 7.499831676483154, 7.363422870635986, 7.363301753997803, 7.174041271209717, 30.40496826171875, 60.8226432800293, 29.517780303955078, 88.1707534790039, 33.79865264892578, 29.81955909729004, 60.562416076660156, 60.82442092895508, 33.918495178222656, 15.002729415893555, 26.24477767944336, 79.59417724609375, 92.95069122314453, 89.01534271240234, 39.653221130371094, 34.39212417602539, 137.58377075195312, 30.075225830078125, 27.368236541748047, 104.17343139648438, 36.9139289855957, 141.16200256347656, 183.35671997070312, 125.30133819580078, 122.8077621459961, 68.07803344726562, 35.13223648071289, 32.044700622558594, 31.07248306274414, 28.9571533203125, 23.379350662231445, 19.019399642944336, 18.047378540039062, 17.075042724609375, 16.480924606323242, 14.83356761932373, 14.53660774230957, 14.113692283630371, 12.42129898071289, 8.78450870513916, 7.51438570022583, 6.966228485107422, 7.098830223083496, 6.246006011962891, 6.119684219360352, 6.122324466705322, 5.696793079376221, 6.12202787399292, 5.6970062255859375, 5.69607400894165, 5.571009635925293, 22.480609893798828, 13.21786880493164, 111.82349395751953, 74.48966217041016, 71.82917785644531, 13.724275588989258, 47.94361877441406, 15.554108619689941, 18.504606246948242, 24.906518936157227, 30.538652420043945, 27.537647247314453, 37.470603942871094, 74.74348449707031, 137.58377075195312, 92.95069122314453, 27.453086853027344, 58.005279541015625, 57.51905059814453, 22.183155059814453, 16.606637954711914, 14.490036010742188, 11.94092082977295, 11.123710632324219, 10.499939918518066, 10.498018264770508, 9.87608528137207, 7.8092851638793945, 7.6652936935424805, 7.664947509765625, 7.471749782562256, 7.327898025512695, 7.461298942565918, 6.560557842254639, 6.365761756896973, 6.3660807609558105, 6.222041606903076, 5.741885185241699, 5.599046230316162, 5.405202865600586, 5.4043402671813965, 5.403192520141602, 5.261734485626221, 5.261117935180664, 5.261291027069092, 5.399736404418945, 5.400097846984863, 5.11834192276001, 4.924348831176758, 11.630064964294434, 19.10733985900879, 29.522798538208008, 7.315995216369629, 7.30539083480835, 57.51905059814453, 13.614054679870605, 19.372028350830078, 31.69771957397461, 14.976497650146484, 17.012096405029297, 14.688403129577637, 79.59417724609375, 104.17343139648438, 22.1219539642334, 29.817886352539062, 12.631745338439941, 52.28334426879883, 58.005279541015625, 20.9587345123291, 14.954850196838379, 37.470603942871094, 92.95069122314453, 16.632122039794922, 39.653221130371094, 137.58377075195312, 32.16168212890625, 60.562416076660156, 40.52562713623047, 31.23236083984375, 36.9139289855957, 32.968017578125, 21.667768478393555, 17.724056243896484, 15.427560806274414, 13.690786361694336, 11.672578811645508, 10.595417022705078, 9.517291069030762, 9.18757152557373, 8.717365264892578, 9.18716049194336, 8.717432975769043, 8.108745574951172, 7.639973163604736, 7.639892101287842, 7.309248924255371, 7.309582710266113, 7.309582710266113, 7.169773578643799, 7.308572769165039, 7.030861854553223, 6.7007951736450195, 6.7014570236206055, 6.7008161544799805, 6.232322692871094, 6.231817722320557, 6.228594779968262, 5.952744007110596, 5.763369083404541, 5.763291358947754, 38.14517593383789, 8.928133010864258, 89.01534271240234, 30.515771865844727, 11.734091758728027, 137.58377075195312, 19.921659469604492, 21.015670776367188, 43.54883575439453, 14.723539352416992, 23.798648834228516, 52.28334426879883, 27.640024185180664, 74.74348449707031, 10.904738426208496, 40.52562713623047, 29.817886352539062, 27.368236541748047, 104.17343139648438, 20.111143112182617, 92.95069122314453, 60.82442092895508, 24.050445556640625, 60.562416076660156, 39.37306213378906, 20.55523681640625, 11.623614311218262, 10.796494483947754, 9.969138145446777, 9.019044876098633, 8.481819152832031, 8.314929962158203, 8.191783905029297, 8.237855911254883, 7.6550116539001465, 7.655067443847656, 7.655098915100098, 7.531876087188721, 6.95090389251709, 6.704841613769531, 6.414140701293945, 6.123818397521973, 6.003006458282471, 5.587085723876953, 5.586941242218018, 5.174388885498047, 4.759794235229492, 4.7599287033081055, 4.636773586273193, 4.63594388961792, 4.34630823135376, 4.346304893493652, 4.346158981323242, 4.346313953399658, 4.346323490142822, 39.28166198730469, 16.289791107177734, 16.288429260253906, 16.528343200683594, 9.875537872314453, 19.55951690673828, 27.640024185180664, 9.478348731994629, 10.714412689208984, 17.555496215820312, 23.6549072265625, 74.74348449707031, 32.16168212890625, 16.52808380126953, 11.211201667785645, 104.17343139648438, 32.63323211669922, 111.82349395751953, 137.58377075195312, 58.005279541015625, 33.79865264892578, 40.52562713623047], \"Category\": [\"Default\", \"Default\", \"Default\", \"Default\", \"Default\", \"Default\", \"Default\", \"Default\", \"Default\", \"Default\", \"Default\", \"Default\", \"Default\", \"Default\", \"Default\", \"Default\", \"Default\", \"Default\", \"Default\", \"Default\", \"Default\", \"Default\", \"Default\", \"Default\", \"Default\", \"Default\", \"Default\", \"Default\", \"Default\", \"Default\", \"Topic1\", \"Topic1\", \"Topic1\", \"Topic1\", \"Topic1\", \"Topic1\", \"Topic1\", \"Topic1\", \"Topic1\", \"Topic1\", \"Topic1\", \"Topic1\", \"Topic1\", \"Topic1\", \"Topic1\", \"Topic1\", \"Topic1\", \"Topic1\", \"Topic1\", \"Topic1\", \"Topic1\", \"Topic1\", \"Topic1\", \"Topic1\", \"Topic1\", \"Topic1\", \"Topic1\", \"Topic1\", \"Topic1\", \"Topic1\", \"Topic1\", \"Topic1\", \"Topic1\", \"Topic1\", \"Topic1\", \"Topic1\", \"Topic1\", \"Topic1\", \"Topic1\", \"Topic1\", \"Topic1\", \"Topic1\", \"Topic1\", \"Topic1\", \"Topic1\", \"Topic1\", \"Topic1\", \"Topic1\", \"Topic1\", \"Topic1\", \"Topic1\", \"Topic2\", \"Topic2\", \"Topic2\", \"Topic2\", \"Topic2\", \"Topic2\", \"Topic2\", \"Topic2\", \"Topic2\", \"Topic2\", \"Topic2\", \"Topic2\", \"Topic2\", \"Topic2\", \"Topic2\", \"Topic2\", \"Topic2\", \"Topic2\", \"Topic2\", \"Topic2\", \"Topic2\", \"Topic2\", \"Topic2\", \"Topic2\", \"Topic2\", \"Topic2\", \"Topic2\", \"Topic2\", \"Topic2\", \"Topic2\", \"Topic2\", \"Topic2\", \"Topic2\", \"Topic2\", \"Topic2\", \"Topic2\", \"Topic2\", \"Topic2\", \"Topic2\", \"Topic2\", \"Topic2\", \"Topic2\", \"Topic2\", \"Topic2\", \"Topic2\", \"Topic2\", \"Topic2\", \"Topic2\", \"Topic2\", \"Topic3\", \"Topic3\", \"Topic3\", \"Topic3\", \"Topic3\", \"Topic3\", \"Topic3\", \"Topic3\", \"Topic3\", \"Topic3\", \"Topic3\", \"Topic3\", \"Topic3\", \"Topic3\", \"Topic3\", \"Topic3\", \"Topic3\", \"Topic3\", \"Topic3\", \"Topic3\", \"Topic3\", \"Topic3\", \"Topic3\", \"Topic3\", \"Topic3\", \"Topic3\", \"Topic3\", \"Topic3\", \"Topic3\", \"Topic3\", \"Topic3\", \"Topic3\", \"Topic3\", \"Topic3\", \"Topic3\", \"Topic3\", \"Topic3\", \"Topic3\", \"Topic3\", \"Topic3\", \"Topic3\", \"Topic3\", \"Topic3\", \"Topic3\", \"Topic3\", \"Topic3\", \"Topic3\", \"Topic3\", \"Topic3\", \"Topic3\", \"Topic3\", \"Topic3\", \"Topic3\", \"Topic3\", \"Topic3\", \"Topic3\", \"Topic3\", \"Topic3\", \"Topic3\", \"Topic3\", \"Topic3\", \"Topic4\", \"Topic4\", \"Topic4\", \"Topic4\", \"Topic4\", \"Topic4\", \"Topic4\", \"Topic4\", \"Topic4\", \"Topic4\", \"Topic4\", \"Topic4\", \"Topic4\", \"Topic4\", \"Topic4\", \"Topic4\", \"Topic4\", \"Topic4\", \"Topic4\", \"Topic4\", \"Topic4\", \"Topic4\", \"Topic4\", \"Topic4\", \"Topic4\", \"Topic4\", \"Topic4\", \"Topic4\", \"Topic4\", \"Topic4\", \"Topic4\", \"Topic4\", \"Topic4\", \"Topic4\", \"Topic4\", \"Topic4\", \"Topic4\", \"Topic4\", \"Topic4\", \"Topic4\", \"Topic4\", \"Topic4\", \"Topic4\", \"Topic4\", \"Topic4\", \"Topic4\", \"Topic4\", \"Topic4\", \"Topic4\", \"Topic4\", \"Topic4\", \"Topic4\", \"Topic4\", \"Topic4\", \"Topic4\", \"Topic5\", \"Topic5\", \"Topic5\", \"Topic5\", \"Topic5\", \"Topic5\", \"Topic5\", \"Topic5\", \"Topic5\", \"Topic5\", \"Topic5\", \"Topic5\", \"Topic5\", \"Topic5\", \"Topic5\", \"Topic5\", \"Topic5\", \"Topic5\", \"Topic5\", \"Topic5\", \"Topic5\", \"Topic5\", \"Topic5\", \"Topic5\", \"Topic5\", \"Topic5\", \"Topic5\", \"Topic5\", \"Topic5\", \"Topic5\", \"Topic5\", \"Topic5\", \"Topic5\", \"Topic5\", \"Topic5\", \"Topic5\", \"Topic5\", \"Topic5\", \"Topic5\", \"Topic5\", \"Topic5\", \"Topic5\", \"Topic5\", \"Topic5\", \"Topic5\", \"Topic5\", \"Topic5\", \"Topic5\", \"Topic5\", \"Topic5\", \"Topic5\", \"Topic5\"], \"logprob\": [30.0, 29.0, 28.0, 27.0, 26.0, 25.0, 24.0, 23.0, 22.0, 21.0, 20.0, 19.0, 18.0, 17.0, 16.0, 15.0, 14.0, 13.0, 12.0, 11.0, 10.0, 9.0, 8.0, 7.0, 6.0, 5.0, 4.0, 3.0, 2.0, 1.0, -2.4200000762939453, -3.57450008392334, -4.025300025939941, -4.445000171661377, -4.576499938964844, -4.713099956512451, -4.748899936676025, -4.83620023727417, -4.842400074005127, -4.975100040435791, -5.242000102996826, -5.621300220489502, -5.655200004577637, -5.691100120544434, -5.80620002746582, -5.833199977874756, -5.922699928283691, -5.918399810791016, -5.950300216674805, -6.049099922180176, -6.159200191497803, -6.218999862670898, -6.23769998550415, -6.151199817657471, -6.2571001052856445, -6.302499771118164, -6.303100109100342, -6.322000026702881, -6.322299957275391, -6.353799819946289, -4.962500095367432, -4.314499855041504, -5.020999908447266, -4.005300045013428, -4.992800235748291, -5.165999889373779, -4.5971999168396, -4.622099876403809, -5.10890007019043, -5.743100166320801, -5.342899799346924, -4.613900184631348, -4.53249979019165, -4.560500144958496, -5.09660005569458, -5.226200103759766, -4.49560022354126, -5.31220006942749, -5.399799823760986, -4.967199802398682, -5.346700191497803, -3.1986000537872314, -2.9370999336242676, -3.3183999061584473, -3.338599920272827, -3.932800054550171, -4.603300094604492, -4.697199821472168, -4.728499889373779, -4.800600051879883, -5.021200180053711, -5.232900142669678, -5.287499904632568, -5.344699859619141, -5.382199764251709, -5.491399765014648, -5.512499809265137, -5.544899940490723, -5.677999973297119, -6.047599792480469, -6.2179999351501465, -6.300300121307373, -6.292099952697754, -6.4207000732421875, -6.444200038909912, -6.450699806213379, -6.524099826812744, -6.452300071716309, -6.524400234222412, -6.526899814605713, -6.5493998527526855, -5.1596999168396, -5.692999839782715, -3.6185998916625977, -4.072199821472168, -4.119500160217285, -5.792600154876709, -4.828400135040283, -5.710100173950195, -5.578999996185303, -5.4446001052856445, -5.315499782562256, -5.397200107574463, -5.309199810028076, -5.003399848937988, -4.927700042724609, -5.173600196838379, -5.485300064086914, -5.460599899291992, -5.487400054931641, -4.840400218963623, -5.139900207519531, -5.281599998474121, -5.485400199890137, -5.559899806976318, -5.6209001541137695, -5.622099876403809, -5.686100006103516, -5.939000129699707, -5.959799766540527, -5.960599899291992, -5.986999988555908, -6.008699893951416, -5.996600151062012, -6.13040018081665, -6.164000034332275, -6.1641998291015625, -6.190199851989746, -6.279200077056885, -6.30709981918335, -6.346099853515625, -6.347599983215332, -6.348299980163574, -6.376800060272217, -6.377600193023682, -6.377600193023682, -6.35290002822876, -6.353499889373779, -6.4085001945495605, -6.452000141143799, -5.6315999031066895, -5.167200088500977, -4.855999946594238, -6.0854997634887695, -6.086999893188477, -4.2947001457214355, -5.553400039672852, -5.276500225067139, -4.879799842834473, -5.502299785614014, -5.419300079345703, -5.556399822235107, -4.286600112915039, -4.132400035858154, -5.271299839019775, -5.090400218963623, -5.690199851989746, -4.745699882507324, -4.788400173187256, -5.4096999168396, -5.630000114440918, -5.247900009155273, -4.890699863433838, -5.641300201416016, -5.417500019073486, -5.163899898529053, -5.491600036621094, -5.417900085449219, -5.512400150299072, -5.587699890136719, -5.60260009765625, -4.386499881744385, -4.816100120544434, -5.02370023727417, -5.168000221252441, -5.292600154876709, -5.46150016784668, -5.563199996948242, -5.677599906921387, -5.7154998779296875, -5.77239990234375, -5.723599910736084, -5.777400016784668, -5.850800037384033, -5.91510009765625, -5.915200233459473, -5.964200019836426, -5.964600086212158, -5.964600086212158, -5.985400199890137, -5.966300010681152, -6.005899906158447, -6.059299945831299, -6.059599876403809, -6.059999942779541, -6.138999938964844, -6.139400005340576, -6.143499851226807, -6.190400123596191, -6.22599983215332, -6.226099967956543, -4.557300090789795, -5.859399795532227, -4.059199810028076, -5.028800010681152, -5.714099884033203, -4.110499858856201, -5.398900032043457, -5.389500141143799, -5.042500019073486, -5.658699989318848, -5.450399875640869, -5.152200222015381, -5.42579984664917, -5.199699878692627, -5.833799839019775, -5.415900230407715, -5.538400173187256, -5.563000202178955, -5.2540998458862305, -5.658100128173828, -5.336999893188477, -5.502600193023682, -5.6356000900268555, -5.535999774932861, -5.620200157165527, -4.634500026702881, -5.230400085449219, -5.308300018310547, -5.393400192260742, -5.500999927520752, -5.567599773406982, -5.588500022888184, -5.604800224304199, -5.601500034332275, -5.678699970245361, -5.678899765014648, -5.679100036621094, -5.696800231933594, -5.784299850463867, -5.82480001449585, -5.874300003051758, -5.924799919128418, -5.952700138092041, -6.02810001373291, -6.028299808502197, -6.118599891662598, -6.211299896240234, -6.211599826812744, -6.243199825286865, -6.2453999519348145, -6.3171000480651855, -6.3171000480651855, -6.317399978637695, -6.317599773406982, -6.317699909210205, -4.255099773406982, -5.075799942016602, -5.1230998039245605, -5.203800201416016, -5.643099784851074, -5.114299774169922, -4.871399879455566, -5.712399959564209, -5.642300128936768, -5.325200080871582, -5.195400238037109, -4.549099922180176, -5.094299793243408, -5.508900165557861, -5.676000118255615, -4.972499847412109, -5.341700077056885, -4.97790002822876, -5.090000152587891, -5.406599998474121, -5.561999797821045, -5.658699989318848], \"loglift\": [30.0, 29.0, 28.0, 27.0, 26.0, 25.0, 24.0, 23.0, 22.0, 21.0, 20.0, 19.0, 18.0, 17.0, 16.0, 15.0, 14.0, 13.0, 12.0, 11.0, 10.0, 9.0, 8.0, 7.0, 6.0, 5.0, 4.0, 3.0, 2.0, 1.0, 1.3554999828338623, 1.3514000177383423, 1.3473999500274658, 1.3430999517440796, 1.3410999774932861, 1.3386000394821167, 1.3380999565124512, 1.336300015449524, 1.3361999988555908, 1.333299994468689, 1.3260999917984009, 1.3113000392913818, 1.3101999759674072, 1.30840003490448, 1.3028000593185425, 1.299299955368042, 1.2963999509811401, 1.2962000370025635, 1.294800043106079, 1.288599967956543, 1.2805999517440796, 1.2760000228881836, 1.2742999792099, 1.2726000547409058, 1.2724000215530396, 1.2690000534057617, 1.2684999704360962, 1.267899990081787, 1.267699956893921, 1.2621999979019165, 1.2094000577926636, 1.1640000343322754, 1.1805000305175781, 1.1018999814987183, 1.0733000040054321, 1.0252000093460083, 0.8855999708175659, 0.8564000129699707, 0.9535999894142151, 1.13510000705719, 0.9760000109672546, 0.5956000089645386, 0.5218999981880188, 0.5371000170707703, 0.8097000122070312, 0.8224999904632568, 0.16660000383853912, 0.8705000281333923, 0.8772000074386597, -0.026799999177455902, 0.6310999989509583, 1.4378999471664429, 1.4378999471664429, 1.4372999668121338, 1.4372999668121338, 1.4329999685287476, 1.4240000247955322, 1.4221999645233154, 1.4215999841690063, 1.4199999570846558, 1.4134000539779663, 1.4081000089645386, 1.405900001525879, 1.404099941253662, 1.4020999670028687, 1.3981000185012817, 1.3973000049591064, 1.3944000005722046, 1.3890000581741333, 1.3658000230789185, 1.3516000509262085, 1.3451000452041626, 1.3344000577926636, 1.333799958229065, 1.3307000398635864, 1.323799967765808, 1.3224999904632568, 1.3221999406814575, 1.322100043296814, 1.3198000192642212, 1.3194999694824219, 1.3141000270843506, 1.311900019645691, 1.2509000301361084, 1.2036000490188599, 1.1927000284194946, 1.1746000051498413, 0.8881000280380249, 1.1319999694824219, 1.089400053024292, 0.9266999959945679, 0.8519999980926514, 0.8736000061035156, 0.6536999940872192, 0.26899999380111694, -0.265500009059906, -0.11919999867677689, 0.7886000275611877, 0.06530000269412994, 0.04699999839067459, 1.6467000246047974, 1.6367000341415405, 1.6313999891281128, 1.6210999488830566, 1.6174999475479126, 1.6140999794006348, 1.6131000518798828, 1.610200047492981, 1.5921000242233276, 1.589900016784668, 1.5891000032424927, 1.5882999897003174, 1.5860999822616577, 1.5801000595092773, 1.5750000476837158, 1.5714999437332153, 1.5713000297546387, 1.5681999921798706, 1.559399962425232, 1.5566999912261963, 1.5529999732971191, 1.5515999794006348, 1.5511000156402588, 1.5492000579833984, 1.5484999418258667, 1.5484999418258667, 1.5471999645233154, 1.5464999675750732, 1.5450999736785889, 1.5401999950408936, 1.5012999773025513, 1.469099998474121, 1.3452999591827393, 1.5109000205993652, 1.5109000205993652, 1.2396999597549438, 1.4219000339508057, 1.3460999727249146, 1.2503999471664429, 1.3776999711990356, 1.3331999778747559, 1.343000054359436, 0.9229000210762024, 0.8080000281333923, 1.2186000347137451, 1.1009000539779663, 1.3600000143051147, 0.8841000199317932, 0.737500011920929, 1.1341999769210815, 1.2513999938964844, 0.7149999737739563, 0.16369999945163727, 1.1338000297546387, 0.4887999892234802, -0.5016999840736389, 0.6240000128746033, 0.06480000168085098, 0.37209999561309814, 0.5572999715805054, 0.37529999017715454, 1.7043999433517456, 1.6944999694824219, 1.6878000497817993, 1.6822999715805054, 1.6770999431610107, 1.6677000522613525, 1.6627999544143677, 1.6557999849319458, 1.6531000137329102, 1.6486999988555908, 1.6450999975204468, 1.6437000036239624, 1.642699956893921, 1.6380000114440918, 1.6378999948501587, 1.6331000328063965, 1.632599949836731, 1.632599949836731, 1.6311999559402466, 1.631100058555603, 1.6302000284194946, 1.624899983406067, 1.624500036239624, 1.6241999864578247, 1.6176999807357788, 1.617400050163269, 1.613800048828125, 1.6122000217437744, 1.6088999509811401, 1.6088000535964966, 1.3877999782562256, 1.5378999710083008, 1.0384999513626099, 1.1394000053405762, 1.4098000526428223, 0.5516999959945679, 1.1957000494003296, 1.1516000032424927, 0.7699999809265137, 1.2382999658584595, 0.9664000272750854, 0.47760000824928284, 0.8414000272750854, 0.07270000129938126, 1.3634999990463257, 0.46860000491142273, 0.652899980545044, 0.7141000032424927, -0.31369999051094055, 0.9271000027656555, -0.2827000021934509, -0.02410000003874302, 0.7706999778747559, -0.053300000727176666, 0.2930999994277954, 1.9287999868392944, 1.902999997138977, 1.898900032043457, 1.8935999870300293, 1.8861000537872314, 1.88100004196167, 1.8798999786376953, 1.878499984741211, 1.8761999607086182, 1.8724000453948975, 1.8722000122070312, 1.871999979019165, 1.8704999685287476, 1.8632999658584595, 1.8588000535964966, 1.853600025177002, 1.8494000434875488, 1.8415000438690186, 1.8379000425338745, 1.8377000093460083, 1.8242000341415405, 1.8149000406265259, 1.8145999908447266, 1.8092999458312988, 1.8071999549865723, 1.7999999523162842, 1.7999999523162842, 1.7998000383377075, 1.7994999885559082, 1.799399971961975, 1.660599946975708, 1.7201000452041626, 1.6728999614715576, 1.5776000022888184, 1.6533000469207764, 1.4987000226974487, 1.395799994468689, 1.625, 1.57260000705719, 1.395900011062622, 1.2274999618530273, 0.7232999801635742, 1.021399974822998, 1.2725000381469727, 1.4936000108718872, -0.032099999487400055, 0.7594000101089478, -0.10840000212192535, -0.4277999997138977, 0.1193000003695488, 0.5040000081062317, 0.22579999268054962]}, \"token.table\": {\"Topic\": [4, 2, 1, 2, 3, 3, 2, 4, 1, 2, 4, 1, 2, 4, 5, 5, 4, 5, 1, 3, 4, 5, 1, 3, 5, 4, 1, 3, 2, 3, 4, 1, 2, 3, 4, 3, 1, 1, 3, 1, 2, 3, 4, 3, 5, 1, 5, 2, 5, 3, 5, 5, 3, 2, 3, 4, 4, 1, 4, 4, 5, 5, 2, 3, 4, 5, 1, 1, 1, 3, 4, 5, 2, 3, 2, 3, 4, 3, 4, 5, 4, 5, 3, 2, 1, 2, 3, 4, 3, 1, 5, 5, 3, 1, 1, 2, 3, 4, 1, 5, 3, 5, 5, 1, 2, 3, 5, 1, 2, 3, 4, 5, 1, 2, 2, 5, 5, 4, 3, 5, 4, 5, 1, 2, 5, 4, 4, 5, 1, 2, 3, 4, 5, 5, 4, 2, 4, 3, 5, 3, 3, 4, 1, 3, 2, 5, 1, 2, 3, 4, 5, 3, 3, 3, 1, 1, 3, 4, 3, 2, 4, 2, 3, 5, 4, 4, 5, 1, 2, 4, 5, 1, 2, 3, 5, 3, 5, 1, 1, 2, 3, 4, 5, 1, 1, 2, 3, 4, 2, 3, 5, 4, 2, 2, 5, 2, 4, 5, 1, 3, 5, 2, 1, 3, 4, 4, 1, 2, 3, 1, 2, 4, 2, 2, 2, 3, 4, 4, 2, 2, 5, 2, 3, 2, 5, 3, 5, 3, 1, 3, 4, 1, 2, 3, 4, 5, 1, 2, 4, 2, 3, 3, 5, 2, 5, 1, 3, 1, 1, 1, 2, 4, 5, 1, 4, 1, 1, 1, 2, 3, 5, 1, 3, 5, 2, 3, 5, 1, 1, 5, 2, 4, 2, 1, 2, 1, 1, 4, 5, 5, 1, 3, 4, 2, 1, 2, 3, 4, 3, 3, 2, 3, 5, 5, 3, 3, 4, 5, 3, 4, 1, 2, 3, 4, 5, 2, 3, 3, 5, 2, 2, 2, 2, 2, 4, 5, 2, 1, 3, 5, 1, 1, 2, 1, 2, 5, 2, 5, 5, 2, 2, 4, 1, 2, 4, 1, 1, 1, 3, 1, 2, 4, 3, 3, 1, 3, 4, 4, 1, 2, 3, 4, 3, 1, 2, 2, 4, 5, 4, 1, 3, 1, 2, 3, 4, 3, 4, 3, 5, 4, 2, 3, 4, 1, 5, 1, 1, 1, 3, 4, 5, 1, 3, 2, 3, 5, 2, 3, 5, 1, 1, 2, 3, 5], \"Freq\": [0.9795842170715332, 0.9210913777351379, 0.07286359369754791, 0.7286359071731567, 0.14572718739509583, 0.8989806175231934, 0.9606138467788696, 0.8399487733840942, 0.7042357921600342, 0.13414014875888824, 0.13414014875888824, 0.9852913022041321, 0.1834065020084381, 0.7336260080337524, 0.09170325100421906, 0.8631970882415771, 0.9577793478965759, 0.9027861952781677, 0.12619204819202423, 0.6625082492828369, 0.2208360731601715, 0.9463493824005127, 0.2042427659034729, 0.7488901019096375, 0.06808091700077057, 0.9763209223747253, 0.9506604671478271, 0.942542314529419, 0.8170356154441833, 0.8201208114624023, 0.1366868019104004, 0.4303357005119324, 0.20440945029258728, 0.2259262353181839, 0.1291007101535797, 0.9523863792419434, 0.894869863986969, 0.934956967830658, 0.7815030813217163, 0.43812671303749084, 0.0337020568549633, 0.01123401802033186, 0.505530834197998, 0.7053804397583008, 0.2351268082857132, 0.73967444896698, 0.23669582605361938, 0.9934225678443909, 0.920318067073822, 0.9145563840866089, 0.9203528761863708, 0.8628231883049011, 0.9424951076507568, 0.7025277614593506, 0.27020299434661865, 0.962800920009613, 0.916243314743042, 0.9781681895256042, 0.8675597906112671, 0.39797359704971313, 0.5788707137107849, 0.9711264967918396, 0.27143317461013794, 0.27143317461013794, 0.2961089313030243, 0.1727302074432373, 0.997160792350769, 0.9872946739196777, 0.9775505661964417, 0.601246178150177, 0.24049848318099976, 0.12024924159049988, 0.889655590057373, 0.08896555751562119, 0.4573719799518585, 0.12473781406879425, 0.37421342730522156, 0.1358368992805481, 0.6112660765647888, 0.20375534892082214, 0.8632654547691345, 0.9203212857246399, 0.9251822829246521, 0.9980545043945312, 0.33017498254776, 0.33017498254776, 0.1015923023223877, 0.22858268022537231, 0.9917435050010681, 0.20252060890197754, 0.7088221311569214, 0.8870118856430054, 0.9132069945335388, 0.9454786777496338, 0.3214781582355499, 0.06888817995786667, 0.22962726652622223, 0.3903663456439972, 0.7998544573783875, 0.19996361434459686, 0.39873552322387695, 0.5696221590042114, 0.9729880690574646, 0.4876208007335663, 0.1625402718782425, 0.2709004580974579, 0.08127013593912125, 0.09365364909172058, 0.3077191412448883, 0.12041183561086655, 0.18730729818344116, 0.294340044260025, 0.07565516233444214, 0.9078619480133057, 0.211007222533226, 0.7385252714157104, 0.9431939125061035, 0.9456472396850586, 0.9253788590431213, 0.8949440717697144, 0.3578820526599884, 0.6135120987892151, 0.42569002509117126, 0.5566715598106384, 0.9262265563011169, 0.895413339138031, 0.27999669313430786, 0.653325617313385, 0.3052685558795929, 0.1817074716091156, 0.1162927895784378, 0.3125368654727936, 0.09448789060115814, 0.8164840340614319, 0.9591484069824219, 0.8167228698730469, 0.8954161405563354, 0.925909161567688, 0.9293833374977112, 0.8707941174507141, 0.25566530227661133, 0.766995906829834, 0.13688521087169647, 0.8213112950325012, 0.8975033760070801, 0.894875705242157, 0.04201919212937355, 0.3361535370349884, 0.12605758011341095, 0.46221110224723816, 0.976588249206543, 0.9503371119499207, 0.8963688611984253, 0.9112922549247742, 0.8645519018173218, 0.5984992384910583, 0.16624979674816132, 0.19949975609779358, 0.9368622303009033, 0.816683292388916, 0.9576907157897949, 0.6022519469261169, 0.24090078473091125, 0.12045039236545563, 0.9627229571342468, 0.24557308852672577, 0.7367193102836609, 0.2013702243566513, 0.7920562028884888, 0.9162335991859436, 0.8403724431991577, 0.9757401347160339, 0.1690981090068817, 0.3381962180137634, 0.4650197923183441, 0.8079885244369507, 0.22036050260066986, 0.9372988343238831, 0.13791848719120026, 0.25859713554382324, 0.3965156376361847, 0.06895924359560013, 0.15515829622745514, 0.9235259890556335, 0.15301239490509033, 0.11475930362939835, 0.4590372145175934, 0.28689825534820557, 0.2487432062625885, 0.3420219123363495, 0.404207706451416, 0.8533804416656494, 0.8776867985725403, 0.9975950717926025, 0.9144335985183716, 0.42825186252593994, 0.5710024833679199, 0.9144231677055359, 0.6858507394790649, 0.15241126716136932, 0.15241126716136932, 0.877653956413269, 0.8551234006881714, 0.13155744969844818, 0.8707804679870605, 0.9632991552352905, 0.38421687483787537, 0.2881626486778259, 0.3201807141304016, 0.6780961155891418, 0.1768946349620819, 0.14741219580173492, 0.8612982034683228, 0.9841647148132324, 0.8777976036071777, 0.9381744265556335, 0.9423795938491821, 0.9722859263420105, 0.9708192944526672, 0.9315465688705444, 0.9203200936317444, 0.08598404377698898, 0.859840452671051, 0.7072086334228516, 0.2571667730808258, 0.9212020039558411, 0.962124764919281, 0.9132482409477234, 0.131079763174057, 0.2949294447898865, 0.5570889711380005, 0.0919308289885521, 0.3677233159542084, 0.21450525522232056, 0.06128721684217453, 0.30643609166145325, 0.0994473546743393, 0.3977894186973572, 0.4475131034851074, 0.36163172125816345, 0.6328554749488831, 0.7344841361045837, 0.20031385123729706, 0.8452096581459045, 0.9203220009803772, 0.23749686777591705, 0.7124906182289124, 0.9933725595474243, 0.980278730392456, 0.21855466067790985, 0.5099608898162842, 0.07285155355930328, 0.1821288764476776, 0.9330607652664185, 0.8953276872634888, 0.9333542585372925, 0.9909728765487671, 0.5800285339355469, 0.07565589994192123, 0.30262359976768494, 0.050437264144420624, 0.5815284848213196, 0.2616878151893616, 0.1453821212053299, 0.24339762330055237, 0.6432651281356812, 0.10431326925754547, 0.9619801044464111, 0.8794353604316711, 0.8949209451675415, 0.9438053369522095, 0.9706376791000366, 0.9988523721694946, 0.39945316314697266, 0.5810227394104004, 0.993425190448761, 0.6211580634117126, 0.36538708209991455, 0.9662976861000061, 0.8626688122749329, 0.6274518370628357, 0.19814269244670868, 0.16511890292167664, 0.9673986434936523, 0.7712308168411255, 0.04536651819944382, 0.09073303639888763, 0.09073303639888763, 0.9643136858940125, 0.9661811590194702, 0.8227251172065735, 0.04471332207322121, 0.12519730627536774, 0.9354331493377686, 0.9525607228279114, 0.7226914763450623, 0.2581041157245636, 0.8403487205505371, 0.9552534818649292, 0.9177084565162659, 0.24958379566669464, 0.06719563901424408, 0.42237257957458496, 0.13439127802848816, 0.13439127802848816, 0.9419650435447693, 0.8122901320457458, 0.48402464389801025, 0.48402464389801025, 0.9654844999313354, 0.9837741255760193, 0.9677721261978149, 0.9669458866119385, 0.12728585302829742, 0.1018286868929863, 0.7382579445838928, 0.9106940627098083, 0.18150639533996582, 0.12100426107645035, 0.6655234694480896, 0.9915921092033386, 0.8220622539520264, 0.1644124537706375, 0.17839300632476807, 0.17839300632476807, 0.6243755221366882, 0.9464021325111389, 0.8329159617424011, 0.9144269824028015, 0.9660825133323669, 0.9370400905609131, 0.9177013635635376, 0.8469471335411072, 0.13551154732704163, 0.9438042640686035, 0.9668999314308167, 0.9333447217941284, 0.950644850730896, 0.950368344783783, 0.15058986842632294, 0.2509831190109253, 0.6023594737052917, 0.8930092453956604, 0.9634701609611511, 0.46485811471939087, 0.4774218499660492, 0.06281866878271103, 0.8675481081008911, 0.04771280288696289, 0.33398962020874023, 0.5725536346435547, 0.9576470255851746, 0.9250346422195435, 0.20882879197597504, 0.7796274423599243, 0.9630857706069946, 0.7840384840965271, 0.11200550198554993, 0.969181478023529, 0.3343396782875061, 0.6686793565750122, 0.6083083152770996, 0.18084841966629028, 0.03288152813911438, 0.18084841966629028, 0.9259711503982544, 0.9576470255851746, 0.8373745679855347, 0.15700772404670715, 0.9495437145233154, 0.23594070971012115, 0.052431270480155945, 0.7078221440315247, 0.18416441977024078, 0.798045814037323, 0.9946967959403992, 0.9497649669647217, 0.9455323815345764, 0.5701276063919067, 0.33536916971206665, 0.06707383692264557, 0.9200947880744934, 0.9502570033073425, 0.16936063766479492, 0.7113146781921387, 0.10161638259887695, 0.45368897914886475, 0.3736262023448944, 0.1601255238056183, 0.9859717488288879, 0.2502939999103546, 0.5840193033218384, 0.08343133330345154, 0.08343133330345154], \"Term\": [\"#ahora\", \"#argentina\", \"#distanciamiento\", \"#distanciamiento\", \"#distanciamiento\", \"#graciaspresidentepor\", \"#lightroom\", \"#noscuidamosentretodos\", \"abril\", \"abril\", \"abril\", \"aca\", \"adema\", \"adema\", \"adema\", \"adentro\", \"afectado\", \"ahi\", \"aislamiento\", \"aislamiento\", \"aislamiento\", \"alberto\", \"amigo\", \"amigo\", \"amigo\", \"analisis\", \"anciano\", \"apoyo\", \"app\", \"area\", \"area\", \"argentino\", \"argentino\", \"argentino\", \"argentino\", \"asado\", \"asentamiento\", \"autoridad\", \"avance\", \"a\\u00f1o\", \"a\\u00f1o\", \"a\\u00f1o\", \"a\\u00f1o\", \"barbijo\", \"barbijo\", \"barrio\", \"barrio\", \"beber\", \"boletin\", \"brasil\", \"brian\", \"bullying\", \"c\", \"cabeza\", \"cabeza\", \"camino\", \"cancer\", \"cantidad\", \"caos\", \"carcel\", \"carcel\", \"carta\", \"casa\", \"casa\", \"casa\", \"casa\", \"caso\", \"caso_positivo\", \"caso_sospechoso\", \"centro\", \"centro\", \"centro\", \"cer\", \"cer\", \"chico\", \"chico\", \"chico\", \"ciencia\", \"ciencia\", \"ciencia\", \"cientifico\", \"cir\", \"circunstancia\", \"ciro\", \"ciudad\", \"ciudad\", \"ciudad\", \"ciudad\", \"clinica\", \"comisaria\", \"comisaria\", \"condici\\u00f3n\", \"consejo\", \"contacto\", \"contagio\", \"contagio\", \"contagio\", \"contagio\", \"cordoba\", \"cordoba\", \"cosa\", \"cosa\", \"covid\", \"crisis\", \"crisis\", \"crisis\", \"crisis\", \"cuarentena\", \"cuarentena\", \"cuarentena\", \"cuarentena\", \"cuarentena\", \"cuenta\", \"cuenta\", \"cuerpo\", \"cuerpo\", \"culpa\", \"cumplea\\u00f1os\", \"cumplimiento\", \"default\", \"delincuente\", \"delincuente\", \"dengue\", \"dengue\", \"derecho\", \"detalle\", \"devoto\", \"devoto\", \"dia\", \"dia\", \"dia\", \"dia\", \"dia\", \"diabetes\", \"diagnostico\", \"dialogo\", \"diego\", \"dificultad\", \"dolar\", \"dolor\", \"duda\", \"duda\", \"edad\", \"edad\", \"ejemplo\", \"encierro\", \"enfermedad\", \"enfermedad\", \"enfermedad\", \"enfermedad\", \"entrevista\", \"epoca\", \"escobar\", \"establecimiento\", \"estadistica\", \"estudio\", \"estudio\", \"estudio\", \"exclamation\", \"experiencia\", \"facultad\", \"familia\", \"familia\", \"familia\", \"familiar\", \"favor\", \"favor\", \"fe\", \"fe\", \"fiebre\", \"fing\", \"foro\", \"frente\", \"frente\", \"frente\", \"gana\", \"gana\", \"general\", \"gente\", \"gente\", \"gente\", \"gente\", \"gente\", \"geriatrico\", \"gobierno\", \"gobierno\", \"gobierno\", \"gobierno\", \"gracias\", \"gracias\", \"gracias\", \"hdp\", \"hije\", \"hijo\", \"hilo\", \"historia\", \"historia\", \"hogar\", \"hombre\", \"hombre\", \"hombre\", \"honor\", \"hora\", \"hora\", \"imagen\", \"imbecil\", \"informacion\", \"informacion\", \"informacion\", \"informe\", \"informe\", \"informe\", \"inicio\", \"ir_poner\", \"jajaja\", \"jajajajaja\", \"laboratorio\", \"linea\", \"localidad\", \"lpm\", \"luca\", \"lucha\", \"lucha\", \"mama\", \"mama\", \"manera\", \"maria\", \"mayo\", \"medida\", \"medida\", \"medida\", \"medio\", \"medio\", \"medio\", \"medio\", \"medio\", \"mes\", \"mes\", \"mes\", \"miedo\", \"miedo\", \"mierda\", \"mierda\", \"miguel\", \"milicia\", \"mill\\u00f3n\", \"mill\\u00f3n\", \"ministerio\", \"ministerio_salud\", \"momento\", \"momento\", \"momento\", \"momento\", \"monarca\", \"motivo\", \"msp\", \"muerte\", \"muerto\", \"muerto\", \"muerto\", \"muerto\", \"mujer\", \"mujer\", \"mujer\", \"mundo\", \"mundo\", \"mundo\", \"nacion\", \"necesidad\", \"negro\", \"nene\", \"ni\\u00f1o\", \"nombre\", \"nota\", \"nota\", \"nuevo_caso\", \"numero\", \"numero\", \"olor\", \"organizacion\", \"paciente\", \"paciente\", \"paciente\", \"padre\", \"pais\", \"pais\", \"pais\", \"pais\", \"palabra\", \"pami\", \"pandemia\", \"pandemia\", \"pandemia\", \"pareja\", \"partido\", \"pa\\u00eds\", \"pa\\u00eds\", \"pehuajo\", \"peligro\", \"pendejo\", \"persona\", \"persona\", \"persona\", \"persona\", \"persona\", \"pibe\", \"pm\", \"poblacion\", \"poblacion\", \"poner_ciro\", \"poner_hijo\", \"poner_nombre\", \"poner_segundo\", \"preso\", \"preso\", \"preso\", \"prioridad\", \"problema\", \"problema\", \"problema\", \"protocolo\", \"provincia\", \"provincia\", \"prueba\", \"prueba\", \"prueba\", \"puta\", \"raz\\u00f3n\", \"realidad\", \"recien\", \"recien_nacido\", \"reclamo\", \"registro\", \"registro\", \"relacion\", \"reportar\", \"residencia\", \"residencial\", \"responsable\", \"resultado\", \"resultado\", \"resultado\", \"reunion\", \"riesgo\", \"salud\", \"salud\", \"salud\", \"saludo\", \"san\", \"san\", \"san\", \"sancti\", \"sangre\", \"santo_fe\", \"santo_fe\", \"segundo_nombre\", \"seguridad\", \"seguridad\", \"sintoma\", \"sistema\", \"sistema\", \"situacion\", \"situacion\", \"situacion\", \"situacion\", \"sorete\", \"spiritu\", \"tema\", \"tema\", \"testeo\", \"tiempo\", \"tiempo\", \"tiempo\", \"tipo\", \"tipo\", \"total\", \"ultima\", \"uruguay\", \"vacuna\", \"vacuna\", \"vacuna\", \"venado\", \"verguenza\", \"vez\", \"vez\", \"vez\", \"vida\", \"vida\", \"vida\", \"viernes\", \"virus\", \"virus\", \"virus\", \"virus\"]}, \"R\": 30, \"lambda.step\": 0.01, \"plot.opts\": {\"xlab\": \"PC1\", \"ylab\": \"PC2\"}, \"topic.order\": [4, 1, 5, 3, 2]};\n",
       "\n",
       "function LDAvis_load_lib(url, callback){\n",
       "  var s = document.createElement('script');\n",
       "  s.src = url;\n",
       "  s.async = true;\n",
       "  s.onreadystatechange = s.onload = callback;\n",
       "  s.onerror = function(){console.warn(\"failed to load library \" + url);};\n",
       "  document.getElementsByTagName(\"head\")[0].appendChild(s);\n",
       "}\n",
       "\n",
       "if(typeof(LDAvis) !== \"undefined\"){\n",
       "   // already loaded: just create the visualization\n",
       "   !function(LDAvis){\n",
       "       new LDAvis(\"#\" + \"ldavis_el217331403435555455521299574109\", ldavis_el217331403435555455521299574109_data);\n",
       "   }(LDAvis);\n",
       "}else if(typeof define === \"function\" && define.amd){\n",
       "   // require.js is available: use it to load d3/LDAvis\n",
       "   require.config({paths: {d3: \"https://cdnjs.cloudflare.com/ajax/libs/d3/3.5.5/d3.min\"}});\n",
       "   require([\"d3\"], function(d3){\n",
       "      window.d3 = d3;\n",
       "      LDAvis_load_lib(\"https://cdn.rawgit.com/bmabey/pyLDAvis/files/ldavis.v1.0.0.js\", function(){\n",
       "        new LDAvis(\"#\" + \"ldavis_el217331403435555455521299574109\", ldavis_el217331403435555455521299574109_data);\n",
       "      });\n",
       "    });\n",
       "}else{\n",
       "    // require.js not available: dynamically load d3 & LDAvis\n",
       "    LDAvis_load_lib(\"https://cdnjs.cloudflare.com/ajax/libs/d3/3.5.5/d3.min.js\", function(){\n",
       "         LDAvis_load_lib(\"https://cdn.rawgit.com/bmabey/pyLDAvis/files/ldavis.v1.0.0.js\", function(){\n",
       "                 new LDAvis(\"#\" + \"ldavis_el217331403435555455521299574109\", ldavis_el217331403435555455521299574109_data);\n",
       "            })\n",
       "         });\n",
       "}\n",
       "</script>"
      ],
      "text/plain": [
       "PreparedData(topic_coordinates=              x         y  topics  cluster       Freq\n",
       "topic                                                \n",
       "3     -0.183266  0.140421       1        1  25.733576\n",
       "0      0.201948  0.142899       2        1  23.633430\n",
       "4     -0.025403 -0.062491       3        1  18.724997\n",
       "2     -0.051092 -0.073970       4        1  17.834982\n",
       "1      0.057813 -0.146859       5        1  14.073016, topic_info=         Term        Freq       Total Category  logprob  loglift\n",
       "3        caso  333.000000  333.000000  Default  30.0000  30.0000\n",
       "461      ciro  183.000000  183.000000  Default  29.0000  29.0000\n",
       "117    nombre  141.000000  141.000000  Default  28.0000  28.0000\n",
       "416      hijo  125.000000  125.000000  Default  27.0000  27.0000\n",
       "644     beber  122.000000  122.000000  Default  26.0000  26.0000\n",
       "..        ...         ...         ...      ...      ...      ...\n",
       "149  pandemia   14.120675  111.823494   Topic5  -4.9779  -0.1084\n",
       "98        dia   12.623306  137.583771   Topic5  -5.0900  -0.4278\n",
       "22      gente    9.197598   58.005280   Topic5  -5.4066   0.1193\n",
       "422    barrio    7.873439   33.798653   Topic5  -5.5620   0.5040\n",
       "177      casa    7.147989   40.525627   Topic5  -5.6587   0.2258\n",
       "\n",
       "[298 rows x 6 columns], token_table=      Topic      Freq              Term\n",
       "term                                   \n",
       "1140      4  0.979584            #ahora\n",
       "197       2  0.921091        #argentina\n",
       "691       1  0.072864  #distanciamiento\n",
       "691       2  0.728636  #distanciamiento\n",
       "691       3  0.145727  #distanciamiento\n",
       "...     ...       ...               ...\n",
       "520       1  0.985972           viernes\n",
       "74        1  0.250294             virus\n",
       "74        2  0.584019             virus\n",
       "74        3  0.083431             virus\n",
       "74        5  0.083431             virus\n",
       "\n",
       "[394 rows x 3 columns], R=30, lambda_step=0.01, plot_opts={'xlab': 'PC1', 'ylab': 'PC2'}, topic_order=[4, 1, 5, 3, 2])"
      ]
     },
     "execution_count": 23,
     "metadata": {},
     "output_type": "execute_result"
    }
   ],
   "source": [
    "cargar_modelo_y_graficar(5,dictionary, doc_term_matrix)"
   ]
  },
  {
   "cell_type": "markdown",
   "metadata": {},
   "source": [
    "We can save the graphics to share them in other applications, like our project website:"
   ]
  },
  {
   "cell_type": "code",
   "execution_count": 24,
   "metadata": {},
   "outputs": [],
   "source": [
    "def guardar_grafico(topic_nr, model_label):\n",
    "    pyLDAvis.save_html(cargar_modelo_y_graficar(topic_nr, dictionary, doc_term_matrix), f'modelos_gensim/{corpus_minilabel}-{model_label}_ntopics{topic_nr:02}.html')"
   ]
  },
  {
   "cell_type": "code",
   "execution_count": 25,
   "metadata": {},
   "outputs": [],
   "source": [
    "guardar_grafico(3, model_label)"
   ]
  },
  {
   "cell_type": "code",
   "execution_count": 26,
   "metadata": {},
   "outputs": [],
   "source": [
    "guardar_grafico(5, model_label)"
   ]
  },
  {
   "cell_type": "markdown",
   "metadata": {},
   "source": [
    "We can try other visualizations, like a circle pack plot, that gives us a good idea of the main words of each topic at a glance:"
   ]
  },
  {
   "cell_type": "code",
   "execution_count": 28,
   "metadata": {},
   "outputs": [
    {
     "name": "stdout",
     "output_type": "stream",
     "text": [
      "Escribiendo CSV en: modelos_gensim/2020-04-25_es_ar-lema_2gram_LDA_ntopics05.csv\n"
     ]
    }
   ],
   "source": [
    "import pandas as pd\n",
    "def hacer_csv_para_rawgraphsio(modelo, out_fp, top_n=10):\n",
    "    records = []\n",
    "    \n",
    "    for i in range(modelo.num_topics):\n",
    "        for word, weight in modelo.show_topic(i, topn=top_n):\n",
    "            records.append((i, word, weight))\n",
    "\n",
    "    df = pd.DataFrame(records, columns=[\"topic_id\", \"word\", \"weight\"])\n",
    "    df = df.groupby(\"topic_id\").head(top_n).reset_index(drop=True)\n",
    "    print(f\"Escribiendo CSV en: {out_fp}\")\n",
    "    df.to_csv(out_fp, index=False)\n",
    "    \n",
    "topic_nr=5\n",
    "modelo = cargar_modelo_LDA(ntopics=topic_nr)\n",
    "fp = f\"modelos_gensim/{corpus_minilabel}-{model_label}_ntopics{topic_nr:02}.csv\"\n",
    "hacer_csv_para_rawgraphsio(modelo, fp)"
   ]
  },
  {
   "cell_type": "markdown",
   "metadata": {},
   "source": [
    "<img src=\"modelos_gensim/modelo.05.tokens.png\" />"
   ]
  }
 ],
 "metadata": {
  "kernelspec": {
   "display_name": "Python 3",
   "language": "python",
   "name": "python3"
  },
  "language_info": {
   "codemirror_mode": {
    "name": "ipython",
    "version": 3
   },
   "file_extension": ".py",
   "mimetype": "text/x-python",
   "name": "python",
   "nbconvert_exporter": "python",
   "pygments_lexer": "ipython3",
   "version": "3.7.6"
  }
 },
 "nbformat": 4,
 "nbformat_minor": 4
}
