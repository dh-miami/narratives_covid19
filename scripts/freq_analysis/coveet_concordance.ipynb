{
 "cells": [
  {
   "cell_type": "markdown",
   "id": "d72ccce0-d4f5-4056-9472-3a4ad5f784be",
   "metadata": {},
   "source": [
    "# digital narratives of COVID-19: concordance views"
   ]
  },
  {
   "cell_type": "markdown",
   "id": "f5a7840a-d789-467e-8afe-ef076386b351",
   "metadata": {},
   "source": [
    "A *concordance view* shows us every occurrence of a given word, together with some context. In this notebook we demonstrate how to retrieve concordance views from the DHCOVID corpus using the Python script `coveet.py` as a query + tidying tool. We visualize results using tables with respect to each geographic area. \n",
    "\n",
    "Please feel free to modify this notebook or, if you would like to preserve this version, make a copy of it by clicking \"File\" > \"Make a Copy...\"\n",
    "\n",
    "To follow along, we recommend running the script portions piecemeal, in order."
   ]
  },
  {
   "cell_type": "markdown",
   "id": "a713e529-ed92-4f78-978a-cfaf788cb6a7",
   "metadata": {},
   "source": [
    "Author:\n",
    "* Jerry Bonnell, j.bonnell@miami.edu, University of Miami"
   ]
  },
  {
   "cell_type": "markdown",
   "id": "429b9677-0688-4ab1-8df9-a373a33c5b43",
   "metadata": {},
   "source": [
    "## 0. Setting Up"
   ]
  },
  {
   "cell_type": "markdown",
   "id": "84d32db1-8d92-4a6e-81ba-0b5d0db7c69d",
   "metadata": {},
   "source": [
    "Before we get started, let us set up the notebook by installing and importing libraries we need. The `requirements.txt` file specifies all the packages to install on your computer for this notebook."
   ]
  },
  {
   "cell_type": "code",
   "execution_count": null,
   "id": "d4b0c2c3-b25c-40c1-9a0d-b11709bcee9f",
   "metadata": {},
   "outputs": [],
   "source": [
    "!pip3 install -r requirements.txt  # may need to replace \"pip3\" with \"conda\""
   ]
  },
  {
   "cell_type": "code",
   "execution_count": 1,
   "id": "dc5db13a-1ef6-429b-bf7a-4e8fdbd93bdc",
   "metadata": {},
   "outputs": [],
   "source": [
    "import pandas as pd\n",
    "import numpy as np\n",
    "import re\n",
    "from collections import defaultdict\n",
    "from tqdm import tqdm\n",
    "import matplotlib.pyplot as plt\n",
    "from plotnine import *\n",
    "import vaderSentiment.vaderSentiment as vader\n",
    "from sklearn.manifold import TSNE\n",
    "from IPython.display import set_matplotlib_formats\n",
    "\n",
    "import seaborn as sns\n",
    "sns.set()\n",
    "from pylab import rcParams\n",
    "set_matplotlib_formats('svg')\n",
    "rcParams['figure.figsize'] = 13, 16  # setting figure size\n",
    "plt.rcParams.update({'font.size': 3})  # setting font size\n",
    "pd.set_option('display.max_colwidth', None)"
   ]
  },
  {
   "cell_type": "markdown",
   "id": "6f825b8c-d0d1-4736-8266-54a57ace0c34",
   "metadata": {},
   "source": [
    "As the running example for this notebook, we will obtain concordance views for various search words from queried tweets written between May 8, 2020 and May 14, 2020. "
   ]
  },
  {
   "cell_type": "markdown",
   "id": "098f17b7-7125-44cf-8981-c1d498d0725c",
   "metadata": {},
   "source": [
    "## 1. Querying"
   ]
  },
  {
   "cell_type": "markdown",
   "id": "33b43b7c-eee7-4952-80a5-8175977c3263",
   "metadata": {},
   "source": [
    "__NOTE__ For a more detailed explanation of the querying and tidying phases used in the analysis pipeline, please see the jupyter notebook `coveet_frequency.ipynb` which is also in this folder. "
   ]
  },
  {
   "cell_type": "markdown",
   "id": "86c4d19f-fa7f-43a3-9751-ae9be0cb2217",
   "metadata": {},
   "source": [
    "We use the `coveet.py` tool to query tweets from all location-language pairs written between May 8, 2020 and May 14, 2020. We will *not* use the tidying component in this notebook as concordance views are meant for our own consumption, and any tidying done (e.g., filtering stopwords and lemmatization) will obscure understanding.     \n",
    "\n",
    "Let us apply the `query` mode."
   ]
  },
  {
   "cell_type": "code",
   "execution_count": null,
   "id": "b503da5d-40f8-448d-b37e-6e74d0073acd",
   "metadata": {},
   "outputs": [],
   "source": [
    "!python coveet.py query -g fl ar co ec es mx pe -l en es -d 2020-05-08 2020-05-14"
   ]
  },
  {
   "cell_type": "markdown",
   "id": "8cd07f81-1450-450c-a5cc-9c41af5b9cca",
   "metadata": {},
   "source": [
    "If the Python you are using is coming from a conda environment (here called `blueberry`), use the following incantation instead:"
   ]
  },
  {
   "cell_type": "code",
   "execution_count": null,
   "id": "4a359645-4d71-4319-9994-1ee3285614bd",
   "metadata": {},
   "outputs": [],
   "source": [
    "!conda activate blueberry; python coveet.py query -g fl ar co ec es mx pe -l en es -d 2020-05-08 2020-05-14"
   ]
  },
  {
   "cell_type": "markdown",
   "id": "28961173-5cc8-4a32-9c71-b97e31e6983f",
   "metadata": {},
   "source": [
    "Let us load in the queried CSV into a `pandas` DataFrame. "
   ]
  },
  {
   "cell_type": "code",
   "execution_count": 3,
   "id": "1c8debc2-39d0-49f0-bcae-a97ae8e5394e",
   "metadata": {},
   "outputs": [],
   "source": [
    "df = pd.read_csv('dhcovid_2020-5-8_2020-5-14_en_es_ar_co_ec_es_fl_mx_pe.csv', index_col=0)"
   ]
  },
  {
   "cell_type": "markdown",
   "id": "bbb8d01a-bc6d-4f82-bc3e-ddea71e0f1a5",
   "metadata": {},
   "source": [
    "As a quick preprocessing step, let us filter out any rows whose text field is empty (i.e., `NaN`). This usually means that the tweet was full of hashtags."
   ]
  },
  {
   "cell_type": "code",
   "execution_count": 5,
   "id": "851c76fe-4dcd-4a32-a704-d28fa112ae57",
   "metadata": {},
   "outputs": [],
   "source": [
    "df = df.dropna(subset=[\"text\"])"
   ]
  },
  {
   "cell_type": "markdown",
   "id": "c8687213-50b7-4b6a-9803-8973083bcbee",
   "metadata": {},
   "source": [
    "Let us inspect what the data frame looks like."
   ]
  },
  {
   "cell_type": "code",
   "execution_count": 6,
   "id": "210816d9-16cd-4758-aaf0-2ae16f752fd0",
   "metadata": {},
   "outputs": [
    {
     "data": {
      "text/html": [
       "<div>\n",
       "<style scoped>\n",
       "    .dataframe tbody tr th:only-of-type {\n",
       "        vertical-align: middle;\n",
       "    }\n",
       "\n",
       "    .dataframe tbody tr th {\n",
       "        vertical-align: top;\n",
       "    }\n",
       "\n",
       "    .dataframe thead th {\n",
       "        text-align: right;\n",
       "    }\n",
       "</style>\n",
       "<table border=\"1\" class=\"dataframe\">\n",
       "  <thead>\n",
       "    <tr style=\"text-align: right;\">\n",
       "      <th></th>\n",
       "      <th>date</th>\n",
       "      <th>lang</th>\n",
       "      <th>geo</th>\n",
       "      <th>text</th>\n",
       "      <th>hashtags</th>\n",
       "    </tr>\n",
       "  </thead>\n",
       "  <tbody>\n",
       "    <tr>\n",
       "      <th>0</th>\n",
       "      <td>2020-05-08</td>\n",
       "      <td>en</td>\n",
       "      <td>fl</td>\n",
       "      <td>my heart is with those who tested positive for covid19 at this keys senior living facility thank you to the first responders and frontline medical staff treating our neighbors please stay safe</td>\n",
       "      <td>NaN</td>\n",
       "    </tr>\n",
       "    <tr>\n",
       "      <th>1</th>\n",
       "      <td>2020-05-08</td>\n",
       "      <td>en</td>\n",
       "      <td>fl</td>\n",
       "      <td>the probable causes of death are the same over and over again pneumonia acute respiratory distress syndrome complications from covid19 each persons story though is a little different often in heartbreaking ways</td>\n",
       "      <td>NaN</td>\n",
       "    </tr>\n",
       "    <tr>\n",
       "      <th>2</th>\n",
       "      <td>2020-05-08</td>\n",
       "      <td>en</td>\n",
       "      <td>fl</td>\n",
       "      <td>the chem trails of the blue angels cure covid19 that why the government is wasting all that money on them instead of something actually useful</td>\n",
       "      <td>NaN</td>\n",
       "    </tr>\n",
       "    <tr>\n",
       "      <th>3</th>\n",
       "      <td>2020-05-08</td>\n",
       "      <td>en</td>\n",
       "      <td>fl</td>\n",
       "      <td>its a lot higher then whats being reported unemployment soars to 147 job losses reach 205 million in april as coronavirus pandemic spreads</td>\n",
       "      <td>NaN</td>\n",
       "    </tr>\n",
       "    <tr>\n",
       "      <th>4</th>\n",
       "      <td>2020-05-08</td>\n",
       "      <td>en</td>\n",
       "      <td>fl</td>\n",
       "      <td>intel reports deep state china use covid19 for antitrump and gates population control dog</td>\n",
       "      <td>NaN</td>\n",
       "    </tr>\n",
       "    <tr>\n",
       "      <th>...</th>\n",
       "      <td>...</td>\n",
       "      <td>...</td>\n",
       "      <td>...</td>\n",
       "      <td>...</td>\n",
       "      <td>...</td>\n",
       "    </tr>\n",
       "    <tr>\n",
       "      <th>224732</th>\n",
       "      <td>2020-05-14</td>\n",
       "      <td>es</td>\n",
       "      <td>es</td>\n",
       "      <td>1 no todos llevan mascarilla hay muchos que no llevan nada de proteccion 2 cuando el 8m no habia tanta conciencia del covid19 3 lo que estan haciendo va en contra de muchas cosas y no solo morales</td>\n",
       "      <td>NaN</td>\n",
       "    </tr>\n",
       "    <tr>\n",
       "      <th>224733</th>\n",
       "      <td>2020-05-14</td>\n",
       "      <td>es</td>\n",
       "      <td>es</td>\n",
       "      <td>luego me flipa la gente tan inculta que hay que tiene el valor de seguir diciendo que es una gripe por eso nos tienen en casa se nota quien no ha tenido cerca a alguien con covid19 y habla desde la ignorancia y su mente cuadrada</td>\n",
       "      <td>NaN</td>\n",
       "    </tr>\n",
       "    <tr>\n",
       "      <th>224734</th>\n",
       "      <td>2020-05-14</td>\n",
       "      <td>es</td>\n",
       "      <td>es</td>\n",
       "      <td>el desafio de elon musk y tesla a las ordenes de salud de covid19 y su denuncia contra el condado de alameda y las amenazas de abandonar california crean</td>\n",
       "      <td>NaN</td>\n",
       "    </tr>\n",
       "    <tr>\n",
       "      <th>224735</th>\n",
       "      <td>2020-05-14</td>\n",
       "      <td>es</td>\n",
       "      <td>es</td>\n",
       "      <td>en los 144 años de historia de damm la empresa ha demostrado fortaleza y flexibilidad para adaptarse a entornos complicados que segun su presidente ejecutivo demetrio carceller arce la han reforzado para crecer responsable y sosteniblemente</td>\n",
       "      <td>NaN</td>\n",
       "    </tr>\n",
       "    <tr>\n",
       "      <th>224736</th>\n",
       "      <td>2020-05-14</td>\n",
       "      <td>es</td>\n",
       "      <td>es</td>\n",
       "      <td>panama experimenta con plasma convaleciente para tratar enfermos de covid19</td>\n",
       "      <td>#efetv #coronavirus</td>\n",
       "    </tr>\n",
       "  </tbody>\n",
       "</table>\n",
       "<p>224715 rows × 5 columns</p>\n",
       "</div>"
      ],
      "text/plain": [
       "              date lang geo  \\\n",
       "0       2020-05-08   en  fl   \n",
       "1       2020-05-08   en  fl   \n",
       "2       2020-05-08   en  fl   \n",
       "3       2020-05-08   en  fl   \n",
       "4       2020-05-08   en  fl   \n",
       "...            ...  ...  ..   \n",
       "224732  2020-05-14   es  es   \n",
       "224733  2020-05-14   es  es   \n",
       "224734  2020-05-14   es  es   \n",
       "224735  2020-05-14   es  es   \n",
       "224736  2020-05-14   es  es   \n",
       "\n",
       "                                                                                                                                                                                                                                                    text  \\\n",
       "0                                                       my heart is with those who tested positive for covid19 at this keys senior living facility thank you to the first responders and frontline medical staff treating our neighbors please stay safe   \n",
       "1                                     the probable causes of death are the same over and over again pneumonia acute respiratory distress syndrome complications from covid19 each persons story though is a little different often in heartbreaking ways   \n",
       "2                                                                                                         the chem trails of the blue angels cure covid19 that why the government is wasting all that money on them instead of something actually useful   \n",
       "3                                                                                                             its a lot higher then whats being reported unemployment soars to 147 job losses reach 205 million in april as coronavirus pandemic spreads   \n",
       "4                                                                                                                                                              intel reports deep state china use covid19 for antitrump and gates population control dog   \n",
       "...                                                                                                                                                                                                                                                  ...   \n",
       "224732                                              1 no todos llevan mascarilla hay muchos que no llevan nada de proteccion 2 cuando el 8m no habia tanta conciencia del covid19 3 lo que estan haciendo va en contra de muchas cosas y no solo morales   \n",
       "224733              luego me flipa la gente tan inculta que hay que tiene el valor de seguir diciendo que es una gripe por eso nos tienen en casa se nota quien no ha tenido cerca a alguien con covid19 y habla desde la ignorancia y su mente cuadrada   \n",
       "224734                                                                                         el desafio de elon musk y tesla a las ordenes de salud de covid19 y su denuncia contra el condado de alameda y las amenazas de abandonar california crean   \n",
       "224735  en los 144 años de historia de damm la empresa ha demostrado fortaleza y flexibilidad para adaptarse a entornos complicados que segun su presidente ejecutivo demetrio carceller arce la han reforzado para crecer responsable y sosteniblemente   \n",
       "224736                                                                                                                                                                       panama experimenta con plasma convaleciente para tratar enfermos de covid19   \n",
       "\n",
       "                   hashtags  \n",
       "0                       NaN  \n",
       "1                       NaN  \n",
       "2                       NaN  \n",
       "3                       NaN  \n",
       "4                       NaN  \n",
       "...                     ...  \n",
       "224732                  NaN  \n",
       "224733                  NaN  \n",
       "224734                  NaN  \n",
       "224735                  NaN  \n",
       "224736  #efetv #coronavirus  \n",
       "\n",
       "[224715 rows x 5 columns]"
      ]
     },
     "execution_count": 6,
     "metadata": {},
     "output_type": "execute_result"
    }
   ],
   "source": [
    "df"
   ]
  },
  {
   "cell_type": "markdown",
   "id": "aab9e3db-73d5-405d-aedc-6e1e17dad8dd",
   "metadata": {},
   "source": [
    "## 2. Concordance Views"
   ]
  },
  {
   "cell_type": "markdown",
   "id": "1303b570-784a-46a6-a387-5291ab80d39d",
   "metadata": {},
   "source": [
    "I defer to the NLTK documentation for a definition: \"a *concordance* view shows us every occurrence of a given word, together with some context.\" The context is usually defined by a window of some number of characters. Given the short and atomic nature of tweets, it would be fair to consider the full tweet as context for the concordance view. We would also like to display the associated date of that tweet."
   ]
  },
  {
   "cell_type": "markdown",
   "id": "bfd5583e-c7f8-4763-bfae-d1f230daf664",
   "metadata": {},
   "source": [
    "The work needed to find concordances with its associated date is straightforward thanks to `pandas` and the query CSV we have available in the variable `df`. The query CSV is suitable for this task because the stopwords have not been eliminated yet so we are able to study the context."
   ]
  },
  {
   "cell_type": "markdown",
   "id": "c9cc5668-623d-4d93-aa8d-74f7f3ff5d79",
   "metadata": {},
   "source": [
    "With `df` at hand, we can filter the rows to include only those that match the given word. This filter `filt` can be as simple as a single word (tweets where `haber` appears) or as advanced as logical expressions (tweets where `nuevo` and `america` appears). I show examples for both."
   ]
  },
  {
   "cell_type": "code",
   "execution_count": 16,
   "id": "2434d54f-d3d4-443a-b9cd-f1a67d6fb074",
   "metadata": {},
   "outputs": [],
   "source": [
    "filt = lambda text: 'haber' in text  # a single word\n",
    "# filt = lambda text: 'nuevo' in text and 'america' in text      # a logical expression \n",
    "# filt = lambda text: 'trump' in text and not 'china' in text    # another one to try"
   ]
  },
  {
   "cell_type": "code",
   "execution_count": 17,
   "id": "e50d0983-f17e-41ef-a83c-369bad77990b",
   "metadata": {},
   "outputs": [],
   "source": [
    "df_concord = df[df.apply(lambda x: filt(x[\"text\"]), axis=1)]"
   ]
  },
  {
   "cell_type": "code",
   "execution_count": 18,
   "id": "a154e4ab-585f-4621-a712-cd79c4d199d6",
   "metadata": {},
   "outputs": [
    {
     "data": {
      "text/html": [
       "<div>\n",
       "<style scoped>\n",
       "    .dataframe tbody tr th:only-of-type {\n",
       "        vertical-align: middle;\n",
       "    }\n",
       "\n",
       "    .dataframe tbody tr th {\n",
       "        vertical-align: top;\n",
       "    }\n",
       "\n",
       "    .dataframe thead th {\n",
       "        text-align: right;\n",
       "    }\n",
       "</style>\n",
       "<table border=\"1\" class=\"dataframe\">\n",
       "  <thead>\n",
       "    <tr style=\"text-align: right;\">\n",
       "      <th></th>\n",
       "      <th>date</th>\n",
       "      <th>lang</th>\n",
       "      <th>geo</th>\n",
       "      <th>text</th>\n",
       "      <th>hashtags</th>\n",
       "    </tr>\n",
       "  </thead>\n",
       "  <tbody>\n",
       "    <tr>\n",
       "      <th>4615</th>\n",
       "      <td>2020-05-14</td>\n",
       "      <td>en</td>\n",
       "      <td>fl</td>\n",
       "      <td>developer daniel chaberman isnt letting covid19 stop him from breaking ground on the third phase of atlantic village delivering retail restaurants offices to hallandale beach hes opening the 2nd phase in the middle of the pandemic</td>\n",
       "      <td>NaN</td>\n",
       "    </tr>\n",
       "    <tr>\n",
       "      <th>4616</th>\n",
       "      <td>2020-05-14</td>\n",
       "      <td>en</td>\n",
       "      <td>fl</td>\n",
       "      <td>developer daniel chaberman isnt letting covid19 stop him from breaking ground on the third phase of atlantic village delivering retail restaurants offices to hallandale beach hes opening the 2nd phase in the middle of the pandemic</td>\n",
       "      <td>NaN</td>\n",
       "    </tr>\n",
       "    <tr>\n",
       "      <th>5444</th>\n",
       "      <td>2020-05-08</td>\n",
       "      <td>es</td>\n",
       "      <td>ar</td>\n",
       "      <td>covid19 resolucion 40820 mtyes a traves de esta resolucion se dispuso que aquellos empleadores que hubiesen efectuado el pago total o parcial de haberes correspondientes al mes de abril previo a la percepcion por parte de sus trabajadores</td>\n",
       "      <td>NaN</td>\n",
       "    </tr>\n",
       "    <tr>\n",
       "      <th>6605</th>\n",
       "      <td>2020-05-08</td>\n",
       "      <td>es</td>\n",
       "      <td>ar</td>\n",
       "      <td>cientificos japoneses aseguran haber desarrollado un anticuerpo contra el covid19</td>\n",
       "      <td>NaN</td>\n",
       "    </tr>\n",
       "    <tr>\n",
       "      <th>6875</th>\n",
       "      <td>2020-05-08</td>\n",
       "      <td>es</td>\n",
       "      <td>ar</td>\n",
       "      <td>angeles azules asi llamo hugo ficca a los medicos que lo cuidaron y alentaron a luchar contra el covid19 hoy ya tiene el alta despues de haber estado internado 13 dias en terapia intensiva por</td>\n",
       "      <td>NaN</td>\n",
       "    </tr>\n",
       "    <tr>\n",
       "      <th>...</th>\n",
       "      <td>...</td>\n",
       "      <td>...</td>\n",
       "      <td>...</td>\n",
       "      <td>...</td>\n",
       "      <td>...</td>\n",
       "    </tr>\n",
       "    <tr>\n",
       "      <th>223770</th>\n",
       "      <td>2020-05-14</td>\n",
       "      <td>es</td>\n",
       "      <td>es</td>\n",
       "      <td>la gente comparando el vih con el covid19 pero como puede haber tanta gente solo con las neuronas suficientes para no mearse encima</td>\n",
       "      <td>NaN</td>\n",
       "    </tr>\n",
       "    <tr>\n",
       "      <th>224028</th>\n",
       "      <td>2020-05-14</td>\n",
       "      <td>es</td>\n",
       "      <td>es</td>\n",
       "      <td>esta noche tendrian que haber comenzado las ferias de de talavera de la reina suspendidas por la pandemia del asi estaba el recinto ferial en un dia como este y asi esta hoy</td>\n",
       "      <td>#sanisidro #covid19</td>\n",
       "    </tr>\n",
       "    <tr>\n",
       "      <th>224211</th>\n",
       "      <td>2020-05-14</td>\n",
       "      <td>es</td>\n",
       "      <td>es</td>\n",
       "      <td>los que dicen que es tan irresponsable como el 8m ojo que no digo que no hubiera que haberlo cancelado les recuerdo que en españa ese dia habia 10 fallecidos por covid19 que se supiera y a dia de hoy hay mas de 27 mil</td>\n",
       "      <td>NaN</td>\n",
       "    </tr>\n",
       "    <tr>\n",
       "      <th>224416</th>\n",
       "      <td>2020-05-14</td>\n",
       "      <td>es</td>\n",
       "      <td>es</td>\n",
       "      <td>la primera fase del estudio nacional seroepidemiologico revela que mas de 30000 habitantes de la provincia podrian haber contraido el coronavirus mas informacion</td>\n",
       "      <td>NaN</td>\n",
       "    </tr>\n",
       "    <tr>\n",
       "      <th>224715</th>\n",
       "      <td>2020-05-14</td>\n",
       "      <td>es</td>\n",
       "      <td>es</td>\n",
       "      <td>autoridades de eeuu acusaron a piratas informaticos chinos de haber llevado a cabo ciberataques contra centros de investigacion estadounidenses para robar informacion sobre las vacunas y los tratamientos que se prueban frente al covid19</td>\n",
       "      <td>#coronavirus</td>\n",
       "    </tr>\n",
       "  </tbody>\n",
       "</table>\n",
       "<p>1165 rows × 5 columns</p>\n",
       "</div>"
      ],
      "text/plain": [
       "              date lang geo  \\\n",
       "4615    2020-05-14   en  fl   \n",
       "4616    2020-05-14   en  fl   \n",
       "5444    2020-05-08   es  ar   \n",
       "6605    2020-05-08   es  ar   \n",
       "6875    2020-05-08   es  ar   \n",
       "...            ...  ...  ..   \n",
       "223770  2020-05-14   es  es   \n",
       "224028  2020-05-14   es  es   \n",
       "224211  2020-05-14   es  es   \n",
       "224416  2020-05-14   es  es   \n",
       "224715  2020-05-14   es  es   \n",
       "\n",
       "                                                                                                                                                                                                                                                  text  \\\n",
       "4615            developer daniel chaberman isnt letting covid19 stop him from breaking ground on the third phase of atlantic village delivering retail restaurants offices to hallandale beach hes opening the 2nd phase in the middle of the pandemic   \n",
       "4616            developer daniel chaberman isnt letting covid19 stop him from breaking ground on the third phase of atlantic village delivering retail restaurants offices to hallandale beach hes opening the 2nd phase in the middle of the pandemic   \n",
       "5444    covid19 resolucion 40820 mtyes a traves de esta resolucion se dispuso que aquellos empleadores que hubiesen efectuado el pago total o parcial de haberes correspondientes al mes de abril previo a la percepcion por parte de sus trabajadores   \n",
       "6605                                                                                                                                                                 cientificos japoneses aseguran haber desarrollado un anticuerpo contra el covid19   \n",
       "6875                                                  angeles azules asi llamo hugo ficca a los medicos que lo cuidaron y alentaron a luchar contra el covid19 hoy ya tiene el alta despues de haber estado internado 13 dias en terapia intensiva por   \n",
       "...                                                                                                                                                                                                                                                ...   \n",
       "223770                                                                                                             la gente comparando el vih con el covid19 pero como puede haber tanta gente solo con las neuronas suficientes para no mearse encima   \n",
       "224028                                                                   esta noche tendrian que haber comenzado las ferias de de talavera de la reina suspendidas por la pandemia del asi estaba el recinto ferial en un dia como este y asi esta hoy   \n",
       "224211                       los que dicen que es tan irresponsable como el 8m ojo que no digo que no hubiera que haberlo cancelado les recuerdo que en españa ese dia habia 10 fallecidos por covid19 que se supiera y a dia de hoy hay mas de 27 mil   \n",
       "224416                                                                               la primera fase del estudio nacional seroepidemiologico revela que mas de 30000 habitantes de la provincia podrian haber contraido el coronavirus mas informacion   \n",
       "224715    autoridades de eeuu acusaron a piratas informaticos chinos de haber llevado a cabo ciberataques contra centros de investigacion estadounidenses para robar informacion sobre las vacunas y los tratamientos que se prueban frente al covid19   \n",
       "\n",
       "                   hashtags  \n",
       "4615                    NaN  \n",
       "4616                    NaN  \n",
       "5444                    NaN  \n",
       "6605                    NaN  \n",
       "6875                    NaN  \n",
       "...                     ...  \n",
       "223770                  NaN  \n",
       "224028  #sanisidro #covid19  \n",
       "224211                  NaN  \n",
       "224416                  NaN  \n",
       "224715         #coronavirus  \n",
       "\n",
       "[1165 rows x 5 columns]"
      ]
     },
     "execution_count": 18,
     "metadata": {},
     "output_type": "execute_result"
    }
   ],
   "source": [
    "df_concord"
   ]
  },
  {
   "cell_type": "markdown",
   "id": "c6779968-cfe7-4c2e-949d-635a6e6b8e58",
   "metadata": {},
   "source": [
    "If we wish to write this concordance dataframe to a file, we can do that easily."
   ]
  },
  {
   "cell_type": "code",
   "execution_count": null,
   "id": "b2accd42-2bf9-4ef6-a2b3-e9cdb8ef49b0",
   "metadata": {},
   "outputs": [],
   "source": [
    "df_concord.to_csv(\"concordance_view.csv\")"
   ]
  },
  {
   "cell_type": "code",
   "execution_count": null,
   "id": "dad552c8-8a6a-48e8-834f-7b0f997e5279",
   "metadata": {},
   "outputs": [],
   "source": []
  }
 ],
 "metadata": {
  "kernelspec": {
   "display_name": "Python 3.8.8 64-bit ('blueberry': conda)",
   "language": "python",
   "name": "python388jvsc74a57bd05d7907136a6736b943e4338eee9fc0e153ff94b55e084b753cb53efa417096bc"
  },
  "language_info": {
   "codemirror_mode": {
    "name": "ipython",
    "version": 3
   },
   "file_extension": ".py",
   "mimetype": "text/x-python",
   "name": "python",
   "nbconvert_exporter": "python",
   "pygments_lexer": "ipython3",
   "version": "3.8.8"
  }
 },
 "nbformat": 4,
 "nbformat_minor": 5
}
