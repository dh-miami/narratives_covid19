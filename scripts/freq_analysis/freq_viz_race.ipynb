{
 "cells": [
  {
   "cell_type": "markdown",
   "metadata": {},
   "source": [
    "# digital narratives of COVID-19: frequency visualization\n",
    "\n",
    "In this notebook we demonstrate how to use *coveet*, a Python script that retrieves basic statistics (most frequent words, bigrams, trigrams, top users, hashtags) from our curated COVID-19 database about our collection. We also visualize the results using a bar chart race plot. Please feel free to modify this notebook or, if you would like to preserve this version, make a copy of it by clicking \"File\" > \"Make a Copy...\"\n",
    "\n",
    "To follow along, we recommend running the script portions piecemeal, in order.\n",
    "\n",
    "__Author:__\n",
    "\n",
    "* Jerry Bonnell, [j.bonnell@miami.edu](mailto:j.bonnell@miami.edu)\n"
   ]
  },
  {
   "cell_type": "markdown",
   "metadata": {},
   "source": [
    "## 0. Setting Up\n",
    "\n",
    "Before we get started, let's set up the notebook by importing libraries we need."
   ]
  },
  {
   "cell_type": "code",
   "execution_count": 3,
   "metadata": {},
   "outputs": [],
   "source": [
    "import pandas as pd\n",
    "from datetime import datetime, timedelta\n",
    "import plotly.graph_objects as go\n",
    "import random\n",
    "\n",
    "from coveet import days_to_df\n",
    "from bar_race import get_bar_race_plot"
   ]
  },
  {
   "cell_type": "markdown",
   "metadata": {},
   "source": [
    "## 1. Querying the Database\n",
    "\n",
    "In this part, we show how to (programatically) query the database using coveet based on some criteria. As an example, let's obtain all English bigrams in Florida between April 27 and May 3, the week in which the total number of cases in the U.S. crossed the one million mark. Later on in the notebook, we'll visualize these results. "
   ]
  },
  {
   "cell_type": "markdown",
   "metadata": {},
   "source": [
    "We create two datetime objects with the corresponding start (April 27) and end (May 3) dates. We then invoke a function from coveet called *days_to_df()* and pass it the criteria we are interested in (the Github repository contains a more detailed description of the available parameters) and obtain only the top 10 results. Note that by setting metric=2, we ask for a bigram search. This function will return the results in the form of a pandas DataFrame, stored in a variable called *df*. "
   ]
  },
  {
   "cell_type": "code",
   "execution_count": 5,
   "metadata": {},
   "outputs": [
    {
     "name": "stdout",
     "output_type": "stream",
     "text": [
      "querying date 2020-04-27 00:00:00 with lang=['en'], loc=['fl']\n",
      "getting ngrams n=2\n",
      "querying date 2020-04-28 00:00:00 with lang=['en'], loc=['fl']\n",
      "getting ngrams n=2\n",
      "querying date 2020-04-29 00:00:00 with lang=['en'], loc=['fl']\n",
      "getting ngrams n=2\n",
      "querying date 2020-04-30 00:00:00 with lang=['en'], loc=['fl']\n",
      "getting ngrams n=2\n",
      "querying date 2020-05-01 00:00:00 with lang=['en'], loc=['fl']\n",
      "getting ngrams n=2\n",
      "querying date 2020-05-02 00:00:00 with lang=['en'], loc=['fl']\n",
      "getting ngrams n=2\n",
      "querying date 2020-05-03 00:00:00 with lang=['en'], loc=['fl']\n",
      "getting ngrams n=2\n"
     ]
    }
   ],
   "source": [
    "start = datetime(year=2020, month=4, day=27)\n",
    "end = datetime(year=2020, month=5, day=3)\n",
    "df = days_to_df(lang=['en'], geo=['fl'], start_date=start, end_date=end, metric=2, top_n=10)"
   ]
  },
  {
   "cell_type": "markdown",
   "metadata": {},
   "source": [
    "We can view a snapshot of the data by examining the dataframe. Note that each row corresponds to a day and each column corresponds to a popular bigram. The value in each cell denotes the number of occurrences of that bigram."
   ]
  },
  {
   "cell_type": "code",
   "execution_count": 7,
   "metadata": {},
   "outputs": [
    {
     "data": {
      "text/html": [
       "<div>\n",
       "<style scoped>\n",
       "    .dataframe tbody tr th:only-of-type {\n",
       "        vertical-align: middle;\n",
       "    }\n",
       "\n",
       "    .dataframe tbody tr th {\n",
       "        vertical-align: top;\n",
       "    }\n",
       "\n",
       "    .dataframe thead th {\n",
       "        text-align: right;\n",
       "    }\n",
       "</style>\n",
       "<table border=\"1\" class=\"dataframe\">\n",
       "  <thead>\n",
       "    <tr style=\"text-align: right;\">\n",
       "      <th></th>\n",
       "      <th>covid pandemic</th>\n",
       "      <th>home values</th>\n",
       "      <th>covid home</th>\n",
       "      <th>impact might</th>\n",
       "      <th>might covid</th>\n",
       "      <th>covid testing</th>\n",
       "      <th>covid patients</th>\n",
       "      <th>due covid</th>\n",
       "      <th>south florida</th>\n",
       "      <th>covid crisis</th>\n",
       "      <th>...</th>\n",
       "      <th>western intel</th>\n",
       "      <th>dossier reveals</th>\n",
       "      <th>response covid</th>\n",
       "      <th>may day</th>\n",
       "      <th>day global</th>\n",
       "      <th>global action</th>\n",
       "      <th>action giving</th>\n",
       "      <th>giving unity</th>\n",
       "      <th>unity response</th>\n",
       "      <th>covid jorge</th>\n",
       "    </tr>\n",
       "  </thead>\n",
       "  <tbody>\n",
       "    <tr>\n",
       "      <th>0</th>\n",
       "      <td>37</td>\n",
       "      <td>31.0</td>\n",
       "      <td>30.0</td>\n",
       "      <td>29.0</td>\n",
       "      <td>29.0</td>\n",
       "      <td>21.0</td>\n",
       "      <td>19.0</td>\n",
       "      <td>19.0</td>\n",
       "      <td>16.0</td>\n",
       "      <td>16.0</td>\n",
       "      <td>...</td>\n",
       "      <td>0.0</td>\n",
       "      <td>0.0</td>\n",
       "      <td>0.0</td>\n",
       "      <td>0.0</td>\n",
       "      <td>0.0</td>\n",
       "      <td>0.0</td>\n",
       "      <td>0.0</td>\n",
       "      <td>0.0</td>\n",
       "      <td>0.0</td>\n",
       "      <td>0.0</td>\n",
       "    </tr>\n",
       "    <tr>\n",
       "      <th>1</th>\n",
       "      <td>45</td>\n",
       "      <td>0.0</td>\n",
       "      <td>0.0</td>\n",
       "      <td>0.0</td>\n",
       "      <td>0.0</td>\n",
       "      <td>22.0</td>\n",
       "      <td>12.0</td>\n",
       "      <td>0.0</td>\n",
       "      <td>16.0</td>\n",
       "      <td>16.0</td>\n",
       "      <td>...</td>\n",
       "      <td>0.0</td>\n",
       "      <td>0.0</td>\n",
       "      <td>0.0</td>\n",
       "      <td>0.0</td>\n",
       "      <td>0.0</td>\n",
       "      <td>0.0</td>\n",
       "      <td>0.0</td>\n",
       "      <td>0.0</td>\n",
       "      <td>0.0</td>\n",
       "      <td>0.0</td>\n",
       "    </tr>\n",
       "    <tr>\n",
       "      <th>2</th>\n",
       "      <td>42</td>\n",
       "      <td>0.0</td>\n",
       "      <td>0.0</td>\n",
       "      <td>0.0</td>\n",
       "      <td>0.0</td>\n",
       "      <td>16.0</td>\n",
       "      <td>20.0</td>\n",
       "      <td>26.0</td>\n",
       "      <td>14.0</td>\n",
       "      <td>20.0</td>\n",
       "      <td>...</td>\n",
       "      <td>0.0</td>\n",
       "      <td>0.0</td>\n",
       "      <td>0.0</td>\n",
       "      <td>0.0</td>\n",
       "      <td>0.0</td>\n",
       "      <td>0.0</td>\n",
       "      <td>0.0</td>\n",
       "      <td>0.0</td>\n",
       "      <td>0.0</td>\n",
       "      <td>0.0</td>\n",
       "    </tr>\n",
       "    <tr>\n",
       "      <th>3</th>\n",
       "      <td>41</td>\n",
       "      <td>0.0</td>\n",
       "      <td>0.0</td>\n",
       "      <td>0.0</td>\n",
       "      <td>0.0</td>\n",
       "      <td>0.0</td>\n",
       "      <td>0.0</td>\n",
       "      <td>17.0</td>\n",
       "      <td>14.0</td>\n",
       "      <td>20.0</td>\n",
       "      <td>...</td>\n",
       "      <td>0.0</td>\n",
       "      <td>0.0</td>\n",
       "      <td>0.0</td>\n",
       "      <td>0.0</td>\n",
       "      <td>0.0</td>\n",
       "      <td>0.0</td>\n",
       "      <td>0.0</td>\n",
       "      <td>0.0</td>\n",
       "      <td>0.0</td>\n",
       "      <td>0.0</td>\n",
       "    </tr>\n",
       "    <tr>\n",
       "      <th>4</th>\n",
       "      <td>48</td>\n",
       "      <td>0.0</td>\n",
       "      <td>0.0</td>\n",
       "      <td>0.0</td>\n",
       "      <td>0.0</td>\n",
       "      <td>11.0</td>\n",
       "      <td>25.0</td>\n",
       "      <td>21.0</td>\n",
       "      <td>14.0</td>\n",
       "      <td>14.0</td>\n",
       "      <td>...</td>\n",
       "      <td>0.0</td>\n",
       "      <td>0.0</td>\n",
       "      <td>0.0</td>\n",
       "      <td>0.0</td>\n",
       "      <td>0.0</td>\n",
       "      <td>0.0</td>\n",
       "      <td>0.0</td>\n",
       "      <td>0.0</td>\n",
       "      <td>0.0</td>\n",
       "      <td>0.0</td>\n",
       "    </tr>\n",
       "    <tr>\n",
       "      <th>5</th>\n",
       "      <td>16</td>\n",
       "      <td>0.0</td>\n",
       "      <td>0.0</td>\n",
       "      <td>0.0</td>\n",
       "      <td>0.0</td>\n",
       "      <td>8.0</td>\n",
       "      <td>15.0</td>\n",
       "      <td>16.0</td>\n",
       "      <td>0.0</td>\n",
       "      <td>0.0</td>\n",
       "      <td>...</td>\n",
       "      <td>8.0</td>\n",
       "      <td>8.0</td>\n",
       "      <td>0.0</td>\n",
       "      <td>0.0</td>\n",
       "      <td>0.0</td>\n",
       "      <td>0.0</td>\n",
       "      <td>0.0</td>\n",
       "      <td>0.0</td>\n",
       "      <td>0.0</td>\n",
       "      <td>0.0</td>\n",
       "    </tr>\n",
       "    <tr>\n",
       "      <th>6</th>\n",
       "      <td>15</td>\n",
       "      <td>0.0</td>\n",
       "      <td>0.0</td>\n",
       "      <td>0.0</td>\n",
       "      <td>0.0</td>\n",
       "      <td>0.0</td>\n",
       "      <td>0.0</td>\n",
       "      <td>0.0</td>\n",
       "      <td>0.0</td>\n",
       "      <td>0.0</td>\n",
       "      <td>...</td>\n",
       "      <td>0.0</td>\n",
       "      <td>0.0</td>\n",
       "      <td>13.0</td>\n",
       "      <td>12.0</td>\n",
       "      <td>12.0</td>\n",
       "      <td>12.0</td>\n",
       "      <td>12.0</td>\n",
       "      <td>12.0</td>\n",
       "      <td>12.0</td>\n",
       "      <td>12.0</td>\n",
       "    </tr>\n",
       "  </tbody>\n",
       "</table>\n",
       "<p>7 rows × 38 columns</p>\n",
       "</div>"
      ],
      "text/plain": [
       "   covid pandemic  home values  covid home  impact might  might covid  \\\n",
       "0              37         31.0        30.0          29.0         29.0   \n",
       "1              45          0.0         0.0           0.0          0.0   \n",
       "2              42          0.0         0.0           0.0          0.0   \n",
       "3              41          0.0         0.0           0.0          0.0   \n",
       "4              48          0.0         0.0           0.0          0.0   \n",
       "5              16          0.0         0.0           0.0          0.0   \n",
       "6              15          0.0         0.0           0.0          0.0   \n",
       "\n",
       "   covid testing  covid patients  due covid  south florida  covid crisis  ...  \\\n",
       "0           21.0            19.0       19.0           16.0          16.0  ...   \n",
       "1           22.0            12.0        0.0           16.0          16.0  ...   \n",
       "2           16.0            20.0       26.0           14.0          20.0  ...   \n",
       "3            0.0             0.0       17.0           14.0          20.0  ...   \n",
       "4           11.0            25.0       21.0           14.0          14.0  ...   \n",
       "5            8.0            15.0       16.0            0.0           0.0  ...   \n",
       "6            0.0             0.0        0.0            0.0           0.0  ...   \n",
       "\n",
       "  western intel  dossier reveals  response covid  may day  day global  \\\n",
       "0           0.0              0.0             0.0      0.0         0.0   \n",
       "1           0.0              0.0             0.0      0.0         0.0   \n",
       "2           0.0              0.0             0.0      0.0         0.0   \n",
       "3           0.0              0.0             0.0      0.0         0.0   \n",
       "4           0.0              0.0             0.0      0.0         0.0   \n",
       "5           8.0              8.0             0.0      0.0         0.0   \n",
       "6           0.0              0.0            13.0     12.0        12.0   \n",
       "\n",
       "   global action  action giving  giving unity  unity response  covid jorge  \n",
       "0            0.0            0.0           0.0             0.0          0.0  \n",
       "1            0.0            0.0           0.0             0.0          0.0  \n",
       "2            0.0            0.0           0.0             0.0          0.0  \n",
       "3            0.0            0.0           0.0             0.0          0.0  \n",
       "4            0.0            0.0           0.0             0.0          0.0  \n",
       "5            0.0            0.0           0.0             0.0          0.0  \n",
       "6           12.0           12.0          12.0            12.0         12.0  \n",
       "\n",
       "[7 rows x 38 columns]"
      ]
     },
     "execution_count": 7,
     "metadata": {},
     "output_type": "execute_result"
    }
   ],
   "source": [
    "df"
   ]
  },
  {
   "cell_type": "markdown",
   "metadata": {},
   "source": [
    "## 2. Bar Chat Race \n",
    "\n",
    "Now comes the fun part :-) Using the returned dataframe, we can visualize how the top bigrams change over the course of the week. We pass in the variable *df* to a function *get_bar_race_plot()* (the details of which are in the bar_race module on GitHub), and obtain an interactive plot using __plotly__."
   ]
  },
  {
   "cell_type": "code",
   "execution_count": 8,
   "metadata": {},
   "outputs": [
    {
     "data": {
      "application/vnd.plotly.v1+json": {
       "config": {
        "plotlyServerURL": "https://plot.ly"
       },
       "data": [
        {
         "cliponaxis": false,
         "hoverinfo": "none",
         "marker": {
          "color": [
           "rgb(143, 95, 165)",
           "rgb(91, 57, 194)",
           "rgb(27, 101, 211)",
           "rgb(95, 78, 156)",
           "rgb(61, 168, 130)",
           "rgb(94, 106, 203)",
           "rgb(166, 90, 221)",
           "rgb(114, 63, 216)",
           "rgb(12, 42, 213)",
           "rgb(81, 23, 169)",
           "rgb(33, 121, 212)",
           "rgb(47, 155, 197)",
           "rgb(138, 0, 174)",
           "rgb(172, 60, 205)",
           "rgb(67, 182, 234)",
           "rgb(118, 97, 157)",
           "rgb(124, 182, 158)",
           "rgb(170, 62, 225)",
           "rgb(163, 28, 214)",
           "rgb(59, 7, 176)",
           "rgb(116, 17, 143)",
           "rgb(150, 111, 205)",
           "rgb(92, 173, 180)",
           "rgb(68, 43, 203)",
           "rgb(14, 84, 142)",
           "rgb(70, 176, 219)",
           "rgb(64, 150, 223)",
           "rgb(181, 106, 147)",
           "rgb(110, 139, 221)",
           "rgb(160, 80, 247)",
           "rgb(57, 105, 190)",
           "rgb(102, 117, 193)",
           "rgb(18, 25, 239)",
           "rgb(30, 168, 158)",
           "rgb(83, 107, 163)",
           "rgb(59, 63, 184)",
           "rgb(19, 4, 247)"
          ]
         },
         "textposition": "outside",
         "texttemplate": "%{x}<br>%{y}",
         "type": "bar",
         "x": [
          "covid pandemic",
          "home values",
          "covid home",
          "impact might",
          "might covid",
          "covid testing",
          "covid patients",
          "due covid",
          "south florida",
          "covid crisis",
          "covid cases",
          "positive covid",
          "social distancing",
          "covid update",
          "post covid",
          "fight covid",
          "join us",
          "covid free",
          "credit report",
          "report available",
          "free annual",
          "annual credit",
          "available weekly",
          "covid deaths",
          "intel dossier",
          "deceived world",
          "leaked western",
          "western intel",
          "dossier reveals",
          "response covid",
          "may day",
          "day global",
          "global action",
          "action giving",
          "giving unity",
          "unity response",
          "covid jorge"
         ],
         "y": [
          37,
          31,
          30,
          29,
          29,
          21,
          19,
          19,
          16,
          16,
          0,
          0,
          0,
          0,
          0,
          0,
          0,
          0,
          0,
          0,
          0,
          0,
          0,
          0,
          0,
          0,
          0,
          0,
          0,
          0,
          0,
          0,
          0,
          0,
          0,
          0,
          0
         ]
        }
       ],
       "frames": [
        {
         "data": [
          {
           "cliponaxis": false,
           "hoverinfo": "none",
           "marker": {
            "color": [
             "rgb(143, 95, 165)",
             "rgb(91, 57, 194)",
             "rgb(27, 101, 211)",
             "rgb(95, 78, 156)",
             "rgb(61, 168, 130)",
             "rgb(94, 106, 203)",
             "rgb(166, 90, 221)",
             "rgb(114, 63, 216)",
             "rgb(12, 42, 213)",
             "rgb(81, 23, 169)",
             "rgb(33, 121, 212)",
             "rgb(47, 155, 197)",
             "rgb(138, 0, 174)",
             "rgb(172, 60, 205)",
             "rgb(67, 182, 234)",
             "rgb(118, 97, 157)",
             "rgb(124, 182, 158)",
             "rgb(170, 62, 225)",
             "rgb(163, 28, 214)",
             "rgb(59, 7, 176)",
             "rgb(116, 17, 143)",
             "rgb(150, 111, 205)",
             "rgb(92, 173, 180)",
             "rgb(68, 43, 203)",
             "rgb(14, 84, 142)",
             "rgb(70, 176, 219)",
             "rgb(64, 150, 223)",
             "rgb(181, 106, 147)",
             "rgb(110, 139, 221)",
             "rgb(160, 80, 247)",
             "rgb(57, 105, 190)",
             "rgb(102, 117, 193)",
             "rgb(18, 25, 239)",
             "rgb(30, 168, 158)",
             "rgb(83, 107, 163)",
             "rgb(59, 63, 184)",
             "rgb(19, 4, 247)"
            ]
           },
           "textposition": "outside",
           "texttemplate": "%{x}<br>%{y}",
           "type": "bar",
           "x": [
            "covid pandemic",
            "home values",
            "covid home",
            "impact might",
            "might covid",
            "covid testing",
            "covid patients",
            "due covid",
            "south florida",
            "covid crisis",
            "covid cases",
            "positive covid",
            "social distancing",
            "covid update",
            "post covid",
            "fight covid",
            "join us",
            "covid free",
            "credit report",
            "report available",
            "free annual",
            "annual credit",
            "available weekly",
            "covid deaths",
            "intel dossier",
            "deceived world",
            "leaked western",
            "western intel",
            "dossier reveals",
            "response covid",
            "may day",
            "day global",
            "global action",
            "action giving",
            "giving unity",
            "unity response",
            "covid jorge"
           ],
           "y": [
            37,
            31,
            30,
            29,
            29,
            21,
            19,
            19,
            16,
            16,
            0,
            0,
            0,
            0,
            0,
            0,
            0,
            0,
            0,
            0,
            0,
            0,
            0,
            0,
            0,
            0,
            0,
            0,
            0,
            0,
            0,
            0,
            0,
            0,
            0,
            0,
            0
           ]
          }
         ],
         "layout": {
          "bargap": 0.15,
          "font": {
           "size": 14
          },
          "plot_bgcolor": "#FFFFFF",
          "title": {
           "text": "COVID-19 top bigrams of 2020-04-27 00:00:00"
          },
          "xaxis": {
           "showline": false,
           "visible": false
          },
          "yaxis": {
           "showline": false,
           "visible": false
          }
         }
        },
        {
         "data": [
          {
           "cliponaxis": false,
           "hoverinfo": "none",
           "marker": {
            "color": [
             "rgb(143, 95, 165)",
             "rgb(91, 57, 194)",
             "rgb(27, 101, 211)",
             "rgb(95, 78, 156)",
             "rgb(61, 168, 130)",
             "rgb(94, 106, 203)",
             "rgb(166, 90, 221)",
             "rgb(114, 63, 216)",
             "rgb(12, 42, 213)",
             "rgb(81, 23, 169)",
             "rgb(33, 121, 212)",
             "rgb(47, 155, 197)",
             "rgb(138, 0, 174)",
             "rgb(172, 60, 205)",
             "rgb(67, 182, 234)",
             "rgb(118, 97, 157)",
             "rgb(124, 182, 158)",
             "rgb(170, 62, 225)",
             "rgb(163, 28, 214)",
             "rgb(59, 7, 176)",
             "rgb(116, 17, 143)",
             "rgb(150, 111, 205)",
             "rgb(92, 173, 180)",
             "rgb(68, 43, 203)",
             "rgb(14, 84, 142)",
             "rgb(70, 176, 219)",
             "rgb(64, 150, 223)",
             "rgb(181, 106, 147)",
             "rgb(110, 139, 221)",
             "rgb(160, 80, 247)",
             "rgb(57, 105, 190)",
             "rgb(102, 117, 193)",
             "rgb(18, 25, 239)",
             "rgb(30, 168, 158)",
             "rgb(83, 107, 163)",
             "rgb(59, 63, 184)",
             "rgb(19, 4, 247)"
            ]
           },
           "textposition": "outside",
           "texttemplate": "%{x}<br>%{y}",
           "type": "bar",
           "x": [
            "covid pandemic",
            "home values",
            "covid home",
            "impact might",
            "might covid",
            "covid testing",
            "covid patients",
            "due covid",
            "south florida",
            "covid crisis",
            "covid cases",
            "positive covid",
            "social distancing",
            "covid update",
            "post covid",
            "fight covid",
            "join us",
            "covid free",
            "credit report",
            "report available",
            "free annual",
            "annual credit",
            "available weekly",
            "covid deaths",
            "intel dossier",
            "deceived world",
            "leaked western",
            "western intel",
            "dossier reveals",
            "response covid",
            "may day",
            "day global",
            "global action",
            "action giving",
            "giving unity",
            "unity response",
            "covid jorge"
           ],
           "y": [
            45,
            0,
            0,
            0,
            0,
            22,
            12,
            0,
            16,
            16,
            24,
            12,
            12,
            10,
            10,
            0,
            0,
            0,
            0,
            0,
            0,
            0,
            0,
            0,
            0,
            0,
            0,
            0,
            0,
            0,
            0,
            0,
            0,
            0,
            0,
            0,
            0
           ]
          }
         ],
         "layout": {
          "bargap": 0.15,
          "font": {
           "size": 14
          },
          "plot_bgcolor": "#FFFFFF",
          "title": {
           "text": "COVID-19 top bigrams of 2020-04-28 00:00:00"
          },
          "xaxis": {
           "showline": false,
           "visible": false
          },
          "yaxis": {
           "showline": false,
           "visible": false
          }
         }
        },
        {
         "data": [
          {
           "cliponaxis": false,
           "hoverinfo": "none",
           "marker": {
            "color": [
             "rgb(143, 95, 165)",
             "rgb(91, 57, 194)",
             "rgb(27, 101, 211)",
             "rgb(95, 78, 156)",
             "rgb(61, 168, 130)",
             "rgb(94, 106, 203)",
             "rgb(166, 90, 221)",
             "rgb(114, 63, 216)",
             "rgb(12, 42, 213)",
             "rgb(81, 23, 169)",
             "rgb(33, 121, 212)",
             "rgb(47, 155, 197)",
             "rgb(138, 0, 174)",
             "rgb(172, 60, 205)",
             "rgb(67, 182, 234)",
             "rgb(118, 97, 157)",
             "rgb(124, 182, 158)",
             "rgb(170, 62, 225)",
             "rgb(163, 28, 214)",
             "rgb(59, 7, 176)",
             "rgb(116, 17, 143)",
             "rgb(150, 111, 205)",
             "rgb(92, 173, 180)",
             "rgb(68, 43, 203)",
             "rgb(14, 84, 142)",
             "rgb(70, 176, 219)",
             "rgb(64, 150, 223)",
             "rgb(181, 106, 147)",
             "rgb(110, 139, 221)",
             "rgb(160, 80, 247)",
             "rgb(57, 105, 190)",
             "rgb(102, 117, 193)",
             "rgb(18, 25, 239)",
             "rgb(30, 168, 158)",
             "rgb(83, 107, 163)",
             "rgb(59, 63, 184)",
             "rgb(19, 4, 247)"
            ]
           },
           "textposition": "outside",
           "texttemplate": "%{x}<br>%{y}",
           "type": "bar",
           "x": [
            "covid pandemic",
            "home values",
            "covid home",
            "impact might",
            "might covid",
            "covid testing",
            "covid patients",
            "due covid",
            "south florida",
            "covid crisis",
            "covid cases",
            "positive covid",
            "social distancing",
            "covid update",
            "post covid",
            "fight covid",
            "join us",
            "covid free",
            "credit report",
            "report available",
            "free annual",
            "annual credit",
            "available weekly",
            "covid deaths",
            "intel dossier",
            "deceived world",
            "leaked western",
            "western intel",
            "dossier reveals",
            "response covid",
            "may day",
            "day global",
            "global action",
            "action giving",
            "giving unity",
            "unity response",
            "covid jorge"
           ],
           "y": [
            42,
            0,
            0,
            0,
            0,
            16,
            20,
            26,
            14,
            20,
            15,
            11,
            0,
            0,
            0,
            14,
            11,
            0,
            0,
            0,
            0,
            0,
            0,
            0,
            0,
            0,
            0,
            0,
            0,
            0,
            0,
            0,
            0,
            0,
            0,
            0,
            0
           ]
          }
         ],
         "layout": {
          "bargap": 0.15,
          "font": {
           "size": 14
          },
          "plot_bgcolor": "#FFFFFF",
          "title": {
           "text": "COVID-19 top bigrams of 2020-04-29 00:00:00"
          },
          "xaxis": {
           "showline": false,
           "visible": false
          },
          "yaxis": {
           "showline": false,
           "visible": false
          }
         }
        },
        {
         "data": [
          {
           "cliponaxis": false,
           "hoverinfo": "none",
           "marker": {
            "color": [
             "rgb(143, 95, 165)",
             "rgb(91, 57, 194)",
             "rgb(27, 101, 211)",
             "rgb(95, 78, 156)",
             "rgb(61, 168, 130)",
             "rgb(94, 106, 203)",
             "rgb(166, 90, 221)",
             "rgb(114, 63, 216)",
             "rgb(12, 42, 213)",
             "rgb(81, 23, 169)",
             "rgb(33, 121, 212)",
             "rgb(47, 155, 197)",
             "rgb(138, 0, 174)",
             "rgb(172, 60, 205)",
             "rgb(67, 182, 234)",
             "rgb(118, 97, 157)",
             "rgb(124, 182, 158)",
             "rgb(170, 62, 225)",
             "rgb(163, 28, 214)",
             "rgb(59, 7, 176)",
             "rgb(116, 17, 143)",
             "rgb(150, 111, 205)",
             "rgb(92, 173, 180)",
             "rgb(68, 43, 203)",
             "rgb(14, 84, 142)",
             "rgb(70, 176, 219)",
             "rgb(64, 150, 223)",
             "rgb(181, 106, 147)",
             "rgb(110, 139, 221)",
             "rgb(160, 80, 247)",
             "rgb(57, 105, 190)",
             "rgb(102, 117, 193)",
             "rgb(18, 25, 239)",
             "rgb(30, 168, 158)",
             "rgb(83, 107, 163)",
             "rgb(59, 63, 184)",
             "rgb(19, 4, 247)"
            ]
           },
           "textposition": "outside",
           "texttemplate": "%{x}<br>%{y}",
           "type": "bar",
           "x": [
            "covid pandemic",
            "home values",
            "covid home",
            "impact might",
            "might covid",
            "covid testing",
            "covid patients",
            "due covid",
            "south florida",
            "covid crisis",
            "covid cases",
            "positive covid",
            "social distancing",
            "covid update",
            "post covid",
            "fight covid",
            "join us",
            "covid free",
            "credit report",
            "report available",
            "free annual",
            "annual credit",
            "available weekly",
            "covid deaths",
            "intel dossier",
            "deceived world",
            "leaked western",
            "western intel",
            "dossier reveals",
            "response covid",
            "may day",
            "day global",
            "global action",
            "action giving",
            "giving unity",
            "unity response",
            "covid jorge"
           ],
           "y": [
            41,
            0,
            0,
            0,
            0,
            0,
            0,
            17,
            14,
            20,
            0,
            0,
            0,
            0,
            0,
            0,
            0,
            23,
            23,
            23,
            22,
            22,
            22,
            0,
            0,
            0,
            0,
            0,
            0,
            0,
            0,
            0,
            0,
            0,
            0,
            0,
            0
           ]
          }
         ],
         "layout": {
          "bargap": 0.15,
          "font": {
           "size": 14
          },
          "plot_bgcolor": "#FFFFFF",
          "title": {
           "text": "COVID-19 top bigrams of 2020-04-30 00:00:00"
          },
          "xaxis": {
           "showline": false,
           "visible": false
          },
          "yaxis": {
           "showline": false,
           "visible": false
          }
         }
        },
        {
         "data": [
          {
           "cliponaxis": false,
           "hoverinfo": "none",
           "marker": {
            "color": [
             "rgb(143, 95, 165)",
             "rgb(91, 57, 194)",
             "rgb(27, 101, 211)",
             "rgb(95, 78, 156)",
             "rgb(61, 168, 130)",
             "rgb(94, 106, 203)",
             "rgb(166, 90, 221)",
             "rgb(114, 63, 216)",
             "rgb(12, 42, 213)",
             "rgb(81, 23, 169)",
             "rgb(33, 121, 212)",
             "rgb(47, 155, 197)",
             "rgb(138, 0, 174)",
             "rgb(172, 60, 205)",
             "rgb(67, 182, 234)",
             "rgb(118, 97, 157)",
             "rgb(124, 182, 158)",
             "rgb(170, 62, 225)",
             "rgb(163, 28, 214)",
             "rgb(59, 7, 176)",
             "rgb(116, 17, 143)",
             "rgb(150, 111, 205)",
             "rgb(92, 173, 180)",
             "rgb(68, 43, 203)",
             "rgb(14, 84, 142)",
             "rgb(70, 176, 219)",
             "rgb(64, 150, 223)",
             "rgb(181, 106, 147)",
             "rgb(110, 139, 221)",
             "rgb(160, 80, 247)",
             "rgb(57, 105, 190)",
             "rgb(102, 117, 193)",
             "rgb(18, 25, 239)",
             "rgb(30, 168, 158)",
             "rgb(83, 107, 163)",
             "rgb(59, 63, 184)",
             "rgb(19, 4, 247)"
            ]
           },
           "textposition": "outside",
           "texttemplate": "%{x}<br>%{y}",
           "type": "bar",
           "x": [
            "covid pandemic",
            "home values",
            "covid home",
            "impact might",
            "might covid",
            "covid testing",
            "covid patients",
            "due covid",
            "south florida",
            "covid crisis",
            "covid cases",
            "positive covid",
            "social distancing",
            "covid update",
            "post covid",
            "fight covid",
            "join us",
            "covid free",
            "credit report",
            "report available",
            "free annual",
            "annual credit",
            "available weekly",
            "covid deaths",
            "intel dossier",
            "deceived world",
            "leaked western",
            "western intel",
            "dossier reveals",
            "response covid",
            "may day",
            "day global",
            "global action",
            "action giving",
            "giving unity",
            "unity response",
            "covid jorge"
           ],
           "y": [
            48,
            0,
            0,
            0,
            0,
            11,
            25,
            21,
            14,
            14,
            13,
            11,
            9,
            0,
            0,
            0,
            0,
            0,
            0,
            0,
            0,
            0,
            0,
            11,
            0,
            0,
            0,
            0,
            0,
            0,
            0,
            0,
            0,
            0,
            0,
            0,
            0
           ]
          }
         ],
         "layout": {
          "bargap": 0.15,
          "font": {
           "size": 14
          },
          "plot_bgcolor": "#FFFFFF",
          "title": {
           "text": "COVID-19 top bigrams of 2020-05-01 00:00:00"
          },
          "xaxis": {
           "showline": false,
           "visible": false
          },
          "yaxis": {
           "showline": false,
           "visible": false
          }
         }
        },
        {
         "data": [
          {
           "cliponaxis": false,
           "hoverinfo": "none",
           "marker": {
            "color": [
             "rgb(143, 95, 165)",
             "rgb(91, 57, 194)",
             "rgb(27, 101, 211)",
             "rgb(95, 78, 156)",
             "rgb(61, 168, 130)",
             "rgb(94, 106, 203)",
             "rgb(166, 90, 221)",
             "rgb(114, 63, 216)",
             "rgb(12, 42, 213)",
             "rgb(81, 23, 169)",
             "rgb(33, 121, 212)",
             "rgb(47, 155, 197)",
             "rgb(138, 0, 174)",
             "rgb(172, 60, 205)",
             "rgb(67, 182, 234)",
             "rgb(118, 97, 157)",
             "rgb(124, 182, 158)",
             "rgb(170, 62, 225)",
             "rgb(163, 28, 214)",
             "rgb(59, 7, 176)",
             "rgb(116, 17, 143)",
             "rgb(150, 111, 205)",
             "rgb(92, 173, 180)",
             "rgb(68, 43, 203)",
             "rgb(14, 84, 142)",
             "rgb(70, 176, 219)",
             "rgb(64, 150, 223)",
             "rgb(181, 106, 147)",
             "rgb(110, 139, 221)",
             "rgb(160, 80, 247)",
             "rgb(57, 105, 190)",
             "rgb(102, 117, 193)",
             "rgb(18, 25, 239)",
             "rgb(30, 168, 158)",
             "rgb(83, 107, 163)",
             "rgb(59, 63, 184)",
             "rgb(19, 4, 247)"
            ]
           },
           "textposition": "outside",
           "texttemplate": "%{x}<br>%{y}",
           "type": "bar",
           "x": [
            "covid pandemic",
            "home values",
            "covid home",
            "impact might",
            "might covid",
            "covid testing",
            "covid patients",
            "due covid",
            "south florida",
            "covid crisis",
            "covid cases",
            "positive covid",
            "social distancing",
            "covid update",
            "post covid",
            "fight covid",
            "join us",
            "covid free",
            "credit report",
            "report available",
            "free annual",
            "annual credit",
            "available weekly",
            "covid deaths",
            "intel dossier",
            "deceived world",
            "leaked western",
            "western intel",
            "dossier reveals",
            "response covid",
            "may day",
            "day global",
            "global action",
            "action giving",
            "giving unity",
            "unity response",
            "covid jorge"
           ],
           "y": [
            16,
            0,
            0,
            0,
            0,
            8,
            15,
            16,
            0,
            0,
            0,
            0,
            0,
            0,
            0,
            0,
            0,
            0,
            0,
            0,
            0,
            0,
            0,
            8,
            9,
            9,
            8,
            8,
            8,
            0,
            0,
            0,
            0,
            0,
            0,
            0,
            0
           ]
          }
         ],
         "layout": {
          "bargap": 0.15,
          "font": {
           "size": 14
          },
          "plot_bgcolor": "#FFFFFF",
          "title": {
           "text": "COVID-19 top bigrams of 2020-05-02 00:00:00"
          },
          "xaxis": {
           "showline": false,
           "visible": false
          },
          "yaxis": {
           "showline": false,
           "visible": false
          }
         }
        },
        {
         "data": [
          {
           "cliponaxis": false,
           "hoverinfo": "none",
           "marker": {
            "color": [
             "rgb(143, 95, 165)",
             "rgb(91, 57, 194)",
             "rgb(27, 101, 211)",
             "rgb(95, 78, 156)",
             "rgb(61, 168, 130)",
             "rgb(94, 106, 203)",
             "rgb(166, 90, 221)",
             "rgb(114, 63, 216)",
             "rgb(12, 42, 213)",
             "rgb(81, 23, 169)",
             "rgb(33, 121, 212)",
             "rgb(47, 155, 197)",
             "rgb(138, 0, 174)",
             "rgb(172, 60, 205)",
             "rgb(67, 182, 234)",
             "rgb(118, 97, 157)",
             "rgb(124, 182, 158)",
             "rgb(170, 62, 225)",
             "rgb(163, 28, 214)",
             "rgb(59, 7, 176)",
             "rgb(116, 17, 143)",
             "rgb(150, 111, 205)",
             "rgb(92, 173, 180)",
             "rgb(68, 43, 203)",
             "rgb(14, 84, 142)",
             "rgb(70, 176, 219)",
             "rgb(64, 150, 223)",
             "rgb(181, 106, 147)",
             "rgb(110, 139, 221)",
             "rgb(160, 80, 247)",
             "rgb(57, 105, 190)",
             "rgb(102, 117, 193)",
             "rgb(18, 25, 239)",
             "rgb(30, 168, 158)",
             "rgb(83, 107, 163)",
             "rgb(59, 63, 184)",
             "rgb(19, 4, 247)"
            ]
           },
           "textposition": "outside",
           "texttemplate": "%{x}<br>%{y}",
           "type": "bar",
           "x": [
            "covid pandemic",
            "home values",
            "covid home",
            "impact might",
            "might covid",
            "covid testing",
            "covid patients",
            "due covid",
            "south florida",
            "covid crisis",
            "covid cases",
            "positive covid",
            "social distancing",
            "covid update",
            "post covid",
            "fight covid",
            "join us",
            "covid free",
            "credit report",
            "report available",
            "free annual",
            "annual credit",
            "available weekly",
            "covid deaths",
            "intel dossier",
            "deceived world",
            "leaked western",
            "western intel",
            "dossier reveals",
            "response covid",
            "may day",
            "day global",
            "global action",
            "action giving",
            "giving unity",
            "unity response",
            "covid jorge"
           ],
           "y": [
            15,
            0,
            0,
            0,
            0,
            0,
            0,
            0,
            0,
            0,
            16,
            0,
            0,
            0,
            0,
            0,
            0,
            0,
            0,
            0,
            0,
            0,
            0,
            0,
            0,
            0,
            0,
            0,
            0,
            13,
            12,
            12,
            12,
            12,
            12,
            12,
            12
           ]
          }
         ],
         "layout": {
          "bargap": 0.15,
          "font": {
           "size": 14
          },
          "plot_bgcolor": "#FFFFFF",
          "title": {
           "text": "COVID-19 top bigrams of 2020-05-03 00:00:00"
          },
          "xaxis": {
           "showline": false,
           "visible": false
          },
          "yaxis": {
           "showline": false,
           "visible": false
          }
         }
        }
       ],
       "layout": {
        "bargap": 0.15,
        "font": {
         "size": 14
        },
        "plot_bgcolor": "#FFFFFF",
        "template": {
         "data": {
          "bar": [
           {
            "error_x": {
             "color": "#2a3f5f"
            },
            "error_y": {
             "color": "#2a3f5f"
            },
            "marker": {
             "line": {
              "color": "#E5ECF6",
              "width": 0.5
             }
            },
            "type": "bar"
           }
          ],
          "barpolar": [
           {
            "marker": {
             "line": {
              "color": "#E5ECF6",
              "width": 0.5
             }
            },
            "type": "barpolar"
           }
          ],
          "carpet": [
           {
            "aaxis": {
             "endlinecolor": "#2a3f5f",
             "gridcolor": "white",
             "linecolor": "white",
             "minorgridcolor": "white",
             "startlinecolor": "#2a3f5f"
            },
            "baxis": {
             "endlinecolor": "#2a3f5f",
             "gridcolor": "white",
             "linecolor": "white",
             "minorgridcolor": "white",
             "startlinecolor": "#2a3f5f"
            },
            "type": "carpet"
           }
          ],
          "choropleth": [
           {
            "colorbar": {
             "outlinewidth": 0,
             "ticks": ""
            },
            "type": "choropleth"
           }
          ],
          "contour": [
           {
            "colorbar": {
             "outlinewidth": 0,
             "ticks": ""
            },
            "colorscale": [
             [
              0,
              "#0d0887"
             ],
             [
              0.1111111111111111,
              "#46039f"
             ],
             [
              0.2222222222222222,
              "#7201a8"
             ],
             [
              0.3333333333333333,
              "#9c179e"
             ],
             [
              0.4444444444444444,
              "#bd3786"
             ],
             [
              0.5555555555555556,
              "#d8576b"
             ],
             [
              0.6666666666666666,
              "#ed7953"
             ],
             [
              0.7777777777777778,
              "#fb9f3a"
             ],
             [
              0.8888888888888888,
              "#fdca26"
             ],
             [
              1,
              "#f0f921"
             ]
            ],
            "type": "contour"
           }
          ],
          "contourcarpet": [
           {
            "colorbar": {
             "outlinewidth": 0,
             "ticks": ""
            },
            "type": "contourcarpet"
           }
          ],
          "heatmap": [
           {
            "colorbar": {
             "outlinewidth": 0,
             "ticks": ""
            },
            "colorscale": [
             [
              0,
              "#0d0887"
             ],
             [
              0.1111111111111111,
              "#46039f"
             ],
             [
              0.2222222222222222,
              "#7201a8"
             ],
             [
              0.3333333333333333,
              "#9c179e"
             ],
             [
              0.4444444444444444,
              "#bd3786"
             ],
             [
              0.5555555555555556,
              "#d8576b"
             ],
             [
              0.6666666666666666,
              "#ed7953"
             ],
             [
              0.7777777777777778,
              "#fb9f3a"
             ],
             [
              0.8888888888888888,
              "#fdca26"
             ],
             [
              1,
              "#f0f921"
             ]
            ],
            "type": "heatmap"
           }
          ],
          "heatmapgl": [
           {
            "colorbar": {
             "outlinewidth": 0,
             "ticks": ""
            },
            "colorscale": [
             [
              0,
              "#0d0887"
             ],
             [
              0.1111111111111111,
              "#46039f"
             ],
             [
              0.2222222222222222,
              "#7201a8"
             ],
             [
              0.3333333333333333,
              "#9c179e"
             ],
             [
              0.4444444444444444,
              "#bd3786"
             ],
             [
              0.5555555555555556,
              "#d8576b"
             ],
             [
              0.6666666666666666,
              "#ed7953"
             ],
             [
              0.7777777777777778,
              "#fb9f3a"
             ],
             [
              0.8888888888888888,
              "#fdca26"
             ],
             [
              1,
              "#f0f921"
             ]
            ],
            "type": "heatmapgl"
           }
          ],
          "histogram": [
           {
            "marker": {
             "colorbar": {
              "outlinewidth": 0,
              "ticks": ""
             }
            },
            "type": "histogram"
           }
          ],
          "histogram2d": [
           {
            "colorbar": {
             "outlinewidth": 0,
             "ticks": ""
            },
            "colorscale": [
             [
              0,
              "#0d0887"
             ],
             [
              0.1111111111111111,
              "#46039f"
             ],
             [
              0.2222222222222222,
              "#7201a8"
             ],
             [
              0.3333333333333333,
              "#9c179e"
             ],
             [
              0.4444444444444444,
              "#bd3786"
             ],
             [
              0.5555555555555556,
              "#d8576b"
             ],
             [
              0.6666666666666666,
              "#ed7953"
             ],
             [
              0.7777777777777778,
              "#fb9f3a"
             ],
             [
              0.8888888888888888,
              "#fdca26"
             ],
             [
              1,
              "#f0f921"
             ]
            ],
            "type": "histogram2d"
           }
          ],
          "histogram2dcontour": [
           {
            "colorbar": {
             "outlinewidth": 0,
             "ticks": ""
            },
            "colorscale": [
             [
              0,
              "#0d0887"
             ],
             [
              0.1111111111111111,
              "#46039f"
             ],
             [
              0.2222222222222222,
              "#7201a8"
             ],
             [
              0.3333333333333333,
              "#9c179e"
             ],
             [
              0.4444444444444444,
              "#bd3786"
             ],
             [
              0.5555555555555556,
              "#d8576b"
             ],
             [
              0.6666666666666666,
              "#ed7953"
             ],
             [
              0.7777777777777778,
              "#fb9f3a"
             ],
             [
              0.8888888888888888,
              "#fdca26"
             ],
             [
              1,
              "#f0f921"
             ]
            ],
            "type": "histogram2dcontour"
           }
          ],
          "mesh3d": [
           {
            "colorbar": {
             "outlinewidth": 0,
             "ticks": ""
            },
            "type": "mesh3d"
           }
          ],
          "parcoords": [
           {
            "line": {
             "colorbar": {
              "outlinewidth": 0,
              "ticks": ""
             }
            },
            "type": "parcoords"
           }
          ],
          "pie": [
           {
            "automargin": true,
            "type": "pie"
           }
          ],
          "scatter": [
           {
            "marker": {
             "colorbar": {
              "outlinewidth": 0,
              "ticks": ""
             }
            },
            "type": "scatter"
           }
          ],
          "scatter3d": [
           {
            "line": {
             "colorbar": {
              "outlinewidth": 0,
              "ticks": ""
             }
            },
            "marker": {
             "colorbar": {
              "outlinewidth": 0,
              "ticks": ""
             }
            },
            "type": "scatter3d"
           }
          ],
          "scattercarpet": [
           {
            "marker": {
             "colorbar": {
              "outlinewidth": 0,
              "ticks": ""
             }
            },
            "type": "scattercarpet"
           }
          ],
          "scattergeo": [
           {
            "marker": {
             "colorbar": {
              "outlinewidth": 0,
              "ticks": ""
             }
            },
            "type": "scattergeo"
           }
          ],
          "scattergl": [
           {
            "marker": {
             "colorbar": {
              "outlinewidth": 0,
              "ticks": ""
             }
            },
            "type": "scattergl"
           }
          ],
          "scattermapbox": [
           {
            "marker": {
             "colorbar": {
              "outlinewidth": 0,
              "ticks": ""
             }
            },
            "type": "scattermapbox"
           }
          ],
          "scatterpolar": [
           {
            "marker": {
             "colorbar": {
              "outlinewidth": 0,
              "ticks": ""
             }
            },
            "type": "scatterpolar"
           }
          ],
          "scatterpolargl": [
           {
            "marker": {
             "colorbar": {
              "outlinewidth": 0,
              "ticks": ""
             }
            },
            "type": "scatterpolargl"
           }
          ],
          "scatterternary": [
           {
            "marker": {
             "colorbar": {
              "outlinewidth": 0,
              "ticks": ""
             }
            },
            "type": "scatterternary"
           }
          ],
          "surface": [
           {
            "colorbar": {
             "outlinewidth": 0,
             "ticks": ""
            },
            "colorscale": [
             [
              0,
              "#0d0887"
             ],
             [
              0.1111111111111111,
              "#46039f"
             ],
             [
              0.2222222222222222,
              "#7201a8"
             ],
             [
              0.3333333333333333,
              "#9c179e"
             ],
             [
              0.4444444444444444,
              "#bd3786"
             ],
             [
              0.5555555555555556,
              "#d8576b"
             ],
             [
              0.6666666666666666,
              "#ed7953"
             ],
             [
              0.7777777777777778,
              "#fb9f3a"
             ],
             [
              0.8888888888888888,
              "#fdca26"
             ],
             [
              1,
              "#f0f921"
             ]
            ],
            "type": "surface"
           }
          ],
          "table": [
           {
            "cells": {
             "fill": {
              "color": "#EBF0F8"
             },
             "line": {
              "color": "white"
             }
            },
            "header": {
             "fill": {
              "color": "#C8D4E3"
             },
             "line": {
              "color": "white"
             }
            },
            "type": "table"
           }
          ]
         },
         "layout": {
          "annotationdefaults": {
           "arrowcolor": "#2a3f5f",
           "arrowhead": 0,
           "arrowwidth": 1
          },
          "coloraxis": {
           "colorbar": {
            "outlinewidth": 0,
            "ticks": ""
           }
          },
          "colorscale": {
           "diverging": [
            [
             0,
             "#8e0152"
            ],
            [
             0.1,
             "#c51b7d"
            ],
            [
             0.2,
             "#de77ae"
            ],
            [
             0.3,
             "#f1b6da"
            ],
            [
             0.4,
             "#fde0ef"
            ],
            [
             0.5,
             "#f7f7f7"
            ],
            [
             0.6,
             "#e6f5d0"
            ],
            [
             0.7,
             "#b8e186"
            ],
            [
             0.8,
             "#7fbc41"
            ],
            [
             0.9,
             "#4d9221"
            ],
            [
             1,
             "#276419"
            ]
           ],
           "sequential": [
            [
             0,
             "#0d0887"
            ],
            [
             0.1111111111111111,
             "#46039f"
            ],
            [
             0.2222222222222222,
             "#7201a8"
            ],
            [
             0.3333333333333333,
             "#9c179e"
            ],
            [
             0.4444444444444444,
             "#bd3786"
            ],
            [
             0.5555555555555556,
             "#d8576b"
            ],
            [
             0.6666666666666666,
             "#ed7953"
            ],
            [
             0.7777777777777778,
             "#fb9f3a"
            ],
            [
             0.8888888888888888,
             "#fdca26"
            ],
            [
             1,
             "#f0f921"
            ]
           ],
           "sequentialminus": [
            [
             0,
             "#0d0887"
            ],
            [
             0.1111111111111111,
             "#46039f"
            ],
            [
             0.2222222222222222,
             "#7201a8"
            ],
            [
             0.3333333333333333,
             "#9c179e"
            ],
            [
             0.4444444444444444,
             "#bd3786"
            ],
            [
             0.5555555555555556,
             "#d8576b"
            ],
            [
             0.6666666666666666,
             "#ed7953"
            ],
            [
             0.7777777777777778,
             "#fb9f3a"
            ],
            [
             0.8888888888888888,
             "#fdca26"
            ],
            [
             1,
             "#f0f921"
            ]
           ]
          },
          "colorway": [
           "#636efa",
           "#EF553B",
           "#00cc96",
           "#ab63fa",
           "#FFA15A",
           "#19d3f3",
           "#FF6692",
           "#B6E880",
           "#FF97FF",
           "#FECB52"
          ],
          "font": {
           "color": "#2a3f5f"
          },
          "geo": {
           "bgcolor": "white",
           "lakecolor": "white",
           "landcolor": "#E5ECF6",
           "showlakes": true,
           "showland": true,
           "subunitcolor": "white"
          },
          "hoverlabel": {
           "align": "left"
          },
          "hovermode": "closest",
          "mapbox": {
           "style": "light"
          },
          "paper_bgcolor": "white",
          "plot_bgcolor": "#E5ECF6",
          "polar": {
           "angularaxis": {
            "gridcolor": "white",
            "linecolor": "white",
            "ticks": ""
           },
           "bgcolor": "#E5ECF6",
           "radialaxis": {
            "gridcolor": "white",
            "linecolor": "white",
            "ticks": ""
           }
          },
          "scene": {
           "xaxis": {
            "backgroundcolor": "#E5ECF6",
            "gridcolor": "white",
            "gridwidth": 2,
            "linecolor": "white",
            "showbackground": true,
            "ticks": "",
            "zerolinecolor": "white"
           },
           "yaxis": {
            "backgroundcolor": "#E5ECF6",
            "gridcolor": "white",
            "gridwidth": 2,
            "linecolor": "white",
            "showbackground": true,
            "ticks": "",
            "zerolinecolor": "white"
           },
           "zaxis": {
            "backgroundcolor": "#E5ECF6",
            "gridcolor": "white",
            "gridwidth": 2,
            "linecolor": "white",
            "showbackground": true,
            "ticks": "",
            "zerolinecolor": "white"
           }
          },
          "shapedefaults": {
           "line": {
            "color": "#2a3f5f"
           }
          },
          "ternary": {
           "aaxis": {
            "gridcolor": "white",
            "linecolor": "white",
            "ticks": ""
           },
           "baxis": {
            "gridcolor": "white",
            "linecolor": "white",
            "ticks": ""
           },
           "bgcolor": "#E5ECF6",
           "caxis": {
            "gridcolor": "white",
            "linecolor": "white",
            "ticks": ""
           }
          },
          "title": {
           "x": 0.05
          },
          "xaxis": {
           "automargin": true,
           "gridcolor": "white",
           "linecolor": "white",
           "ticks": "",
           "title": {
            "standoff": 15
           },
           "zerolinecolor": "white",
           "zerolinewidth": 2
          },
          "yaxis": {
           "automargin": true,
           "gridcolor": "white",
           "linecolor": "white",
           "ticks": "",
           "title": {
            "standoff": 15
           },
           "zerolinecolor": "white",
           "zerolinewidth": 2
          }
         }
        },
        "title": {
         "text": "COVID-19 top bigrams of 2020-04-27 00:00:00"
        },
        "updatemenus": [
         {
          "buttons": [
           {
            "args": [
             null,
             {
              "frame": {
               "duration": 2000,
               "redraw": true
              },
              "fromcurrent": true
             }
            ],
            "label": "Play",
            "method": "animate"
           },
           {
            "args": [
             [
              null
             ],
             {
              "frame": {
               "duration": 0,
               "redraw": false
              },
              "mode": "immediate",
              "transition": {
               "duration": 0
              }
             }
            ],
            "label": "Stop",
            "method": "animate"
           }
          ],
          "type": "buttons"
         }
        ],
        "xaxis": {
         "showline": false,
         "visible": false
        },
        "yaxis": {
         "range": [
          0,
          48
         ],
         "showline": false,
         "visible": false
        }
       }
      },
      "text/html": [
       "<div>\n",
       "        \n",
       "        \n",
       "            <div id=\"6a9cf1dc-add2-4add-a25f-351c7096f215\" class=\"plotly-graph-div\" style=\"height:525px; width:100%;\"></div>\n",
       "            <script type=\"text/javascript\">\n",
       "                require([\"plotly\"], function(Plotly) {\n",
       "                    window.PLOTLYENV=window.PLOTLYENV || {};\n",
       "                    \n",
       "                if (document.getElementById(\"6a9cf1dc-add2-4add-a25f-351c7096f215\")) {\n",
       "                    Plotly.newPlot(\n",
       "                        '6a9cf1dc-add2-4add-a25f-351c7096f215',\n",
       "                        [{\"cliponaxis\": false, \"hoverinfo\": \"none\", \"marker\": {\"color\": [\"rgb(143, 95, 165)\", \"rgb(91, 57, 194)\", \"rgb(27, 101, 211)\", \"rgb(95, 78, 156)\", \"rgb(61, 168, 130)\", \"rgb(94, 106, 203)\", \"rgb(166, 90, 221)\", \"rgb(114, 63, 216)\", \"rgb(12, 42, 213)\", \"rgb(81, 23, 169)\", \"rgb(33, 121, 212)\", \"rgb(47, 155, 197)\", \"rgb(138, 0, 174)\", \"rgb(172, 60, 205)\", \"rgb(67, 182, 234)\", \"rgb(118, 97, 157)\", \"rgb(124, 182, 158)\", \"rgb(170, 62, 225)\", \"rgb(163, 28, 214)\", \"rgb(59, 7, 176)\", \"rgb(116, 17, 143)\", \"rgb(150, 111, 205)\", \"rgb(92, 173, 180)\", \"rgb(68, 43, 203)\", \"rgb(14, 84, 142)\", \"rgb(70, 176, 219)\", \"rgb(64, 150, 223)\", \"rgb(181, 106, 147)\", \"rgb(110, 139, 221)\", \"rgb(160, 80, 247)\", \"rgb(57, 105, 190)\", \"rgb(102, 117, 193)\", \"rgb(18, 25, 239)\", \"rgb(30, 168, 158)\", \"rgb(83, 107, 163)\", \"rgb(59, 63, 184)\", \"rgb(19, 4, 247)\"]}, \"textposition\": \"outside\", \"texttemplate\": \"%{x}<br>%{y}\", \"type\": \"bar\", \"x\": [\"covid pandemic\", \"home values\", \"covid home\", \"impact might\", \"might covid\", \"covid testing\", \"covid patients\", \"due covid\", \"south florida\", \"covid crisis\", \"covid cases\", \"positive covid\", \"social distancing\", \"covid update\", \"post covid\", \"fight covid\", \"join us\", \"covid free\", \"credit report\", \"report available\", \"free annual\", \"annual credit\", \"available weekly\", \"covid deaths\", \"intel dossier\", \"deceived world\", \"leaked western\", \"western intel\", \"dossier reveals\", \"response covid\", \"may day\", \"day global\", \"global action\", \"action giving\", \"giving unity\", \"unity response\", \"covid jorge\"], \"y\": [37.0, 31.0, 30.0, 29.0, 29.0, 21.0, 19.0, 19.0, 16.0, 16.0, 0.0, 0.0, 0.0, 0.0, 0.0, 0.0, 0.0, 0.0, 0.0, 0.0, 0.0, 0.0, 0.0, 0.0, 0.0, 0.0, 0.0, 0.0, 0.0, 0.0, 0.0, 0.0, 0.0, 0.0, 0.0, 0.0, 0.0]}],\n",
       "                        {\"bargap\": 0.15, \"font\": {\"size\": 14}, \"plot_bgcolor\": \"#FFFFFF\", \"template\": {\"data\": {\"bar\": [{\"error_x\": {\"color\": \"#2a3f5f\"}, \"error_y\": {\"color\": \"#2a3f5f\"}, \"marker\": {\"line\": {\"color\": \"#E5ECF6\", \"width\": 0.5}}, \"type\": \"bar\"}], \"barpolar\": [{\"marker\": {\"line\": {\"color\": \"#E5ECF6\", \"width\": 0.5}}, \"type\": \"barpolar\"}], \"carpet\": [{\"aaxis\": {\"endlinecolor\": \"#2a3f5f\", \"gridcolor\": \"white\", \"linecolor\": \"white\", \"minorgridcolor\": \"white\", \"startlinecolor\": \"#2a3f5f\"}, \"baxis\": {\"endlinecolor\": \"#2a3f5f\", \"gridcolor\": \"white\", \"linecolor\": \"white\", \"minorgridcolor\": \"white\", \"startlinecolor\": \"#2a3f5f\"}, \"type\": \"carpet\"}], \"choropleth\": [{\"colorbar\": {\"outlinewidth\": 0, \"ticks\": \"\"}, \"type\": \"choropleth\"}], \"contour\": [{\"colorbar\": {\"outlinewidth\": 0, \"ticks\": \"\"}, \"colorscale\": [[0.0, \"#0d0887\"], [0.1111111111111111, \"#46039f\"], [0.2222222222222222, \"#7201a8\"], [0.3333333333333333, \"#9c179e\"], [0.4444444444444444, \"#bd3786\"], [0.5555555555555556, \"#d8576b\"], [0.6666666666666666, \"#ed7953\"], [0.7777777777777778, \"#fb9f3a\"], [0.8888888888888888, \"#fdca26\"], [1.0, \"#f0f921\"]], \"type\": \"contour\"}], \"contourcarpet\": [{\"colorbar\": {\"outlinewidth\": 0, \"ticks\": \"\"}, \"type\": \"contourcarpet\"}], \"heatmap\": [{\"colorbar\": {\"outlinewidth\": 0, \"ticks\": \"\"}, \"colorscale\": [[0.0, \"#0d0887\"], [0.1111111111111111, \"#46039f\"], [0.2222222222222222, \"#7201a8\"], [0.3333333333333333, \"#9c179e\"], [0.4444444444444444, \"#bd3786\"], [0.5555555555555556, \"#d8576b\"], [0.6666666666666666, \"#ed7953\"], [0.7777777777777778, \"#fb9f3a\"], [0.8888888888888888, \"#fdca26\"], [1.0, \"#f0f921\"]], \"type\": \"heatmap\"}], \"heatmapgl\": [{\"colorbar\": {\"outlinewidth\": 0, \"ticks\": \"\"}, \"colorscale\": [[0.0, \"#0d0887\"], [0.1111111111111111, \"#46039f\"], [0.2222222222222222, \"#7201a8\"], [0.3333333333333333, \"#9c179e\"], [0.4444444444444444, \"#bd3786\"], [0.5555555555555556, \"#d8576b\"], [0.6666666666666666, \"#ed7953\"], [0.7777777777777778, \"#fb9f3a\"], [0.8888888888888888, \"#fdca26\"], [1.0, \"#f0f921\"]], \"type\": \"heatmapgl\"}], \"histogram\": [{\"marker\": {\"colorbar\": {\"outlinewidth\": 0, \"ticks\": \"\"}}, \"type\": \"histogram\"}], \"histogram2d\": [{\"colorbar\": {\"outlinewidth\": 0, \"ticks\": \"\"}, \"colorscale\": [[0.0, \"#0d0887\"], [0.1111111111111111, \"#46039f\"], [0.2222222222222222, \"#7201a8\"], [0.3333333333333333, \"#9c179e\"], [0.4444444444444444, \"#bd3786\"], [0.5555555555555556, \"#d8576b\"], [0.6666666666666666, \"#ed7953\"], [0.7777777777777778, \"#fb9f3a\"], [0.8888888888888888, \"#fdca26\"], [1.0, \"#f0f921\"]], \"type\": \"histogram2d\"}], \"histogram2dcontour\": [{\"colorbar\": {\"outlinewidth\": 0, \"ticks\": \"\"}, \"colorscale\": [[0.0, \"#0d0887\"], [0.1111111111111111, \"#46039f\"], [0.2222222222222222, \"#7201a8\"], [0.3333333333333333, \"#9c179e\"], [0.4444444444444444, \"#bd3786\"], [0.5555555555555556, \"#d8576b\"], [0.6666666666666666, \"#ed7953\"], [0.7777777777777778, \"#fb9f3a\"], [0.8888888888888888, \"#fdca26\"], [1.0, \"#f0f921\"]], \"type\": \"histogram2dcontour\"}], \"mesh3d\": [{\"colorbar\": {\"outlinewidth\": 0, \"ticks\": \"\"}, \"type\": \"mesh3d\"}], \"parcoords\": [{\"line\": {\"colorbar\": {\"outlinewidth\": 0, \"ticks\": \"\"}}, \"type\": \"parcoords\"}], \"pie\": [{\"automargin\": true, \"type\": \"pie\"}], \"scatter\": [{\"marker\": {\"colorbar\": {\"outlinewidth\": 0, \"ticks\": \"\"}}, \"type\": \"scatter\"}], \"scatter3d\": [{\"line\": {\"colorbar\": {\"outlinewidth\": 0, \"ticks\": \"\"}}, \"marker\": {\"colorbar\": {\"outlinewidth\": 0, \"ticks\": \"\"}}, \"type\": \"scatter3d\"}], \"scattercarpet\": [{\"marker\": {\"colorbar\": {\"outlinewidth\": 0, \"ticks\": \"\"}}, \"type\": \"scattercarpet\"}], \"scattergeo\": [{\"marker\": {\"colorbar\": {\"outlinewidth\": 0, \"ticks\": \"\"}}, \"type\": \"scattergeo\"}], \"scattergl\": [{\"marker\": {\"colorbar\": {\"outlinewidth\": 0, \"ticks\": \"\"}}, \"type\": \"scattergl\"}], \"scattermapbox\": [{\"marker\": {\"colorbar\": {\"outlinewidth\": 0, \"ticks\": \"\"}}, \"type\": \"scattermapbox\"}], \"scatterpolar\": [{\"marker\": {\"colorbar\": {\"outlinewidth\": 0, \"ticks\": \"\"}}, \"type\": \"scatterpolar\"}], \"scatterpolargl\": [{\"marker\": {\"colorbar\": {\"outlinewidth\": 0, \"ticks\": \"\"}}, \"type\": \"scatterpolargl\"}], \"scatterternary\": [{\"marker\": {\"colorbar\": {\"outlinewidth\": 0, \"ticks\": \"\"}}, \"type\": \"scatterternary\"}], \"surface\": [{\"colorbar\": {\"outlinewidth\": 0, \"ticks\": \"\"}, \"colorscale\": [[0.0, \"#0d0887\"], [0.1111111111111111, \"#46039f\"], [0.2222222222222222, \"#7201a8\"], [0.3333333333333333, \"#9c179e\"], [0.4444444444444444, \"#bd3786\"], [0.5555555555555556, \"#d8576b\"], [0.6666666666666666, \"#ed7953\"], [0.7777777777777778, \"#fb9f3a\"], [0.8888888888888888, \"#fdca26\"], [1.0, \"#f0f921\"]], \"type\": \"surface\"}], \"table\": [{\"cells\": {\"fill\": {\"color\": \"#EBF0F8\"}, \"line\": {\"color\": \"white\"}}, \"header\": {\"fill\": {\"color\": \"#C8D4E3\"}, \"line\": {\"color\": \"white\"}}, \"type\": \"table\"}]}, \"layout\": {\"annotationdefaults\": {\"arrowcolor\": \"#2a3f5f\", \"arrowhead\": 0, \"arrowwidth\": 1}, \"coloraxis\": {\"colorbar\": {\"outlinewidth\": 0, \"ticks\": \"\"}}, \"colorscale\": {\"diverging\": [[0, \"#8e0152\"], [0.1, \"#c51b7d\"], [0.2, \"#de77ae\"], [0.3, \"#f1b6da\"], [0.4, \"#fde0ef\"], [0.5, \"#f7f7f7\"], [0.6, \"#e6f5d0\"], [0.7, \"#b8e186\"], [0.8, \"#7fbc41\"], [0.9, \"#4d9221\"], [1, \"#276419\"]], \"sequential\": [[0.0, \"#0d0887\"], [0.1111111111111111, \"#46039f\"], [0.2222222222222222, \"#7201a8\"], [0.3333333333333333, \"#9c179e\"], [0.4444444444444444, \"#bd3786\"], [0.5555555555555556, \"#d8576b\"], [0.6666666666666666, \"#ed7953\"], [0.7777777777777778, \"#fb9f3a\"], [0.8888888888888888, \"#fdca26\"], [1.0, \"#f0f921\"]], \"sequentialminus\": [[0.0, \"#0d0887\"], [0.1111111111111111, \"#46039f\"], [0.2222222222222222, \"#7201a8\"], [0.3333333333333333, \"#9c179e\"], [0.4444444444444444, \"#bd3786\"], [0.5555555555555556, \"#d8576b\"], [0.6666666666666666, \"#ed7953\"], [0.7777777777777778, \"#fb9f3a\"], [0.8888888888888888, \"#fdca26\"], [1.0, \"#f0f921\"]]}, \"colorway\": [\"#636efa\", \"#EF553B\", \"#00cc96\", \"#ab63fa\", \"#FFA15A\", \"#19d3f3\", \"#FF6692\", \"#B6E880\", \"#FF97FF\", \"#FECB52\"], \"font\": {\"color\": \"#2a3f5f\"}, \"geo\": {\"bgcolor\": \"white\", \"lakecolor\": \"white\", \"landcolor\": \"#E5ECF6\", \"showlakes\": true, \"showland\": true, \"subunitcolor\": \"white\"}, \"hoverlabel\": {\"align\": \"left\"}, \"hovermode\": \"closest\", \"mapbox\": {\"style\": \"light\"}, \"paper_bgcolor\": \"white\", \"plot_bgcolor\": \"#E5ECF6\", \"polar\": {\"angularaxis\": {\"gridcolor\": \"white\", \"linecolor\": \"white\", \"ticks\": \"\"}, \"bgcolor\": \"#E5ECF6\", \"radialaxis\": {\"gridcolor\": \"white\", \"linecolor\": \"white\", \"ticks\": \"\"}}, \"scene\": {\"xaxis\": {\"backgroundcolor\": \"#E5ECF6\", \"gridcolor\": \"white\", \"gridwidth\": 2, \"linecolor\": \"white\", \"showbackground\": true, \"ticks\": \"\", \"zerolinecolor\": \"white\"}, \"yaxis\": {\"backgroundcolor\": \"#E5ECF6\", \"gridcolor\": \"white\", \"gridwidth\": 2, \"linecolor\": \"white\", \"showbackground\": true, \"ticks\": \"\", \"zerolinecolor\": \"white\"}, \"zaxis\": {\"backgroundcolor\": \"#E5ECF6\", \"gridcolor\": \"white\", \"gridwidth\": 2, \"linecolor\": \"white\", \"showbackground\": true, \"ticks\": \"\", \"zerolinecolor\": \"white\"}}, \"shapedefaults\": {\"line\": {\"color\": \"#2a3f5f\"}}, \"ternary\": {\"aaxis\": {\"gridcolor\": \"white\", \"linecolor\": \"white\", \"ticks\": \"\"}, \"baxis\": {\"gridcolor\": \"white\", \"linecolor\": \"white\", \"ticks\": \"\"}, \"bgcolor\": \"#E5ECF6\", \"caxis\": {\"gridcolor\": \"white\", \"linecolor\": \"white\", \"ticks\": \"\"}}, \"title\": {\"x\": 0.05}, \"xaxis\": {\"automargin\": true, \"gridcolor\": \"white\", \"linecolor\": \"white\", \"ticks\": \"\", \"title\": {\"standoff\": 15}, \"zerolinecolor\": \"white\", \"zerolinewidth\": 2}, \"yaxis\": {\"automargin\": true, \"gridcolor\": \"white\", \"linecolor\": \"white\", \"ticks\": \"\", \"title\": {\"standoff\": 15}, \"zerolinecolor\": \"white\", \"zerolinewidth\": 2}}}, \"title\": {\"text\": \"COVID-19 top bigrams of 2020-04-27 00:00:00\"}, \"updatemenus\": [{\"buttons\": [{\"args\": [null, {\"frame\": {\"duration\": 2000, \"redraw\": true}, \"fromcurrent\": true}], \"label\": \"Play\", \"method\": \"animate\"}, {\"args\": [[null], {\"frame\": {\"duration\": 0, \"redraw\": false}, \"mode\": \"immediate\", \"transition\": {\"duration\": 0}}], \"label\": \"Stop\", \"method\": \"animate\"}], \"type\": \"buttons\"}], \"xaxis\": {\"showline\": false, \"visible\": false}, \"yaxis\": {\"range\": [0, 48.0], \"showline\": false, \"visible\": false}},\n",
       "                        {\"responsive\": true}\n",
       "                    ).then(function(){\n",
       "                            Plotly.addFrames('6a9cf1dc-add2-4add-a25f-351c7096f215', [{\"data\": [{\"cliponaxis\": false, \"hoverinfo\": \"none\", \"marker\": {\"color\": [\"rgb(143, 95, 165)\", \"rgb(91, 57, 194)\", \"rgb(27, 101, 211)\", \"rgb(95, 78, 156)\", \"rgb(61, 168, 130)\", \"rgb(94, 106, 203)\", \"rgb(166, 90, 221)\", \"rgb(114, 63, 216)\", \"rgb(12, 42, 213)\", \"rgb(81, 23, 169)\", \"rgb(33, 121, 212)\", \"rgb(47, 155, 197)\", \"rgb(138, 0, 174)\", \"rgb(172, 60, 205)\", \"rgb(67, 182, 234)\", \"rgb(118, 97, 157)\", \"rgb(124, 182, 158)\", \"rgb(170, 62, 225)\", \"rgb(163, 28, 214)\", \"rgb(59, 7, 176)\", \"rgb(116, 17, 143)\", \"rgb(150, 111, 205)\", \"rgb(92, 173, 180)\", \"rgb(68, 43, 203)\", \"rgb(14, 84, 142)\", \"rgb(70, 176, 219)\", \"rgb(64, 150, 223)\", \"rgb(181, 106, 147)\", \"rgb(110, 139, 221)\", \"rgb(160, 80, 247)\", \"rgb(57, 105, 190)\", \"rgb(102, 117, 193)\", \"rgb(18, 25, 239)\", \"rgb(30, 168, 158)\", \"rgb(83, 107, 163)\", \"rgb(59, 63, 184)\", \"rgb(19, 4, 247)\"]}, \"textposition\": \"outside\", \"texttemplate\": \"%{x}<br>%{y}\", \"x\": [\"covid pandemic\", \"home values\", \"covid home\", \"impact might\", \"might covid\", \"covid testing\", \"covid patients\", \"due covid\", \"south florida\", \"covid crisis\", \"covid cases\", \"positive covid\", \"social distancing\", \"covid update\", \"post covid\", \"fight covid\", \"join us\", \"covid free\", \"credit report\", \"report available\", \"free annual\", \"annual credit\", \"available weekly\", \"covid deaths\", \"intel dossier\", \"deceived world\", \"leaked western\", \"western intel\", \"dossier reveals\", \"response covid\", \"may day\", \"day global\", \"global action\", \"action giving\", \"giving unity\", \"unity response\", \"covid jorge\"], \"y\": [37.0, 31.0, 30.0, 29.0, 29.0, 21.0, 19.0, 19.0, 16.0, 16.0, 0.0, 0.0, 0.0, 0.0, 0.0, 0.0, 0.0, 0.0, 0.0, 0.0, 0.0, 0.0, 0.0, 0.0, 0.0, 0.0, 0.0, 0.0, 0.0, 0.0, 0.0, 0.0, 0.0, 0.0, 0.0, 0.0, 0.0], \"type\": \"bar\"}], \"layout\": {\"bargap\": 0.15, \"font\": {\"size\": 14}, \"plot_bgcolor\": \"#FFFFFF\", \"title\": {\"text\": \"COVID-19 top bigrams of 2020-04-27 00:00:00\"}, \"xaxis\": {\"showline\": false, \"visible\": false}, \"yaxis\": {\"showline\": false, \"visible\": false}}}, {\"data\": [{\"cliponaxis\": false, \"hoverinfo\": \"none\", \"marker\": {\"color\": [\"rgb(143, 95, 165)\", \"rgb(91, 57, 194)\", \"rgb(27, 101, 211)\", \"rgb(95, 78, 156)\", \"rgb(61, 168, 130)\", \"rgb(94, 106, 203)\", \"rgb(166, 90, 221)\", \"rgb(114, 63, 216)\", \"rgb(12, 42, 213)\", \"rgb(81, 23, 169)\", \"rgb(33, 121, 212)\", \"rgb(47, 155, 197)\", \"rgb(138, 0, 174)\", \"rgb(172, 60, 205)\", \"rgb(67, 182, 234)\", \"rgb(118, 97, 157)\", \"rgb(124, 182, 158)\", \"rgb(170, 62, 225)\", \"rgb(163, 28, 214)\", \"rgb(59, 7, 176)\", \"rgb(116, 17, 143)\", \"rgb(150, 111, 205)\", \"rgb(92, 173, 180)\", \"rgb(68, 43, 203)\", \"rgb(14, 84, 142)\", \"rgb(70, 176, 219)\", \"rgb(64, 150, 223)\", \"rgb(181, 106, 147)\", \"rgb(110, 139, 221)\", \"rgb(160, 80, 247)\", \"rgb(57, 105, 190)\", \"rgb(102, 117, 193)\", \"rgb(18, 25, 239)\", \"rgb(30, 168, 158)\", \"rgb(83, 107, 163)\", \"rgb(59, 63, 184)\", \"rgb(19, 4, 247)\"]}, \"textposition\": \"outside\", \"texttemplate\": \"%{x}<br>%{y}\", \"x\": [\"covid pandemic\", \"home values\", \"covid home\", \"impact might\", \"might covid\", \"covid testing\", \"covid patients\", \"due covid\", \"south florida\", \"covid crisis\", \"covid cases\", \"positive covid\", \"social distancing\", \"covid update\", \"post covid\", \"fight covid\", \"join us\", \"covid free\", \"credit report\", \"report available\", \"free annual\", \"annual credit\", \"available weekly\", \"covid deaths\", \"intel dossier\", \"deceived world\", \"leaked western\", \"western intel\", \"dossier reveals\", \"response covid\", \"may day\", \"day global\", \"global action\", \"action giving\", \"giving unity\", \"unity response\", \"covid jorge\"], \"y\": [45.0, 0.0, 0.0, 0.0, 0.0, 22.0, 12.0, 0.0, 16.0, 16.0, 24.0, 12.0, 12.0, 10.0, 10.0, 0.0, 0.0, 0.0, 0.0, 0.0, 0.0, 0.0, 0.0, 0.0, 0.0, 0.0, 0.0, 0.0, 0.0, 0.0, 0.0, 0.0, 0.0, 0.0, 0.0, 0.0, 0.0], \"type\": \"bar\"}], \"layout\": {\"bargap\": 0.15, \"font\": {\"size\": 14}, \"plot_bgcolor\": \"#FFFFFF\", \"title\": {\"text\": \"COVID-19 top bigrams of 2020-04-28 00:00:00\"}, \"xaxis\": {\"showline\": false, \"visible\": false}, \"yaxis\": {\"showline\": false, \"visible\": false}}}, {\"data\": [{\"cliponaxis\": false, \"hoverinfo\": \"none\", \"marker\": {\"color\": [\"rgb(143, 95, 165)\", \"rgb(91, 57, 194)\", \"rgb(27, 101, 211)\", \"rgb(95, 78, 156)\", \"rgb(61, 168, 130)\", \"rgb(94, 106, 203)\", \"rgb(166, 90, 221)\", \"rgb(114, 63, 216)\", \"rgb(12, 42, 213)\", \"rgb(81, 23, 169)\", \"rgb(33, 121, 212)\", \"rgb(47, 155, 197)\", \"rgb(138, 0, 174)\", \"rgb(172, 60, 205)\", \"rgb(67, 182, 234)\", \"rgb(118, 97, 157)\", \"rgb(124, 182, 158)\", \"rgb(170, 62, 225)\", \"rgb(163, 28, 214)\", \"rgb(59, 7, 176)\", \"rgb(116, 17, 143)\", \"rgb(150, 111, 205)\", \"rgb(92, 173, 180)\", \"rgb(68, 43, 203)\", \"rgb(14, 84, 142)\", \"rgb(70, 176, 219)\", \"rgb(64, 150, 223)\", \"rgb(181, 106, 147)\", \"rgb(110, 139, 221)\", \"rgb(160, 80, 247)\", \"rgb(57, 105, 190)\", \"rgb(102, 117, 193)\", \"rgb(18, 25, 239)\", \"rgb(30, 168, 158)\", \"rgb(83, 107, 163)\", \"rgb(59, 63, 184)\", \"rgb(19, 4, 247)\"]}, \"textposition\": \"outside\", \"texttemplate\": \"%{x}<br>%{y}\", \"x\": [\"covid pandemic\", \"home values\", \"covid home\", \"impact might\", \"might covid\", \"covid testing\", \"covid patients\", \"due covid\", \"south florida\", \"covid crisis\", \"covid cases\", \"positive covid\", \"social distancing\", \"covid update\", \"post covid\", \"fight covid\", \"join us\", \"covid free\", \"credit report\", \"report available\", \"free annual\", \"annual credit\", \"available weekly\", \"covid deaths\", \"intel dossier\", \"deceived world\", \"leaked western\", \"western intel\", \"dossier reveals\", \"response covid\", \"may day\", \"day global\", \"global action\", \"action giving\", \"giving unity\", \"unity response\", \"covid jorge\"], \"y\": [42.0, 0.0, 0.0, 0.0, 0.0, 16.0, 20.0, 26.0, 14.0, 20.0, 15.0, 11.0, 0.0, 0.0, 0.0, 14.0, 11.0, 0.0, 0.0, 0.0, 0.0, 0.0, 0.0, 0.0, 0.0, 0.0, 0.0, 0.0, 0.0, 0.0, 0.0, 0.0, 0.0, 0.0, 0.0, 0.0, 0.0], \"type\": \"bar\"}], \"layout\": {\"bargap\": 0.15, \"font\": {\"size\": 14}, \"plot_bgcolor\": \"#FFFFFF\", \"title\": {\"text\": \"COVID-19 top bigrams of 2020-04-29 00:00:00\"}, \"xaxis\": {\"showline\": false, \"visible\": false}, \"yaxis\": {\"showline\": false, \"visible\": false}}}, {\"data\": [{\"cliponaxis\": false, \"hoverinfo\": \"none\", \"marker\": {\"color\": [\"rgb(143, 95, 165)\", \"rgb(91, 57, 194)\", \"rgb(27, 101, 211)\", \"rgb(95, 78, 156)\", \"rgb(61, 168, 130)\", \"rgb(94, 106, 203)\", \"rgb(166, 90, 221)\", \"rgb(114, 63, 216)\", \"rgb(12, 42, 213)\", \"rgb(81, 23, 169)\", \"rgb(33, 121, 212)\", \"rgb(47, 155, 197)\", \"rgb(138, 0, 174)\", \"rgb(172, 60, 205)\", \"rgb(67, 182, 234)\", \"rgb(118, 97, 157)\", \"rgb(124, 182, 158)\", \"rgb(170, 62, 225)\", \"rgb(163, 28, 214)\", \"rgb(59, 7, 176)\", \"rgb(116, 17, 143)\", \"rgb(150, 111, 205)\", \"rgb(92, 173, 180)\", \"rgb(68, 43, 203)\", \"rgb(14, 84, 142)\", \"rgb(70, 176, 219)\", \"rgb(64, 150, 223)\", \"rgb(181, 106, 147)\", \"rgb(110, 139, 221)\", \"rgb(160, 80, 247)\", \"rgb(57, 105, 190)\", \"rgb(102, 117, 193)\", \"rgb(18, 25, 239)\", \"rgb(30, 168, 158)\", \"rgb(83, 107, 163)\", \"rgb(59, 63, 184)\", \"rgb(19, 4, 247)\"]}, \"textposition\": \"outside\", \"texttemplate\": \"%{x}<br>%{y}\", \"x\": [\"covid pandemic\", \"home values\", \"covid home\", \"impact might\", \"might covid\", \"covid testing\", \"covid patients\", \"due covid\", \"south florida\", \"covid crisis\", \"covid cases\", \"positive covid\", \"social distancing\", \"covid update\", \"post covid\", \"fight covid\", \"join us\", \"covid free\", \"credit report\", \"report available\", \"free annual\", \"annual credit\", \"available weekly\", \"covid deaths\", \"intel dossier\", \"deceived world\", \"leaked western\", \"western intel\", \"dossier reveals\", \"response covid\", \"may day\", \"day global\", \"global action\", \"action giving\", \"giving unity\", \"unity response\", \"covid jorge\"], \"y\": [41.0, 0.0, 0.0, 0.0, 0.0, 0.0, 0.0, 17.0, 14.0, 20.0, 0.0, 0.0, 0.0, 0.0, 0.0, 0.0, 0.0, 23.0, 23.0, 23.0, 22.0, 22.0, 22.0, 0.0, 0.0, 0.0, 0.0, 0.0, 0.0, 0.0, 0.0, 0.0, 0.0, 0.0, 0.0, 0.0, 0.0], \"type\": \"bar\"}], \"layout\": {\"bargap\": 0.15, \"font\": {\"size\": 14}, \"plot_bgcolor\": \"#FFFFFF\", \"title\": {\"text\": \"COVID-19 top bigrams of 2020-04-30 00:00:00\"}, \"xaxis\": {\"showline\": false, \"visible\": false}, \"yaxis\": {\"showline\": false, \"visible\": false}}}, {\"data\": [{\"cliponaxis\": false, \"hoverinfo\": \"none\", \"marker\": {\"color\": [\"rgb(143, 95, 165)\", \"rgb(91, 57, 194)\", \"rgb(27, 101, 211)\", \"rgb(95, 78, 156)\", \"rgb(61, 168, 130)\", \"rgb(94, 106, 203)\", \"rgb(166, 90, 221)\", \"rgb(114, 63, 216)\", \"rgb(12, 42, 213)\", \"rgb(81, 23, 169)\", \"rgb(33, 121, 212)\", \"rgb(47, 155, 197)\", \"rgb(138, 0, 174)\", \"rgb(172, 60, 205)\", \"rgb(67, 182, 234)\", \"rgb(118, 97, 157)\", \"rgb(124, 182, 158)\", \"rgb(170, 62, 225)\", \"rgb(163, 28, 214)\", \"rgb(59, 7, 176)\", \"rgb(116, 17, 143)\", \"rgb(150, 111, 205)\", \"rgb(92, 173, 180)\", \"rgb(68, 43, 203)\", \"rgb(14, 84, 142)\", \"rgb(70, 176, 219)\", \"rgb(64, 150, 223)\", \"rgb(181, 106, 147)\", \"rgb(110, 139, 221)\", \"rgb(160, 80, 247)\", \"rgb(57, 105, 190)\", \"rgb(102, 117, 193)\", \"rgb(18, 25, 239)\", \"rgb(30, 168, 158)\", \"rgb(83, 107, 163)\", \"rgb(59, 63, 184)\", \"rgb(19, 4, 247)\"]}, \"textposition\": \"outside\", \"texttemplate\": \"%{x}<br>%{y}\", \"x\": [\"covid pandemic\", \"home values\", \"covid home\", \"impact might\", \"might covid\", \"covid testing\", \"covid patients\", \"due covid\", \"south florida\", \"covid crisis\", \"covid cases\", \"positive covid\", \"social distancing\", \"covid update\", \"post covid\", \"fight covid\", \"join us\", \"covid free\", \"credit report\", \"report available\", \"free annual\", \"annual credit\", \"available weekly\", \"covid deaths\", \"intel dossier\", \"deceived world\", \"leaked western\", \"western intel\", \"dossier reveals\", \"response covid\", \"may day\", \"day global\", \"global action\", \"action giving\", \"giving unity\", \"unity response\", \"covid jorge\"], \"y\": [48.0, 0.0, 0.0, 0.0, 0.0, 11.0, 25.0, 21.0, 14.0, 14.0, 13.0, 11.0, 9.0, 0.0, 0.0, 0.0, 0.0, 0.0, 0.0, 0.0, 0.0, 0.0, 0.0, 11.0, 0.0, 0.0, 0.0, 0.0, 0.0, 0.0, 0.0, 0.0, 0.0, 0.0, 0.0, 0.0, 0.0], \"type\": \"bar\"}], \"layout\": {\"bargap\": 0.15, \"font\": {\"size\": 14}, \"plot_bgcolor\": \"#FFFFFF\", \"title\": {\"text\": \"COVID-19 top bigrams of 2020-05-01 00:00:00\"}, \"xaxis\": {\"showline\": false, \"visible\": false}, \"yaxis\": {\"showline\": false, \"visible\": false}}}, {\"data\": [{\"cliponaxis\": false, \"hoverinfo\": \"none\", \"marker\": {\"color\": [\"rgb(143, 95, 165)\", \"rgb(91, 57, 194)\", \"rgb(27, 101, 211)\", \"rgb(95, 78, 156)\", \"rgb(61, 168, 130)\", \"rgb(94, 106, 203)\", \"rgb(166, 90, 221)\", \"rgb(114, 63, 216)\", \"rgb(12, 42, 213)\", \"rgb(81, 23, 169)\", \"rgb(33, 121, 212)\", \"rgb(47, 155, 197)\", \"rgb(138, 0, 174)\", \"rgb(172, 60, 205)\", \"rgb(67, 182, 234)\", \"rgb(118, 97, 157)\", \"rgb(124, 182, 158)\", \"rgb(170, 62, 225)\", \"rgb(163, 28, 214)\", \"rgb(59, 7, 176)\", \"rgb(116, 17, 143)\", \"rgb(150, 111, 205)\", \"rgb(92, 173, 180)\", \"rgb(68, 43, 203)\", \"rgb(14, 84, 142)\", \"rgb(70, 176, 219)\", \"rgb(64, 150, 223)\", \"rgb(181, 106, 147)\", \"rgb(110, 139, 221)\", \"rgb(160, 80, 247)\", \"rgb(57, 105, 190)\", \"rgb(102, 117, 193)\", \"rgb(18, 25, 239)\", \"rgb(30, 168, 158)\", \"rgb(83, 107, 163)\", \"rgb(59, 63, 184)\", \"rgb(19, 4, 247)\"]}, \"textposition\": \"outside\", \"texttemplate\": \"%{x}<br>%{y}\", \"x\": [\"covid pandemic\", \"home values\", \"covid home\", \"impact might\", \"might covid\", \"covid testing\", \"covid patients\", \"due covid\", \"south florida\", \"covid crisis\", \"covid cases\", \"positive covid\", \"social distancing\", \"covid update\", \"post covid\", \"fight covid\", \"join us\", \"covid free\", \"credit report\", \"report available\", \"free annual\", \"annual credit\", \"available weekly\", \"covid deaths\", \"intel dossier\", \"deceived world\", \"leaked western\", \"western intel\", \"dossier reveals\", \"response covid\", \"may day\", \"day global\", \"global action\", \"action giving\", \"giving unity\", \"unity response\", \"covid jorge\"], \"y\": [16.0, 0.0, 0.0, 0.0, 0.0, 8.0, 15.0, 16.0, 0.0, 0.0, 0.0, 0.0, 0.0, 0.0, 0.0, 0.0, 0.0, 0.0, 0.0, 0.0, 0.0, 0.0, 0.0, 8.0, 9.0, 9.0, 8.0, 8.0, 8.0, 0.0, 0.0, 0.0, 0.0, 0.0, 0.0, 0.0, 0.0], \"type\": \"bar\"}], \"layout\": {\"bargap\": 0.15, \"font\": {\"size\": 14}, \"plot_bgcolor\": \"#FFFFFF\", \"title\": {\"text\": \"COVID-19 top bigrams of 2020-05-02 00:00:00\"}, \"xaxis\": {\"showline\": false, \"visible\": false}, \"yaxis\": {\"showline\": false, \"visible\": false}}}, {\"data\": [{\"cliponaxis\": false, \"hoverinfo\": \"none\", \"marker\": {\"color\": [\"rgb(143, 95, 165)\", \"rgb(91, 57, 194)\", \"rgb(27, 101, 211)\", \"rgb(95, 78, 156)\", \"rgb(61, 168, 130)\", \"rgb(94, 106, 203)\", \"rgb(166, 90, 221)\", \"rgb(114, 63, 216)\", \"rgb(12, 42, 213)\", \"rgb(81, 23, 169)\", \"rgb(33, 121, 212)\", \"rgb(47, 155, 197)\", \"rgb(138, 0, 174)\", \"rgb(172, 60, 205)\", \"rgb(67, 182, 234)\", \"rgb(118, 97, 157)\", \"rgb(124, 182, 158)\", \"rgb(170, 62, 225)\", \"rgb(163, 28, 214)\", \"rgb(59, 7, 176)\", \"rgb(116, 17, 143)\", \"rgb(150, 111, 205)\", \"rgb(92, 173, 180)\", \"rgb(68, 43, 203)\", \"rgb(14, 84, 142)\", \"rgb(70, 176, 219)\", \"rgb(64, 150, 223)\", \"rgb(181, 106, 147)\", \"rgb(110, 139, 221)\", \"rgb(160, 80, 247)\", \"rgb(57, 105, 190)\", \"rgb(102, 117, 193)\", \"rgb(18, 25, 239)\", \"rgb(30, 168, 158)\", \"rgb(83, 107, 163)\", \"rgb(59, 63, 184)\", \"rgb(19, 4, 247)\"]}, \"textposition\": \"outside\", \"texttemplate\": \"%{x}<br>%{y}\", \"x\": [\"covid pandemic\", \"home values\", \"covid home\", \"impact might\", \"might covid\", \"covid testing\", \"covid patients\", \"due covid\", \"south florida\", \"covid crisis\", \"covid cases\", \"positive covid\", \"social distancing\", \"covid update\", \"post covid\", \"fight covid\", \"join us\", \"covid free\", \"credit report\", \"report available\", \"free annual\", \"annual credit\", \"available weekly\", \"covid deaths\", \"intel dossier\", \"deceived world\", \"leaked western\", \"western intel\", \"dossier reveals\", \"response covid\", \"may day\", \"day global\", \"global action\", \"action giving\", \"giving unity\", \"unity response\", \"covid jorge\"], \"y\": [15.0, 0.0, 0.0, 0.0, 0.0, 0.0, 0.0, 0.0, 0.0, 0.0, 16.0, 0.0, 0.0, 0.0, 0.0, 0.0, 0.0, 0.0, 0.0, 0.0, 0.0, 0.0, 0.0, 0.0, 0.0, 0.0, 0.0, 0.0, 0.0, 13.0, 12.0, 12.0, 12.0, 12.0, 12.0, 12.0, 12.0], \"type\": \"bar\"}], \"layout\": {\"bargap\": 0.15, \"font\": {\"size\": 14}, \"plot_bgcolor\": \"#FFFFFF\", \"title\": {\"text\": \"COVID-19 top bigrams of 2020-05-03 00:00:00\"}, \"xaxis\": {\"showline\": false, \"visible\": false}, \"yaxis\": {\"showline\": false, \"visible\": false}}}]);\n",
       "                        }).then(function(){\n",
       "                            \n",
       "var gd = document.getElementById('6a9cf1dc-add2-4add-a25f-351c7096f215');\n",
       "var x = new MutationObserver(function (mutations, observer) {{\n",
       "        var display = window.getComputedStyle(gd).display;\n",
       "        if (!display || display === 'none') {{\n",
       "            console.log([gd, 'removed!']);\n",
       "            Plotly.purge(gd);\n",
       "            observer.disconnect();\n",
       "        }}\n",
       "}});\n",
       "\n",
       "// Listen for the removal of the full notebook cells\n",
       "var notebookContainer = gd.closest('#notebook-container');\n",
       "if (notebookContainer) {{\n",
       "    x.observe(notebookContainer, {childList: true});\n",
       "}}\n",
       "\n",
       "// Listen for the clearing of the current output cell\n",
       "var outputEl = gd.closest('.output');\n",
       "if (outputEl) {{\n",
       "    x.observe(outputEl, {childList: true});\n",
       "}}\n",
       "\n",
       "                        })\n",
       "                };\n",
       "                });\n",
       "            </script>\n",
       "        </div>"
      ]
     },
     "metadata": {},
     "output_type": "display_data"
    }
   ],
   "source": [
    "fig = get_bar_race_plot(df, 'COVID-19 top bigrams of ')\n",
    "fig.show()"
   ]
  },
  {
   "cell_type": "markdown",
   "metadata": {},
   "source": [
    "Let's demonstrate a few more visualizations. This time, let's visualize the top users during that same week in Florida. "
   ]
  },
  {
   "cell_type": "code",
   "execution_count": 11,
   "metadata": {},
   "outputs": [
    {
     "name": "stdout",
     "output_type": "stream",
     "text": [
      "querying date 2020-04-27 00:00:00 with lang=['en'], loc=['fl']\n",
      "getting top users\n",
      "querying date 2020-04-28 00:00:00 with lang=['en'], loc=['fl']\n",
      "getting top users\n",
      "querying date 2020-04-29 00:00:00 with lang=['en'], loc=['fl']\n",
      "getting top users\n",
      "querying date 2020-04-30 00:00:00 with lang=['en'], loc=['fl']\n",
      "getting top users\n",
      "querying date 2020-05-01 00:00:00 with lang=['en'], loc=['fl']\n",
      "getting top users\n",
      "querying date 2020-05-02 00:00:00 with lang=['en'], loc=['fl']\n",
      "getting top users\n",
      "querying date 2020-05-03 00:00:00 with lang=['en'], loc=['fl']\n",
      "getting top users\n"
     ]
    },
    {
     "data": {
      "application/vnd.plotly.v1+json": {
       "config": {
        "plotlyServerURL": "https://plot.ly"
       },
       "data": [
        {
         "cliponaxis": false,
         "hoverinfo": "none",
         "marker": {
          "color": [
           "rgb(71, 185, 190)",
           "rgb(149, 110, 235)",
           "rgb(88, 47, 204)",
           "rgb(146, 97, 236)",
           "rgb(48, 119, 166)",
           "rgb(163, 136, 240)",
           "rgb(176, 67, 136)",
           "rgb(171, 182, 213)",
           "rgb(160, 138, 129)",
           "rgb(48, 27, 246)",
           "rgb(32, 12, 194)",
           "rgb(17, 92, 143)",
           "rgb(158, 102, 203)",
           "rgb(156, 93, 223)",
           "rgb(30, 24, 178)",
           "rgb(1, 57, 240)",
           "rgb(151, 89, 208)",
           "rgb(28, 76, 237)",
           "rgb(10, 32, 235)",
           "rgb(60, 27, 182)",
           "rgb(87, 169, 142)",
           "rgb(175, 130, 178)",
           "rgb(80, 19, 159)"
          ]
         },
         "textposition": "outside",
         "texttemplate": "%{x}<br>%{y}",
         "type": "bar",
         "x": [
          "mitchellvii",
          "Iam360WISE",
          "gstuedler",
          "adejames2000",
          "WandaRufin",
          "lopezgovlaw",
          "thomaskaine5",
          "wsvn",
          "TalyaMironShatz",
          "izatrini",
          "SWexner",
          "TheMiamiTimes",
          "SFBJNews",
          "MiamiHerald",
          "Aunty__Em",
          "DEADLINE",
          "4BillLewis",
          "CBSMiami",
          "cachete66",
          "dicerod",
          "agodgmt",
          "ExactOptionPick",
          "MiamiBeachCL"
         ],
         "y": [
          14,
          13,
          12,
          12,
          11,
          8,
          7,
          7,
          7,
          6,
          0,
          0,
          0,
          0,
          0,
          0,
          0,
          0,
          0,
          0,
          0,
          0,
          0
         ]
        }
       ],
       "frames": [
        {
         "data": [
          {
           "cliponaxis": false,
           "hoverinfo": "none",
           "marker": {
            "color": [
             "rgb(71, 185, 190)",
             "rgb(149, 110, 235)",
             "rgb(88, 47, 204)",
             "rgb(146, 97, 236)",
             "rgb(48, 119, 166)",
             "rgb(163, 136, 240)",
             "rgb(176, 67, 136)",
             "rgb(171, 182, 213)",
             "rgb(160, 138, 129)",
             "rgb(48, 27, 246)",
             "rgb(32, 12, 194)",
             "rgb(17, 92, 143)",
             "rgb(158, 102, 203)",
             "rgb(156, 93, 223)",
             "rgb(30, 24, 178)",
             "rgb(1, 57, 240)",
             "rgb(151, 89, 208)",
             "rgb(28, 76, 237)",
             "rgb(10, 32, 235)",
             "rgb(60, 27, 182)",
             "rgb(87, 169, 142)",
             "rgb(175, 130, 178)",
             "rgb(80, 19, 159)"
            ]
           },
           "textposition": "outside",
           "texttemplate": "%{x}<br>%{y}",
           "type": "bar",
           "x": [
            "mitchellvii",
            "Iam360WISE",
            "gstuedler",
            "adejames2000",
            "WandaRufin",
            "lopezgovlaw",
            "thomaskaine5",
            "wsvn",
            "TalyaMironShatz",
            "izatrini",
            "SWexner",
            "TheMiamiTimes",
            "SFBJNews",
            "MiamiHerald",
            "Aunty__Em",
            "DEADLINE",
            "4BillLewis",
            "CBSMiami",
            "cachete66",
            "dicerod",
            "agodgmt",
            "ExactOptionPick",
            "MiamiBeachCL"
           ],
           "y": [
            14,
            13,
            12,
            12,
            11,
            8,
            7,
            7,
            7,
            6,
            0,
            0,
            0,
            0,
            0,
            0,
            0,
            0,
            0,
            0,
            0,
            0,
            0
           ]
          }
         ],
         "layout": {
          "bargap": 0.15,
          "font": {
           "size": 14
          },
          "plot_bgcolor": "#FFFFFF",
          "title": {
           "text": "COVID-19 top users of 2020-04-27 00:00:00"
          },
          "xaxis": {
           "showline": false,
           "visible": false
          },
          "yaxis": {
           "showline": false,
           "visible": false
          }
         }
        },
        {
         "data": [
          {
           "cliponaxis": false,
           "hoverinfo": "none",
           "marker": {
            "color": [
             "rgb(71, 185, 190)",
             "rgb(149, 110, 235)",
             "rgb(88, 47, 204)",
             "rgb(146, 97, 236)",
             "rgb(48, 119, 166)",
             "rgb(163, 136, 240)",
             "rgb(176, 67, 136)",
             "rgb(171, 182, 213)",
             "rgb(160, 138, 129)",
             "rgb(48, 27, 246)",
             "rgb(32, 12, 194)",
             "rgb(17, 92, 143)",
             "rgb(158, 102, 203)",
             "rgb(156, 93, 223)",
             "rgb(30, 24, 178)",
             "rgb(1, 57, 240)",
             "rgb(151, 89, 208)",
             "rgb(28, 76, 237)",
             "rgb(10, 32, 235)",
             "rgb(60, 27, 182)",
             "rgb(87, 169, 142)",
             "rgb(175, 130, 178)",
             "rgb(80, 19, 159)"
            ]
           },
           "textposition": "outside",
           "texttemplate": "%{x}<br>%{y}",
           "type": "bar",
           "x": [
            "mitchellvii",
            "Iam360WISE",
            "gstuedler",
            "adejames2000",
            "WandaRufin",
            "lopezgovlaw",
            "thomaskaine5",
            "wsvn",
            "TalyaMironShatz",
            "izatrini",
            "SWexner",
            "TheMiamiTimes",
            "SFBJNews",
            "MiamiHerald",
            "Aunty__Em",
            "DEADLINE",
            "4BillLewis",
            "CBSMiami",
            "cachete66",
            "dicerod",
            "agodgmt",
            "ExactOptionPick",
            "MiamiBeachCL"
           ],
           "y": [
            16,
            12,
            16,
            0,
            10,
            0,
            9,
            0,
            0,
            6,
            26,
            16,
            7,
            6,
            0,
            0,
            0,
            0,
            0,
            0,
            0,
            0,
            0
           ]
          }
         ],
         "layout": {
          "bargap": 0.15,
          "font": {
           "size": 14
          },
          "plot_bgcolor": "#FFFFFF",
          "title": {
           "text": "COVID-19 top users of 2020-04-28 00:00:00"
          },
          "xaxis": {
           "showline": false,
           "visible": false
          },
          "yaxis": {
           "showline": false,
           "visible": false
          }
         }
        },
        {
         "data": [
          {
           "cliponaxis": false,
           "hoverinfo": "none",
           "marker": {
            "color": [
             "rgb(71, 185, 190)",
             "rgb(149, 110, 235)",
             "rgb(88, 47, 204)",
             "rgb(146, 97, 236)",
             "rgb(48, 119, 166)",
             "rgb(163, 136, 240)",
             "rgb(176, 67, 136)",
             "rgb(171, 182, 213)",
             "rgb(160, 138, 129)",
             "rgb(48, 27, 246)",
             "rgb(32, 12, 194)",
             "rgb(17, 92, 143)",
             "rgb(158, 102, 203)",
             "rgb(156, 93, 223)",
             "rgb(30, 24, 178)",
             "rgb(1, 57, 240)",
             "rgb(151, 89, 208)",
             "rgb(28, 76, 237)",
             "rgb(10, 32, 235)",
             "rgb(60, 27, 182)",
             "rgb(87, 169, 142)",
             "rgb(175, 130, 178)",
             "rgb(80, 19, 159)"
            ]
           },
           "textposition": "outside",
           "texttemplate": "%{x}<br>%{y}",
           "type": "bar",
           "x": [
            "mitchellvii",
            "Iam360WISE",
            "gstuedler",
            "adejames2000",
            "WandaRufin",
            "lopezgovlaw",
            "thomaskaine5",
            "wsvn",
            "TalyaMironShatz",
            "izatrini",
            "SWexner",
            "TheMiamiTimes",
            "SFBJNews",
            "MiamiHerald",
            "Aunty__Em",
            "DEADLINE",
            "4BillLewis",
            "CBSMiami",
            "cachete66",
            "dicerod",
            "agodgmt",
            "ExactOptionPick",
            "MiamiBeachCL"
           ],
           "y": [
            17,
            17,
            12,
            0,
            11,
            10,
            25,
            0,
            0,
            0,
            10,
            9,
            0,
            0,
            9,
            8,
            0,
            0,
            0,
            0,
            0,
            0,
            0
           ]
          }
         ],
         "layout": {
          "bargap": 0.15,
          "font": {
           "size": 14
          },
          "plot_bgcolor": "#FFFFFF",
          "title": {
           "text": "COVID-19 top users of 2020-04-29 00:00:00"
          },
          "xaxis": {
           "showline": false,
           "visible": false
          },
          "yaxis": {
           "showline": false,
           "visible": false
          }
         }
        },
        {
         "data": [
          {
           "cliponaxis": false,
           "hoverinfo": "none",
           "marker": {
            "color": [
             "rgb(71, 185, 190)",
             "rgb(149, 110, 235)",
             "rgb(88, 47, 204)",
             "rgb(146, 97, 236)",
             "rgb(48, 119, 166)",
             "rgb(163, 136, 240)",
             "rgb(176, 67, 136)",
             "rgb(171, 182, 213)",
             "rgb(160, 138, 129)",
             "rgb(48, 27, 246)",
             "rgb(32, 12, 194)",
             "rgb(17, 92, 143)",
             "rgb(158, 102, 203)",
             "rgb(156, 93, 223)",
             "rgb(30, 24, 178)",
             "rgb(1, 57, 240)",
             "rgb(151, 89, 208)",
             "rgb(28, 76, 237)",
             "rgb(10, 32, 235)",
             "rgb(60, 27, 182)",
             "rgb(87, 169, 142)",
             "rgb(175, 130, 178)",
             "rgb(80, 19, 159)"
            ]
           },
           "textposition": "outside",
           "texttemplate": "%{x}<br>%{y}",
           "type": "bar",
           "x": [
            "mitchellvii",
            "Iam360WISE",
            "gstuedler",
            "adejames2000",
            "WandaRufin",
            "lopezgovlaw",
            "thomaskaine5",
            "wsvn",
            "TalyaMironShatz",
            "izatrini",
            "SWexner",
            "TheMiamiTimes",
            "SFBJNews",
            "MiamiHerald",
            "Aunty__Em",
            "DEADLINE",
            "4BillLewis",
            "CBSMiami",
            "cachete66",
            "dicerod",
            "agodgmt",
            "ExactOptionPick",
            "MiamiBeachCL"
           ],
           "y": [
            23,
            10,
            12,
            0,
            0,
            10,
            11,
            6,
            8,
            0,
            0,
            12,
            0,
            0,
            0,
            8,
            25,
            0,
            0,
            0,
            0,
            0,
            0
           ]
          }
         ],
         "layout": {
          "bargap": 0.15,
          "font": {
           "size": 14
          },
          "plot_bgcolor": "#FFFFFF",
          "title": {
           "text": "COVID-19 top users of 2020-04-30 00:00:00"
          },
          "xaxis": {
           "showline": false,
           "visible": false
          },
          "yaxis": {
           "showline": false,
           "visible": false
          }
         }
        },
        {
         "data": [
          {
           "cliponaxis": false,
           "hoverinfo": "none",
           "marker": {
            "color": [
             "rgb(71, 185, 190)",
             "rgb(149, 110, 235)",
             "rgb(88, 47, 204)",
             "rgb(146, 97, 236)",
             "rgb(48, 119, 166)",
             "rgb(163, 136, 240)",
             "rgb(176, 67, 136)",
             "rgb(171, 182, 213)",
             "rgb(160, 138, 129)",
             "rgb(48, 27, 246)",
             "rgb(32, 12, 194)",
             "rgb(17, 92, 143)",
             "rgb(158, 102, 203)",
             "rgb(156, 93, 223)",
             "rgb(30, 24, 178)",
             "rgb(1, 57, 240)",
             "rgb(151, 89, 208)",
             "rgb(28, 76, 237)",
             "rgb(10, 32, 235)",
             "rgb(60, 27, 182)",
             "rgb(87, 169, 142)",
             "rgb(175, 130, 178)",
             "rgb(80, 19, 159)"
            ]
           },
           "textposition": "outside",
           "texttemplate": "%{x}<br>%{y}",
           "type": "bar",
           "x": [
            "mitchellvii",
            "Iam360WISE",
            "gstuedler",
            "adejames2000",
            "WandaRufin",
            "lopezgovlaw",
            "thomaskaine5",
            "wsvn",
            "TalyaMironShatz",
            "izatrini",
            "SWexner",
            "TheMiamiTimes",
            "SFBJNews",
            "MiamiHerald",
            "Aunty__Em",
            "DEADLINE",
            "4BillLewis",
            "CBSMiami",
            "cachete66",
            "dicerod",
            "agodgmt",
            "ExactOptionPick",
            "MiamiBeachCL"
           ],
           "y": [
            18,
            17,
            10,
            0,
            0,
            7,
            9,
            0,
            0,
            0,
            19,
            0,
            0,
            12,
            0,
            5,
            0,
            8,
            6,
            0,
            0,
            0,
            0
           ]
          }
         ],
         "layout": {
          "bargap": 0.15,
          "font": {
           "size": 14
          },
          "plot_bgcolor": "#FFFFFF",
          "title": {
           "text": "COVID-19 top users of 2020-05-01 00:00:00"
          },
          "xaxis": {
           "showline": false,
           "visible": false
          },
          "yaxis": {
           "showline": false,
           "visible": false
          }
         }
        },
        {
         "data": [
          {
           "cliponaxis": false,
           "hoverinfo": "none",
           "marker": {
            "color": [
             "rgb(71, 185, 190)",
             "rgb(149, 110, 235)",
             "rgb(88, 47, 204)",
             "rgb(146, 97, 236)",
             "rgb(48, 119, 166)",
             "rgb(163, 136, 240)",
             "rgb(176, 67, 136)",
             "rgb(171, 182, 213)",
             "rgb(160, 138, 129)",
             "rgb(48, 27, 246)",
             "rgb(32, 12, 194)",
             "rgb(17, 92, 143)",
             "rgb(158, 102, 203)",
             "rgb(156, 93, 223)",
             "rgb(30, 24, 178)",
             "rgb(1, 57, 240)",
             "rgb(151, 89, 208)",
             "rgb(28, 76, 237)",
             "rgb(10, 32, 235)",
             "rgb(60, 27, 182)",
             "rgb(87, 169, 142)",
             "rgb(175, 130, 178)",
             "rgb(80, 19, 159)"
            ]
           },
           "textposition": "outside",
           "texttemplate": "%{x}<br>%{y}",
           "type": "bar",
           "x": [
            "mitchellvii",
            "Iam360WISE",
            "gstuedler",
            "adejames2000",
            "WandaRufin",
            "lopezgovlaw",
            "thomaskaine5",
            "wsvn",
            "TalyaMironShatz",
            "izatrini",
            "SWexner",
            "TheMiamiTimes",
            "SFBJNews",
            "MiamiHerald",
            "Aunty__Em",
            "DEADLINE",
            "4BillLewis",
            "CBSMiami",
            "cachete66",
            "dicerod",
            "agodgmt",
            "ExactOptionPick",
            "MiamiBeachCL"
           ],
           "y": [
            0,
            10,
            22,
            0,
            0,
            10,
            6,
            0,
            7,
            0,
            19,
            9,
            0,
            10,
            0,
            0,
            0,
            0,
            0,
            7,
            6,
            0,
            0
           ]
          }
         ],
         "layout": {
          "bargap": 0.15,
          "font": {
           "size": 14
          },
          "plot_bgcolor": "#FFFFFF",
          "title": {
           "text": "COVID-19 top users of 2020-05-02 00:00:00"
          },
          "xaxis": {
           "showline": false,
           "visible": false
          },
          "yaxis": {
           "showline": false,
           "visible": false
          }
         }
        },
        {
         "data": [
          {
           "cliponaxis": false,
           "hoverinfo": "none",
           "marker": {
            "color": [
             "rgb(71, 185, 190)",
             "rgb(149, 110, 235)",
             "rgb(88, 47, 204)",
             "rgb(146, 97, 236)",
             "rgb(48, 119, 166)",
             "rgb(163, 136, 240)",
             "rgb(176, 67, 136)",
             "rgb(171, 182, 213)",
             "rgb(160, 138, 129)",
             "rgb(48, 27, 246)",
             "rgb(32, 12, 194)",
             "rgb(17, 92, 143)",
             "rgb(158, 102, 203)",
             "rgb(156, 93, 223)",
             "rgb(30, 24, 178)",
             "rgb(1, 57, 240)",
             "rgb(151, 89, 208)",
             "rgb(28, 76, 237)",
             "rgb(10, 32, 235)",
             "rgb(60, 27, 182)",
             "rgb(87, 169, 142)",
             "rgb(175, 130, 178)",
             "rgb(80, 19, 159)"
            ]
           },
           "textposition": "outside",
           "texttemplate": "%{x}<br>%{y}",
           "type": "bar",
           "x": [
            "mitchellvii",
            "Iam360WISE",
            "gstuedler",
            "adejames2000",
            "WandaRufin",
            "lopezgovlaw",
            "thomaskaine5",
            "wsvn",
            "TalyaMironShatz",
            "izatrini",
            "SWexner",
            "TheMiamiTimes",
            "SFBJNews",
            "MiamiHerald",
            "Aunty__Em",
            "DEADLINE",
            "4BillLewis",
            "CBSMiami",
            "cachete66",
            "dicerod",
            "agodgmt",
            "ExactOptionPick",
            "MiamiBeachCL"
           ],
           "y": [
            8,
            10,
            10,
            0,
            0,
            19,
            10,
            0,
            7,
            6,
            0,
            6,
            0,
            0,
            0,
            0,
            0,
            0,
            0,
            0,
            0,
            8,
            6
           ]
          }
         ],
         "layout": {
          "bargap": 0.15,
          "font": {
           "size": 14
          },
          "plot_bgcolor": "#FFFFFF",
          "title": {
           "text": "COVID-19 top users of 2020-05-03 00:00:00"
          },
          "xaxis": {
           "showline": false,
           "visible": false
          },
          "yaxis": {
           "showline": false,
           "visible": false
          }
         }
        }
       ],
       "layout": {
        "bargap": 0.15,
        "font": {
         "size": 14
        },
        "plot_bgcolor": "#FFFFFF",
        "template": {
         "data": {
          "bar": [
           {
            "error_x": {
             "color": "#2a3f5f"
            },
            "error_y": {
             "color": "#2a3f5f"
            },
            "marker": {
             "line": {
              "color": "#E5ECF6",
              "width": 0.5
             }
            },
            "type": "bar"
           }
          ],
          "barpolar": [
           {
            "marker": {
             "line": {
              "color": "#E5ECF6",
              "width": 0.5
             }
            },
            "type": "barpolar"
           }
          ],
          "carpet": [
           {
            "aaxis": {
             "endlinecolor": "#2a3f5f",
             "gridcolor": "white",
             "linecolor": "white",
             "minorgridcolor": "white",
             "startlinecolor": "#2a3f5f"
            },
            "baxis": {
             "endlinecolor": "#2a3f5f",
             "gridcolor": "white",
             "linecolor": "white",
             "minorgridcolor": "white",
             "startlinecolor": "#2a3f5f"
            },
            "type": "carpet"
           }
          ],
          "choropleth": [
           {
            "colorbar": {
             "outlinewidth": 0,
             "ticks": ""
            },
            "type": "choropleth"
           }
          ],
          "contour": [
           {
            "colorbar": {
             "outlinewidth": 0,
             "ticks": ""
            },
            "colorscale": [
             [
              0,
              "#0d0887"
             ],
             [
              0.1111111111111111,
              "#46039f"
             ],
             [
              0.2222222222222222,
              "#7201a8"
             ],
             [
              0.3333333333333333,
              "#9c179e"
             ],
             [
              0.4444444444444444,
              "#bd3786"
             ],
             [
              0.5555555555555556,
              "#d8576b"
             ],
             [
              0.6666666666666666,
              "#ed7953"
             ],
             [
              0.7777777777777778,
              "#fb9f3a"
             ],
             [
              0.8888888888888888,
              "#fdca26"
             ],
             [
              1,
              "#f0f921"
             ]
            ],
            "type": "contour"
           }
          ],
          "contourcarpet": [
           {
            "colorbar": {
             "outlinewidth": 0,
             "ticks": ""
            },
            "type": "contourcarpet"
           }
          ],
          "heatmap": [
           {
            "colorbar": {
             "outlinewidth": 0,
             "ticks": ""
            },
            "colorscale": [
             [
              0,
              "#0d0887"
             ],
             [
              0.1111111111111111,
              "#46039f"
             ],
             [
              0.2222222222222222,
              "#7201a8"
             ],
             [
              0.3333333333333333,
              "#9c179e"
             ],
             [
              0.4444444444444444,
              "#bd3786"
             ],
             [
              0.5555555555555556,
              "#d8576b"
             ],
             [
              0.6666666666666666,
              "#ed7953"
             ],
             [
              0.7777777777777778,
              "#fb9f3a"
             ],
             [
              0.8888888888888888,
              "#fdca26"
             ],
             [
              1,
              "#f0f921"
             ]
            ],
            "type": "heatmap"
           }
          ],
          "heatmapgl": [
           {
            "colorbar": {
             "outlinewidth": 0,
             "ticks": ""
            },
            "colorscale": [
             [
              0,
              "#0d0887"
             ],
             [
              0.1111111111111111,
              "#46039f"
             ],
             [
              0.2222222222222222,
              "#7201a8"
             ],
             [
              0.3333333333333333,
              "#9c179e"
             ],
             [
              0.4444444444444444,
              "#bd3786"
             ],
             [
              0.5555555555555556,
              "#d8576b"
             ],
             [
              0.6666666666666666,
              "#ed7953"
             ],
             [
              0.7777777777777778,
              "#fb9f3a"
             ],
             [
              0.8888888888888888,
              "#fdca26"
             ],
             [
              1,
              "#f0f921"
             ]
            ],
            "type": "heatmapgl"
           }
          ],
          "histogram": [
           {
            "marker": {
             "colorbar": {
              "outlinewidth": 0,
              "ticks": ""
             }
            },
            "type": "histogram"
           }
          ],
          "histogram2d": [
           {
            "colorbar": {
             "outlinewidth": 0,
             "ticks": ""
            },
            "colorscale": [
             [
              0,
              "#0d0887"
             ],
             [
              0.1111111111111111,
              "#46039f"
             ],
             [
              0.2222222222222222,
              "#7201a8"
             ],
             [
              0.3333333333333333,
              "#9c179e"
             ],
             [
              0.4444444444444444,
              "#bd3786"
             ],
             [
              0.5555555555555556,
              "#d8576b"
             ],
             [
              0.6666666666666666,
              "#ed7953"
             ],
             [
              0.7777777777777778,
              "#fb9f3a"
             ],
             [
              0.8888888888888888,
              "#fdca26"
             ],
             [
              1,
              "#f0f921"
             ]
            ],
            "type": "histogram2d"
           }
          ],
          "histogram2dcontour": [
           {
            "colorbar": {
             "outlinewidth": 0,
             "ticks": ""
            },
            "colorscale": [
             [
              0,
              "#0d0887"
             ],
             [
              0.1111111111111111,
              "#46039f"
             ],
             [
              0.2222222222222222,
              "#7201a8"
             ],
             [
              0.3333333333333333,
              "#9c179e"
             ],
             [
              0.4444444444444444,
              "#bd3786"
             ],
             [
              0.5555555555555556,
              "#d8576b"
             ],
             [
              0.6666666666666666,
              "#ed7953"
             ],
             [
              0.7777777777777778,
              "#fb9f3a"
             ],
             [
              0.8888888888888888,
              "#fdca26"
             ],
             [
              1,
              "#f0f921"
             ]
            ],
            "type": "histogram2dcontour"
           }
          ],
          "mesh3d": [
           {
            "colorbar": {
             "outlinewidth": 0,
             "ticks": ""
            },
            "type": "mesh3d"
           }
          ],
          "parcoords": [
           {
            "line": {
             "colorbar": {
              "outlinewidth": 0,
              "ticks": ""
             }
            },
            "type": "parcoords"
           }
          ],
          "pie": [
           {
            "automargin": true,
            "type": "pie"
           }
          ],
          "scatter": [
           {
            "marker": {
             "colorbar": {
              "outlinewidth": 0,
              "ticks": ""
             }
            },
            "type": "scatter"
           }
          ],
          "scatter3d": [
           {
            "line": {
             "colorbar": {
              "outlinewidth": 0,
              "ticks": ""
             }
            },
            "marker": {
             "colorbar": {
              "outlinewidth": 0,
              "ticks": ""
             }
            },
            "type": "scatter3d"
           }
          ],
          "scattercarpet": [
           {
            "marker": {
             "colorbar": {
              "outlinewidth": 0,
              "ticks": ""
             }
            },
            "type": "scattercarpet"
           }
          ],
          "scattergeo": [
           {
            "marker": {
             "colorbar": {
              "outlinewidth": 0,
              "ticks": ""
             }
            },
            "type": "scattergeo"
           }
          ],
          "scattergl": [
           {
            "marker": {
             "colorbar": {
              "outlinewidth": 0,
              "ticks": ""
             }
            },
            "type": "scattergl"
           }
          ],
          "scattermapbox": [
           {
            "marker": {
             "colorbar": {
              "outlinewidth": 0,
              "ticks": ""
             }
            },
            "type": "scattermapbox"
           }
          ],
          "scatterpolar": [
           {
            "marker": {
             "colorbar": {
              "outlinewidth": 0,
              "ticks": ""
             }
            },
            "type": "scatterpolar"
           }
          ],
          "scatterpolargl": [
           {
            "marker": {
             "colorbar": {
              "outlinewidth": 0,
              "ticks": ""
             }
            },
            "type": "scatterpolargl"
           }
          ],
          "scatterternary": [
           {
            "marker": {
             "colorbar": {
              "outlinewidth": 0,
              "ticks": ""
             }
            },
            "type": "scatterternary"
           }
          ],
          "surface": [
           {
            "colorbar": {
             "outlinewidth": 0,
             "ticks": ""
            },
            "colorscale": [
             [
              0,
              "#0d0887"
             ],
             [
              0.1111111111111111,
              "#46039f"
             ],
             [
              0.2222222222222222,
              "#7201a8"
             ],
             [
              0.3333333333333333,
              "#9c179e"
             ],
             [
              0.4444444444444444,
              "#bd3786"
             ],
             [
              0.5555555555555556,
              "#d8576b"
             ],
             [
              0.6666666666666666,
              "#ed7953"
             ],
             [
              0.7777777777777778,
              "#fb9f3a"
             ],
             [
              0.8888888888888888,
              "#fdca26"
             ],
             [
              1,
              "#f0f921"
             ]
            ],
            "type": "surface"
           }
          ],
          "table": [
           {
            "cells": {
             "fill": {
              "color": "#EBF0F8"
             },
             "line": {
              "color": "white"
             }
            },
            "header": {
             "fill": {
              "color": "#C8D4E3"
             },
             "line": {
              "color": "white"
             }
            },
            "type": "table"
           }
          ]
         },
         "layout": {
          "annotationdefaults": {
           "arrowcolor": "#2a3f5f",
           "arrowhead": 0,
           "arrowwidth": 1
          },
          "coloraxis": {
           "colorbar": {
            "outlinewidth": 0,
            "ticks": ""
           }
          },
          "colorscale": {
           "diverging": [
            [
             0,
             "#8e0152"
            ],
            [
             0.1,
             "#c51b7d"
            ],
            [
             0.2,
             "#de77ae"
            ],
            [
             0.3,
             "#f1b6da"
            ],
            [
             0.4,
             "#fde0ef"
            ],
            [
             0.5,
             "#f7f7f7"
            ],
            [
             0.6,
             "#e6f5d0"
            ],
            [
             0.7,
             "#b8e186"
            ],
            [
             0.8,
             "#7fbc41"
            ],
            [
             0.9,
             "#4d9221"
            ],
            [
             1,
             "#276419"
            ]
           ],
           "sequential": [
            [
             0,
             "#0d0887"
            ],
            [
             0.1111111111111111,
             "#46039f"
            ],
            [
             0.2222222222222222,
             "#7201a8"
            ],
            [
             0.3333333333333333,
             "#9c179e"
            ],
            [
             0.4444444444444444,
             "#bd3786"
            ],
            [
             0.5555555555555556,
             "#d8576b"
            ],
            [
             0.6666666666666666,
             "#ed7953"
            ],
            [
             0.7777777777777778,
             "#fb9f3a"
            ],
            [
             0.8888888888888888,
             "#fdca26"
            ],
            [
             1,
             "#f0f921"
            ]
           ],
           "sequentialminus": [
            [
             0,
             "#0d0887"
            ],
            [
             0.1111111111111111,
             "#46039f"
            ],
            [
             0.2222222222222222,
             "#7201a8"
            ],
            [
             0.3333333333333333,
             "#9c179e"
            ],
            [
             0.4444444444444444,
             "#bd3786"
            ],
            [
             0.5555555555555556,
             "#d8576b"
            ],
            [
             0.6666666666666666,
             "#ed7953"
            ],
            [
             0.7777777777777778,
             "#fb9f3a"
            ],
            [
             0.8888888888888888,
             "#fdca26"
            ],
            [
             1,
             "#f0f921"
            ]
           ]
          },
          "colorway": [
           "#636efa",
           "#EF553B",
           "#00cc96",
           "#ab63fa",
           "#FFA15A",
           "#19d3f3",
           "#FF6692",
           "#B6E880",
           "#FF97FF",
           "#FECB52"
          ],
          "font": {
           "color": "#2a3f5f"
          },
          "geo": {
           "bgcolor": "white",
           "lakecolor": "white",
           "landcolor": "#E5ECF6",
           "showlakes": true,
           "showland": true,
           "subunitcolor": "white"
          },
          "hoverlabel": {
           "align": "left"
          },
          "hovermode": "closest",
          "mapbox": {
           "style": "light"
          },
          "paper_bgcolor": "white",
          "plot_bgcolor": "#E5ECF6",
          "polar": {
           "angularaxis": {
            "gridcolor": "white",
            "linecolor": "white",
            "ticks": ""
           },
           "bgcolor": "#E5ECF6",
           "radialaxis": {
            "gridcolor": "white",
            "linecolor": "white",
            "ticks": ""
           }
          },
          "scene": {
           "xaxis": {
            "backgroundcolor": "#E5ECF6",
            "gridcolor": "white",
            "gridwidth": 2,
            "linecolor": "white",
            "showbackground": true,
            "ticks": "",
            "zerolinecolor": "white"
           },
           "yaxis": {
            "backgroundcolor": "#E5ECF6",
            "gridcolor": "white",
            "gridwidth": 2,
            "linecolor": "white",
            "showbackground": true,
            "ticks": "",
            "zerolinecolor": "white"
           },
           "zaxis": {
            "backgroundcolor": "#E5ECF6",
            "gridcolor": "white",
            "gridwidth": 2,
            "linecolor": "white",
            "showbackground": true,
            "ticks": "",
            "zerolinecolor": "white"
           }
          },
          "shapedefaults": {
           "line": {
            "color": "#2a3f5f"
           }
          },
          "ternary": {
           "aaxis": {
            "gridcolor": "white",
            "linecolor": "white",
            "ticks": ""
           },
           "baxis": {
            "gridcolor": "white",
            "linecolor": "white",
            "ticks": ""
           },
           "bgcolor": "#E5ECF6",
           "caxis": {
            "gridcolor": "white",
            "linecolor": "white",
            "ticks": ""
           }
          },
          "title": {
           "x": 0.05
          },
          "xaxis": {
           "automargin": true,
           "gridcolor": "white",
           "linecolor": "white",
           "ticks": "",
           "title": {
            "standoff": 15
           },
           "zerolinecolor": "white",
           "zerolinewidth": 2
          },
          "yaxis": {
           "automargin": true,
           "gridcolor": "white",
           "linecolor": "white",
           "ticks": "",
           "title": {
            "standoff": 15
           },
           "zerolinecolor": "white",
           "zerolinewidth": 2
          }
         }
        },
        "title": {
         "text": "COVID-19 top users of 2020-04-27 00:00:00"
        },
        "updatemenus": [
         {
          "buttons": [
           {
            "args": [
             null,
             {
              "frame": {
               "duration": 2000,
               "redraw": true
              },
              "fromcurrent": true
             }
            ],
            "label": "Play",
            "method": "animate"
           },
           {
            "args": [
             [
              null
             ],
             {
              "frame": {
               "duration": 0,
               "redraw": false
              },
              "mode": "immediate",
              "transition": {
               "duration": 0
              }
             }
            ],
            "label": "Stop",
            "method": "animate"
           }
          ],
          "type": "buttons"
         }
        ],
        "xaxis": {
         "showline": false,
         "visible": false
        },
        "yaxis": {
         "range": [
          0,
          26
         ],
         "showline": false,
         "visible": false
        }
       }
      },
      "text/html": [
       "<div>\n",
       "        \n",
       "        \n",
       "            <div id=\"fd752f98-2312-4c2c-8901-052bb8d14c27\" class=\"plotly-graph-div\" style=\"height:525px; width:100%;\"></div>\n",
       "            <script type=\"text/javascript\">\n",
       "                require([\"plotly\"], function(Plotly) {\n",
       "                    window.PLOTLYENV=window.PLOTLYENV || {};\n",
       "                    \n",
       "                if (document.getElementById(\"fd752f98-2312-4c2c-8901-052bb8d14c27\")) {\n",
       "                    Plotly.newPlot(\n",
       "                        'fd752f98-2312-4c2c-8901-052bb8d14c27',\n",
       "                        [{\"cliponaxis\": false, \"hoverinfo\": \"none\", \"marker\": {\"color\": [\"rgb(71, 185, 190)\", \"rgb(149, 110, 235)\", \"rgb(88, 47, 204)\", \"rgb(146, 97, 236)\", \"rgb(48, 119, 166)\", \"rgb(163, 136, 240)\", \"rgb(176, 67, 136)\", \"rgb(171, 182, 213)\", \"rgb(160, 138, 129)\", \"rgb(48, 27, 246)\", \"rgb(32, 12, 194)\", \"rgb(17, 92, 143)\", \"rgb(158, 102, 203)\", \"rgb(156, 93, 223)\", \"rgb(30, 24, 178)\", \"rgb(1, 57, 240)\", \"rgb(151, 89, 208)\", \"rgb(28, 76, 237)\", \"rgb(10, 32, 235)\", \"rgb(60, 27, 182)\", \"rgb(87, 169, 142)\", \"rgb(175, 130, 178)\", \"rgb(80, 19, 159)\"]}, \"textposition\": \"outside\", \"texttemplate\": \"%{x}<br>%{y}\", \"type\": \"bar\", \"x\": [\"mitchellvii\", \"Iam360WISE\", \"gstuedler\", \"adejames2000\", \"WandaRufin\", \"lopezgovlaw\", \"thomaskaine5\", \"wsvn\", \"TalyaMironShatz\", \"izatrini\", \"SWexner\", \"TheMiamiTimes\", \"SFBJNews\", \"MiamiHerald\", \"Aunty__Em\", \"DEADLINE\", \"4BillLewis\", \"CBSMiami\", \"cachete66\", \"dicerod\", \"agodgmt\", \"ExactOptionPick\", \"MiamiBeachCL\"], \"y\": [14.0, 13.0, 12.0, 12.0, 11.0, 8.0, 7.0, 7.0, 7.0, 6.0, 0.0, 0.0, 0.0, 0.0, 0.0, 0.0, 0.0, 0.0, 0.0, 0.0, 0.0, 0.0, 0.0]}],\n",
       "                        {\"bargap\": 0.15, \"font\": {\"size\": 14}, \"plot_bgcolor\": \"#FFFFFF\", \"template\": {\"data\": {\"bar\": [{\"error_x\": {\"color\": \"#2a3f5f\"}, \"error_y\": {\"color\": \"#2a3f5f\"}, \"marker\": {\"line\": {\"color\": \"#E5ECF6\", \"width\": 0.5}}, \"type\": \"bar\"}], \"barpolar\": [{\"marker\": {\"line\": {\"color\": \"#E5ECF6\", \"width\": 0.5}}, \"type\": \"barpolar\"}], \"carpet\": [{\"aaxis\": {\"endlinecolor\": \"#2a3f5f\", \"gridcolor\": \"white\", \"linecolor\": \"white\", \"minorgridcolor\": \"white\", \"startlinecolor\": \"#2a3f5f\"}, \"baxis\": {\"endlinecolor\": \"#2a3f5f\", \"gridcolor\": \"white\", \"linecolor\": \"white\", \"minorgridcolor\": \"white\", \"startlinecolor\": \"#2a3f5f\"}, \"type\": \"carpet\"}], \"choropleth\": [{\"colorbar\": {\"outlinewidth\": 0, \"ticks\": \"\"}, \"type\": \"choropleth\"}], \"contour\": [{\"colorbar\": {\"outlinewidth\": 0, \"ticks\": \"\"}, \"colorscale\": [[0.0, \"#0d0887\"], [0.1111111111111111, \"#46039f\"], [0.2222222222222222, \"#7201a8\"], [0.3333333333333333, \"#9c179e\"], [0.4444444444444444, \"#bd3786\"], [0.5555555555555556, \"#d8576b\"], [0.6666666666666666, \"#ed7953\"], [0.7777777777777778, \"#fb9f3a\"], [0.8888888888888888, \"#fdca26\"], [1.0, \"#f0f921\"]], \"type\": \"contour\"}], \"contourcarpet\": [{\"colorbar\": {\"outlinewidth\": 0, \"ticks\": \"\"}, \"type\": \"contourcarpet\"}], \"heatmap\": [{\"colorbar\": {\"outlinewidth\": 0, \"ticks\": \"\"}, \"colorscale\": [[0.0, \"#0d0887\"], [0.1111111111111111, \"#46039f\"], [0.2222222222222222, \"#7201a8\"], [0.3333333333333333, \"#9c179e\"], [0.4444444444444444, \"#bd3786\"], [0.5555555555555556, \"#d8576b\"], [0.6666666666666666, \"#ed7953\"], [0.7777777777777778, \"#fb9f3a\"], [0.8888888888888888, \"#fdca26\"], [1.0, \"#f0f921\"]], \"type\": \"heatmap\"}], \"heatmapgl\": [{\"colorbar\": {\"outlinewidth\": 0, \"ticks\": \"\"}, \"colorscale\": [[0.0, \"#0d0887\"], [0.1111111111111111, \"#46039f\"], [0.2222222222222222, \"#7201a8\"], [0.3333333333333333, \"#9c179e\"], [0.4444444444444444, \"#bd3786\"], [0.5555555555555556, \"#d8576b\"], [0.6666666666666666, \"#ed7953\"], [0.7777777777777778, \"#fb9f3a\"], [0.8888888888888888, \"#fdca26\"], [1.0, \"#f0f921\"]], \"type\": \"heatmapgl\"}], \"histogram\": [{\"marker\": {\"colorbar\": {\"outlinewidth\": 0, \"ticks\": \"\"}}, \"type\": \"histogram\"}], \"histogram2d\": [{\"colorbar\": {\"outlinewidth\": 0, \"ticks\": \"\"}, \"colorscale\": [[0.0, \"#0d0887\"], [0.1111111111111111, \"#46039f\"], [0.2222222222222222, \"#7201a8\"], [0.3333333333333333, \"#9c179e\"], [0.4444444444444444, \"#bd3786\"], [0.5555555555555556, \"#d8576b\"], [0.6666666666666666, \"#ed7953\"], [0.7777777777777778, \"#fb9f3a\"], [0.8888888888888888, \"#fdca26\"], [1.0, \"#f0f921\"]], \"type\": \"histogram2d\"}], \"histogram2dcontour\": [{\"colorbar\": {\"outlinewidth\": 0, \"ticks\": \"\"}, \"colorscale\": [[0.0, \"#0d0887\"], [0.1111111111111111, \"#46039f\"], [0.2222222222222222, \"#7201a8\"], [0.3333333333333333, \"#9c179e\"], [0.4444444444444444, \"#bd3786\"], [0.5555555555555556, \"#d8576b\"], [0.6666666666666666, \"#ed7953\"], [0.7777777777777778, \"#fb9f3a\"], [0.8888888888888888, \"#fdca26\"], [1.0, \"#f0f921\"]], \"type\": \"histogram2dcontour\"}], \"mesh3d\": [{\"colorbar\": {\"outlinewidth\": 0, \"ticks\": \"\"}, \"type\": \"mesh3d\"}], \"parcoords\": [{\"line\": {\"colorbar\": {\"outlinewidth\": 0, \"ticks\": \"\"}}, \"type\": \"parcoords\"}], \"pie\": [{\"automargin\": true, \"type\": \"pie\"}], \"scatter\": [{\"marker\": {\"colorbar\": {\"outlinewidth\": 0, \"ticks\": \"\"}}, \"type\": \"scatter\"}], \"scatter3d\": [{\"line\": {\"colorbar\": {\"outlinewidth\": 0, \"ticks\": \"\"}}, \"marker\": {\"colorbar\": {\"outlinewidth\": 0, \"ticks\": \"\"}}, \"type\": \"scatter3d\"}], \"scattercarpet\": [{\"marker\": {\"colorbar\": {\"outlinewidth\": 0, \"ticks\": \"\"}}, \"type\": \"scattercarpet\"}], \"scattergeo\": [{\"marker\": {\"colorbar\": {\"outlinewidth\": 0, \"ticks\": \"\"}}, \"type\": \"scattergeo\"}], \"scattergl\": [{\"marker\": {\"colorbar\": {\"outlinewidth\": 0, \"ticks\": \"\"}}, \"type\": \"scattergl\"}], \"scattermapbox\": [{\"marker\": {\"colorbar\": {\"outlinewidth\": 0, \"ticks\": \"\"}}, \"type\": \"scattermapbox\"}], \"scatterpolar\": [{\"marker\": {\"colorbar\": {\"outlinewidth\": 0, \"ticks\": \"\"}}, \"type\": \"scatterpolar\"}], \"scatterpolargl\": [{\"marker\": {\"colorbar\": {\"outlinewidth\": 0, \"ticks\": \"\"}}, \"type\": \"scatterpolargl\"}], \"scatterternary\": [{\"marker\": {\"colorbar\": {\"outlinewidth\": 0, \"ticks\": \"\"}}, \"type\": \"scatterternary\"}], \"surface\": [{\"colorbar\": {\"outlinewidth\": 0, \"ticks\": \"\"}, \"colorscale\": [[0.0, \"#0d0887\"], [0.1111111111111111, \"#46039f\"], [0.2222222222222222, \"#7201a8\"], [0.3333333333333333, \"#9c179e\"], [0.4444444444444444, \"#bd3786\"], [0.5555555555555556, \"#d8576b\"], [0.6666666666666666, \"#ed7953\"], [0.7777777777777778, \"#fb9f3a\"], [0.8888888888888888, \"#fdca26\"], [1.0, \"#f0f921\"]], \"type\": \"surface\"}], \"table\": [{\"cells\": {\"fill\": {\"color\": \"#EBF0F8\"}, \"line\": {\"color\": \"white\"}}, \"header\": {\"fill\": {\"color\": \"#C8D4E3\"}, \"line\": {\"color\": \"white\"}}, \"type\": \"table\"}]}, \"layout\": {\"annotationdefaults\": {\"arrowcolor\": \"#2a3f5f\", \"arrowhead\": 0, \"arrowwidth\": 1}, \"coloraxis\": {\"colorbar\": {\"outlinewidth\": 0, \"ticks\": \"\"}}, \"colorscale\": {\"diverging\": [[0, \"#8e0152\"], [0.1, \"#c51b7d\"], [0.2, \"#de77ae\"], [0.3, \"#f1b6da\"], [0.4, \"#fde0ef\"], [0.5, \"#f7f7f7\"], [0.6, \"#e6f5d0\"], [0.7, \"#b8e186\"], [0.8, \"#7fbc41\"], [0.9, \"#4d9221\"], [1, \"#276419\"]], \"sequential\": [[0.0, \"#0d0887\"], [0.1111111111111111, \"#46039f\"], [0.2222222222222222, \"#7201a8\"], [0.3333333333333333, \"#9c179e\"], [0.4444444444444444, \"#bd3786\"], [0.5555555555555556, \"#d8576b\"], [0.6666666666666666, \"#ed7953\"], [0.7777777777777778, \"#fb9f3a\"], [0.8888888888888888, \"#fdca26\"], [1.0, \"#f0f921\"]], \"sequentialminus\": [[0.0, \"#0d0887\"], [0.1111111111111111, \"#46039f\"], [0.2222222222222222, \"#7201a8\"], [0.3333333333333333, \"#9c179e\"], [0.4444444444444444, \"#bd3786\"], [0.5555555555555556, \"#d8576b\"], [0.6666666666666666, \"#ed7953\"], [0.7777777777777778, \"#fb9f3a\"], [0.8888888888888888, \"#fdca26\"], [1.0, \"#f0f921\"]]}, \"colorway\": [\"#636efa\", \"#EF553B\", \"#00cc96\", \"#ab63fa\", \"#FFA15A\", \"#19d3f3\", \"#FF6692\", \"#B6E880\", \"#FF97FF\", \"#FECB52\"], \"font\": {\"color\": \"#2a3f5f\"}, \"geo\": {\"bgcolor\": \"white\", \"lakecolor\": \"white\", \"landcolor\": \"#E5ECF6\", \"showlakes\": true, \"showland\": true, \"subunitcolor\": \"white\"}, \"hoverlabel\": {\"align\": \"left\"}, \"hovermode\": \"closest\", \"mapbox\": {\"style\": \"light\"}, \"paper_bgcolor\": \"white\", \"plot_bgcolor\": \"#E5ECF6\", \"polar\": {\"angularaxis\": {\"gridcolor\": \"white\", \"linecolor\": \"white\", \"ticks\": \"\"}, \"bgcolor\": \"#E5ECF6\", \"radialaxis\": {\"gridcolor\": \"white\", \"linecolor\": \"white\", \"ticks\": \"\"}}, \"scene\": {\"xaxis\": {\"backgroundcolor\": \"#E5ECF6\", \"gridcolor\": \"white\", \"gridwidth\": 2, \"linecolor\": \"white\", \"showbackground\": true, \"ticks\": \"\", \"zerolinecolor\": \"white\"}, \"yaxis\": {\"backgroundcolor\": \"#E5ECF6\", \"gridcolor\": \"white\", \"gridwidth\": 2, \"linecolor\": \"white\", \"showbackground\": true, \"ticks\": \"\", \"zerolinecolor\": \"white\"}, \"zaxis\": {\"backgroundcolor\": \"#E5ECF6\", \"gridcolor\": \"white\", \"gridwidth\": 2, \"linecolor\": \"white\", \"showbackground\": true, \"ticks\": \"\", \"zerolinecolor\": \"white\"}}, \"shapedefaults\": {\"line\": {\"color\": \"#2a3f5f\"}}, \"ternary\": {\"aaxis\": {\"gridcolor\": \"white\", \"linecolor\": \"white\", \"ticks\": \"\"}, \"baxis\": {\"gridcolor\": \"white\", \"linecolor\": \"white\", \"ticks\": \"\"}, \"bgcolor\": \"#E5ECF6\", \"caxis\": {\"gridcolor\": \"white\", \"linecolor\": \"white\", \"ticks\": \"\"}}, \"title\": {\"x\": 0.05}, \"xaxis\": {\"automargin\": true, \"gridcolor\": \"white\", \"linecolor\": \"white\", \"ticks\": \"\", \"title\": {\"standoff\": 15}, \"zerolinecolor\": \"white\", \"zerolinewidth\": 2}, \"yaxis\": {\"automargin\": true, \"gridcolor\": \"white\", \"linecolor\": \"white\", \"ticks\": \"\", \"title\": {\"standoff\": 15}, \"zerolinecolor\": \"white\", \"zerolinewidth\": 2}}}, \"title\": {\"text\": \"COVID-19 top users of 2020-04-27 00:00:00\"}, \"updatemenus\": [{\"buttons\": [{\"args\": [null, {\"frame\": {\"duration\": 2000, \"redraw\": true}, \"fromcurrent\": true}], \"label\": \"Play\", \"method\": \"animate\"}, {\"args\": [[null], {\"frame\": {\"duration\": 0, \"redraw\": false}, \"mode\": \"immediate\", \"transition\": {\"duration\": 0}}], \"label\": \"Stop\", \"method\": \"animate\"}], \"type\": \"buttons\"}], \"xaxis\": {\"showline\": false, \"visible\": false}, \"yaxis\": {\"range\": [0, 26.0], \"showline\": false, \"visible\": false}},\n",
       "                        {\"responsive\": true}\n",
       "                    ).then(function(){\n",
       "                            Plotly.addFrames('fd752f98-2312-4c2c-8901-052bb8d14c27', [{\"data\": [{\"cliponaxis\": false, \"hoverinfo\": \"none\", \"marker\": {\"color\": [\"rgb(71, 185, 190)\", \"rgb(149, 110, 235)\", \"rgb(88, 47, 204)\", \"rgb(146, 97, 236)\", \"rgb(48, 119, 166)\", \"rgb(163, 136, 240)\", \"rgb(176, 67, 136)\", \"rgb(171, 182, 213)\", \"rgb(160, 138, 129)\", \"rgb(48, 27, 246)\", \"rgb(32, 12, 194)\", \"rgb(17, 92, 143)\", \"rgb(158, 102, 203)\", \"rgb(156, 93, 223)\", \"rgb(30, 24, 178)\", \"rgb(1, 57, 240)\", \"rgb(151, 89, 208)\", \"rgb(28, 76, 237)\", \"rgb(10, 32, 235)\", \"rgb(60, 27, 182)\", \"rgb(87, 169, 142)\", \"rgb(175, 130, 178)\", \"rgb(80, 19, 159)\"]}, \"textposition\": \"outside\", \"texttemplate\": \"%{x}<br>%{y}\", \"x\": [\"mitchellvii\", \"Iam360WISE\", \"gstuedler\", \"adejames2000\", \"WandaRufin\", \"lopezgovlaw\", \"thomaskaine5\", \"wsvn\", \"TalyaMironShatz\", \"izatrini\", \"SWexner\", \"TheMiamiTimes\", \"SFBJNews\", \"MiamiHerald\", \"Aunty__Em\", \"DEADLINE\", \"4BillLewis\", \"CBSMiami\", \"cachete66\", \"dicerod\", \"agodgmt\", \"ExactOptionPick\", \"MiamiBeachCL\"], \"y\": [14.0, 13.0, 12.0, 12.0, 11.0, 8.0, 7.0, 7.0, 7.0, 6.0, 0.0, 0.0, 0.0, 0.0, 0.0, 0.0, 0.0, 0.0, 0.0, 0.0, 0.0, 0.0, 0.0], \"type\": \"bar\"}], \"layout\": {\"bargap\": 0.15, \"font\": {\"size\": 14}, \"plot_bgcolor\": \"#FFFFFF\", \"title\": {\"text\": \"COVID-19 top users of 2020-04-27 00:00:00\"}, \"xaxis\": {\"showline\": false, \"visible\": false}, \"yaxis\": {\"showline\": false, \"visible\": false}}}, {\"data\": [{\"cliponaxis\": false, \"hoverinfo\": \"none\", \"marker\": {\"color\": [\"rgb(71, 185, 190)\", \"rgb(149, 110, 235)\", \"rgb(88, 47, 204)\", \"rgb(146, 97, 236)\", \"rgb(48, 119, 166)\", \"rgb(163, 136, 240)\", \"rgb(176, 67, 136)\", \"rgb(171, 182, 213)\", \"rgb(160, 138, 129)\", \"rgb(48, 27, 246)\", \"rgb(32, 12, 194)\", \"rgb(17, 92, 143)\", \"rgb(158, 102, 203)\", \"rgb(156, 93, 223)\", \"rgb(30, 24, 178)\", \"rgb(1, 57, 240)\", \"rgb(151, 89, 208)\", \"rgb(28, 76, 237)\", \"rgb(10, 32, 235)\", \"rgb(60, 27, 182)\", \"rgb(87, 169, 142)\", \"rgb(175, 130, 178)\", \"rgb(80, 19, 159)\"]}, \"textposition\": \"outside\", \"texttemplate\": \"%{x}<br>%{y}\", \"x\": [\"mitchellvii\", \"Iam360WISE\", \"gstuedler\", \"adejames2000\", \"WandaRufin\", \"lopezgovlaw\", \"thomaskaine5\", \"wsvn\", \"TalyaMironShatz\", \"izatrini\", \"SWexner\", \"TheMiamiTimes\", \"SFBJNews\", \"MiamiHerald\", \"Aunty__Em\", \"DEADLINE\", \"4BillLewis\", \"CBSMiami\", \"cachete66\", \"dicerod\", \"agodgmt\", \"ExactOptionPick\", \"MiamiBeachCL\"], \"y\": [16.0, 12.0, 16.0, 0.0, 10.0, 0.0, 9.0, 0.0, 0.0, 6.0, 26.0, 16.0, 7.0, 6.0, 0.0, 0.0, 0.0, 0.0, 0.0, 0.0, 0.0, 0.0, 0.0], \"type\": \"bar\"}], \"layout\": {\"bargap\": 0.15, \"font\": {\"size\": 14}, \"plot_bgcolor\": \"#FFFFFF\", \"title\": {\"text\": \"COVID-19 top users of 2020-04-28 00:00:00\"}, \"xaxis\": {\"showline\": false, \"visible\": false}, \"yaxis\": {\"showline\": false, \"visible\": false}}}, {\"data\": [{\"cliponaxis\": false, \"hoverinfo\": \"none\", \"marker\": {\"color\": [\"rgb(71, 185, 190)\", \"rgb(149, 110, 235)\", \"rgb(88, 47, 204)\", \"rgb(146, 97, 236)\", \"rgb(48, 119, 166)\", \"rgb(163, 136, 240)\", \"rgb(176, 67, 136)\", \"rgb(171, 182, 213)\", \"rgb(160, 138, 129)\", \"rgb(48, 27, 246)\", \"rgb(32, 12, 194)\", \"rgb(17, 92, 143)\", \"rgb(158, 102, 203)\", \"rgb(156, 93, 223)\", \"rgb(30, 24, 178)\", \"rgb(1, 57, 240)\", \"rgb(151, 89, 208)\", \"rgb(28, 76, 237)\", \"rgb(10, 32, 235)\", \"rgb(60, 27, 182)\", \"rgb(87, 169, 142)\", \"rgb(175, 130, 178)\", \"rgb(80, 19, 159)\"]}, \"textposition\": \"outside\", \"texttemplate\": \"%{x}<br>%{y}\", \"x\": [\"mitchellvii\", \"Iam360WISE\", \"gstuedler\", \"adejames2000\", \"WandaRufin\", \"lopezgovlaw\", \"thomaskaine5\", \"wsvn\", \"TalyaMironShatz\", \"izatrini\", \"SWexner\", \"TheMiamiTimes\", \"SFBJNews\", \"MiamiHerald\", \"Aunty__Em\", \"DEADLINE\", \"4BillLewis\", \"CBSMiami\", \"cachete66\", \"dicerod\", \"agodgmt\", \"ExactOptionPick\", \"MiamiBeachCL\"], \"y\": [17.0, 17.0, 12.0, 0.0, 11.0, 10.0, 25.0, 0.0, 0.0, 0.0, 10.0, 9.0, 0.0, 0.0, 9.0, 8.0, 0.0, 0.0, 0.0, 0.0, 0.0, 0.0, 0.0], \"type\": \"bar\"}], \"layout\": {\"bargap\": 0.15, \"font\": {\"size\": 14}, \"plot_bgcolor\": \"#FFFFFF\", \"title\": {\"text\": \"COVID-19 top users of 2020-04-29 00:00:00\"}, \"xaxis\": {\"showline\": false, \"visible\": false}, \"yaxis\": {\"showline\": false, \"visible\": false}}}, {\"data\": [{\"cliponaxis\": false, \"hoverinfo\": \"none\", \"marker\": {\"color\": [\"rgb(71, 185, 190)\", \"rgb(149, 110, 235)\", \"rgb(88, 47, 204)\", \"rgb(146, 97, 236)\", \"rgb(48, 119, 166)\", \"rgb(163, 136, 240)\", \"rgb(176, 67, 136)\", \"rgb(171, 182, 213)\", \"rgb(160, 138, 129)\", \"rgb(48, 27, 246)\", \"rgb(32, 12, 194)\", \"rgb(17, 92, 143)\", \"rgb(158, 102, 203)\", \"rgb(156, 93, 223)\", \"rgb(30, 24, 178)\", \"rgb(1, 57, 240)\", \"rgb(151, 89, 208)\", \"rgb(28, 76, 237)\", \"rgb(10, 32, 235)\", \"rgb(60, 27, 182)\", \"rgb(87, 169, 142)\", \"rgb(175, 130, 178)\", \"rgb(80, 19, 159)\"]}, \"textposition\": \"outside\", \"texttemplate\": \"%{x}<br>%{y}\", \"x\": [\"mitchellvii\", \"Iam360WISE\", \"gstuedler\", \"adejames2000\", \"WandaRufin\", \"lopezgovlaw\", \"thomaskaine5\", \"wsvn\", \"TalyaMironShatz\", \"izatrini\", \"SWexner\", \"TheMiamiTimes\", \"SFBJNews\", \"MiamiHerald\", \"Aunty__Em\", \"DEADLINE\", \"4BillLewis\", \"CBSMiami\", \"cachete66\", \"dicerod\", \"agodgmt\", \"ExactOptionPick\", \"MiamiBeachCL\"], \"y\": [23.0, 10.0, 12.0, 0.0, 0.0, 10.0, 11.0, 6.0, 8.0, 0.0, 0.0, 12.0, 0.0, 0.0, 0.0, 8.0, 25.0, 0.0, 0.0, 0.0, 0.0, 0.0, 0.0], \"type\": \"bar\"}], \"layout\": {\"bargap\": 0.15, \"font\": {\"size\": 14}, \"plot_bgcolor\": \"#FFFFFF\", \"title\": {\"text\": \"COVID-19 top users of 2020-04-30 00:00:00\"}, \"xaxis\": {\"showline\": false, \"visible\": false}, \"yaxis\": {\"showline\": false, \"visible\": false}}}, {\"data\": [{\"cliponaxis\": false, \"hoverinfo\": \"none\", \"marker\": {\"color\": [\"rgb(71, 185, 190)\", \"rgb(149, 110, 235)\", \"rgb(88, 47, 204)\", \"rgb(146, 97, 236)\", \"rgb(48, 119, 166)\", \"rgb(163, 136, 240)\", \"rgb(176, 67, 136)\", \"rgb(171, 182, 213)\", \"rgb(160, 138, 129)\", \"rgb(48, 27, 246)\", \"rgb(32, 12, 194)\", \"rgb(17, 92, 143)\", \"rgb(158, 102, 203)\", \"rgb(156, 93, 223)\", \"rgb(30, 24, 178)\", \"rgb(1, 57, 240)\", \"rgb(151, 89, 208)\", \"rgb(28, 76, 237)\", \"rgb(10, 32, 235)\", \"rgb(60, 27, 182)\", \"rgb(87, 169, 142)\", \"rgb(175, 130, 178)\", \"rgb(80, 19, 159)\"]}, \"textposition\": \"outside\", \"texttemplate\": \"%{x}<br>%{y}\", \"x\": [\"mitchellvii\", \"Iam360WISE\", \"gstuedler\", \"adejames2000\", \"WandaRufin\", \"lopezgovlaw\", \"thomaskaine5\", \"wsvn\", \"TalyaMironShatz\", \"izatrini\", \"SWexner\", \"TheMiamiTimes\", \"SFBJNews\", \"MiamiHerald\", \"Aunty__Em\", \"DEADLINE\", \"4BillLewis\", \"CBSMiami\", \"cachete66\", \"dicerod\", \"agodgmt\", \"ExactOptionPick\", \"MiamiBeachCL\"], \"y\": [18.0, 17.0, 10.0, 0.0, 0.0, 7.0, 9.0, 0.0, 0.0, 0.0, 19.0, 0.0, 0.0, 12.0, 0.0, 5.0, 0.0, 8.0, 6.0, 0.0, 0.0, 0.0, 0.0], \"type\": \"bar\"}], \"layout\": {\"bargap\": 0.15, \"font\": {\"size\": 14}, \"plot_bgcolor\": \"#FFFFFF\", \"title\": {\"text\": \"COVID-19 top users of 2020-05-01 00:00:00\"}, \"xaxis\": {\"showline\": false, \"visible\": false}, \"yaxis\": {\"showline\": false, \"visible\": false}}}, {\"data\": [{\"cliponaxis\": false, \"hoverinfo\": \"none\", \"marker\": {\"color\": [\"rgb(71, 185, 190)\", \"rgb(149, 110, 235)\", \"rgb(88, 47, 204)\", \"rgb(146, 97, 236)\", \"rgb(48, 119, 166)\", \"rgb(163, 136, 240)\", \"rgb(176, 67, 136)\", \"rgb(171, 182, 213)\", \"rgb(160, 138, 129)\", \"rgb(48, 27, 246)\", \"rgb(32, 12, 194)\", \"rgb(17, 92, 143)\", \"rgb(158, 102, 203)\", \"rgb(156, 93, 223)\", \"rgb(30, 24, 178)\", \"rgb(1, 57, 240)\", \"rgb(151, 89, 208)\", \"rgb(28, 76, 237)\", \"rgb(10, 32, 235)\", \"rgb(60, 27, 182)\", \"rgb(87, 169, 142)\", \"rgb(175, 130, 178)\", \"rgb(80, 19, 159)\"]}, \"textposition\": \"outside\", \"texttemplate\": \"%{x}<br>%{y}\", \"x\": [\"mitchellvii\", \"Iam360WISE\", \"gstuedler\", \"adejames2000\", \"WandaRufin\", \"lopezgovlaw\", \"thomaskaine5\", \"wsvn\", \"TalyaMironShatz\", \"izatrini\", \"SWexner\", \"TheMiamiTimes\", \"SFBJNews\", \"MiamiHerald\", \"Aunty__Em\", \"DEADLINE\", \"4BillLewis\", \"CBSMiami\", \"cachete66\", \"dicerod\", \"agodgmt\", \"ExactOptionPick\", \"MiamiBeachCL\"], \"y\": [0.0, 10.0, 22.0, 0.0, 0.0, 10.0, 6.0, 0.0, 7.0, 0.0, 19.0, 9.0, 0.0, 10.0, 0.0, 0.0, 0.0, 0.0, 0.0, 7.0, 6.0, 0.0, 0.0], \"type\": \"bar\"}], \"layout\": {\"bargap\": 0.15, \"font\": {\"size\": 14}, \"plot_bgcolor\": \"#FFFFFF\", \"title\": {\"text\": \"COVID-19 top users of 2020-05-02 00:00:00\"}, \"xaxis\": {\"showline\": false, \"visible\": false}, \"yaxis\": {\"showline\": false, \"visible\": false}}}, {\"data\": [{\"cliponaxis\": false, \"hoverinfo\": \"none\", \"marker\": {\"color\": [\"rgb(71, 185, 190)\", \"rgb(149, 110, 235)\", \"rgb(88, 47, 204)\", \"rgb(146, 97, 236)\", \"rgb(48, 119, 166)\", \"rgb(163, 136, 240)\", \"rgb(176, 67, 136)\", \"rgb(171, 182, 213)\", \"rgb(160, 138, 129)\", \"rgb(48, 27, 246)\", \"rgb(32, 12, 194)\", \"rgb(17, 92, 143)\", \"rgb(158, 102, 203)\", \"rgb(156, 93, 223)\", \"rgb(30, 24, 178)\", \"rgb(1, 57, 240)\", \"rgb(151, 89, 208)\", \"rgb(28, 76, 237)\", \"rgb(10, 32, 235)\", \"rgb(60, 27, 182)\", \"rgb(87, 169, 142)\", \"rgb(175, 130, 178)\", \"rgb(80, 19, 159)\"]}, \"textposition\": \"outside\", \"texttemplate\": \"%{x}<br>%{y}\", \"x\": [\"mitchellvii\", \"Iam360WISE\", \"gstuedler\", \"adejames2000\", \"WandaRufin\", \"lopezgovlaw\", \"thomaskaine5\", \"wsvn\", \"TalyaMironShatz\", \"izatrini\", \"SWexner\", \"TheMiamiTimes\", \"SFBJNews\", \"MiamiHerald\", \"Aunty__Em\", \"DEADLINE\", \"4BillLewis\", \"CBSMiami\", \"cachete66\", \"dicerod\", \"agodgmt\", \"ExactOptionPick\", \"MiamiBeachCL\"], \"y\": [8.0, 10.0, 10.0, 0.0, 0.0, 19.0, 10.0, 0.0, 7.0, 6.0, 0.0, 6.0, 0.0, 0.0, 0.0, 0.0, 0.0, 0.0, 0.0, 0.0, 0.0, 8.0, 6.0], \"type\": \"bar\"}], \"layout\": {\"bargap\": 0.15, \"font\": {\"size\": 14}, \"plot_bgcolor\": \"#FFFFFF\", \"title\": {\"text\": \"COVID-19 top users of 2020-05-03 00:00:00\"}, \"xaxis\": {\"showline\": false, \"visible\": false}, \"yaxis\": {\"showline\": false, \"visible\": false}}}]);\n",
       "                        }).then(function(){\n",
       "                            \n",
       "var gd = document.getElementById('fd752f98-2312-4c2c-8901-052bb8d14c27');\n",
       "var x = new MutationObserver(function (mutations, observer) {{\n",
       "        var display = window.getComputedStyle(gd).display;\n",
       "        if (!display || display === 'none') {{\n",
       "            console.log([gd, 'removed!']);\n",
       "            Plotly.purge(gd);\n",
       "            observer.disconnect();\n",
       "        }}\n",
       "}});\n",
       "\n",
       "// Listen for the removal of the full notebook cells\n",
       "var notebookContainer = gd.closest('#notebook-container');\n",
       "if (notebookContainer) {{\n",
       "    x.observe(notebookContainer, {childList: true});\n",
       "}}\n",
       "\n",
       "// Listen for the clearing of the current output cell\n",
       "var outputEl = gd.closest('.output');\n",
       "if (outputEl) {{\n",
       "    x.observe(outputEl, {childList: true});\n",
       "}}\n",
       "\n",
       "                        })\n",
       "                };\n",
       "                });\n",
       "            </script>\n",
       "        </div>"
      ]
     },
     "metadata": {},
     "output_type": "display_data"
    }
   ],
   "source": [
    "start = datetime(year=2020, month=4, day=27)\n",
    "end = datetime(year=2020, month=5, day=3)\n",
    "df = days_to_df(lang=['en'], geo=['fl'], start_date=start, end_date=end, metric='users', top_n=10)\n",
    "fig = get_bar_race_plot(df, 'COVID-19 top users of ')\n",
    "fig.show()"
   ]
  },
  {
   "cell_type": "markdown",
   "metadata": {},
   "source": [
    "For instance, we can see a significant contribution of tweets are made by news outlets like wsvn and TheMiamiTimes. Let's now compare the top English words in Florida with the top Spanish words over the same dates. "
   ]
  },
  {
   "cell_type": "code",
   "execution_count": 12,
   "metadata": {},
   "outputs": [
    {
     "name": "stdout",
     "output_type": "stream",
     "text": [
      "querying date 2020-04-27 00:00:00 with lang=['en'], loc=['fl']\n",
      "getting ngrams n=1\n",
      "querying date 2020-04-28 00:00:00 with lang=['en'], loc=['fl']\n",
      "getting ngrams n=1\n",
      "querying date 2020-04-29 00:00:00 with lang=['en'], loc=['fl']\n",
      "getting ngrams n=1\n",
      "querying date 2020-04-30 00:00:00 with lang=['en'], loc=['fl']\n",
      "getting ngrams n=1\n",
      "querying date 2020-05-01 00:00:00 with lang=['en'], loc=['fl']\n",
      "getting ngrams n=1\n",
      "querying date 2020-05-02 00:00:00 with lang=['en'], loc=['fl']\n",
      "getting ngrams n=1\n",
      "querying date 2020-05-03 00:00:00 with lang=['en'], loc=['fl']\n",
      "getting ngrams n=1\n"
     ]
    },
    {
     "data": {
      "application/vnd.plotly.v1+json": {
       "config": {
        "plotlyServerURL": "https://plot.ly"
       },
       "data": [
        {
         "cliponaxis": false,
         "hoverinfo": "none",
         "marker": {
          "color": [
           "rgb(58, 33, 250)",
           "rgb(75, 72, 243)",
           "rgb(86, 109, 206)",
           "rgb(133, 126, 135)",
           "rgb(182, 7, 214)",
           "rgb(140, 95, 228)",
           "rgb(79, 171, 213)",
           "rgb(94, 25, 214)",
           "rgb(46, 77, 196)",
           "rgb(161, 99, 233)",
           "rgb(15, 21, 167)",
           "rgb(180, 166, 139)",
           "rgb(155, 43, 129)",
           "rgb(96, 153, 156)",
           "rgb(95, 142, 213)",
           "rgb(115, 42, 240)",
           "rgb(10, 80, 250)",
           "rgb(136, 175, 185)",
           "rgb(67, 32, 247)",
           "rgb(23, 53, 177)"
          ]
         },
         "textposition": "outside",
         "texttemplate": "%{x}<br>%{y}",
         "type": "bar",
         "x": [
          "covid",
          "new",
          "pandemic",
          "florida",
          "impact",
          "us",
          "home",
          "people",
          "coronavirus",
          "please",
          "help",
          "testing",
          "get",
          "health",
          "patients",
          "may",
          "news",
          "like",
          "trump",
          "cases"
         ],
         "y": [
          803,
          85,
          68,
          59,
          55,
          53,
          53,
          49,
          48,
          44,
          0,
          0,
          0,
          0,
          0,
          0,
          0,
          0,
          0,
          0
         ]
        }
       ],
       "frames": [
        {
         "data": [
          {
           "cliponaxis": false,
           "hoverinfo": "none",
           "marker": {
            "color": [
             "rgb(58, 33, 250)",
             "rgb(75, 72, 243)",
             "rgb(86, 109, 206)",
             "rgb(133, 126, 135)",
             "rgb(182, 7, 214)",
             "rgb(140, 95, 228)",
             "rgb(79, 171, 213)",
             "rgb(94, 25, 214)",
             "rgb(46, 77, 196)",
             "rgb(161, 99, 233)",
             "rgb(15, 21, 167)",
             "rgb(180, 166, 139)",
             "rgb(155, 43, 129)",
             "rgb(96, 153, 156)",
             "rgb(95, 142, 213)",
             "rgb(115, 42, 240)",
             "rgb(10, 80, 250)",
             "rgb(136, 175, 185)",
             "rgb(67, 32, 247)",
             "rgb(23, 53, 177)"
            ]
           },
           "textposition": "outside",
           "texttemplate": "%{x}<br>%{y}",
           "type": "bar",
           "x": [
            "covid",
            "new",
            "pandemic",
            "florida",
            "impact",
            "us",
            "home",
            "people",
            "coronavirus",
            "please",
            "help",
            "testing",
            "get",
            "health",
            "patients",
            "may",
            "news",
            "like",
            "trump",
            "cases"
           ],
           "y": [
            803,
            85,
            68,
            59,
            55,
            53,
            53,
            49,
            48,
            44,
            0,
            0,
            0,
            0,
            0,
            0,
            0,
            0,
            0,
            0
           ]
          }
         ],
         "layout": {
          "bargap": 0.15,
          "font": {
           "size": 14
          },
          "plot_bgcolor": "#FFFFFF",
          "title": {
           "text": "COVID-19 top english words of 2020-04-27 00:00:00"
          },
          "xaxis": {
           "showline": false,
           "visible": false
          },
          "yaxis": {
           "showline": false,
           "visible": false
          }
         }
        },
        {
         "data": [
          {
           "cliponaxis": false,
           "hoverinfo": "none",
           "marker": {
            "color": [
             "rgb(58, 33, 250)",
             "rgb(75, 72, 243)",
             "rgb(86, 109, 206)",
             "rgb(133, 126, 135)",
             "rgb(182, 7, 214)",
             "rgb(140, 95, 228)",
             "rgb(79, 171, 213)",
             "rgb(94, 25, 214)",
             "rgb(46, 77, 196)",
             "rgb(161, 99, 233)",
             "rgb(15, 21, 167)",
             "rgb(180, 166, 139)",
             "rgb(155, 43, 129)",
             "rgb(96, 153, 156)",
             "rgb(95, 142, 213)",
             "rgb(115, 42, 240)",
             "rgb(10, 80, 250)",
             "rgb(136, 175, 185)",
             "rgb(67, 32, 247)",
             "rgb(23, 53, 177)"
            ]
           },
           "textposition": "outside",
           "texttemplate": "%{x}<br>%{y}",
           "type": "bar",
           "x": [
            "covid",
            "new",
            "pandemic",
            "florida",
            "impact",
            "us",
            "home",
            "people",
            "coronavirus",
            "please",
            "help",
            "testing",
            "get",
            "health",
            "patients",
            "may",
            "news",
            "like",
            "trump",
            "cases"
           ],
           "y": [
            760,
            46,
            74,
            48,
            0,
            57,
            0,
            57,
            47,
            0,
            50,
            42,
            40,
            0,
            0,
            0,
            0,
            0,
            0,
            0
           ]
          }
         ],
         "layout": {
          "bargap": 0.15,
          "font": {
           "size": 14
          },
          "plot_bgcolor": "#FFFFFF",
          "title": {
           "text": "COVID-19 top english words of 2020-04-28 00:00:00"
          },
          "xaxis": {
           "showline": false,
           "visible": false
          },
          "yaxis": {
           "showline": false,
           "visible": false
          }
         }
        },
        {
         "data": [
          {
           "cliponaxis": false,
           "hoverinfo": "none",
           "marker": {
            "color": [
             "rgb(58, 33, 250)",
             "rgb(75, 72, 243)",
             "rgb(86, 109, 206)",
             "rgb(133, 126, 135)",
             "rgb(182, 7, 214)",
             "rgb(140, 95, 228)",
             "rgb(79, 171, 213)",
             "rgb(94, 25, 214)",
             "rgb(46, 77, 196)",
             "rgb(161, 99, 233)",
             "rgb(15, 21, 167)",
             "rgb(180, 166, 139)",
             "rgb(155, 43, 129)",
             "rgb(96, 153, 156)",
             "rgb(95, 142, 213)",
             "rgb(115, 42, 240)",
             "rgb(10, 80, 250)",
             "rgb(136, 175, 185)",
             "rgb(67, 32, 247)",
             "rgb(23, 53, 177)"
            ]
           },
           "textposition": "outside",
           "texttemplate": "%{x}<br>%{y}",
           "type": "bar",
           "x": [
            "covid",
            "new",
            "pandemic",
            "florida",
            "impact",
            "us",
            "home",
            "people",
            "coronavirus",
            "please",
            "help",
            "testing",
            "get",
            "health",
            "patients",
            "may",
            "news",
            "like",
            "trump",
            "cases"
           ],
           "y": [
            821,
            73,
            70,
            61,
            0,
            53,
            0,
            54,
            52,
            0,
            45,
            0,
            0,
            43,
            43,
            0,
            0,
            0,
            0,
            0
           ]
          }
         ],
         "layout": {
          "bargap": 0.15,
          "font": {
           "size": 14
          },
          "plot_bgcolor": "#FFFFFF",
          "title": {
           "text": "COVID-19 top english words of 2020-04-29 00:00:00"
          },
          "xaxis": {
           "showline": false,
           "visible": false
          },
          "yaxis": {
           "showline": false,
           "visible": false
          }
         }
        },
        {
         "data": [
          {
           "cliponaxis": false,
           "hoverinfo": "none",
           "marker": {
            "color": [
             "rgb(58, 33, 250)",
             "rgb(75, 72, 243)",
             "rgb(86, 109, 206)",
             "rgb(133, 126, 135)",
             "rgb(182, 7, 214)",
             "rgb(140, 95, 228)",
             "rgb(79, 171, 213)",
             "rgb(94, 25, 214)",
             "rgb(46, 77, 196)",
             "rgb(161, 99, 233)",
             "rgb(15, 21, 167)",
             "rgb(180, 166, 139)",
             "rgb(155, 43, 129)",
             "rgb(96, 153, 156)",
             "rgb(95, 142, 213)",
             "rgb(115, 42, 240)",
             "rgb(10, 80, 250)",
             "rgb(136, 175, 185)",
             "rgb(67, 32, 247)",
             "rgb(23, 53, 177)"
            ]
           },
           "textposition": "outside",
           "texttemplate": "%{x}<br>%{y}",
           "type": "bar",
           "x": [
            "covid",
            "new",
            "pandemic",
            "florida",
            "impact",
            "us",
            "home",
            "people",
            "coronavirus",
            "please",
            "help",
            "testing",
            "get",
            "health",
            "patients",
            "may",
            "news",
            "like",
            "trump",
            "cases"
           ],
           "y": [
            710,
            58,
            57,
            64,
            0,
            51,
            0,
            36,
            37,
            0,
            41,
            0,
            0,
            0,
            0,
            42,
            38,
            0,
            0,
            0
           ]
          }
         ],
         "layout": {
          "bargap": 0.15,
          "font": {
           "size": 14
          },
          "plot_bgcolor": "#FFFFFF",
          "title": {
           "text": "COVID-19 top english words of 2020-04-30 00:00:00"
          },
          "xaxis": {
           "showline": false,
           "visible": false
          },
          "yaxis": {
           "showline": false,
           "visible": false
          }
         }
        },
        {
         "data": [
          {
           "cliponaxis": false,
           "hoverinfo": "none",
           "marker": {
            "color": [
             "rgb(58, 33, 250)",
             "rgb(75, 72, 243)",
             "rgb(86, 109, 206)",
             "rgb(133, 126, 135)",
             "rgb(182, 7, 214)",
             "rgb(140, 95, 228)",
             "rgb(79, 171, 213)",
             "rgb(94, 25, 214)",
             "rgb(46, 77, 196)",
             "rgb(161, 99, 233)",
             "rgb(15, 21, 167)",
             "rgb(180, 166, 139)",
             "rgb(155, 43, 129)",
             "rgb(96, 153, 156)",
             "rgb(95, 142, 213)",
             "rgb(115, 42, 240)",
             "rgb(10, 80, 250)",
             "rgb(136, 175, 185)",
             "rgb(67, 32, 247)",
             "rgb(23, 53, 177)"
            ]
           },
           "textposition": "outside",
           "texttemplate": "%{x}<br>%{y}",
           "type": "bar",
           "x": [
            "covid",
            "new",
            "pandemic",
            "florida",
            "impact",
            "us",
            "home",
            "people",
            "coronavirus",
            "please",
            "help",
            "testing",
            "get",
            "health",
            "patients",
            "may",
            "news",
            "like",
            "trump",
            "cases"
           ],
           "y": [
            704,
            66,
            82,
            67,
            0,
            54,
            0,
            0,
            55,
            0,
            41,
            0,
            0,
            0,
            41,
            59,
            0,
            41,
            0,
            0
           ]
          }
         ],
         "layout": {
          "bargap": 0.15,
          "font": {
           "size": 14
          },
          "plot_bgcolor": "#FFFFFF",
          "title": {
           "text": "COVID-19 top english words of 2020-05-01 00:00:00"
          },
          "xaxis": {
           "showline": false,
           "visible": false
          },
          "yaxis": {
           "showline": false,
           "visible": false
          }
         }
        },
        {
         "data": [
          {
           "cliponaxis": false,
           "hoverinfo": "none",
           "marker": {
            "color": [
             "rgb(58, 33, 250)",
             "rgb(75, 72, 243)",
             "rgb(86, 109, 206)",
             "rgb(133, 126, 135)",
             "rgb(182, 7, 214)",
             "rgb(140, 95, 228)",
             "rgb(79, 171, 213)",
             "rgb(94, 25, 214)",
             "rgb(46, 77, 196)",
             "rgb(161, 99, 233)",
             "rgb(15, 21, 167)",
             "rgb(180, 166, 139)",
             "rgb(155, 43, 129)",
             "rgb(96, 153, 156)",
             "rgb(95, 142, 213)",
             "rgb(115, 42, 240)",
             "rgb(10, 80, 250)",
             "rgb(136, 175, 185)",
             "rgb(67, 32, 247)",
             "rgb(23, 53, 177)"
            ]
           },
           "textposition": "outside",
           "texttemplate": "%{x}<br>%{y}",
           "type": "bar",
           "x": [
            "covid",
            "new",
            "pandemic",
            "florida",
            "impact",
            "us",
            "home",
            "people",
            "coronavirus",
            "please",
            "help",
            "testing",
            "get",
            "health",
            "patients",
            "may",
            "news",
            "like",
            "trump",
            "cases"
           ],
           "y": [
            454,
            32,
            37,
            29,
            0,
            48,
            0,
            27,
            38,
            0,
            0,
            0,
            27,
            0,
            0,
            28,
            0,
            0,
            26,
            0
           ]
          }
         ],
         "layout": {
          "bargap": 0.15,
          "font": {
           "size": 14
          },
          "plot_bgcolor": "#FFFFFF",
          "title": {
           "text": "COVID-19 top english words of 2020-05-02 00:00:00"
          },
          "xaxis": {
           "showline": false,
           "visible": false
          },
          "yaxis": {
           "showline": false,
           "visible": false
          }
         }
        },
        {
         "data": [
          {
           "cliponaxis": false,
           "hoverinfo": "none",
           "marker": {
            "color": [
             "rgb(58, 33, 250)",
             "rgb(75, 72, 243)",
             "rgb(86, 109, 206)",
             "rgb(133, 126, 135)",
             "rgb(182, 7, 214)",
             "rgb(140, 95, 228)",
             "rgb(79, 171, 213)",
             "rgb(94, 25, 214)",
             "rgb(46, 77, 196)",
             "rgb(161, 99, 233)",
             "rgb(15, 21, 167)",
             "rgb(180, 166, 139)",
             "rgb(155, 43, 129)",
             "rgb(96, 153, 156)",
             "rgb(95, 142, 213)",
             "rgb(115, 42, 240)",
             "rgb(10, 80, 250)",
             "rgb(136, 175, 185)",
             "rgb(67, 32, 247)",
             "rgb(23, 53, 177)"
            ]
           },
           "textposition": "outside",
           "texttemplate": "%{x}<br>%{y}",
           "type": "bar",
           "x": [
            "covid",
            "new",
            "pandemic",
            "florida",
            "impact",
            "us",
            "home",
            "people",
            "coronavirus",
            "please",
            "help",
            "testing",
            "get",
            "health",
            "patients",
            "may",
            "news",
            "like",
            "trump",
            "cases"
           ],
           "y": [
            407,
            27,
            34,
            23,
            0,
            27,
            0,
            32,
            0,
            0,
            26,
            0,
            24,
            0,
            0,
            34,
            0,
            0,
            0,
            27
           ]
          }
         ],
         "layout": {
          "bargap": 0.15,
          "font": {
           "size": 14
          },
          "plot_bgcolor": "#FFFFFF",
          "title": {
           "text": "COVID-19 top english words of 2020-05-03 00:00:00"
          },
          "xaxis": {
           "showline": false,
           "visible": false
          },
          "yaxis": {
           "showline": false,
           "visible": false
          }
         }
        }
       ],
       "layout": {
        "bargap": 0.15,
        "font": {
         "size": 14
        },
        "plot_bgcolor": "#FFFFFF",
        "template": {
         "data": {
          "bar": [
           {
            "error_x": {
             "color": "#2a3f5f"
            },
            "error_y": {
             "color": "#2a3f5f"
            },
            "marker": {
             "line": {
              "color": "#E5ECF6",
              "width": 0.5
             }
            },
            "type": "bar"
           }
          ],
          "barpolar": [
           {
            "marker": {
             "line": {
              "color": "#E5ECF6",
              "width": 0.5
             }
            },
            "type": "barpolar"
           }
          ],
          "carpet": [
           {
            "aaxis": {
             "endlinecolor": "#2a3f5f",
             "gridcolor": "white",
             "linecolor": "white",
             "minorgridcolor": "white",
             "startlinecolor": "#2a3f5f"
            },
            "baxis": {
             "endlinecolor": "#2a3f5f",
             "gridcolor": "white",
             "linecolor": "white",
             "minorgridcolor": "white",
             "startlinecolor": "#2a3f5f"
            },
            "type": "carpet"
           }
          ],
          "choropleth": [
           {
            "colorbar": {
             "outlinewidth": 0,
             "ticks": ""
            },
            "type": "choropleth"
           }
          ],
          "contour": [
           {
            "colorbar": {
             "outlinewidth": 0,
             "ticks": ""
            },
            "colorscale": [
             [
              0,
              "#0d0887"
             ],
             [
              0.1111111111111111,
              "#46039f"
             ],
             [
              0.2222222222222222,
              "#7201a8"
             ],
             [
              0.3333333333333333,
              "#9c179e"
             ],
             [
              0.4444444444444444,
              "#bd3786"
             ],
             [
              0.5555555555555556,
              "#d8576b"
             ],
             [
              0.6666666666666666,
              "#ed7953"
             ],
             [
              0.7777777777777778,
              "#fb9f3a"
             ],
             [
              0.8888888888888888,
              "#fdca26"
             ],
             [
              1,
              "#f0f921"
             ]
            ],
            "type": "contour"
           }
          ],
          "contourcarpet": [
           {
            "colorbar": {
             "outlinewidth": 0,
             "ticks": ""
            },
            "type": "contourcarpet"
           }
          ],
          "heatmap": [
           {
            "colorbar": {
             "outlinewidth": 0,
             "ticks": ""
            },
            "colorscale": [
             [
              0,
              "#0d0887"
             ],
             [
              0.1111111111111111,
              "#46039f"
             ],
             [
              0.2222222222222222,
              "#7201a8"
             ],
             [
              0.3333333333333333,
              "#9c179e"
             ],
             [
              0.4444444444444444,
              "#bd3786"
             ],
             [
              0.5555555555555556,
              "#d8576b"
             ],
             [
              0.6666666666666666,
              "#ed7953"
             ],
             [
              0.7777777777777778,
              "#fb9f3a"
             ],
             [
              0.8888888888888888,
              "#fdca26"
             ],
             [
              1,
              "#f0f921"
             ]
            ],
            "type": "heatmap"
           }
          ],
          "heatmapgl": [
           {
            "colorbar": {
             "outlinewidth": 0,
             "ticks": ""
            },
            "colorscale": [
             [
              0,
              "#0d0887"
             ],
             [
              0.1111111111111111,
              "#46039f"
             ],
             [
              0.2222222222222222,
              "#7201a8"
             ],
             [
              0.3333333333333333,
              "#9c179e"
             ],
             [
              0.4444444444444444,
              "#bd3786"
             ],
             [
              0.5555555555555556,
              "#d8576b"
             ],
             [
              0.6666666666666666,
              "#ed7953"
             ],
             [
              0.7777777777777778,
              "#fb9f3a"
             ],
             [
              0.8888888888888888,
              "#fdca26"
             ],
             [
              1,
              "#f0f921"
             ]
            ],
            "type": "heatmapgl"
           }
          ],
          "histogram": [
           {
            "marker": {
             "colorbar": {
              "outlinewidth": 0,
              "ticks": ""
             }
            },
            "type": "histogram"
           }
          ],
          "histogram2d": [
           {
            "colorbar": {
             "outlinewidth": 0,
             "ticks": ""
            },
            "colorscale": [
             [
              0,
              "#0d0887"
             ],
             [
              0.1111111111111111,
              "#46039f"
             ],
             [
              0.2222222222222222,
              "#7201a8"
             ],
             [
              0.3333333333333333,
              "#9c179e"
             ],
             [
              0.4444444444444444,
              "#bd3786"
             ],
             [
              0.5555555555555556,
              "#d8576b"
             ],
             [
              0.6666666666666666,
              "#ed7953"
             ],
             [
              0.7777777777777778,
              "#fb9f3a"
             ],
             [
              0.8888888888888888,
              "#fdca26"
             ],
             [
              1,
              "#f0f921"
             ]
            ],
            "type": "histogram2d"
           }
          ],
          "histogram2dcontour": [
           {
            "colorbar": {
             "outlinewidth": 0,
             "ticks": ""
            },
            "colorscale": [
             [
              0,
              "#0d0887"
             ],
             [
              0.1111111111111111,
              "#46039f"
             ],
             [
              0.2222222222222222,
              "#7201a8"
             ],
             [
              0.3333333333333333,
              "#9c179e"
             ],
             [
              0.4444444444444444,
              "#bd3786"
             ],
             [
              0.5555555555555556,
              "#d8576b"
             ],
             [
              0.6666666666666666,
              "#ed7953"
             ],
             [
              0.7777777777777778,
              "#fb9f3a"
             ],
             [
              0.8888888888888888,
              "#fdca26"
             ],
             [
              1,
              "#f0f921"
             ]
            ],
            "type": "histogram2dcontour"
           }
          ],
          "mesh3d": [
           {
            "colorbar": {
             "outlinewidth": 0,
             "ticks": ""
            },
            "type": "mesh3d"
           }
          ],
          "parcoords": [
           {
            "line": {
             "colorbar": {
              "outlinewidth": 0,
              "ticks": ""
             }
            },
            "type": "parcoords"
           }
          ],
          "pie": [
           {
            "automargin": true,
            "type": "pie"
           }
          ],
          "scatter": [
           {
            "marker": {
             "colorbar": {
              "outlinewidth": 0,
              "ticks": ""
             }
            },
            "type": "scatter"
           }
          ],
          "scatter3d": [
           {
            "line": {
             "colorbar": {
              "outlinewidth": 0,
              "ticks": ""
             }
            },
            "marker": {
             "colorbar": {
              "outlinewidth": 0,
              "ticks": ""
             }
            },
            "type": "scatter3d"
           }
          ],
          "scattercarpet": [
           {
            "marker": {
             "colorbar": {
              "outlinewidth": 0,
              "ticks": ""
             }
            },
            "type": "scattercarpet"
           }
          ],
          "scattergeo": [
           {
            "marker": {
             "colorbar": {
              "outlinewidth": 0,
              "ticks": ""
             }
            },
            "type": "scattergeo"
           }
          ],
          "scattergl": [
           {
            "marker": {
             "colorbar": {
              "outlinewidth": 0,
              "ticks": ""
             }
            },
            "type": "scattergl"
           }
          ],
          "scattermapbox": [
           {
            "marker": {
             "colorbar": {
              "outlinewidth": 0,
              "ticks": ""
             }
            },
            "type": "scattermapbox"
           }
          ],
          "scatterpolar": [
           {
            "marker": {
             "colorbar": {
              "outlinewidth": 0,
              "ticks": ""
             }
            },
            "type": "scatterpolar"
           }
          ],
          "scatterpolargl": [
           {
            "marker": {
             "colorbar": {
              "outlinewidth": 0,
              "ticks": ""
             }
            },
            "type": "scatterpolargl"
           }
          ],
          "scatterternary": [
           {
            "marker": {
             "colorbar": {
              "outlinewidth": 0,
              "ticks": ""
             }
            },
            "type": "scatterternary"
           }
          ],
          "surface": [
           {
            "colorbar": {
             "outlinewidth": 0,
             "ticks": ""
            },
            "colorscale": [
             [
              0,
              "#0d0887"
             ],
             [
              0.1111111111111111,
              "#46039f"
             ],
             [
              0.2222222222222222,
              "#7201a8"
             ],
             [
              0.3333333333333333,
              "#9c179e"
             ],
             [
              0.4444444444444444,
              "#bd3786"
             ],
             [
              0.5555555555555556,
              "#d8576b"
             ],
             [
              0.6666666666666666,
              "#ed7953"
             ],
             [
              0.7777777777777778,
              "#fb9f3a"
             ],
             [
              0.8888888888888888,
              "#fdca26"
             ],
             [
              1,
              "#f0f921"
             ]
            ],
            "type": "surface"
           }
          ],
          "table": [
           {
            "cells": {
             "fill": {
              "color": "#EBF0F8"
             },
             "line": {
              "color": "white"
             }
            },
            "header": {
             "fill": {
              "color": "#C8D4E3"
             },
             "line": {
              "color": "white"
             }
            },
            "type": "table"
           }
          ]
         },
         "layout": {
          "annotationdefaults": {
           "arrowcolor": "#2a3f5f",
           "arrowhead": 0,
           "arrowwidth": 1
          },
          "coloraxis": {
           "colorbar": {
            "outlinewidth": 0,
            "ticks": ""
           }
          },
          "colorscale": {
           "diverging": [
            [
             0,
             "#8e0152"
            ],
            [
             0.1,
             "#c51b7d"
            ],
            [
             0.2,
             "#de77ae"
            ],
            [
             0.3,
             "#f1b6da"
            ],
            [
             0.4,
             "#fde0ef"
            ],
            [
             0.5,
             "#f7f7f7"
            ],
            [
             0.6,
             "#e6f5d0"
            ],
            [
             0.7,
             "#b8e186"
            ],
            [
             0.8,
             "#7fbc41"
            ],
            [
             0.9,
             "#4d9221"
            ],
            [
             1,
             "#276419"
            ]
           ],
           "sequential": [
            [
             0,
             "#0d0887"
            ],
            [
             0.1111111111111111,
             "#46039f"
            ],
            [
             0.2222222222222222,
             "#7201a8"
            ],
            [
             0.3333333333333333,
             "#9c179e"
            ],
            [
             0.4444444444444444,
             "#bd3786"
            ],
            [
             0.5555555555555556,
             "#d8576b"
            ],
            [
             0.6666666666666666,
             "#ed7953"
            ],
            [
             0.7777777777777778,
             "#fb9f3a"
            ],
            [
             0.8888888888888888,
             "#fdca26"
            ],
            [
             1,
             "#f0f921"
            ]
           ],
           "sequentialminus": [
            [
             0,
             "#0d0887"
            ],
            [
             0.1111111111111111,
             "#46039f"
            ],
            [
             0.2222222222222222,
             "#7201a8"
            ],
            [
             0.3333333333333333,
             "#9c179e"
            ],
            [
             0.4444444444444444,
             "#bd3786"
            ],
            [
             0.5555555555555556,
             "#d8576b"
            ],
            [
             0.6666666666666666,
             "#ed7953"
            ],
            [
             0.7777777777777778,
             "#fb9f3a"
            ],
            [
             0.8888888888888888,
             "#fdca26"
            ],
            [
             1,
             "#f0f921"
            ]
           ]
          },
          "colorway": [
           "#636efa",
           "#EF553B",
           "#00cc96",
           "#ab63fa",
           "#FFA15A",
           "#19d3f3",
           "#FF6692",
           "#B6E880",
           "#FF97FF",
           "#FECB52"
          ],
          "font": {
           "color": "#2a3f5f"
          },
          "geo": {
           "bgcolor": "white",
           "lakecolor": "white",
           "landcolor": "#E5ECF6",
           "showlakes": true,
           "showland": true,
           "subunitcolor": "white"
          },
          "hoverlabel": {
           "align": "left"
          },
          "hovermode": "closest",
          "mapbox": {
           "style": "light"
          },
          "paper_bgcolor": "white",
          "plot_bgcolor": "#E5ECF6",
          "polar": {
           "angularaxis": {
            "gridcolor": "white",
            "linecolor": "white",
            "ticks": ""
           },
           "bgcolor": "#E5ECF6",
           "radialaxis": {
            "gridcolor": "white",
            "linecolor": "white",
            "ticks": ""
           }
          },
          "scene": {
           "xaxis": {
            "backgroundcolor": "#E5ECF6",
            "gridcolor": "white",
            "gridwidth": 2,
            "linecolor": "white",
            "showbackground": true,
            "ticks": "",
            "zerolinecolor": "white"
           },
           "yaxis": {
            "backgroundcolor": "#E5ECF6",
            "gridcolor": "white",
            "gridwidth": 2,
            "linecolor": "white",
            "showbackground": true,
            "ticks": "",
            "zerolinecolor": "white"
           },
           "zaxis": {
            "backgroundcolor": "#E5ECF6",
            "gridcolor": "white",
            "gridwidth": 2,
            "linecolor": "white",
            "showbackground": true,
            "ticks": "",
            "zerolinecolor": "white"
           }
          },
          "shapedefaults": {
           "line": {
            "color": "#2a3f5f"
           }
          },
          "ternary": {
           "aaxis": {
            "gridcolor": "white",
            "linecolor": "white",
            "ticks": ""
           },
           "baxis": {
            "gridcolor": "white",
            "linecolor": "white",
            "ticks": ""
           },
           "bgcolor": "#E5ECF6",
           "caxis": {
            "gridcolor": "white",
            "linecolor": "white",
            "ticks": ""
           }
          },
          "title": {
           "x": 0.05
          },
          "xaxis": {
           "automargin": true,
           "gridcolor": "white",
           "linecolor": "white",
           "ticks": "",
           "title": {
            "standoff": 15
           },
           "zerolinecolor": "white",
           "zerolinewidth": 2
          },
          "yaxis": {
           "automargin": true,
           "gridcolor": "white",
           "linecolor": "white",
           "ticks": "",
           "title": {
            "standoff": 15
           },
           "zerolinecolor": "white",
           "zerolinewidth": 2
          }
         }
        },
        "title": {
         "text": "COVID-19 top english words of 2020-04-27 00:00:00"
        },
        "updatemenus": [
         {
          "buttons": [
           {
            "args": [
             null,
             {
              "frame": {
               "duration": 2000,
               "redraw": true
              },
              "fromcurrent": true
             }
            ],
            "label": "Play",
            "method": "animate"
           },
           {
            "args": [
             [
              null
             ],
             {
              "frame": {
               "duration": 0,
               "redraw": false
              },
              "mode": "immediate",
              "transition": {
               "duration": 0
              }
             }
            ],
            "label": "Stop",
            "method": "animate"
           }
          ],
          "type": "buttons"
         }
        ],
        "xaxis": {
         "showline": false,
         "visible": false
        },
        "yaxis": {
         "range": [
          0,
          821
         ],
         "showline": false,
         "visible": false
        }
       }
      },
      "text/html": [
       "<div>\n",
       "        \n",
       "        \n",
       "            <div id=\"c1f4f4d5-0658-488d-ba20-2148e7cf1df1\" class=\"plotly-graph-div\" style=\"height:525px; width:100%;\"></div>\n",
       "            <script type=\"text/javascript\">\n",
       "                require([\"plotly\"], function(Plotly) {\n",
       "                    window.PLOTLYENV=window.PLOTLYENV || {};\n",
       "                    \n",
       "                if (document.getElementById(\"c1f4f4d5-0658-488d-ba20-2148e7cf1df1\")) {\n",
       "                    Plotly.newPlot(\n",
       "                        'c1f4f4d5-0658-488d-ba20-2148e7cf1df1',\n",
       "                        [{\"cliponaxis\": false, \"hoverinfo\": \"none\", \"marker\": {\"color\": [\"rgb(58, 33, 250)\", \"rgb(75, 72, 243)\", \"rgb(86, 109, 206)\", \"rgb(133, 126, 135)\", \"rgb(182, 7, 214)\", \"rgb(140, 95, 228)\", \"rgb(79, 171, 213)\", \"rgb(94, 25, 214)\", \"rgb(46, 77, 196)\", \"rgb(161, 99, 233)\", \"rgb(15, 21, 167)\", \"rgb(180, 166, 139)\", \"rgb(155, 43, 129)\", \"rgb(96, 153, 156)\", \"rgb(95, 142, 213)\", \"rgb(115, 42, 240)\", \"rgb(10, 80, 250)\", \"rgb(136, 175, 185)\", \"rgb(67, 32, 247)\", \"rgb(23, 53, 177)\"]}, \"textposition\": \"outside\", \"texttemplate\": \"%{x}<br>%{y}\", \"type\": \"bar\", \"x\": [\"covid\", \"new\", \"pandemic\", \"florida\", \"impact\", \"us\", \"home\", \"people\", \"coronavirus\", \"please\", \"help\", \"testing\", \"get\", \"health\", \"patients\", \"may\", \"news\", \"like\", \"trump\", \"cases\"], \"y\": [803.0, 85.0, 68.0, 59.0, 55.0, 53.0, 53.0, 49.0, 48.0, 44.0, 0.0, 0.0, 0.0, 0.0, 0.0, 0.0, 0.0, 0.0, 0.0, 0.0]}],\n",
       "                        {\"bargap\": 0.15, \"font\": {\"size\": 14}, \"plot_bgcolor\": \"#FFFFFF\", \"template\": {\"data\": {\"bar\": [{\"error_x\": {\"color\": \"#2a3f5f\"}, \"error_y\": {\"color\": \"#2a3f5f\"}, \"marker\": {\"line\": {\"color\": \"#E5ECF6\", \"width\": 0.5}}, \"type\": \"bar\"}], \"barpolar\": [{\"marker\": {\"line\": {\"color\": \"#E5ECF6\", \"width\": 0.5}}, \"type\": \"barpolar\"}], \"carpet\": [{\"aaxis\": {\"endlinecolor\": \"#2a3f5f\", \"gridcolor\": \"white\", \"linecolor\": \"white\", \"minorgridcolor\": \"white\", \"startlinecolor\": \"#2a3f5f\"}, \"baxis\": {\"endlinecolor\": \"#2a3f5f\", \"gridcolor\": \"white\", \"linecolor\": \"white\", \"minorgridcolor\": \"white\", \"startlinecolor\": \"#2a3f5f\"}, \"type\": \"carpet\"}], \"choropleth\": [{\"colorbar\": {\"outlinewidth\": 0, \"ticks\": \"\"}, \"type\": \"choropleth\"}], \"contour\": [{\"colorbar\": {\"outlinewidth\": 0, \"ticks\": \"\"}, \"colorscale\": [[0.0, \"#0d0887\"], [0.1111111111111111, \"#46039f\"], [0.2222222222222222, \"#7201a8\"], [0.3333333333333333, \"#9c179e\"], [0.4444444444444444, \"#bd3786\"], [0.5555555555555556, \"#d8576b\"], [0.6666666666666666, \"#ed7953\"], [0.7777777777777778, \"#fb9f3a\"], [0.8888888888888888, \"#fdca26\"], [1.0, \"#f0f921\"]], \"type\": \"contour\"}], \"contourcarpet\": [{\"colorbar\": {\"outlinewidth\": 0, \"ticks\": \"\"}, \"type\": \"contourcarpet\"}], \"heatmap\": [{\"colorbar\": {\"outlinewidth\": 0, \"ticks\": \"\"}, \"colorscale\": [[0.0, \"#0d0887\"], [0.1111111111111111, \"#46039f\"], [0.2222222222222222, \"#7201a8\"], [0.3333333333333333, \"#9c179e\"], [0.4444444444444444, \"#bd3786\"], [0.5555555555555556, \"#d8576b\"], [0.6666666666666666, \"#ed7953\"], [0.7777777777777778, \"#fb9f3a\"], [0.8888888888888888, \"#fdca26\"], [1.0, \"#f0f921\"]], \"type\": \"heatmap\"}], \"heatmapgl\": [{\"colorbar\": {\"outlinewidth\": 0, \"ticks\": \"\"}, \"colorscale\": [[0.0, \"#0d0887\"], [0.1111111111111111, \"#46039f\"], [0.2222222222222222, \"#7201a8\"], [0.3333333333333333, \"#9c179e\"], [0.4444444444444444, \"#bd3786\"], [0.5555555555555556, \"#d8576b\"], [0.6666666666666666, \"#ed7953\"], [0.7777777777777778, \"#fb9f3a\"], [0.8888888888888888, \"#fdca26\"], [1.0, \"#f0f921\"]], \"type\": \"heatmapgl\"}], \"histogram\": [{\"marker\": {\"colorbar\": {\"outlinewidth\": 0, \"ticks\": \"\"}}, \"type\": \"histogram\"}], \"histogram2d\": [{\"colorbar\": {\"outlinewidth\": 0, \"ticks\": \"\"}, \"colorscale\": [[0.0, \"#0d0887\"], [0.1111111111111111, \"#46039f\"], [0.2222222222222222, \"#7201a8\"], [0.3333333333333333, \"#9c179e\"], [0.4444444444444444, \"#bd3786\"], [0.5555555555555556, \"#d8576b\"], [0.6666666666666666, \"#ed7953\"], [0.7777777777777778, \"#fb9f3a\"], [0.8888888888888888, \"#fdca26\"], [1.0, \"#f0f921\"]], \"type\": \"histogram2d\"}], \"histogram2dcontour\": [{\"colorbar\": {\"outlinewidth\": 0, \"ticks\": \"\"}, \"colorscale\": [[0.0, \"#0d0887\"], [0.1111111111111111, \"#46039f\"], [0.2222222222222222, \"#7201a8\"], [0.3333333333333333, \"#9c179e\"], [0.4444444444444444, \"#bd3786\"], [0.5555555555555556, \"#d8576b\"], [0.6666666666666666, \"#ed7953\"], [0.7777777777777778, \"#fb9f3a\"], [0.8888888888888888, \"#fdca26\"], [1.0, \"#f0f921\"]], \"type\": \"histogram2dcontour\"}], \"mesh3d\": [{\"colorbar\": {\"outlinewidth\": 0, \"ticks\": \"\"}, \"type\": \"mesh3d\"}], \"parcoords\": [{\"line\": {\"colorbar\": {\"outlinewidth\": 0, \"ticks\": \"\"}}, \"type\": \"parcoords\"}], \"pie\": [{\"automargin\": true, \"type\": \"pie\"}], \"scatter\": [{\"marker\": {\"colorbar\": {\"outlinewidth\": 0, \"ticks\": \"\"}}, \"type\": \"scatter\"}], \"scatter3d\": [{\"line\": {\"colorbar\": {\"outlinewidth\": 0, \"ticks\": \"\"}}, \"marker\": {\"colorbar\": {\"outlinewidth\": 0, \"ticks\": \"\"}}, \"type\": \"scatter3d\"}], \"scattercarpet\": [{\"marker\": {\"colorbar\": {\"outlinewidth\": 0, \"ticks\": \"\"}}, \"type\": \"scattercarpet\"}], \"scattergeo\": [{\"marker\": {\"colorbar\": {\"outlinewidth\": 0, \"ticks\": \"\"}}, \"type\": \"scattergeo\"}], \"scattergl\": [{\"marker\": {\"colorbar\": {\"outlinewidth\": 0, \"ticks\": \"\"}}, \"type\": \"scattergl\"}], \"scattermapbox\": [{\"marker\": {\"colorbar\": {\"outlinewidth\": 0, \"ticks\": \"\"}}, \"type\": \"scattermapbox\"}], \"scatterpolar\": [{\"marker\": {\"colorbar\": {\"outlinewidth\": 0, \"ticks\": \"\"}}, \"type\": \"scatterpolar\"}], \"scatterpolargl\": [{\"marker\": {\"colorbar\": {\"outlinewidth\": 0, \"ticks\": \"\"}}, \"type\": \"scatterpolargl\"}], \"scatterternary\": [{\"marker\": {\"colorbar\": {\"outlinewidth\": 0, \"ticks\": \"\"}}, \"type\": \"scatterternary\"}], \"surface\": [{\"colorbar\": {\"outlinewidth\": 0, \"ticks\": \"\"}, \"colorscale\": [[0.0, \"#0d0887\"], [0.1111111111111111, \"#46039f\"], [0.2222222222222222, \"#7201a8\"], [0.3333333333333333, \"#9c179e\"], [0.4444444444444444, \"#bd3786\"], [0.5555555555555556, \"#d8576b\"], [0.6666666666666666, \"#ed7953\"], [0.7777777777777778, \"#fb9f3a\"], [0.8888888888888888, \"#fdca26\"], [1.0, \"#f0f921\"]], \"type\": \"surface\"}], \"table\": [{\"cells\": {\"fill\": {\"color\": \"#EBF0F8\"}, \"line\": {\"color\": \"white\"}}, \"header\": {\"fill\": {\"color\": \"#C8D4E3\"}, \"line\": {\"color\": \"white\"}}, \"type\": \"table\"}]}, \"layout\": {\"annotationdefaults\": {\"arrowcolor\": \"#2a3f5f\", \"arrowhead\": 0, \"arrowwidth\": 1}, \"coloraxis\": {\"colorbar\": {\"outlinewidth\": 0, \"ticks\": \"\"}}, \"colorscale\": {\"diverging\": [[0, \"#8e0152\"], [0.1, \"#c51b7d\"], [0.2, \"#de77ae\"], [0.3, \"#f1b6da\"], [0.4, \"#fde0ef\"], [0.5, \"#f7f7f7\"], [0.6, \"#e6f5d0\"], [0.7, \"#b8e186\"], [0.8, \"#7fbc41\"], [0.9, \"#4d9221\"], [1, \"#276419\"]], \"sequential\": [[0.0, \"#0d0887\"], [0.1111111111111111, \"#46039f\"], [0.2222222222222222, \"#7201a8\"], [0.3333333333333333, \"#9c179e\"], [0.4444444444444444, \"#bd3786\"], [0.5555555555555556, \"#d8576b\"], [0.6666666666666666, \"#ed7953\"], [0.7777777777777778, \"#fb9f3a\"], [0.8888888888888888, \"#fdca26\"], [1.0, \"#f0f921\"]], \"sequentialminus\": [[0.0, \"#0d0887\"], [0.1111111111111111, \"#46039f\"], [0.2222222222222222, \"#7201a8\"], [0.3333333333333333, \"#9c179e\"], [0.4444444444444444, \"#bd3786\"], [0.5555555555555556, \"#d8576b\"], [0.6666666666666666, \"#ed7953\"], [0.7777777777777778, \"#fb9f3a\"], [0.8888888888888888, \"#fdca26\"], [1.0, \"#f0f921\"]]}, \"colorway\": [\"#636efa\", \"#EF553B\", \"#00cc96\", \"#ab63fa\", \"#FFA15A\", \"#19d3f3\", \"#FF6692\", \"#B6E880\", \"#FF97FF\", \"#FECB52\"], \"font\": {\"color\": \"#2a3f5f\"}, \"geo\": {\"bgcolor\": \"white\", \"lakecolor\": \"white\", \"landcolor\": \"#E5ECF6\", \"showlakes\": true, \"showland\": true, \"subunitcolor\": \"white\"}, \"hoverlabel\": {\"align\": \"left\"}, \"hovermode\": \"closest\", \"mapbox\": {\"style\": \"light\"}, \"paper_bgcolor\": \"white\", \"plot_bgcolor\": \"#E5ECF6\", \"polar\": {\"angularaxis\": {\"gridcolor\": \"white\", \"linecolor\": \"white\", \"ticks\": \"\"}, \"bgcolor\": \"#E5ECF6\", \"radialaxis\": {\"gridcolor\": \"white\", \"linecolor\": \"white\", \"ticks\": \"\"}}, \"scene\": {\"xaxis\": {\"backgroundcolor\": \"#E5ECF6\", \"gridcolor\": \"white\", \"gridwidth\": 2, \"linecolor\": \"white\", \"showbackground\": true, \"ticks\": \"\", \"zerolinecolor\": \"white\"}, \"yaxis\": {\"backgroundcolor\": \"#E5ECF6\", \"gridcolor\": \"white\", \"gridwidth\": 2, \"linecolor\": \"white\", \"showbackground\": true, \"ticks\": \"\", \"zerolinecolor\": \"white\"}, \"zaxis\": {\"backgroundcolor\": \"#E5ECF6\", \"gridcolor\": \"white\", \"gridwidth\": 2, \"linecolor\": \"white\", \"showbackground\": true, \"ticks\": \"\", \"zerolinecolor\": \"white\"}}, \"shapedefaults\": {\"line\": {\"color\": \"#2a3f5f\"}}, \"ternary\": {\"aaxis\": {\"gridcolor\": \"white\", \"linecolor\": \"white\", \"ticks\": \"\"}, \"baxis\": {\"gridcolor\": \"white\", \"linecolor\": \"white\", \"ticks\": \"\"}, \"bgcolor\": \"#E5ECF6\", \"caxis\": {\"gridcolor\": \"white\", \"linecolor\": \"white\", \"ticks\": \"\"}}, \"title\": {\"x\": 0.05}, \"xaxis\": {\"automargin\": true, \"gridcolor\": \"white\", \"linecolor\": \"white\", \"ticks\": \"\", \"title\": {\"standoff\": 15}, \"zerolinecolor\": \"white\", \"zerolinewidth\": 2}, \"yaxis\": {\"automargin\": true, \"gridcolor\": \"white\", \"linecolor\": \"white\", \"ticks\": \"\", \"title\": {\"standoff\": 15}, \"zerolinecolor\": \"white\", \"zerolinewidth\": 2}}}, \"title\": {\"text\": \"COVID-19 top english words of 2020-04-27 00:00:00\"}, \"updatemenus\": [{\"buttons\": [{\"args\": [null, {\"frame\": {\"duration\": 2000, \"redraw\": true}, \"fromcurrent\": true}], \"label\": \"Play\", \"method\": \"animate\"}, {\"args\": [[null], {\"frame\": {\"duration\": 0, \"redraw\": false}, \"mode\": \"immediate\", \"transition\": {\"duration\": 0}}], \"label\": \"Stop\", \"method\": \"animate\"}], \"type\": \"buttons\"}], \"xaxis\": {\"showline\": false, \"visible\": false}, \"yaxis\": {\"range\": [0, 821.0], \"showline\": false, \"visible\": false}},\n",
       "                        {\"responsive\": true}\n",
       "                    ).then(function(){\n",
       "                            Plotly.addFrames('c1f4f4d5-0658-488d-ba20-2148e7cf1df1', [{\"data\": [{\"cliponaxis\": false, \"hoverinfo\": \"none\", \"marker\": {\"color\": [\"rgb(58, 33, 250)\", \"rgb(75, 72, 243)\", \"rgb(86, 109, 206)\", \"rgb(133, 126, 135)\", \"rgb(182, 7, 214)\", \"rgb(140, 95, 228)\", \"rgb(79, 171, 213)\", \"rgb(94, 25, 214)\", \"rgb(46, 77, 196)\", \"rgb(161, 99, 233)\", \"rgb(15, 21, 167)\", \"rgb(180, 166, 139)\", \"rgb(155, 43, 129)\", \"rgb(96, 153, 156)\", \"rgb(95, 142, 213)\", \"rgb(115, 42, 240)\", \"rgb(10, 80, 250)\", \"rgb(136, 175, 185)\", \"rgb(67, 32, 247)\", \"rgb(23, 53, 177)\"]}, \"textposition\": \"outside\", \"texttemplate\": \"%{x}<br>%{y}\", \"x\": [\"covid\", \"new\", \"pandemic\", \"florida\", \"impact\", \"us\", \"home\", \"people\", \"coronavirus\", \"please\", \"help\", \"testing\", \"get\", \"health\", \"patients\", \"may\", \"news\", \"like\", \"trump\", \"cases\"], \"y\": [803.0, 85.0, 68.0, 59.0, 55.0, 53.0, 53.0, 49.0, 48.0, 44.0, 0.0, 0.0, 0.0, 0.0, 0.0, 0.0, 0.0, 0.0, 0.0, 0.0], \"type\": \"bar\"}], \"layout\": {\"bargap\": 0.15, \"font\": {\"size\": 14}, \"plot_bgcolor\": \"#FFFFFF\", \"title\": {\"text\": \"COVID-19 top english words of 2020-04-27 00:00:00\"}, \"xaxis\": {\"showline\": false, \"visible\": false}, \"yaxis\": {\"showline\": false, \"visible\": false}}}, {\"data\": [{\"cliponaxis\": false, \"hoverinfo\": \"none\", \"marker\": {\"color\": [\"rgb(58, 33, 250)\", \"rgb(75, 72, 243)\", \"rgb(86, 109, 206)\", \"rgb(133, 126, 135)\", \"rgb(182, 7, 214)\", \"rgb(140, 95, 228)\", \"rgb(79, 171, 213)\", \"rgb(94, 25, 214)\", \"rgb(46, 77, 196)\", \"rgb(161, 99, 233)\", \"rgb(15, 21, 167)\", \"rgb(180, 166, 139)\", \"rgb(155, 43, 129)\", \"rgb(96, 153, 156)\", \"rgb(95, 142, 213)\", \"rgb(115, 42, 240)\", \"rgb(10, 80, 250)\", \"rgb(136, 175, 185)\", \"rgb(67, 32, 247)\", \"rgb(23, 53, 177)\"]}, \"textposition\": \"outside\", \"texttemplate\": \"%{x}<br>%{y}\", \"x\": [\"covid\", \"new\", \"pandemic\", \"florida\", \"impact\", \"us\", \"home\", \"people\", \"coronavirus\", \"please\", \"help\", \"testing\", \"get\", \"health\", \"patients\", \"may\", \"news\", \"like\", \"trump\", \"cases\"], \"y\": [760.0, 46.0, 74.0, 48.0, 0.0, 57.0, 0.0, 57.0, 47.0, 0.0, 50.0, 42.0, 40.0, 0.0, 0.0, 0.0, 0.0, 0.0, 0.0, 0.0], \"type\": \"bar\"}], \"layout\": {\"bargap\": 0.15, \"font\": {\"size\": 14}, \"plot_bgcolor\": \"#FFFFFF\", \"title\": {\"text\": \"COVID-19 top english words of 2020-04-28 00:00:00\"}, \"xaxis\": {\"showline\": false, \"visible\": false}, \"yaxis\": {\"showline\": false, \"visible\": false}}}, {\"data\": [{\"cliponaxis\": false, \"hoverinfo\": \"none\", \"marker\": {\"color\": [\"rgb(58, 33, 250)\", \"rgb(75, 72, 243)\", \"rgb(86, 109, 206)\", \"rgb(133, 126, 135)\", \"rgb(182, 7, 214)\", \"rgb(140, 95, 228)\", \"rgb(79, 171, 213)\", \"rgb(94, 25, 214)\", \"rgb(46, 77, 196)\", \"rgb(161, 99, 233)\", \"rgb(15, 21, 167)\", \"rgb(180, 166, 139)\", \"rgb(155, 43, 129)\", \"rgb(96, 153, 156)\", \"rgb(95, 142, 213)\", \"rgb(115, 42, 240)\", \"rgb(10, 80, 250)\", \"rgb(136, 175, 185)\", \"rgb(67, 32, 247)\", \"rgb(23, 53, 177)\"]}, \"textposition\": \"outside\", \"texttemplate\": \"%{x}<br>%{y}\", \"x\": [\"covid\", \"new\", \"pandemic\", \"florida\", \"impact\", \"us\", \"home\", \"people\", \"coronavirus\", \"please\", \"help\", \"testing\", \"get\", \"health\", \"patients\", \"may\", \"news\", \"like\", \"trump\", \"cases\"], \"y\": [821.0, 73.0, 70.0, 61.0, 0.0, 53.0, 0.0, 54.0, 52.0, 0.0, 45.0, 0.0, 0.0, 43.0, 43.0, 0.0, 0.0, 0.0, 0.0, 0.0], \"type\": \"bar\"}], \"layout\": {\"bargap\": 0.15, \"font\": {\"size\": 14}, \"plot_bgcolor\": \"#FFFFFF\", \"title\": {\"text\": \"COVID-19 top english words of 2020-04-29 00:00:00\"}, \"xaxis\": {\"showline\": false, \"visible\": false}, \"yaxis\": {\"showline\": false, \"visible\": false}}}, {\"data\": [{\"cliponaxis\": false, \"hoverinfo\": \"none\", \"marker\": {\"color\": [\"rgb(58, 33, 250)\", \"rgb(75, 72, 243)\", \"rgb(86, 109, 206)\", \"rgb(133, 126, 135)\", \"rgb(182, 7, 214)\", \"rgb(140, 95, 228)\", \"rgb(79, 171, 213)\", \"rgb(94, 25, 214)\", \"rgb(46, 77, 196)\", \"rgb(161, 99, 233)\", \"rgb(15, 21, 167)\", \"rgb(180, 166, 139)\", \"rgb(155, 43, 129)\", \"rgb(96, 153, 156)\", \"rgb(95, 142, 213)\", \"rgb(115, 42, 240)\", \"rgb(10, 80, 250)\", \"rgb(136, 175, 185)\", \"rgb(67, 32, 247)\", \"rgb(23, 53, 177)\"]}, \"textposition\": \"outside\", \"texttemplate\": \"%{x}<br>%{y}\", \"x\": [\"covid\", \"new\", \"pandemic\", \"florida\", \"impact\", \"us\", \"home\", \"people\", \"coronavirus\", \"please\", \"help\", \"testing\", \"get\", \"health\", \"patients\", \"may\", \"news\", \"like\", \"trump\", \"cases\"], \"y\": [710.0, 58.0, 57.0, 64.0, 0.0, 51.0, 0.0, 36.0, 37.0, 0.0, 41.0, 0.0, 0.0, 0.0, 0.0, 42.0, 38.0, 0.0, 0.0, 0.0], \"type\": \"bar\"}], \"layout\": {\"bargap\": 0.15, \"font\": {\"size\": 14}, \"plot_bgcolor\": \"#FFFFFF\", \"title\": {\"text\": \"COVID-19 top english words of 2020-04-30 00:00:00\"}, \"xaxis\": {\"showline\": false, \"visible\": false}, \"yaxis\": {\"showline\": false, \"visible\": false}}}, {\"data\": [{\"cliponaxis\": false, \"hoverinfo\": \"none\", \"marker\": {\"color\": [\"rgb(58, 33, 250)\", \"rgb(75, 72, 243)\", \"rgb(86, 109, 206)\", \"rgb(133, 126, 135)\", \"rgb(182, 7, 214)\", \"rgb(140, 95, 228)\", \"rgb(79, 171, 213)\", \"rgb(94, 25, 214)\", \"rgb(46, 77, 196)\", \"rgb(161, 99, 233)\", \"rgb(15, 21, 167)\", \"rgb(180, 166, 139)\", \"rgb(155, 43, 129)\", \"rgb(96, 153, 156)\", \"rgb(95, 142, 213)\", \"rgb(115, 42, 240)\", \"rgb(10, 80, 250)\", \"rgb(136, 175, 185)\", \"rgb(67, 32, 247)\", \"rgb(23, 53, 177)\"]}, \"textposition\": \"outside\", \"texttemplate\": \"%{x}<br>%{y}\", \"x\": [\"covid\", \"new\", \"pandemic\", \"florida\", \"impact\", \"us\", \"home\", \"people\", \"coronavirus\", \"please\", \"help\", \"testing\", \"get\", \"health\", \"patients\", \"may\", \"news\", \"like\", \"trump\", \"cases\"], \"y\": [704.0, 66.0, 82.0, 67.0, 0.0, 54.0, 0.0, 0.0, 55.0, 0.0, 41.0, 0.0, 0.0, 0.0, 41.0, 59.0, 0.0, 41.0, 0.0, 0.0], \"type\": \"bar\"}], \"layout\": {\"bargap\": 0.15, \"font\": {\"size\": 14}, \"plot_bgcolor\": \"#FFFFFF\", \"title\": {\"text\": \"COVID-19 top english words of 2020-05-01 00:00:00\"}, \"xaxis\": {\"showline\": false, \"visible\": false}, \"yaxis\": {\"showline\": false, \"visible\": false}}}, {\"data\": [{\"cliponaxis\": false, \"hoverinfo\": \"none\", \"marker\": {\"color\": [\"rgb(58, 33, 250)\", \"rgb(75, 72, 243)\", \"rgb(86, 109, 206)\", \"rgb(133, 126, 135)\", \"rgb(182, 7, 214)\", \"rgb(140, 95, 228)\", \"rgb(79, 171, 213)\", \"rgb(94, 25, 214)\", \"rgb(46, 77, 196)\", \"rgb(161, 99, 233)\", \"rgb(15, 21, 167)\", \"rgb(180, 166, 139)\", \"rgb(155, 43, 129)\", \"rgb(96, 153, 156)\", \"rgb(95, 142, 213)\", \"rgb(115, 42, 240)\", \"rgb(10, 80, 250)\", \"rgb(136, 175, 185)\", \"rgb(67, 32, 247)\", \"rgb(23, 53, 177)\"]}, \"textposition\": \"outside\", \"texttemplate\": \"%{x}<br>%{y}\", \"x\": [\"covid\", \"new\", \"pandemic\", \"florida\", \"impact\", \"us\", \"home\", \"people\", \"coronavirus\", \"please\", \"help\", \"testing\", \"get\", \"health\", \"patients\", \"may\", \"news\", \"like\", \"trump\", \"cases\"], \"y\": [454.0, 32.0, 37.0, 29.0, 0.0, 48.0, 0.0, 27.0, 38.0, 0.0, 0.0, 0.0, 27.0, 0.0, 0.0, 28.0, 0.0, 0.0, 26.0, 0.0], \"type\": \"bar\"}], \"layout\": {\"bargap\": 0.15, \"font\": {\"size\": 14}, \"plot_bgcolor\": \"#FFFFFF\", \"title\": {\"text\": \"COVID-19 top english words of 2020-05-02 00:00:00\"}, \"xaxis\": {\"showline\": false, \"visible\": false}, \"yaxis\": {\"showline\": false, \"visible\": false}}}, {\"data\": [{\"cliponaxis\": false, \"hoverinfo\": \"none\", \"marker\": {\"color\": [\"rgb(58, 33, 250)\", \"rgb(75, 72, 243)\", \"rgb(86, 109, 206)\", \"rgb(133, 126, 135)\", \"rgb(182, 7, 214)\", \"rgb(140, 95, 228)\", \"rgb(79, 171, 213)\", \"rgb(94, 25, 214)\", \"rgb(46, 77, 196)\", \"rgb(161, 99, 233)\", \"rgb(15, 21, 167)\", \"rgb(180, 166, 139)\", \"rgb(155, 43, 129)\", \"rgb(96, 153, 156)\", \"rgb(95, 142, 213)\", \"rgb(115, 42, 240)\", \"rgb(10, 80, 250)\", \"rgb(136, 175, 185)\", \"rgb(67, 32, 247)\", \"rgb(23, 53, 177)\"]}, \"textposition\": \"outside\", \"texttemplate\": \"%{x}<br>%{y}\", \"x\": [\"covid\", \"new\", \"pandemic\", \"florida\", \"impact\", \"us\", \"home\", \"people\", \"coronavirus\", \"please\", \"help\", \"testing\", \"get\", \"health\", \"patients\", \"may\", \"news\", \"like\", \"trump\", \"cases\"], \"y\": [407.0, 27.0, 34.0, 23.0, 0.0, 27.0, 0.0, 32.0, 0.0, 0.0, 26.0, 0.0, 24.0, 0.0, 0.0, 34.0, 0.0, 0.0, 0.0, 27.0], \"type\": \"bar\"}], \"layout\": {\"bargap\": 0.15, \"font\": {\"size\": 14}, \"plot_bgcolor\": \"#FFFFFF\", \"title\": {\"text\": \"COVID-19 top english words of 2020-05-03 00:00:00\"}, \"xaxis\": {\"showline\": false, \"visible\": false}, \"yaxis\": {\"showline\": false, \"visible\": false}}}]);\n",
       "                        }).then(function(){\n",
       "                            \n",
       "var gd = document.getElementById('c1f4f4d5-0658-488d-ba20-2148e7cf1df1');\n",
       "var x = new MutationObserver(function (mutations, observer) {{\n",
       "        var display = window.getComputedStyle(gd).display;\n",
       "        if (!display || display === 'none') {{\n",
       "            console.log([gd, 'removed!']);\n",
       "            Plotly.purge(gd);\n",
       "            observer.disconnect();\n",
       "        }}\n",
       "}});\n",
       "\n",
       "// Listen for the removal of the full notebook cells\n",
       "var notebookContainer = gd.closest('#notebook-container');\n",
       "if (notebookContainer) {{\n",
       "    x.observe(notebookContainer, {childList: true});\n",
       "}}\n",
       "\n",
       "// Listen for the clearing of the current output cell\n",
       "var outputEl = gd.closest('.output');\n",
       "if (outputEl) {{\n",
       "    x.observe(outputEl, {childList: true});\n",
       "}}\n",
       "\n",
       "                        })\n",
       "                };\n",
       "                });\n",
       "            </script>\n",
       "        </div>"
      ]
     },
     "metadata": {},
     "output_type": "display_data"
    }
   ],
   "source": [
    "start = datetime(year=2020, month=4, day=27)\n",
    "end = datetime(year=2020, month=5, day=3)\n",
    "df = days_to_df(lang=['en'], geo=['fl'], start_date=start, end_date=end, metric=1, top_n=10)\n",
    "fig = get_bar_race_plot(df, 'COVID-19 top english words of ')\n",
    "fig.show()"
   ]
  },
  {
   "cell_type": "code",
   "execution_count": 14,
   "metadata": {
    "scrolled": false
   },
   "outputs": [
    {
     "name": "stdout",
     "output_type": "stream",
     "text": [
      "querying date 2020-04-27 00:00:00 with lang=['es'], loc=['fl']\n",
      "getting ngrams n=1\n",
      "querying date 2020-04-28 00:00:00 with lang=['es'], loc=['fl']\n",
      "getting ngrams n=1\n",
      "querying date 2020-04-29 00:00:00 with lang=['es'], loc=['fl']\n",
      "getting ngrams n=1\n",
      "querying date 2020-04-30 00:00:00 with lang=['es'], loc=['fl']\n",
      "getting ngrams n=1\n",
      "querying date 2020-05-01 00:00:00 with lang=['es'], loc=['fl']\n",
      "getting ngrams n=1\n",
      "querying date 2020-05-02 00:00:00 with lang=['es'], loc=['fl']\n",
      "getting ngrams n=1\n",
      "querying date 2020-05-03 00:00:00 with lang=['es'], loc=['fl']\n",
      "getting ngrams n=1\n"
     ]
    },
    {
     "data": {
      "application/vnd.plotly.v1+json": {
       "config": {
        "plotlyServerURL": "https://plot.ly"
       },
       "data": [
        {
         "cliponaxis": false,
         "hoverinfo": "none",
         "marker": {
          "color": [
           "rgb(129, 37, 134)",
           "rgb(140, 122, 201)",
           "rgb(7, 78, 176)",
           "rgb(79, 37, 129)",
           "rgb(143, 168, 190)",
           "rgb(139, 140, 216)",
           "rgb(171, 20, 127)",
           "rgb(91, 182, 214)",
           "rgb(56, 127, 201)",
           "rgb(117, 160, 181)",
           "rgb(116, 103, 220)",
           "rgb(178, 114, 173)",
           "rgb(54, 104, 129)",
           "rgb(120, 149, 172)",
           "rgb(101, 26, 240)",
           "rgb(101, 48, 129)",
           "rgb(85, 35, 201)",
           "rgb(178, 67, 177)",
           "rgb(8, 133, 154)",
           "rgb(184, 89, 146)",
           "rgb(100, 127, 230)",
           "rgb(184, 107, 130)",
           "rgb(5, 147, 241)",
           "rgb(156, 9, 147)",
           "rgb(85, 19, 171)"
          ]
         },
         "textposition": "outside",
         "texttemplate": "%{x}<br>%{y}",
         "type": "bar",
         "x": [
          "covid",
          "ón",
          "vía",
          "casos",
          "pandemia",
          "coronavirus",
          "ía",
          "aqu",
          "florida",
          "contagios",
          "país",
          "és",
          "crisis",
          "est",
          "leer",
          "muertes",
          "eeuu",
          "ña",
          "personas",
          "nuevos",
          "si",
          "mayo",
          "dos",
          "cuba",
          "án"
         ],
         "y": [
          175,
          72,
          40,
          29,
          23,
          21,
          20,
          15,
          13,
          13,
          0,
          0,
          0,
          0,
          0,
          0,
          0,
          0,
          0,
          0,
          0,
          0,
          0,
          0,
          0
         ]
        }
       ],
       "frames": [
        {
         "data": [
          {
           "cliponaxis": false,
           "hoverinfo": "none",
           "marker": {
            "color": [
             "rgb(129, 37, 134)",
             "rgb(140, 122, 201)",
             "rgb(7, 78, 176)",
             "rgb(79, 37, 129)",
             "rgb(143, 168, 190)",
             "rgb(139, 140, 216)",
             "rgb(171, 20, 127)",
             "rgb(91, 182, 214)",
             "rgb(56, 127, 201)",
             "rgb(117, 160, 181)",
             "rgb(116, 103, 220)",
             "rgb(178, 114, 173)",
             "rgb(54, 104, 129)",
             "rgb(120, 149, 172)",
             "rgb(101, 26, 240)",
             "rgb(101, 48, 129)",
             "rgb(85, 35, 201)",
             "rgb(178, 67, 177)",
             "rgb(8, 133, 154)",
             "rgb(184, 89, 146)",
             "rgb(100, 127, 230)",
             "rgb(184, 107, 130)",
             "rgb(5, 147, 241)",
             "rgb(156, 9, 147)",
             "rgb(85, 19, 171)"
            ]
           },
           "textposition": "outside",
           "texttemplate": "%{x}<br>%{y}",
           "type": "bar",
           "x": [
            "covid",
            "ón",
            "vía",
            "casos",
            "pandemia",
            "coronavirus",
            "ía",
            "aqu",
            "florida",
            "contagios",
            "país",
            "és",
            "crisis",
            "est",
            "leer",
            "muertes",
            "eeuu",
            "ña",
            "personas",
            "nuevos",
            "si",
            "mayo",
            "dos",
            "cuba",
            "án"
           ],
           "y": [
            175,
            72,
            40,
            29,
            23,
            21,
            20,
            15,
            13,
            13,
            0,
            0,
            0,
            0,
            0,
            0,
            0,
            0,
            0,
            0,
            0,
            0,
            0,
            0,
            0
           ]
          }
         ],
         "layout": {
          "bargap": 0.15,
          "font": {
           "size": 14
          },
          "plot_bgcolor": "#FFFFFF",
          "title": {
           "text": "COVID-19 top spanish words of 2020-04-27 00:00:00"
          },
          "xaxis": {
           "showline": false,
           "visible": false
          },
          "yaxis": {
           "showline": false,
           "visible": false
          }
         }
        },
        {
         "data": [
          {
           "cliponaxis": false,
           "hoverinfo": "none",
           "marker": {
            "color": [
             "rgb(129, 37, 134)",
             "rgb(140, 122, 201)",
             "rgb(7, 78, 176)",
             "rgb(79, 37, 129)",
             "rgb(143, 168, 190)",
             "rgb(139, 140, 216)",
             "rgb(171, 20, 127)",
             "rgb(91, 182, 214)",
             "rgb(56, 127, 201)",
             "rgb(117, 160, 181)",
             "rgb(116, 103, 220)",
             "rgb(178, 114, 173)",
             "rgb(54, 104, 129)",
             "rgb(120, 149, 172)",
             "rgb(101, 26, 240)",
             "rgb(101, 48, 129)",
             "rgb(85, 35, 201)",
             "rgb(178, 67, 177)",
             "rgb(8, 133, 154)",
             "rgb(184, 89, 146)",
             "rgb(100, 127, 230)",
             "rgb(184, 107, 130)",
             "rgb(5, 147, 241)",
             "rgb(156, 9, 147)",
             "rgb(85, 19, 171)"
            ]
           },
           "textposition": "outside",
           "texttemplate": "%{x}<br>%{y}",
           "type": "bar",
           "x": [
            "covid",
            "ón",
            "vía",
            "casos",
            "pandemia",
            "coronavirus",
            "ía",
            "aqu",
            "florida",
            "contagios",
            "país",
            "és",
            "crisis",
            "est",
            "leer",
            "muertes",
            "eeuu",
            "ña",
            "personas",
            "nuevos",
            "si",
            "mayo",
            "dos",
            "cuba",
            "án"
           ],
           "y": [
            229,
            87,
            34,
            25,
            28,
            0,
            27,
            0,
            0,
            0,
            19,
            19,
            18,
            17,
            0,
            0,
            0,
            0,
            0,
            0,
            0,
            0,
            0,
            0,
            0
           ]
          }
         ],
         "layout": {
          "bargap": 0.15,
          "font": {
           "size": 14
          },
          "plot_bgcolor": "#FFFFFF",
          "title": {
           "text": "COVID-19 top spanish words of 2020-04-28 00:00:00"
          },
          "xaxis": {
           "showline": false,
           "visible": false
          },
          "yaxis": {
           "showline": false,
           "visible": false
          }
         }
        },
        {
         "data": [
          {
           "cliponaxis": false,
           "hoverinfo": "none",
           "marker": {
            "color": [
             "rgb(129, 37, 134)",
             "rgb(140, 122, 201)",
             "rgb(7, 78, 176)",
             "rgb(79, 37, 129)",
             "rgb(143, 168, 190)",
             "rgb(139, 140, 216)",
             "rgb(171, 20, 127)",
             "rgb(91, 182, 214)",
             "rgb(56, 127, 201)",
             "rgb(117, 160, 181)",
             "rgb(116, 103, 220)",
             "rgb(178, 114, 173)",
             "rgb(54, 104, 129)",
             "rgb(120, 149, 172)",
             "rgb(101, 26, 240)",
             "rgb(101, 48, 129)",
             "rgb(85, 35, 201)",
             "rgb(178, 67, 177)",
             "rgb(8, 133, 154)",
             "rgb(184, 89, 146)",
             "rgb(100, 127, 230)",
             "rgb(184, 107, 130)",
             "rgb(5, 147, 241)",
             "rgb(156, 9, 147)",
             "rgb(85, 19, 171)"
            ]
           },
           "textposition": "outside",
           "texttemplate": "%{x}<br>%{y}",
           "type": "bar",
           "x": [
            "covid",
            "ón",
            "vía",
            "casos",
            "pandemia",
            "coronavirus",
            "ía",
            "aqu",
            "florida",
            "contagios",
            "país",
            "és",
            "crisis",
            "est",
            "leer",
            "muertes",
            "eeuu",
            "ña",
            "personas",
            "nuevos",
            "si",
            "mayo",
            "dos",
            "cuba",
            "án"
           ],
           "y": [
            210,
            72,
            51,
            32,
            26,
            18,
            30,
            29,
            0,
            0,
            0,
            0,
            15,
            0,
            26,
            0,
            0,
            0,
            0,
            0,
            0,
            0,
            0,
            0,
            0
           ]
          }
         ],
         "layout": {
          "bargap": 0.15,
          "font": {
           "size": 14
          },
          "plot_bgcolor": "#FFFFFF",
          "title": {
           "text": "COVID-19 top spanish words of 2020-04-29 00:00:00"
          },
          "xaxis": {
           "showline": false,
           "visible": false
          },
          "yaxis": {
           "showline": false,
           "visible": false
          }
         }
        },
        {
         "data": [
          {
           "cliponaxis": false,
           "hoverinfo": "none",
           "marker": {
            "color": [
             "rgb(129, 37, 134)",
             "rgb(140, 122, 201)",
             "rgb(7, 78, 176)",
             "rgb(79, 37, 129)",
             "rgb(143, 168, 190)",
             "rgb(139, 140, 216)",
             "rgb(171, 20, 127)",
             "rgb(91, 182, 214)",
             "rgb(56, 127, 201)",
             "rgb(117, 160, 181)",
             "rgb(116, 103, 220)",
             "rgb(178, 114, 173)",
             "rgb(54, 104, 129)",
             "rgb(120, 149, 172)",
             "rgb(101, 26, 240)",
             "rgb(101, 48, 129)",
             "rgb(85, 35, 201)",
             "rgb(178, 67, 177)",
             "rgb(8, 133, 154)",
             "rgb(184, 89, 146)",
             "rgb(100, 127, 230)",
             "rgb(184, 107, 130)",
             "rgb(5, 147, 241)",
             "rgb(156, 9, 147)",
             "rgb(85, 19, 171)"
            ]
           },
           "textposition": "outside",
           "texttemplate": "%{x}<br>%{y}",
           "type": "bar",
           "x": [
            "covid",
            "ón",
            "vía",
            "casos",
            "pandemia",
            "coronavirus",
            "ía",
            "aqu",
            "florida",
            "contagios",
            "país",
            "és",
            "crisis",
            "est",
            "leer",
            "muertes",
            "eeuu",
            "ña",
            "personas",
            "nuevos",
            "si",
            "mayo",
            "dos",
            "cuba",
            "án"
           ],
           "y": [
            247,
            84,
            32,
            26,
            26,
            18,
            29,
            0,
            0,
            0,
            0,
            20,
            0,
            0,
            0,
            18,
            17,
            0,
            0,
            0,
            0,
            0,
            0,
            0,
            0
           ]
          }
         ],
         "layout": {
          "bargap": 0.15,
          "font": {
           "size": 14
          },
          "plot_bgcolor": "#FFFFFF",
          "title": {
           "text": "COVID-19 top spanish words of 2020-04-30 00:00:00"
          },
          "xaxis": {
           "showline": false,
           "visible": false
          },
          "yaxis": {
           "showline": false,
           "visible": false
          }
         }
        },
        {
         "data": [
          {
           "cliponaxis": false,
           "hoverinfo": "none",
           "marker": {
            "color": [
             "rgb(129, 37, 134)",
             "rgb(140, 122, 201)",
             "rgb(7, 78, 176)",
             "rgb(79, 37, 129)",
             "rgb(143, 168, 190)",
             "rgb(139, 140, 216)",
             "rgb(171, 20, 127)",
             "rgb(91, 182, 214)",
             "rgb(56, 127, 201)",
             "rgb(117, 160, 181)",
             "rgb(116, 103, 220)",
             "rgb(178, 114, 173)",
             "rgb(54, 104, 129)",
             "rgb(120, 149, 172)",
             "rgb(101, 26, 240)",
             "rgb(101, 48, 129)",
             "rgb(85, 35, 201)",
             "rgb(178, 67, 177)",
             "rgb(8, 133, 154)",
             "rgb(184, 89, 146)",
             "rgb(100, 127, 230)",
             "rgb(184, 107, 130)",
             "rgb(5, 147, 241)",
             "rgb(156, 9, 147)",
             "rgb(85, 19, 171)"
            ]
           },
           "textposition": "outside",
           "texttemplate": "%{x}<br>%{y}",
           "type": "bar",
           "x": [
            "covid",
            "ón",
            "vía",
            "casos",
            "pandemia",
            "coronavirus",
            "ía",
            "aqu",
            "florida",
            "contagios",
            "país",
            "és",
            "crisis",
            "est",
            "leer",
            "muertes",
            "eeuu",
            "ña",
            "personas",
            "nuevos",
            "si",
            "mayo",
            "dos",
            "cuba",
            "án"
           ],
           "y": [
            180,
            77,
            0,
            26,
            27,
            0,
            22,
            0,
            19,
            0,
            0,
            17,
            0,
            0,
            0,
            14,
            0,
            16,
            15,
            0,
            0,
            0,
            0,
            0,
            0
           ]
          }
         ],
         "layout": {
          "bargap": 0.15,
          "font": {
           "size": 14
          },
          "plot_bgcolor": "#FFFFFF",
          "title": {
           "text": "COVID-19 top spanish words of 2020-05-01 00:00:00"
          },
          "xaxis": {
           "showline": false,
           "visible": false
          },
          "yaxis": {
           "showline": false,
           "visible": false
          }
         }
        },
        {
         "data": [
          {
           "cliponaxis": false,
           "hoverinfo": "none",
           "marker": {
            "color": [
             "rgb(129, 37, 134)",
             "rgb(140, 122, 201)",
             "rgb(7, 78, 176)",
             "rgb(79, 37, 129)",
             "rgb(143, 168, 190)",
             "rgb(139, 140, 216)",
             "rgb(171, 20, 127)",
             "rgb(91, 182, 214)",
             "rgb(56, 127, 201)",
             "rgb(117, 160, 181)",
             "rgb(116, 103, 220)",
             "rgb(178, 114, 173)",
             "rgb(54, 104, 129)",
             "rgb(120, 149, 172)",
             "rgb(101, 26, 240)",
             "rgb(101, 48, 129)",
             "rgb(85, 35, 201)",
             "rgb(178, 67, 177)",
             "rgb(8, 133, 154)",
             "rgb(184, 89, 146)",
             "rgb(100, 127, 230)",
             "rgb(184, 107, 130)",
             "rgb(5, 147, 241)",
             "rgb(156, 9, 147)",
             "rgb(85, 19, 171)"
            ]
           },
           "textposition": "outside",
           "texttemplate": "%{x}<br>%{y}",
           "type": "bar",
           "x": [
            "covid",
            "ón",
            "vía",
            "casos",
            "pandemia",
            "coronavirus",
            "ía",
            "aqu",
            "florida",
            "contagios",
            "país",
            "és",
            "crisis",
            "est",
            "leer",
            "muertes",
            "eeuu",
            "ña",
            "personas",
            "nuevos",
            "si",
            "mayo",
            "dos",
            "cuba",
            "án"
           ],
           "y": [
            134,
            57,
            10,
            23,
            11,
            0,
            19,
            0,
            0,
            0,
            0,
            0,
            0,
            0,
            0,
            0,
            0,
            0,
            0,
            15,
            11,
            10,
            10,
            0,
            0
           ]
          }
         ],
         "layout": {
          "bargap": 0.15,
          "font": {
           "size": 14
          },
          "plot_bgcolor": "#FFFFFF",
          "title": {
           "text": "COVID-19 top spanish words of 2020-05-02 00:00:00"
          },
          "xaxis": {
           "showline": false,
           "visible": false
          },
          "yaxis": {
           "showline": false,
           "visible": false
          }
         }
        },
        {
         "data": [
          {
           "cliponaxis": false,
           "hoverinfo": "none",
           "marker": {
            "color": [
             "rgb(129, 37, 134)",
             "rgb(140, 122, 201)",
             "rgb(7, 78, 176)",
             "rgb(79, 37, 129)",
             "rgb(143, 168, 190)",
             "rgb(139, 140, 216)",
             "rgb(171, 20, 127)",
             "rgb(91, 182, 214)",
             "rgb(56, 127, 201)",
             "rgb(117, 160, 181)",
             "rgb(116, 103, 220)",
             "rgb(178, 114, 173)",
             "rgb(54, 104, 129)",
             "rgb(120, 149, 172)",
             "rgb(101, 26, 240)",
             "rgb(101, 48, 129)",
             "rgb(85, 35, 201)",
             "rgb(178, 67, 177)",
             "rgb(8, 133, 154)",
             "rgb(184, 89, 146)",
             "rgb(100, 127, 230)",
             "rgb(184, 107, 130)",
             "rgb(5, 147, 241)",
             "rgb(156, 9, 147)",
             "rgb(85, 19, 171)"
            ]
           },
           "textposition": "outside",
           "texttemplate": "%{x}<br>%{y}",
           "type": "bar",
           "x": [
            "covid",
            "ón",
            "vía",
            "casos",
            "pandemia",
            "coronavirus",
            "ía",
            "aqu",
            "florida",
            "contagios",
            "país",
            "és",
            "crisis",
            "est",
            "leer",
            "muertes",
            "eeuu",
            "ña",
            "personas",
            "nuevos",
            "si",
            "mayo",
            "dos",
            "cuba",
            "án"
           ],
           "y": [
            127,
            40,
            14,
            24,
            0,
            18,
            0,
            0,
            0,
            10,
            11,
            0,
            0,
            0,
            0,
            0,
            0,
            0,
            0,
            12,
            0,
            0,
            0,
            13,
            10
           ]
          }
         ],
         "layout": {
          "bargap": 0.15,
          "font": {
           "size": 14
          },
          "plot_bgcolor": "#FFFFFF",
          "title": {
           "text": "COVID-19 top spanish words of 2020-05-03 00:00:00"
          },
          "xaxis": {
           "showline": false,
           "visible": false
          },
          "yaxis": {
           "showline": false,
           "visible": false
          }
         }
        }
       ],
       "layout": {
        "bargap": 0.15,
        "font": {
         "size": 14
        },
        "plot_bgcolor": "#FFFFFF",
        "template": {
         "data": {
          "bar": [
           {
            "error_x": {
             "color": "#2a3f5f"
            },
            "error_y": {
             "color": "#2a3f5f"
            },
            "marker": {
             "line": {
              "color": "#E5ECF6",
              "width": 0.5
             }
            },
            "type": "bar"
           }
          ],
          "barpolar": [
           {
            "marker": {
             "line": {
              "color": "#E5ECF6",
              "width": 0.5
             }
            },
            "type": "barpolar"
           }
          ],
          "carpet": [
           {
            "aaxis": {
             "endlinecolor": "#2a3f5f",
             "gridcolor": "white",
             "linecolor": "white",
             "minorgridcolor": "white",
             "startlinecolor": "#2a3f5f"
            },
            "baxis": {
             "endlinecolor": "#2a3f5f",
             "gridcolor": "white",
             "linecolor": "white",
             "minorgridcolor": "white",
             "startlinecolor": "#2a3f5f"
            },
            "type": "carpet"
           }
          ],
          "choropleth": [
           {
            "colorbar": {
             "outlinewidth": 0,
             "ticks": ""
            },
            "type": "choropleth"
           }
          ],
          "contour": [
           {
            "colorbar": {
             "outlinewidth": 0,
             "ticks": ""
            },
            "colorscale": [
             [
              0,
              "#0d0887"
             ],
             [
              0.1111111111111111,
              "#46039f"
             ],
             [
              0.2222222222222222,
              "#7201a8"
             ],
             [
              0.3333333333333333,
              "#9c179e"
             ],
             [
              0.4444444444444444,
              "#bd3786"
             ],
             [
              0.5555555555555556,
              "#d8576b"
             ],
             [
              0.6666666666666666,
              "#ed7953"
             ],
             [
              0.7777777777777778,
              "#fb9f3a"
             ],
             [
              0.8888888888888888,
              "#fdca26"
             ],
             [
              1,
              "#f0f921"
             ]
            ],
            "type": "contour"
           }
          ],
          "contourcarpet": [
           {
            "colorbar": {
             "outlinewidth": 0,
             "ticks": ""
            },
            "type": "contourcarpet"
           }
          ],
          "heatmap": [
           {
            "colorbar": {
             "outlinewidth": 0,
             "ticks": ""
            },
            "colorscale": [
             [
              0,
              "#0d0887"
             ],
             [
              0.1111111111111111,
              "#46039f"
             ],
             [
              0.2222222222222222,
              "#7201a8"
             ],
             [
              0.3333333333333333,
              "#9c179e"
             ],
             [
              0.4444444444444444,
              "#bd3786"
             ],
             [
              0.5555555555555556,
              "#d8576b"
             ],
             [
              0.6666666666666666,
              "#ed7953"
             ],
             [
              0.7777777777777778,
              "#fb9f3a"
             ],
             [
              0.8888888888888888,
              "#fdca26"
             ],
             [
              1,
              "#f0f921"
             ]
            ],
            "type": "heatmap"
           }
          ],
          "heatmapgl": [
           {
            "colorbar": {
             "outlinewidth": 0,
             "ticks": ""
            },
            "colorscale": [
             [
              0,
              "#0d0887"
             ],
             [
              0.1111111111111111,
              "#46039f"
             ],
             [
              0.2222222222222222,
              "#7201a8"
             ],
             [
              0.3333333333333333,
              "#9c179e"
             ],
             [
              0.4444444444444444,
              "#bd3786"
             ],
             [
              0.5555555555555556,
              "#d8576b"
             ],
             [
              0.6666666666666666,
              "#ed7953"
             ],
             [
              0.7777777777777778,
              "#fb9f3a"
             ],
             [
              0.8888888888888888,
              "#fdca26"
             ],
             [
              1,
              "#f0f921"
             ]
            ],
            "type": "heatmapgl"
           }
          ],
          "histogram": [
           {
            "marker": {
             "colorbar": {
              "outlinewidth": 0,
              "ticks": ""
             }
            },
            "type": "histogram"
           }
          ],
          "histogram2d": [
           {
            "colorbar": {
             "outlinewidth": 0,
             "ticks": ""
            },
            "colorscale": [
             [
              0,
              "#0d0887"
             ],
             [
              0.1111111111111111,
              "#46039f"
             ],
             [
              0.2222222222222222,
              "#7201a8"
             ],
             [
              0.3333333333333333,
              "#9c179e"
             ],
             [
              0.4444444444444444,
              "#bd3786"
             ],
             [
              0.5555555555555556,
              "#d8576b"
             ],
             [
              0.6666666666666666,
              "#ed7953"
             ],
             [
              0.7777777777777778,
              "#fb9f3a"
             ],
             [
              0.8888888888888888,
              "#fdca26"
             ],
             [
              1,
              "#f0f921"
             ]
            ],
            "type": "histogram2d"
           }
          ],
          "histogram2dcontour": [
           {
            "colorbar": {
             "outlinewidth": 0,
             "ticks": ""
            },
            "colorscale": [
             [
              0,
              "#0d0887"
             ],
             [
              0.1111111111111111,
              "#46039f"
             ],
             [
              0.2222222222222222,
              "#7201a8"
             ],
             [
              0.3333333333333333,
              "#9c179e"
             ],
             [
              0.4444444444444444,
              "#bd3786"
             ],
             [
              0.5555555555555556,
              "#d8576b"
             ],
             [
              0.6666666666666666,
              "#ed7953"
             ],
             [
              0.7777777777777778,
              "#fb9f3a"
             ],
             [
              0.8888888888888888,
              "#fdca26"
             ],
             [
              1,
              "#f0f921"
             ]
            ],
            "type": "histogram2dcontour"
           }
          ],
          "mesh3d": [
           {
            "colorbar": {
             "outlinewidth": 0,
             "ticks": ""
            },
            "type": "mesh3d"
           }
          ],
          "parcoords": [
           {
            "line": {
             "colorbar": {
              "outlinewidth": 0,
              "ticks": ""
             }
            },
            "type": "parcoords"
           }
          ],
          "pie": [
           {
            "automargin": true,
            "type": "pie"
           }
          ],
          "scatter": [
           {
            "marker": {
             "colorbar": {
              "outlinewidth": 0,
              "ticks": ""
             }
            },
            "type": "scatter"
           }
          ],
          "scatter3d": [
           {
            "line": {
             "colorbar": {
              "outlinewidth": 0,
              "ticks": ""
             }
            },
            "marker": {
             "colorbar": {
              "outlinewidth": 0,
              "ticks": ""
             }
            },
            "type": "scatter3d"
           }
          ],
          "scattercarpet": [
           {
            "marker": {
             "colorbar": {
              "outlinewidth": 0,
              "ticks": ""
             }
            },
            "type": "scattercarpet"
           }
          ],
          "scattergeo": [
           {
            "marker": {
             "colorbar": {
              "outlinewidth": 0,
              "ticks": ""
             }
            },
            "type": "scattergeo"
           }
          ],
          "scattergl": [
           {
            "marker": {
             "colorbar": {
              "outlinewidth": 0,
              "ticks": ""
             }
            },
            "type": "scattergl"
           }
          ],
          "scattermapbox": [
           {
            "marker": {
             "colorbar": {
              "outlinewidth": 0,
              "ticks": ""
             }
            },
            "type": "scattermapbox"
           }
          ],
          "scatterpolar": [
           {
            "marker": {
             "colorbar": {
              "outlinewidth": 0,
              "ticks": ""
             }
            },
            "type": "scatterpolar"
           }
          ],
          "scatterpolargl": [
           {
            "marker": {
             "colorbar": {
              "outlinewidth": 0,
              "ticks": ""
             }
            },
            "type": "scatterpolargl"
           }
          ],
          "scatterternary": [
           {
            "marker": {
             "colorbar": {
              "outlinewidth": 0,
              "ticks": ""
             }
            },
            "type": "scatterternary"
           }
          ],
          "surface": [
           {
            "colorbar": {
             "outlinewidth": 0,
             "ticks": ""
            },
            "colorscale": [
             [
              0,
              "#0d0887"
             ],
             [
              0.1111111111111111,
              "#46039f"
             ],
             [
              0.2222222222222222,
              "#7201a8"
             ],
             [
              0.3333333333333333,
              "#9c179e"
             ],
             [
              0.4444444444444444,
              "#bd3786"
             ],
             [
              0.5555555555555556,
              "#d8576b"
             ],
             [
              0.6666666666666666,
              "#ed7953"
             ],
             [
              0.7777777777777778,
              "#fb9f3a"
             ],
             [
              0.8888888888888888,
              "#fdca26"
             ],
             [
              1,
              "#f0f921"
             ]
            ],
            "type": "surface"
           }
          ],
          "table": [
           {
            "cells": {
             "fill": {
              "color": "#EBF0F8"
             },
             "line": {
              "color": "white"
             }
            },
            "header": {
             "fill": {
              "color": "#C8D4E3"
             },
             "line": {
              "color": "white"
             }
            },
            "type": "table"
           }
          ]
         },
         "layout": {
          "annotationdefaults": {
           "arrowcolor": "#2a3f5f",
           "arrowhead": 0,
           "arrowwidth": 1
          },
          "coloraxis": {
           "colorbar": {
            "outlinewidth": 0,
            "ticks": ""
           }
          },
          "colorscale": {
           "diverging": [
            [
             0,
             "#8e0152"
            ],
            [
             0.1,
             "#c51b7d"
            ],
            [
             0.2,
             "#de77ae"
            ],
            [
             0.3,
             "#f1b6da"
            ],
            [
             0.4,
             "#fde0ef"
            ],
            [
             0.5,
             "#f7f7f7"
            ],
            [
             0.6,
             "#e6f5d0"
            ],
            [
             0.7,
             "#b8e186"
            ],
            [
             0.8,
             "#7fbc41"
            ],
            [
             0.9,
             "#4d9221"
            ],
            [
             1,
             "#276419"
            ]
           ],
           "sequential": [
            [
             0,
             "#0d0887"
            ],
            [
             0.1111111111111111,
             "#46039f"
            ],
            [
             0.2222222222222222,
             "#7201a8"
            ],
            [
             0.3333333333333333,
             "#9c179e"
            ],
            [
             0.4444444444444444,
             "#bd3786"
            ],
            [
             0.5555555555555556,
             "#d8576b"
            ],
            [
             0.6666666666666666,
             "#ed7953"
            ],
            [
             0.7777777777777778,
             "#fb9f3a"
            ],
            [
             0.8888888888888888,
             "#fdca26"
            ],
            [
             1,
             "#f0f921"
            ]
           ],
           "sequentialminus": [
            [
             0,
             "#0d0887"
            ],
            [
             0.1111111111111111,
             "#46039f"
            ],
            [
             0.2222222222222222,
             "#7201a8"
            ],
            [
             0.3333333333333333,
             "#9c179e"
            ],
            [
             0.4444444444444444,
             "#bd3786"
            ],
            [
             0.5555555555555556,
             "#d8576b"
            ],
            [
             0.6666666666666666,
             "#ed7953"
            ],
            [
             0.7777777777777778,
             "#fb9f3a"
            ],
            [
             0.8888888888888888,
             "#fdca26"
            ],
            [
             1,
             "#f0f921"
            ]
           ]
          },
          "colorway": [
           "#636efa",
           "#EF553B",
           "#00cc96",
           "#ab63fa",
           "#FFA15A",
           "#19d3f3",
           "#FF6692",
           "#B6E880",
           "#FF97FF",
           "#FECB52"
          ],
          "font": {
           "color": "#2a3f5f"
          },
          "geo": {
           "bgcolor": "white",
           "lakecolor": "white",
           "landcolor": "#E5ECF6",
           "showlakes": true,
           "showland": true,
           "subunitcolor": "white"
          },
          "hoverlabel": {
           "align": "left"
          },
          "hovermode": "closest",
          "mapbox": {
           "style": "light"
          },
          "paper_bgcolor": "white",
          "plot_bgcolor": "#E5ECF6",
          "polar": {
           "angularaxis": {
            "gridcolor": "white",
            "linecolor": "white",
            "ticks": ""
           },
           "bgcolor": "#E5ECF6",
           "radialaxis": {
            "gridcolor": "white",
            "linecolor": "white",
            "ticks": ""
           }
          },
          "scene": {
           "xaxis": {
            "backgroundcolor": "#E5ECF6",
            "gridcolor": "white",
            "gridwidth": 2,
            "linecolor": "white",
            "showbackground": true,
            "ticks": "",
            "zerolinecolor": "white"
           },
           "yaxis": {
            "backgroundcolor": "#E5ECF6",
            "gridcolor": "white",
            "gridwidth": 2,
            "linecolor": "white",
            "showbackground": true,
            "ticks": "",
            "zerolinecolor": "white"
           },
           "zaxis": {
            "backgroundcolor": "#E5ECF6",
            "gridcolor": "white",
            "gridwidth": 2,
            "linecolor": "white",
            "showbackground": true,
            "ticks": "",
            "zerolinecolor": "white"
           }
          },
          "shapedefaults": {
           "line": {
            "color": "#2a3f5f"
           }
          },
          "ternary": {
           "aaxis": {
            "gridcolor": "white",
            "linecolor": "white",
            "ticks": ""
           },
           "baxis": {
            "gridcolor": "white",
            "linecolor": "white",
            "ticks": ""
           },
           "bgcolor": "#E5ECF6",
           "caxis": {
            "gridcolor": "white",
            "linecolor": "white",
            "ticks": ""
           }
          },
          "title": {
           "x": 0.05
          },
          "xaxis": {
           "automargin": true,
           "gridcolor": "white",
           "linecolor": "white",
           "ticks": "",
           "title": {
            "standoff": 15
           },
           "zerolinecolor": "white",
           "zerolinewidth": 2
          },
          "yaxis": {
           "automargin": true,
           "gridcolor": "white",
           "linecolor": "white",
           "ticks": "",
           "title": {
            "standoff": 15
           },
           "zerolinecolor": "white",
           "zerolinewidth": 2
          }
         }
        },
        "title": {
         "text": "COVID-19 top spanish words of 2020-04-27 00:00:00"
        },
        "updatemenus": [
         {
          "buttons": [
           {
            "args": [
             null,
             {
              "frame": {
               "duration": 2000,
               "redraw": true
              },
              "fromcurrent": true
             }
            ],
            "label": "Play",
            "method": "animate"
           },
           {
            "args": [
             [
              null
             ],
             {
              "frame": {
               "duration": 0,
               "redraw": false
              },
              "mode": "immediate",
              "transition": {
               "duration": 0
              }
             }
            ],
            "label": "Stop",
            "method": "animate"
           }
          ],
          "type": "buttons"
         }
        ],
        "xaxis": {
         "showline": false,
         "visible": false
        },
        "yaxis": {
         "range": [
          0,
          247
         ],
         "showline": false,
         "visible": false
        }
       }
      },
      "text/html": [
       "<div>\n",
       "        \n",
       "        \n",
       "            <div id=\"7beb162f-a8a5-43f8-9c15-4b4c9aa13003\" class=\"plotly-graph-div\" style=\"height:525px; width:100%;\"></div>\n",
       "            <script type=\"text/javascript\">\n",
       "                require([\"plotly\"], function(Plotly) {\n",
       "                    window.PLOTLYENV=window.PLOTLYENV || {};\n",
       "                    \n",
       "                if (document.getElementById(\"7beb162f-a8a5-43f8-9c15-4b4c9aa13003\")) {\n",
       "                    Plotly.newPlot(\n",
       "                        '7beb162f-a8a5-43f8-9c15-4b4c9aa13003',\n",
       "                        [{\"cliponaxis\": false, \"hoverinfo\": \"none\", \"marker\": {\"color\": [\"rgb(129, 37, 134)\", \"rgb(140, 122, 201)\", \"rgb(7, 78, 176)\", \"rgb(79, 37, 129)\", \"rgb(143, 168, 190)\", \"rgb(139, 140, 216)\", \"rgb(171, 20, 127)\", \"rgb(91, 182, 214)\", \"rgb(56, 127, 201)\", \"rgb(117, 160, 181)\", \"rgb(116, 103, 220)\", \"rgb(178, 114, 173)\", \"rgb(54, 104, 129)\", \"rgb(120, 149, 172)\", \"rgb(101, 26, 240)\", \"rgb(101, 48, 129)\", \"rgb(85, 35, 201)\", \"rgb(178, 67, 177)\", \"rgb(8, 133, 154)\", \"rgb(184, 89, 146)\", \"rgb(100, 127, 230)\", \"rgb(184, 107, 130)\", \"rgb(5, 147, 241)\", \"rgb(156, 9, 147)\", \"rgb(85, 19, 171)\"]}, \"textposition\": \"outside\", \"texttemplate\": \"%{x}<br>%{y}\", \"type\": \"bar\", \"x\": [\"covid\", \"\\u00f3n\", \"v\\u00eda\", \"casos\", \"pandemia\", \"coronavirus\", \"\\u00eda\", \"aqu\", \"florida\", \"contagios\", \"pa\\u00eds\", \"\\u00e9s\", \"crisis\", \"est\", \"leer\", \"muertes\", \"eeuu\", \"\\u00f1a\", \"personas\", \"nuevos\", \"si\", \"mayo\", \"dos\", \"cuba\", \"\\u00e1n\"], \"y\": [175.0, 72.0, 40.0, 29.0, 23.0, 21.0, 20.0, 15.0, 13.0, 13.0, 0.0, 0.0, 0.0, 0.0, 0.0, 0.0, 0.0, 0.0, 0.0, 0.0, 0.0, 0.0, 0.0, 0.0, 0.0]}],\n",
       "                        {\"bargap\": 0.15, \"font\": {\"size\": 14}, \"plot_bgcolor\": \"#FFFFFF\", \"template\": {\"data\": {\"bar\": [{\"error_x\": {\"color\": \"#2a3f5f\"}, \"error_y\": {\"color\": \"#2a3f5f\"}, \"marker\": {\"line\": {\"color\": \"#E5ECF6\", \"width\": 0.5}}, \"type\": \"bar\"}], \"barpolar\": [{\"marker\": {\"line\": {\"color\": \"#E5ECF6\", \"width\": 0.5}}, \"type\": \"barpolar\"}], \"carpet\": [{\"aaxis\": {\"endlinecolor\": \"#2a3f5f\", \"gridcolor\": \"white\", \"linecolor\": \"white\", \"minorgridcolor\": \"white\", \"startlinecolor\": \"#2a3f5f\"}, \"baxis\": {\"endlinecolor\": \"#2a3f5f\", \"gridcolor\": \"white\", \"linecolor\": \"white\", \"minorgridcolor\": \"white\", \"startlinecolor\": \"#2a3f5f\"}, \"type\": \"carpet\"}], \"choropleth\": [{\"colorbar\": {\"outlinewidth\": 0, \"ticks\": \"\"}, \"type\": \"choropleth\"}], \"contour\": [{\"colorbar\": {\"outlinewidth\": 0, \"ticks\": \"\"}, \"colorscale\": [[0.0, \"#0d0887\"], [0.1111111111111111, \"#46039f\"], [0.2222222222222222, \"#7201a8\"], [0.3333333333333333, \"#9c179e\"], [0.4444444444444444, \"#bd3786\"], [0.5555555555555556, \"#d8576b\"], [0.6666666666666666, \"#ed7953\"], [0.7777777777777778, \"#fb9f3a\"], [0.8888888888888888, \"#fdca26\"], [1.0, \"#f0f921\"]], \"type\": \"contour\"}], \"contourcarpet\": [{\"colorbar\": {\"outlinewidth\": 0, \"ticks\": \"\"}, \"type\": \"contourcarpet\"}], \"heatmap\": [{\"colorbar\": {\"outlinewidth\": 0, \"ticks\": \"\"}, \"colorscale\": [[0.0, \"#0d0887\"], [0.1111111111111111, \"#46039f\"], [0.2222222222222222, \"#7201a8\"], [0.3333333333333333, \"#9c179e\"], [0.4444444444444444, \"#bd3786\"], [0.5555555555555556, \"#d8576b\"], [0.6666666666666666, \"#ed7953\"], [0.7777777777777778, \"#fb9f3a\"], [0.8888888888888888, \"#fdca26\"], [1.0, \"#f0f921\"]], \"type\": \"heatmap\"}], \"heatmapgl\": [{\"colorbar\": {\"outlinewidth\": 0, \"ticks\": \"\"}, \"colorscale\": [[0.0, \"#0d0887\"], [0.1111111111111111, \"#46039f\"], [0.2222222222222222, \"#7201a8\"], [0.3333333333333333, \"#9c179e\"], [0.4444444444444444, \"#bd3786\"], [0.5555555555555556, \"#d8576b\"], [0.6666666666666666, \"#ed7953\"], [0.7777777777777778, \"#fb9f3a\"], [0.8888888888888888, \"#fdca26\"], [1.0, \"#f0f921\"]], \"type\": \"heatmapgl\"}], \"histogram\": [{\"marker\": {\"colorbar\": {\"outlinewidth\": 0, \"ticks\": \"\"}}, \"type\": \"histogram\"}], \"histogram2d\": [{\"colorbar\": {\"outlinewidth\": 0, \"ticks\": \"\"}, \"colorscale\": [[0.0, \"#0d0887\"], [0.1111111111111111, \"#46039f\"], [0.2222222222222222, \"#7201a8\"], [0.3333333333333333, \"#9c179e\"], [0.4444444444444444, \"#bd3786\"], [0.5555555555555556, \"#d8576b\"], [0.6666666666666666, \"#ed7953\"], [0.7777777777777778, \"#fb9f3a\"], [0.8888888888888888, \"#fdca26\"], [1.0, \"#f0f921\"]], \"type\": \"histogram2d\"}], \"histogram2dcontour\": [{\"colorbar\": {\"outlinewidth\": 0, \"ticks\": \"\"}, \"colorscale\": [[0.0, \"#0d0887\"], [0.1111111111111111, \"#46039f\"], [0.2222222222222222, \"#7201a8\"], [0.3333333333333333, \"#9c179e\"], [0.4444444444444444, \"#bd3786\"], [0.5555555555555556, \"#d8576b\"], [0.6666666666666666, \"#ed7953\"], [0.7777777777777778, \"#fb9f3a\"], [0.8888888888888888, \"#fdca26\"], [1.0, \"#f0f921\"]], \"type\": \"histogram2dcontour\"}], \"mesh3d\": [{\"colorbar\": {\"outlinewidth\": 0, \"ticks\": \"\"}, \"type\": \"mesh3d\"}], \"parcoords\": [{\"line\": {\"colorbar\": {\"outlinewidth\": 0, \"ticks\": \"\"}}, \"type\": \"parcoords\"}], \"pie\": [{\"automargin\": true, \"type\": \"pie\"}], \"scatter\": [{\"marker\": {\"colorbar\": {\"outlinewidth\": 0, \"ticks\": \"\"}}, \"type\": \"scatter\"}], \"scatter3d\": [{\"line\": {\"colorbar\": {\"outlinewidth\": 0, \"ticks\": \"\"}}, \"marker\": {\"colorbar\": {\"outlinewidth\": 0, \"ticks\": \"\"}}, \"type\": \"scatter3d\"}], \"scattercarpet\": [{\"marker\": {\"colorbar\": {\"outlinewidth\": 0, \"ticks\": \"\"}}, \"type\": \"scattercarpet\"}], \"scattergeo\": [{\"marker\": {\"colorbar\": {\"outlinewidth\": 0, \"ticks\": \"\"}}, \"type\": \"scattergeo\"}], \"scattergl\": [{\"marker\": {\"colorbar\": {\"outlinewidth\": 0, \"ticks\": \"\"}}, \"type\": \"scattergl\"}], \"scattermapbox\": [{\"marker\": {\"colorbar\": {\"outlinewidth\": 0, \"ticks\": \"\"}}, \"type\": \"scattermapbox\"}], \"scatterpolar\": [{\"marker\": {\"colorbar\": {\"outlinewidth\": 0, \"ticks\": \"\"}}, \"type\": \"scatterpolar\"}], \"scatterpolargl\": [{\"marker\": {\"colorbar\": {\"outlinewidth\": 0, \"ticks\": \"\"}}, \"type\": \"scatterpolargl\"}], \"scatterternary\": [{\"marker\": {\"colorbar\": {\"outlinewidth\": 0, \"ticks\": \"\"}}, \"type\": \"scatterternary\"}], \"surface\": [{\"colorbar\": {\"outlinewidth\": 0, \"ticks\": \"\"}, \"colorscale\": [[0.0, \"#0d0887\"], [0.1111111111111111, \"#46039f\"], [0.2222222222222222, \"#7201a8\"], [0.3333333333333333, \"#9c179e\"], [0.4444444444444444, \"#bd3786\"], [0.5555555555555556, \"#d8576b\"], [0.6666666666666666, \"#ed7953\"], [0.7777777777777778, \"#fb9f3a\"], [0.8888888888888888, \"#fdca26\"], [1.0, \"#f0f921\"]], \"type\": \"surface\"}], \"table\": [{\"cells\": {\"fill\": {\"color\": \"#EBF0F8\"}, \"line\": {\"color\": \"white\"}}, \"header\": {\"fill\": {\"color\": \"#C8D4E3\"}, \"line\": {\"color\": \"white\"}}, \"type\": \"table\"}]}, \"layout\": {\"annotationdefaults\": {\"arrowcolor\": \"#2a3f5f\", \"arrowhead\": 0, \"arrowwidth\": 1}, \"coloraxis\": {\"colorbar\": {\"outlinewidth\": 0, \"ticks\": \"\"}}, \"colorscale\": {\"diverging\": [[0, \"#8e0152\"], [0.1, \"#c51b7d\"], [0.2, \"#de77ae\"], [0.3, \"#f1b6da\"], [0.4, \"#fde0ef\"], [0.5, \"#f7f7f7\"], [0.6, \"#e6f5d0\"], [0.7, \"#b8e186\"], [0.8, \"#7fbc41\"], [0.9, \"#4d9221\"], [1, \"#276419\"]], \"sequential\": [[0.0, \"#0d0887\"], [0.1111111111111111, \"#46039f\"], [0.2222222222222222, \"#7201a8\"], [0.3333333333333333, \"#9c179e\"], [0.4444444444444444, \"#bd3786\"], [0.5555555555555556, \"#d8576b\"], [0.6666666666666666, \"#ed7953\"], [0.7777777777777778, \"#fb9f3a\"], [0.8888888888888888, \"#fdca26\"], [1.0, \"#f0f921\"]], \"sequentialminus\": [[0.0, \"#0d0887\"], [0.1111111111111111, \"#46039f\"], [0.2222222222222222, \"#7201a8\"], [0.3333333333333333, \"#9c179e\"], [0.4444444444444444, \"#bd3786\"], [0.5555555555555556, \"#d8576b\"], [0.6666666666666666, \"#ed7953\"], [0.7777777777777778, \"#fb9f3a\"], [0.8888888888888888, \"#fdca26\"], [1.0, \"#f0f921\"]]}, \"colorway\": [\"#636efa\", \"#EF553B\", \"#00cc96\", \"#ab63fa\", \"#FFA15A\", \"#19d3f3\", \"#FF6692\", \"#B6E880\", \"#FF97FF\", \"#FECB52\"], \"font\": {\"color\": \"#2a3f5f\"}, \"geo\": {\"bgcolor\": \"white\", \"lakecolor\": \"white\", \"landcolor\": \"#E5ECF6\", \"showlakes\": true, \"showland\": true, \"subunitcolor\": \"white\"}, \"hoverlabel\": {\"align\": \"left\"}, \"hovermode\": \"closest\", \"mapbox\": {\"style\": \"light\"}, \"paper_bgcolor\": \"white\", \"plot_bgcolor\": \"#E5ECF6\", \"polar\": {\"angularaxis\": {\"gridcolor\": \"white\", \"linecolor\": \"white\", \"ticks\": \"\"}, \"bgcolor\": \"#E5ECF6\", \"radialaxis\": {\"gridcolor\": \"white\", \"linecolor\": \"white\", \"ticks\": \"\"}}, \"scene\": {\"xaxis\": {\"backgroundcolor\": \"#E5ECF6\", \"gridcolor\": \"white\", \"gridwidth\": 2, \"linecolor\": \"white\", \"showbackground\": true, \"ticks\": \"\", \"zerolinecolor\": \"white\"}, \"yaxis\": {\"backgroundcolor\": \"#E5ECF6\", \"gridcolor\": \"white\", \"gridwidth\": 2, \"linecolor\": \"white\", \"showbackground\": true, \"ticks\": \"\", \"zerolinecolor\": \"white\"}, \"zaxis\": {\"backgroundcolor\": \"#E5ECF6\", \"gridcolor\": \"white\", \"gridwidth\": 2, \"linecolor\": \"white\", \"showbackground\": true, \"ticks\": \"\", \"zerolinecolor\": \"white\"}}, \"shapedefaults\": {\"line\": {\"color\": \"#2a3f5f\"}}, \"ternary\": {\"aaxis\": {\"gridcolor\": \"white\", \"linecolor\": \"white\", \"ticks\": \"\"}, \"baxis\": {\"gridcolor\": \"white\", \"linecolor\": \"white\", \"ticks\": \"\"}, \"bgcolor\": \"#E5ECF6\", \"caxis\": {\"gridcolor\": \"white\", \"linecolor\": \"white\", \"ticks\": \"\"}}, \"title\": {\"x\": 0.05}, \"xaxis\": {\"automargin\": true, \"gridcolor\": \"white\", \"linecolor\": \"white\", \"ticks\": \"\", \"title\": {\"standoff\": 15}, \"zerolinecolor\": \"white\", \"zerolinewidth\": 2}, \"yaxis\": {\"automargin\": true, \"gridcolor\": \"white\", \"linecolor\": \"white\", \"ticks\": \"\", \"title\": {\"standoff\": 15}, \"zerolinecolor\": \"white\", \"zerolinewidth\": 2}}}, \"title\": {\"text\": \"COVID-19 top spanish words of 2020-04-27 00:00:00\"}, \"updatemenus\": [{\"buttons\": [{\"args\": [null, {\"frame\": {\"duration\": 2000, \"redraw\": true}, \"fromcurrent\": true}], \"label\": \"Play\", \"method\": \"animate\"}, {\"args\": [[null], {\"frame\": {\"duration\": 0, \"redraw\": false}, \"mode\": \"immediate\", \"transition\": {\"duration\": 0}}], \"label\": \"Stop\", \"method\": \"animate\"}], \"type\": \"buttons\"}], \"xaxis\": {\"showline\": false, \"visible\": false}, \"yaxis\": {\"range\": [0, 247.0], \"showline\": false, \"visible\": false}},\n",
       "                        {\"responsive\": true}\n",
       "                    ).then(function(){\n",
       "                            Plotly.addFrames('7beb162f-a8a5-43f8-9c15-4b4c9aa13003', [{\"data\": [{\"cliponaxis\": false, \"hoverinfo\": \"none\", \"marker\": {\"color\": [\"rgb(129, 37, 134)\", \"rgb(140, 122, 201)\", \"rgb(7, 78, 176)\", \"rgb(79, 37, 129)\", \"rgb(143, 168, 190)\", \"rgb(139, 140, 216)\", \"rgb(171, 20, 127)\", \"rgb(91, 182, 214)\", \"rgb(56, 127, 201)\", \"rgb(117, 160, 181)\", \"rgb(116, 103, 220)\", \"rgb(178, 114, 173)\", \"rgb(54, 104, 129)\", \"rgb(120, 149, 172)\", \"rgb(101, 26, 240)\", \"rgb(101, 48, 129)\", \"rgb(85, 35, 201)\", \"rgb(178, 67, 177)\", \"rgb(8, 133, 154)\", \"rgb(184, 89, 146)\", \"rgb(100, 127, 230)\", \"rgb(184, 107, 130)\", \"rgb(5, 147, 241)\", \"rgb(156, 9, 147)\", \"rgb(85, 19, 171)\"]}, \"textposition\": \"outside\", \"texttemplate\": \"%{x}<br>%{y}\", \"x\": [\"covid\", \"\\u00f3n\", \"v\\u00eda\", \"casos\", \"pandemia\", \"coronavirus\", \"\\u00eda\", \"aqu\", \"florida\", \"contagios\", \"pa\\u00eds\", \"\\u00e9s\", \"crisis\", \"est\", \"leer\", \"muertes\", \"eeuu\", \"\\u00f1a\", \"personas\", \"nuevos\", \"si\", \"mayo\", \"dos\", \"cuba\", \"\\u00e1n\"], \"y\": [175.0, 72.0, 40.0, 29.0, 23.0, 21.0, 20.0, 15.0, 13.0, 13.0, 0.0, 0.0, 0.0, 0.0, 0.0, 0.0, 0.0, 0.0, 0.0, 0.0, 0.0, 0.0, 0.0, 0.0, 0.0], \"type\": \"bar\"}], \"layout\": {\"bargap\": 0.15, \"font\": {\"size\": 14}, \"plot_bgcolor\": \"#FFFFFF\", \"title\": {\"text\": \"COVID-19 top spanish words of 2020-04-27 00:00:00\"}, \"xaxis\": {\"showline\": false, \"visible\": false}, \"yaxis\": {\"showline\": false, \"visible\": false}}}, {\"data\": [{\"cliponaxis\": false, \"hoverinfo\": \"none\", \"marker\": {\"color\": [\"rgb(129, 37, 134)\", \"rgb(140, 122, 201)\", \"rgb(7, 78, 176)\", \"rgb(79, 37, 129)\", \"rgb(143, 168, 190)\", \"rgb(139, 140, 216)\", \"rgb(171, 20, 127)\", \"rgb(91, 182, 214)\", \"rgb(56, 127, 201)\", \"rgb(117, 160, 181)\", \"rgb(116, 103, 220)\", \"rgb(178, 114, 173)\", \"rgb(54, 104, 129)\", \"rgb(120, 149, 172)\", \"rgb(101, 26, 240)\", \"rgb(101, 48, 129)\", \"rgb(85, 35, 201)\", \"rgb(178, 67, 177)\", \"rgb(8, 133, 154)\", \"rgb(184, 89, 146)\", \"rgb(100, 127, 230)\", \"rgb(184, 107, 130)\", \"rgb(5, 147, 241)\", \"rgb(156, 9, 147)\", \"rgb(85, 19, 171)\"]}, \"textposition\": \"outside\", \"texttemplate\": \"%{x}<br>%{y}\", \"x\": [\"covid\", \"\\u00f3n\", \"v\\u00eda\", \"casos\", \"pandemia\", \"coronavirus\", \"\\u00eda\", \"aqu\", \"florida\", \"contagios\", \"pa\\u00eds\", \"\\u00e9s\", \"crisis\", \"est\", \"leer\", \"muertes\", \"eeuu\", \"\\u00f1a\", \"personas\", \"nuevos\", \"si\", \"mayo\", \"dos\", \"cuba\", \"\\u00e1n\"], \"y\": [229.0, 87.0, 34.0, 25.0, 28.0, 0.0, 27.0, 0.0, 0.0, 0.0, 19.0, 19.0, 18.0, 17.0, 0.0, 0.0, 0.0, 0.0, 0.0, 0.0, 0.0, 0.0, 0.0, 0.0, 0.0], \"type\": \"bar\"}], \"layout\": {\"bargap\": 0.15, \"font\": {\"size\": 14}, \"plot_bgcolor\": \"#FFFFFF\", \"title\": {\"text\": \"COVID-19 top spanish words of 2020-04-28 00:00:00\"}, \"xaxis\": {\"showline\": false, \"visible\": false}, \"yaxis\": {\"showline\": false, \"visible\": false}}}, {\"data\": [{\"cliponaxis\": false, \"hoverinfo\": \"none\", \"marker\": {\"color\": [\"rgb(129, 37, 134)\", \"rgb(140, 122, 201)\", \"rgb(7, 78, 176)\", \"rgb(79, 37, 129)\", \"rgb(143, 168, 190)\", \"rgb(139, 140, 216)\", \"rgb(171, 20, 127)\", \"rgb(91, 182, 214)\", \"rgb(56, 127, 201)\", \"rgb(117, 160, 181)\", \"rgb(116, 103, 220)\", \"rgb(178, 114, 173)\", \"rgb(54, 104, 129)\", \"rgb(120, 149, 172)\", \"rgb(101, 26, 240)\", \"rgb(101, 48, 129)\", \"rgb(85, 35, 201)\", \"rgb(178, 67, 177)\", \"rgb(8, 133, 154)\", \"rgb(184, 89, 146)\", \"rgb(100, 127, 230)\", \"rgb(184, 107, 130)\", \"rgb(5, 147, 241)\", \"rgb(156, 9, 147)\", \"rgb(85, 19, 171)\"]}, \"textposition\": \"outside\", \"texttemplate\": \"%{x}<br>%{y}\", \"x\": [\"covid\", \"\\u00f3n\", \"v\\u00eda\", \"casos\", \"pandemia\", \"coronavirus\", \"\\u00eda\", \"aqu\", \"florida\", \"contagios\", \"pa\\u00eds\", \"\\u00e9s\", \"crisis\", \"est\", \"leer\", \"muertes\", \"eeuu\", \"\\u00f1a\", \"personas\", \"nuevos\", \"si\", \"mayo\", \"dos\", \"cuba\", \"\\u00e1n\"], \"y\": [210.0, 72.0, 51.0, 32.0, 26.0, 18.0, 30.0, 29.0, 0.0, 0.0, 0.0, 0.0, 15.0, 0.0, 26.0, 0.0, 0.0, 0.0, 0.0, 0.0, 0.0, 0.0, 0.0, 0.0, 0.0], \"type\": \"bar\"}], \"layout\": {\"bargap\": 0.15, \"font\": {\"size\": 14}, \"plot_bgcolor\": \"#FFFFFF\", \"title\": {\"text\": \"COVID-19 top spanish words of 2020-04-29 00:00:00\"}, \"xaxis\": {\"showline\": false, \"visible\": false}, \"yaxis\": {\"showline\": false, \"visible\": false}}}, {\"data\": [{\"cliponaxis\": false, \"hoverinfo\": \"none\", \"marker\": {\"color\": [\"rgb(129, 37, 134)\", \"rgb(140, 122, 201)\", \"rgb(7, 78, 176)\", \"rgb(79, 37, 129)\", \"rgb(143, 168, 190)\", \"rgb(139, 140, 216)\", \"rgb(171, 20, 127)\", \"rgb(91, 182, 214)\", \"rgb(56, 127, 201)\", \"rgb(117, 160, 181)\", \"rgb(116, 103, 220)\", \"rgb(178, 114, 173)\", \"rgb(54, 104, 129)\", \"rgb(120, 149, 172)\", \"rgb(101, 26, 240)\", \"rgb(101, 48, 129)\", \"rgb(85, 35, 201)\", \"rgb(178, 67, 177)\", \"rgb(8, 133, 154)\", \"rgb(184, 89, 146)\", \"rgb(100, 127, 230)\", \"rgb(184, 107, 130)\", \"rgb(5, 147, 241)\", \"rgb(156, 9, 147)\", \"rgb(85, 19, 171)\"]}, \"textposition\": \"outside\", \"texttemplate\": \"%{x}<br>%{y}\", \"x\": [\"covid\", \"\\u00f3n\", \"v\\u00eda\", \"casos\", \"pandemia\", \"coronavirus\", \"\\u00eda\", \"aqu\", \"florida\", \"contagios\", \"pa\\u00eds\", \"\\u00e9s\", \"crisis\", \"est\", \"leer\", \"muertes\", \"eeuu\", \"\\u00f1a\", \"personas\", \"nuevos\", \"si\", \"mayo\", \"dos\", \"cuba\", \"\\u00e1n\"], \"y\": [247.0, 84.0, 32.0, 26.0, 26.0, 18.0, 29.0, 0.0, 0.0, 0.0, 0.0, 20.0, 0.0, 0.0, 0.0, 18.0, 17.0, 0.0, 0.0, 0.0, 0.0, 0.0, 0.0, 0.0, 0.0], \"type\": \"bar\"}], \"layout\": {\"bargap\": 0.15, \"font\": {\"size\": 14}, \"plot_bgcolor\": \"#FFFFFF\", \"title\": {\"text\": \"COVID-19 top spanish words of 2020-04-30 00:00:00\"}, \"xaxis\": {\"showline\": false, \"visible\": false}, \"yaxis\": {\"showline\": false, \"visible\": false}}}, {\"data\": [{\"cliponaxis\": false, \"hoverinfo\": \"none\", \"marker\": {\"color\": [\"rgb(129, 37, 134)\", \"rgb(140, 122, 201)\", \"rgb(7, 78, 176)\", \"rgb(79, 37, 129)\", \"rgb(143, 168, 190)\", \"rgb(139, 140, 216)\", \"rgb(171, 20, 127)\", \"rgb(91, 182, 214)\", \"rgb(56, 127, 201)\", \"rgb(117, 160, 181)\", \"rgb(116, 103, 220)\", \"rgb(178, 114, 173)\", \"rgb(54, 104, 129)\", \"rgb(120, 149, 172)\", \"rgb(101, 26, 240)\", \"rgb(101, 48, 129)\", \"rgb(85, 35, 201)\", \"rgb(178, 67, 177)\", \"rgb(8, 133, 154)\", \"rgb(184, 89, 146)\", \"rgb(100, 127, 230)\", \"rgb(184, 107, 130)\", \"rgb(5, 147, 241)\", \"rgb(156, 9, 147)\", \"rgb(85, 19, 171)\"]}, \"textposition\": \"outside\", \"texttemplate\": \"%{x}<br>%{y}\", \"x\": [\"covid\", \"\\u00f3n\", \"v\\u00eda\", \"casos\", \"pandemia\", \"coronavirus\", \"\\u00eda\", \"aqu\", \"florida\", \"contagios\", \"pa\\u00eds\", \"\\u00e9s\", \"crisis\", \"est\", \"leer\", \"muertes\", \"eeuu\", \"\\u00f1a\", \"personas\", \"nuevos\", \"si\", \"mayo\", \"dos\", \"cuba\", \"\\u00e1n\"], \"y\": [180.0, 77.0, 0.0, 26.0, 27.0, 0.0, 22.0, 0.0, 19.0, 0.0, 0.0, 17.0, 0.0, 0.0, 0.0, 14.0, 0.0, 16.0, 15.0, 0.0, 0.0, 0.0, 0.0, 0.0, 0.0], \"type\": \"bar\"}], \"layout\": {\"bargap\": 0.15, \"font\": {\"size\": 14}, \"plot_bgcolor\": \"#FFFFFF\", \"title\": {\"text\": \"COVID-19 top spanish words of 2020-05-01 00:00:00\"}, \"xaxis\": {\"showline\": false, \"visible\": false}, \"yaxis\": {\"showline\": false, \"visible\": false}}}, {\"data\": [{\"cliponaxis\": false, \"hoverinfo\": \"none\", \"marker\": {\"color\": [\"rgb(129, 37, 134)\", \"rgb(140, 122, 201)\", \"rgb(7, 78, 176)\", \"rgb(79, 37, 129)\", \"rgb(143, 168, 190)\", \"rgb(139, 140, 216)\", \"rgb(171, 20, 127)\", \"rgb(91, 182, 214)\", \"rgb(56, 127, 201)\", \"rgb(117, 160, 181)\", \"rgb(116, 103, 220)\", \"rgb(178, 114, 173)\", \"rgb(54, 104, 129)\", \"rgb(120, 149, 172)\", \"rgb(101, 26, 240)\", \"rgb(101, 48, 129)\", \"rgb(85, 35, 201)\", \"rgb(178, 67, 177)\", \"rgb(8, 133, 154)\", \"rgb(184, 89, 146)\", \"rgb(100, 127, 230)\", \"rgb(184, 107, 130)\", \"rgb(5, 147, 241)\", \"rgb(156, 9, 147)\", \"rgb(85, 19, 171)\"]}, \"textposition\": \"outside\", \"texttemplate\": \"%{x}<br>%{y}\", \"x\": [\"covid\", \"\\u00f3n\", \"v\\u00eda\", \"casos\", \"pandemia\", \"coronavirus\", \"\\u00eda\", \"aqu\", \"florida\", \"contagios\", \"pa\\u00eds\", \"\\u00e9s\", \"crisis\", \"est\", \"leer\", \"muertes\", \"eeuu\", \"\\u00f1a\", \"personas\", \"nuevos\", \"si\", \"mayo\", \"dos\", \"cuba\", \"\\u00e1n\"], \"y\": [134.0, 57.0, 10.0, 23.0, 11.0, 0.0, 19.0, 0.0, 0.0, 0.0, 0.0, 0.0, 0.0, 0.0, 0.0, 0.0, 0.0, 0.0, 0.0, 15.0, 11.0, 10.0, 10.0, 0.0, 0.0], \"type\": \"bar\"}], \"layout\": {\"bargap\": 0.15, \"font\": {\"size\": 14}, \"plot_bgcolor\": \"#FFFFFF\", \"title\": {\"text\": \"COVID-19 top spanish words of 2020-05-02 00:00:00\"}, \"xaxis\": {\"showline\": false, \"visible\": false}, \"yaxis\": {\"showline\": false, \"visible\": false}}}, {\"data\": [{\"cliponaxis\": false, \"hoverinfo\": \"none\", \"marker\": {\"color\": [\"rgb(129, 37, 134)\", \"rgb(140, 122, 201)\", \"rgb(7, 78, 176)\", \"rgb(79, 37, 129)\", \"rgb(143, 168, 190)\", \"rgb(139, 140, 216)\", \"rgb(171, 20, 127)\", \"rgb(91, 182, 214)\", \"rgb(56, 127, 201)\", \"rgb(117, 160, 181)\", \"rgb(116, 103, 220)\", \"rgb(178, 114, 173)\", \"rgb(54, 104, 129)\", \"rgb(120, 149, 172)\", \"rgb(101, 26, 240)\", \"rgb(101, 48, 129)\", \"rgb(85, 35, 201)\", \"rgb(178, 67, 177)\", \"rgb(8, 133, 154)\", \"rgb(184, 89, 146)\", \"rgb(100, 127, 230)\", \"rgb(184, 107, 130)\", \"rgb(5, 147, 241)\", \"rgb(156, 9, 147)\", \"rgb(85, 19, 171)\"]}, \"textposition\": \"outside\", \"texttemplate\": \"%{x}<br>%{y}\", \"x\": [\"covid\", \"\\u00f3n\", \"v\\u00eda\", \"casos\", \"pandemia\", \"coronavirus\", \"\\u00eda\", \"aqu\", \"florida\", \"contagios\", \"pa\\u00eds\", \"\\u00e9s\", \"crisis\", \"est\", \"leer\", \"muertes\", \"eeuu\", \"\\u00f1a\", \"personas\", \"nuevos\", \"si\", \"mayo\", \"dos\", \"cuba\", \"\\u00e1n\"], \"y\": [127.0, 40.0, 14.0, 24.0, 0.0, 18.0, 0.0, 0.0, 0.0, 10.0, 11.0, 0.0, 0.0, 0.0, 0.0, 0.0, 0.0, 0.0, 0.0, 12.0, 0.0, 0.0, 0.0, 13.0, 10.0], \"type\": \"bar\"}], \"layout\": {\"bargap\": 0.15, \"font\": {\"size\": 14}, \"plot_bgcolor\": \"#FFFFFF\", \"title\": {\"text\": \"COVID-19 top spanish words of 2020-05-03 00:00:00\"}, \"xaxis\": {\"showline\": false, \"visible\": false}, \"yaxis\": {\"showline\": false, \"visible\": false}}}]);\n",
       "                        }).then(function(){\n",
       "                            \n",
       "var gd = document.getElementById('7beb162f-a8a5-43f8-9c15-4b4c9aa13003');\n",
       "var x = new MutationObserver(function (mutations, observer) {{\n",
       "        var display = window.getComputedStyle(gd).display;\n",
       "        if (!display || display === 'none') {{\n",
       "            console.log([gd, 'removed!']);\n",
       "            Plotly.purge(gd);\n",
       "            observer.disconnect();\n",
       "        }}\n",
       "}});\n",
       "\n",
       "// Listen for the removal of the full notebook cells\n",
       "var notebookContainer = gd.closest('#notebook-container');\n",
       "if (notebookContainer) {{\n",
       "    x.observe(notebookContainer, {childList: true});\n",
       "}}\n",
       "\n",
       "// Listen for the clearing of the current output cell\n",
       "var outputEl = gd.closest('.output');\n",
       "if (outputEl) {{\n",
       "    x.observe(outputEl, {childList: true});\n",
       "}}\n",
       "\n",
       "                        })\n",
       "                };\n",
       "                });\n",
       "            </script>\n",
       "        </div>"
      ]
     },
     "metadata": {},
     "output_type": "display_data"
    }
   ],
   "source": [
    "start = datetime(year=2020, month=4, day=27)\n",
    "end = datetime(year=2020, month=5, day=3)\n",
    "df = days_to_df(lang=['es'], geo=['fl'], start_date=start, end_date=end, metric=1, top_n=10)\n",
    "fig = get_bar_race_plot(df, 'COVID-19 top spanish words of ')\n",
    "fig.show()"
   ]
  },
  {
   "cell_type": "markdown",
   "metadata": {},
   "source": [
    "feel free to add your own visualizations below!"
   ]
  },
  {
   "cell_type": "code",
   "execution_count": null,
   "metadata": {},
   "outputs": [],
   "source": []
  },
  {
   "cell_type": "code",
   "execution_count": null,
   "metadata": {},
   "outputs": [],
   "source": []
  },
  {
   "cell_type": "code",
   "execution_count": null,
   "metadata": {},
   "outputs": [],
   "source": []
  },
  {
   "cell_type": "code",
   "execution_count": null,
   "metadata": {},
   "outputs": [],
   "source": []
  }
 ],
 "metadata": {
  "kernelspec": {
   "display_name": "Python 3",
   "language": "python",
   "name": "python3"
  },
  "language_info": {
   "codemirror_mode": {
    "name": "ipython",
    "version": 3
   },
   "file_extension": ".py",
   "mimetype": "text/x-python",
   "name": "python",
   "nbconvert_exporter": "python",
   "pygments_lexer": "ipython3",
   "version": "3.7.7"
  }
 },
 "nbformat": 4,
 "nbformat_minor": 2
}
