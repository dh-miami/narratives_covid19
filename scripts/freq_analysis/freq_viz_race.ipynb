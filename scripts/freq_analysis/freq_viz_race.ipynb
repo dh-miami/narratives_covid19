{
 "cells": [
  {
   "cell_type": "markdown",
   "metadata": {},
   "source": [
    "# digital narratives of COVID-19: frequency visualization\n",
    "\n",
    "In this notebook we demonstrate how to use *coveet*, a Python script that retrieves basic statistics (most frequent words, bigrams, trigrams, top users, hashtags) from our curated COVID-19 database about our collection. We also visualize the results using a bar chart race plot. Please feel free to modify this notebook or, if you would like to preserve this version, make a copy of it by clicking \"File\" > \"Make a Copy...\"\n",
    "\n",
    "To follow along, we recommend running the script portions piecemeal, in order.\n",
    "\n",
    "__Author:__\n",
    "\n",
    "* Jerry Bonnell, [j.bonnell@miami.edu](mailto:j.bonnell@miami.edu)\n"
   ]
  },
  {
   "cell_type": "markdown",
   "metadata": {},
   "source": [
    "## 0. Setting Up\n",
    "\n",
    "Before we get started, let's set up the notebook by importing libraries we need."
   ]
  },
  {
   "cell_type": "code",
   "execution_count": 13,
   "metadata": {},
   "outputs": [],
   "source": [
    "import pandas as pd\n",
    "from datetime import datetime, timedelta\n",
    "import plotly.graph_objects as go\n",
    "import random\n",
    "\n",
    "from bar_race import get_bar_race_plot"
   ]
  },
  {
   "cell_type": "markdown",
   "metadata": {},
   "source": [
    "## 1. Querying the database API + filtering stopwords\n",
    "\n",
    "__NOTE__ Documentation for the coveet tool is available on the [project GitHub](https://github.com/dh-miami/narratives_covid19/tree/master/scripts/freq_analysis).\n",
    "\n",
    "In this part, we show how to query using coveet based on some criteria. As an example, let's obtain all English bigrams in Florida between April 27 and May 3, the week in which the total number of cases in the U.S. crossed the one million mark. We'll visualize these results using a bar chart race plot. \n",
    "\n",
    "We assume that the user has prepared a list of stopwords in English and Spanish. In this example, one file contains stopwords for English and another for Spanish."
   ]
  },
  {
   "cell_type": "markdown",
   "metadata": {},
   "source": [
    "Let's obtain all relevant data (tweets and hashtags) corresponding to this range of dates using the *query* function provided by coveet."
   ]
  },
  {
   "cell_type": "code",
   "execution_count": 51,
   "metadata": {
    "scrolled": true
   },
   "outputs": [
    {
     "name": "stdout",
     "output_type": "stream",
     "text": [
      "Namespace(date=[datetime.datetime(2020, 4, 27, 0, 0), datetime.datetime(2020, 5, 3, 0, 0)], func=<function handle_query at 0x117548e60>, geo=['fl'], lang=['en'], stopwords=['stopwords_en.txt', 'stopwords_es.txt'])\n",
      "wrote df to dhcovid_2020-4-27_to_2020-5-3_en_fl.csv!\n"
     ]
    }
   ],
   "source": [
    "!python3 coveet.py query -g fl -l en -d 2020-04-27 2020-05-03 -stopwords stopwords_en.txt stopwords_es.txt"
   ]
  },
  {
   "cell_type": "markdown",
   "metadata": {},
   "source": [
    "This just populated a CSV file which can be viewed using Excel, Numbers, or `pandas` (personal favorite :-)"
   ]
  },
  {
   "cell_type": "markdown",
   "metadata": {},
   "source": [
    "## 2. Retrieving top n-grams and hashtags"
   ]
  },
  {
   "cell_type": "markdown",
   "metadata": {},
   "source": [
    "Let's now use the *nlp* function from coveet to obtain the top 10 bigrams per day, using the above CSV we created as input."
   ]
  },
  {
   "cell_type": "code",
   "execution_count": 34,
   "metadata": {},
   "outputs": [
    {
     "name": "stdout",
     "output_type": "stream",
     "text": [
      "Namespace(file='dhcovid_2020-4-27_to_2020-5-3_en_fl.csv', func=<function handle_nlp at 0x114df4050>, hashtags=False, ngram=2, top=5, users=False)\n",
      "   impact might  home values  home might  ...  day global  giving global       date\n",
      "0            29           27          27  ...           0              0 2020-04-27\n",
      "1             0            0           0  ...           0              0 2020-04-28\n",
      "2             0            0           0  ...           0              0 2020-04-29\n",
      "3             0            0           0  ...           0              0 2020-04-30\n",
      "4             0            0           0  ...           0              0 2020-05-01\n",
      "5             0            0           0  ...           0              0 2020-05-02\n",
      "6             0            0           0  ...          13             13 2020-05-03\n",
      "\n",
      "[7 rows x 33 columns]\n",
      "wrote freq df to dhcovid_2020-4-27_to_2020-5-3_en_fl_2.csv!\n"
     ]
    }
   ],
   "source": [
    "!python3 coveet.py nlp -n 2 -t 5 -f dhcovid_2020-4-27_to_2020-5-3_en_fl.csv"
   ]
  },
  {
   "cell_type": "markdown",
   "metadata": {},
   "source": [
    "When implementing bigrams and trigrams, I treat the entire tweet as context for a word, rather than its immediate neighbors. I think this can possibly yield more (interesting) results.  \n",
    "\n",
    "Let's now load in this CSV using `pandas`.  Let's also convert the date column to a datetime object which makes working with dates easier. "
   ]
  },
  {
   "cell_type": "code",
   "execution_count": 40,
   "metadata": {},
   "outputs": [],
   "source": [
    "df_bigram = pd.read_csv('dhcovid_2020-4-27_to_2020-5-3_en_fl_2.csv', index_col=0)\n",
    "df_bigram['date'] = pd.to_datetime(df_bigram['date'])"
   ]
  },
  {
   "cell_type": "markdown",
   "metadata": {},
   "source": [
    "We can view a snapshot of the data by examining the dataframe. Note that each row corresponds to a day and each column corresponds to a popular bigram. The value in each cell denotes the number of occurrences of that bigram."
   ]
  },
  {
   "cell_type": "code",
   "execution_count": 41,
   "metadata": {},
   "outputs": [
    {
     "data": {
      "text/html": [
       "<div>\n",
       "<style scoped>\n",
       "    .dataframe tbody tr th:only-of-type {\n",
       "        vertical-align: middle;\n",
       "    }\n",
       "\n",
       "    .dataframe tbody tr th {\n",
       "        vertical-align: top;\n",
       "    }\n",
       "\n",
       "    .dataframe thead th {\n",
       "        text-align: right;\n",
       "    }\n",
       "</style>\n",
       "<table border=\"1\" class=\"dataframe\">\n",
       "  <thead>\n",
       "    <tr style=\"text-align: right;\">\n",
       "      <th></th>\n",
       "      <th>impact might</th>\n",
       "      <th>home values</th>\n",
       "      <th>home might</th>\n",
       "      <th>home impact</th>\n",
       "      <th>might values</th>\n",
       "      <th>florida south</th>\n",
       "      <th>2020 april</th>\n",
       "      <th>distancing social</th>\n",
       "      <th>coronavirus pandemic</th>\n",
       "      <th>cases us</th>\n",
       "      <th>...</th>\n",
       "      <th>deceived world</th>\n",
       "      <th>deceived intel</th>\n",
       "      <th>deceived dossier</th>\n",
       "      <th>deceived leaked</th>\n",
       "      <th>global response</th>\n",
       "      <th>global may</th>\n",
       "      <th>5 global</th>\n",
       "      <th>day global</th>\n",
       "      <th>giving global</th>\n",
       "      <th>date</th>\n",
       "    </tr>\n",
       "  </thead>\n",
       "  <tbody>\n",
       "    <tr>\n",
       "      <th>0</th>\n",
       "      <td>29</td>\n",
       "      <td>27</td>\n",
       "      <td>27</td>\n",
       "      <td>27</td>\n",
       "      <td>27</td>\n",
       "      <td>0</td>\n",
       "      <td>0</td>\n",
       "      <td>0</td>\n",
       "      <td>0</td>\n",
       "      <td>0</td>\n",
       "      <td>...</td>\n",
       "      <td>0</td>\n",
       "      <td>0</td>\n",
       "      <td>0</td>\n",
       "      <td>0</td>\n",
       "      <td>0</td>\n",
       "      <td>0</td>\n",
       "      <td>0</td>\n",
       "      <td>0</td>\n",
       "      <td>0</td>\n",
       "      <td>2020-04-27</td>\n",
       "    </tr>\n",
       "    <tr>\n",
       "      <th>1</th>\n",
       "      <td>0</td>\n",
       "      <td>0</td>\n",
       "      <td>0</td>\n",
       "      <td>0</td>\n",
       "      <td>0</td>\n",
       "      <td>15</td>\n",
       "      <td>14</td>\n",
       "      <td>12</td>\n",
       "      <td>11</td>\n",
       "      <td>9</td>\n",
       "      <td>...</td>\n",
       "      <td>0</td>\n",
       "      <td>0</td>\n",
       "      <td>0</td>\n",
       "      <td>0</td>\n",
       "      <td>0</td>\n",
       "      <td>0</td>\n",
       "      <td>0</td>\n",
       "      <td>0</td>\n",
       "      <td>0</td>\n",
       "      <td>2020-04-28</td>\n",
       "    </tr>\n",
       "    <tr>\n",
       "      <th>2</th>\n",
       "      <td>0</td>\n",
       "      <td>0</td>\n",
       "      <td>0</td>\n",
       "      <td>0</td>\n",
       "      <td>0</td>\n",
       "      <td>14</td>\n",
       "      <td>14</td>\n",
       "      <td>0</td>\n",
       "      <td>0</td>\n",
       "      <td>0</td>\n",
       "      <td>...</td>\n",
       "      <td>0</td>\n",
       "      <td>0</td>\n",
       "      <td>0</td>\n",
       "      <td>0</td>\n",
       "      <td>0</td>\n",
       "      <td>0</td>\n",
       "      <td>0</td>\n",
       "      <td>0</td>\n",
       "      <td>0</td>\n",
       "      <td>2020-04-29</td>\n",
       "    </tr>\n",
       "    <tr>\n",
       "      <th>3</th>\n",
       "      <td>0</td>\n",
       "      <td>0</td>\n",
       "      <td>0</td>\n",
       "      <td>0</td>\n",
       "      <td>0</td>\n",
       "      <td>0</td>\n",
       "      <td>0</td>\n",
       "      <td>0</td>\n",
       "      <td>0</td>\n",
       "      <td>0</td>\n",
       "      <td>...</td>\n",
       "      <td>0</td>\n",
       "      <td>0</td>\n",
       "      <td>0</td>\n",
       "      <td>0</td>\n",
       "      <td>0</td>\n",
       "      <td>0</td>\n",
       "      <td>0</td>\n",
       "      <td>0</td>\n",
       "      <td>0</td>\n",
       "      <td>2020-04-30</td>\n",
       "    </tr>\n",
       "    <tr>\n",
       "      <th>4</th>\n",
       "      <td>0</td>\n",
       "      <td>0</td>\n",
       "      <td>0</td>\n",
       "      <td>0</td>\n",
       "      <td>0</td>\n",
       "      <td>14</td>\n",
       "      <td>0</td>\n",
       "      <td>0</td>\n",
       "      <td>0</td>\n",
       "      <td>0</td>\n",
       "      <td>...</td>\n",
       "      <td>0</td>\n",
       "      <td>0</td>\n",
       "      <td>0</td>\n",
       "      <td>0</td>\n",
       "      <td>0</td>\n",
       "      <td>0</td>\n",
       "      <td>0</td>\n",
       "      <td>0</td>\n",
       "      <td>0</td>\n",
       "      <td>2020-05-01</td>\n",
       "    </tr>\n",
       "    <tr>\n",
       "      <th>5</th>\n",
       "      <td>0</td>\n",
       "      <td>0</td>\n",
       "      <td>0</td>\n",
       "      <td>0</td>\n",
       "      <td>0</td>\n",
       "      <td>0</td>\n",
       "      <td>0</td>\n",
       "      <td>0</td>\n",
       "      <td>0</td>\n",
       "      <td>0</td>\n",
       "      <td>...</td>\n",
       "      <td>9</td>\n",
       "      <td>9</td>\n",
       "      <td>9</td>\n",
       "      <td>9</td>\n",
       "      <td>0</td>\n",
       "      <td>0</td>\n",
       "      <td>0</td>\n",
       "      <td>0</td>\n",
       "      <td>0</td>\n",
       "      <td>2020-05-02</td>\n",
       "    </tr>\n",
       "    <tr>\n",
       "      <th>6</th>\n",
       "      <td>0</td>\n",
       "      <td>0</td>\n",
       "      <td>0</td>\n",
       "      <td>0</td>\n",
       "      <td>0</td>\n",
       "      <td>0</td>\n",
       "      <td>0</td>\n",
       "      <td>0</td>\n",
       "      <td>0</td>\n",
       "      <td>0</td>\n",
       "      <td>...</td>\n",
       "      <td>0</td>\n",
       "      <td>0</td>\n",
       "      <td>0</td>\n",
       "      <td>0</td>\n",
       "      <td>14</td>\n",
       "      <td>13</td>\n",
       "      <td>13</td>\n",
       "      <td>13</td>\n",
       "      <td>13</td>\n",
       "      <td>2020-05-03</td>\n",
       "    </tr>\n",
       "  </tbody>\n",
       "</table>\n",
       "<p>7 rows × 33 columns</p>\n",
       "</div>"
      ],
      "text/plain": [
       "   impact might  home values  home might  home impact  might values  \\\n",
       "0            29           27          27           27            27   \n",
       "1             0            0           0            0             0   \n",
       "2             0            0           0            0             0   \n",
       "3             0            0           0            0             0   \n",
       "4             0            0           0            0             0   \n",
       "5             0            0           0            0             0   \n",
       "6             0            0           0            0             0   \n",
       "\n",
       "   florida south  2020 april  distancing social  coronavirus pandemic  \\\n",
       "0              0           0                  0                     0   \n",
       "1             15          14                 12                    11   \n",
       "2             14          14                  0                     0   \n",
       "3              0           0                  0                     0   \n",
       "4             14           0                  0                     0   \n",
       "5              0           0                  0                     0   \n",
       "6              0           0                  0                     0   \n",
       "\n",
       "   cases us  ...  deceived world  deceived intel  deceived dossier  \\\n",
       "0         0  ...               0               0                 0   \n",
       "1         9  ...               0               0                 0   \n",
       "2         0  ...               0               0                 0   \n",
       "3         0  ...               0               0                 0   \n",
       "4         0  ...               0               0                 0   \n",
       "5         0  ...               9               9                 9   \n",
       "6         0  ...               0               0                 0   \n",
       "\n",
       "   deceived leaked  global response  global may  5 global  day global  \\\n",
       "0                0                0           0         0           0   \n",
       "1                0                0           0         0           0   \n",
       "2                0                0           0         0           0   \n",
       "3                0                0           0         0           0   \n",
       "4                0                0           0         0           0   \n",
       "5                9                0           0         0           0   \n",
       "6                0               14          13        13          13   \n",
       "\n",
       "   giving global       date  \n",
       "0              0 2020-04-27  \n",
       "1              0 2020-04-28  \n",
       "2              0 2020-04-29  \n",
       "3              0 2020-04-30  \n",
       "4              0 2020-05-01  \n",
       "5              0 2020-05-02  \n",
       "6             13 2020-05-03  \n",
       "\n",
       "[7 rows x 33 columns]"
      ]
     },
     "execution_count": 41,
     "metadata": {},
     "output_type": "execute_result"
    }
   ],
   "source": [
    "df_bigram"
   ]
  },
  {
   "cell_type": "markdown",
   "metadata": {},
   "source": [
    "Let's use the nlp function to also obtain top hashtags from the same CSV file. "
   ]
  },
  {
   "cell_type": "code",
   "execution_count": 42,
   "metadata": {},
   "outputs": [
    {
     "name": "stdout",
     "output_type": "stream",
     "text": [
      "Namespace(file='dhcovid_2020-4-27_to_2020-5-3_en_fl.csv', func=<function handle_nlp at 0x11f313050>, hashtags='h', ngram=False, top=5, users=False)\r\n",
      "   covid19  coronavirus  covid  ...  pandemic  givingtuesdaynow       date\r\n",
      "0      109           28     13  ...         0                 0 2020-04-27\r\n",
      "1      112           30     26  ...         0                 0 2020-04-28\r\n",
      "2      111           32     27  ...         0                 0 2020-04-29\r\n",
      "3      102           34     31  ...        10                 0 2020-04-30\r\n",
      "4      139           34     29  ...         0                12 2020-05-01\r\n",
      "5      105           20     27  ...         0                 0 2020-05-02\r\n",
      "6       75           14     21  ...         0                17 2020-05-03\r\n",
      "\r\n",
      "[7 rows x 10 columns]\r\n",
      "wrote freq df to dhcovid_2020-4-27_to_2020-5-3_en_fl_h.csv!\r\n"
     ]
    }
   ],
   "source": [
    "!python3 coveet.py nlp -hashtags -t 5 -f dhcovid_2020-4-27_to_2020-5-3_en_fl.csv"
   ]
  },
  {
   "cell_type": "code",
   "execution_count": 43,
   "metadata": {
    "scrolled": true
   },
   "outputs": [
    {
     "data": {
      "text/html": [
       "<div>\n",
       "<style scoped>\n",
       "    .dataframe tbody tr th:only-of-type {\n",
       "        vertical-align: middle;\n",
       "    }\n",
       "\n",
       "    .dataframe tbody tr th {\n",
       "        vertical-align: top;\n",
       "    }\n",
       "\n",
       "    .dataframe thead th {\n",
       "        text-align: right;\n",
       "    }\n",
       "</style>\n",
       "<table border=\"1\" class=\"dataframe\">\n",
       "  <thead>\n",
       "    <tr style=\"text-align: right;\">\n",
       "      <th></th>\n",
       "      <th>covid19</th>\n",
       "      <th>coronavirus</th>\n",
       "      <th>covid</th>\n",
       "      <th>health</th>\n",
       "      <th>miami</th>\n",
       "      <th>acscovid19</th>\n",
       "      <th>staysafe</th>\n",
       "      <th>pandemic</th>\n",
       "      <th>givingtuesdaynow</th>\n",
       "      <th>date</th>\n",
       "    </tr>\n",
       "  </thead>\n",
       "  <tbody>\n",
       "    <tr>\n",
       "      <th>0</th>\n",
       "      <td>109</td>\n",
       "      <td>28</td>\n",
       "      <td>13</td>\n",
       "      <td>13</td>\n",
       "      <td>9</td>\n",
       "      <td>0</td>\n",
       "      <td>0</td>\n",
       "      <td>0</td>\n",
       "      <td>0</td>\n",
       "      <td>2020-04-27</td>\n",
       "    </tr>\n",
       "    <tr>\n",
       "      <th>1</th>\n",
       "      <td>112</td>\n",
       "      <td>30</td>\n",
       "      <td>26</td>\n",
       "      <td>0</td>\n",
       "      <td>0</td>\n",
       "      <td>23</td>\n",
       "      <td>7</td>\n",
       "      <td>0</td>\n",
       "      <td>0</td>\n",
       "      <td>2020-04-28</td>\n",
       "    </tr>\n",
       "    <tr>\n",
       "      <th>2</th>\n",
       "      <td>111</td>\n",
       "      <td>32</td>\n",
       "      <td>27</td>\n",
       "      <td>13</td>\n",
       "      <td>0</td>\n",
       "      <td>10</td>\n",
       "      <td>0</td>\n",
       "      <td>0</td>\n",
       "      <td>0</td>\n",
       "      <td>2020-04-29</td>\n",
       "    </tr>\n",
       "    <tr>\n",
       "      <th>3</th>\n",
       "      <td>102</td>\n",
       "      <td>34</td>\n",
       "      <td>31</td>\n",
       "      <td>13</td>\n",
       "      <td>0</td>\n",
       "      <td>0</td>\n",
       "      <td>0</td>\n",
       "      <td>10</td>\n",
       "      <td>0</td>\n",
       "      <td>2020-04-30</td>\n",
       "    </tr>\n",
       "    <tr>\n",
       "      <th>4</th>\n",
       "      <td>139</td>\n",
       "      <td>34</td>\n",
       "      <td>29</td>\n",
       "      <td>0</td>\n",
       "      <td>0</td>\n",
       "      <td>17</td>\n",
       "      <td>0</td>\n",
       "      <td>0</td>\n",
       "      <td>12</td>\n",
       "      <td>2020-05-01</td>\n",
       "    </tr>\n",
       "    <tr>\n",
       "      <th>5</th>\n",
       "      <td>105</td>\n",
       "      <td>20</td>\n",
       "      <td>27</td>\n",
       "      <td>10</td>\n",
       "      <td>0</td>\n",
       "      <td>17</td>\n",
       "      <td>0</td>\n",
       "      <td>0</td>\n",
       "      <td>0</td>\n",
       "      <td>2020-05-02</td>\n",
       "    </tr>\n",
       "    <tr>\n",
       "      <th>6</th>\n",
       "      <td>75</td>\n",
       "      <td>14</td>\n",
       "      <td>21</td>\n",
       "      <td>9</td>\n",
       "      <td>0</td>\n",
       "      <td>0</td>\n",
       "      <td>0</td>\n",
       "      <td>0</td>\n",
       "      <td>17</td>\n",
       "      <td>2020-05-03</td>\n",
       "    </tr>\n",
       "  </tbody>\n",
       "</table>\n",
       "</div>"
      ],
      "text/plain": [
       "   covid19  coronavirus  covid  health  miami  acscovid19  staysafe  pandemic  \\\n",
       "0      109           28     13      13      9           0         0         0   \n",
       "1      112           30     26       0      0          23         7         0   \n",
       "2      111           32     27      13      0          10         0         0   \n",
       "3      102           34     31      13      0           0         0        10   \n",
       "4      139           34     29       0      0          17         0         0   \n",
       "5      105           20     27      10      0          17         0         0   \n",
       "6       75           14     21       9      0           0         0         0   \n",
       "\n",
       "   givingtuesdaynow       date  \n",
       "0                 0 2020-04-27  \n",
       "1                 0 2020-04-28  \n",
       "2                 0 2020-04-29  \n",
       "3                 0 2020-04-30  \n",
       "4                12 2020-05-01  \n",
       "5                 0 2020-05-02  \n",
       "6                17 2020-05-03  "
      ]
     },
     "execution_count": 43,
     "metadata": {},
     "output_type": "execute_result"
    }
   ],
   "source": [
    "df_htags = pd.read_csv('dhcovid_2020-4-27_to_2020-5-3_en_fl_h.csv', index_col=0)\n",
    "df_htags['date'] = pd.to_datetime(df_htags['date'])\n",
    "df_htags"
   ]
  },
  {
   "cell_type": "markdown",
   "metadata": {},
   "source": [
    "Looks great!"
   ]
  },
  {
   "cell_type": "markdown",
   "metadata": {},
   "source": [
    "## 2. Bar Chat Race \n",
    "\n",
    "Now comes the fun part :-) Using the returned dataframe, we can visualize how the top bigrams change over the course of the week. We pass in the variable *df* to a function `get_bar_race_plot()` (the details of which are in the `bar_race` module on GitHub), and obtain an interactive plot using `plotly`."
   ]
  },
  {
   "cell_type": "code",
   "execution_count": 45,
   "metadata": {},
   "outputs": [
    {
     "data": {
      "application/vnd.plotly.v1+json": {
       "config": {
        "plotlyServerURL": "https://plot.ly"
       },
       "data": [
        {
         "cliponaxis": false,
         "hoverinfo": "none",
         "marker": {
          "color": [
           "rgb(78, 165, 168)",
           "rgb(58, 150, 197)",
           "rgb(164, 147, 134)",
           "rgb(65, 58, 146)",
           "rgb(134, 47, 240)",
           "rgb(136, 62, 159)",
           "rgb(105, 38, 190)",
           "rgb(109, 183, 143)",
           "rgb(98, 22, 139)",
           "rgb(169, 182, 238)",
           "rgb(52, 86, 134)",
           "rgb(85, 57, 229)",
           "rgb(70, 83, 178)",
           "rgb(44, 51, 138)",
           "rgb(79, 93, 199)",
           "rgb(40, 52, 255)",
           "rgb(10, 1, 181)",
           "rgb(10, 139, 156)",
           "rgb(88, 157, 147)",
           "rgb(90, 164, 134)",
           "rgb(182, 73, 168)",
           "rgb(117, 80, 136)",
           "rgb(54, 42, 234)",
           "rgb(88, 44, 127)",
           "rgb(171, 15, 244)",
           "rgb(146, 151, 213)",
           "rgb(66, 142, 131)",
           "rgb(84, 150, 141)",
           "rgb(180, 162, 213)",
           "rgb(98, 160, 255)",
           "rgb(76, 152, 241)",
           "rgb(121, 100, 177)"
          ]
         },
         "textposition": "outside",
         "texttemplate": "%{x}<br>%{y}",
         "type": "bar",
         "x": [
          "impact might",
          "home values",
          "home might",
          "home impact",
          "might values",
          "florida south",
          "2020 april",
          "distancing social",
          "coronavirus pandemic",
          "cases us",
          "30 april",
          "join us",
          "help may",
          "available report",
          "credit report",
          "free report",
          "available credit",
          "available free",
          "cases new",
          "pandemic us",
          "coronavirus new",
          "florida pandemic",
          "china intel",
          "deceived world",
          "deceived intel",
          "deceived dossier",
          "deceived leaked",
          "global response",
          "global may",
          "5 global",
          "day global",
          "giving global"
         ],
         "y": [
          29,
          27,
          27,
          27,
          27,
          0,
          0,
          0,
          0,
          0,
          0,
          0,
          0,
          0,
          0,
          0,
          0,
          0,
          0,
          0,
          0,
          0,
          0,
          0,
          0,
          0,
          0,
          0,
          0,
          0,
          0,
          0
         ]
        }
       ],
       "frames": [
        {
         "data": [
          {
           "cliponaxis": false,
           "hoverinfo": "none",
           "marker": {
            "color": [
             "rgb(78, 165, 168)",
             "rgb(58, 150, 197)",
             "rgb(164, 147, 134)",
             "rgb(65, 58, 146)",
             "rgb(134, 47, 240)",
             "rgb(136, 62, 159)",
             "rgb(105, 38, 190)",
             "rgb(109, 183, 143)",
             "rgb(98, 22, 139)",
             "rgb(169, 182, 238)",
             "rgb(52, 86, 134)",
             "rgb(85, 57, 229)",
             "rgb(70, 83, 178)",
             "rgb(44, 51, 138)",
             "rgb(79, 93, 199)",
             "rgb(40, 52, 255)",
             "rgb(10, 1, 181)",
             "rgb(10, 139, 156)",
             "rgb(88, 157, 147)",
             "rgb(90, 164, 134)",
             "rgb(182, 73, 168)",
             "rgb(117, 80, 136)",
             "rgb(54, 42, 234)",
             "rgb(88, 44, 127)",
             "rgb(171, 15, 244)",
             "rgb(146, 151, 213)",
             "rgb(66, 142, 131)",
             "rgb(84, 150, 141)",
             "rgb(180, 162, 213)",
             "rgb(98, 160, 255)",
             "rgb(76, 152, 241)",
             "rgb(121, 100, 177)"
            ]
           },
           "textposition": "outside",
           "texttemplate": "%{x}<br>%{y}",
           "type": "bar",
           "x": [
            "impact might",
            "home values",
            "home might",
            "home impact",
            "might values",
            "florida south",
            "2020 april",
            "distancing social",
            "coronavirus pandemic",
            "cases us",
            "30 april",
            "join us",
            "help may",
            "available report",
            "credit report",
            "free report",
            "available credit",
            "available free",
            "cases new",
            "pandemic us",
            "coronavirus new",
            "florida pandemic",
            "china intel",
            "deceived world",
            "deceived intel",
            "deceived dossier",
            "deceived leaked",
            "global response",
            "global may",
            "5 global",
            "day global",
            "giving global"
           ],
           "y": [
            29,
            27,
            27,
            27,
            27,
            0,
            0,
            0,
            0,
            0,
            0,
            0,
            0,
            0,
            0,
            0,
            0,
            0,
            0,
            0,
            0,
            0,
            0,
            0,
            0,
            0,
            0,
            0,
            0,
            0,
            0,
            0
           ]
          }
         ],
         "layout": {
          "bargap": 0.15,
          "font": {
           "size": 14
          },
          "plot_bgcolor": "#FFFFFF",
          "title": {
           "text": "COVID-19 top bigrams of 2020-04-27 00:00:00"
          },
          "xaxis": {
           "showline": false,
           "visible": false
          },
          "yaxis": {
           "showline": false,
           "visible": false
          }
         }
        },
        {
         "data": [
          {
           "cliponaxis": false,
           "hoverinfo": "none",
           "marker": {
            "color": [
             "rgb(78, 165, 168)",
             "rgb(58, 150, 197)",
             "rgb(164, 147, 134)",
             "rgb(65, 58, 146)",
             "rgb(134, 47, 240)",
             "rgb(136, 62, 159)",
             "rgb(105, 38, 190)",
             "rgb(109, 183, 143)",
             "rgb(98, 22, 139)",
             "rgb(169, 182, 238)",
             "rgb(52, 86, 134)",
             "rgb(85, 57, 229)",
             "rgb(70, 83, 178)",
             "rgb(44, 51, 138)",
             "rgb(79, 93, 199)",
             "rgb(40, 52, 255)",
             "rgb(10, 1, 181)",
             "rgb(10, 139, 156)",
             "rgb(88, 157, 147)",
             "rgb(90, 164, 134)",
             "rgb(182, 73, 168)",
             "rgb(117, 80, 136)",
             "rgb(54, 42, 234)",
             "rgb(88, 44, 127)",
             "rgb(171, 15, 244)",
             "rgb(146, 151, 213)",
             "rgb(66, 142, 131)",
             "rgb(84, 150, 141)",
             "rgb(180, 162, 213)",
             "rgb(98, 160, 255)",
             "rgb(76, 152, 241)",
             "rgb(121, 100, 177)"
            ]
           },
           "textposition": "outside",
           "texttemplate": "%{x}<br>%{y}",
           "type": "bar",
           "x": [
            "impact might",
            "home values",
            "home might",
            "home impact",
            "might values",
            "florida south",
            "2020 april",
            "distancing social",
            "coronavirus pandemic",
            "cases us",
            "30 april",
            "join us",
            "help may",
            "available report",
            "credit report",
            "free report",
            "available credit",
            "available free",
            "cases new",
            "pandemic us",
            "coronavirus new",
            "florida pandemic",
            "china intel",
            "deceived world",
            "deceived intel",
            "deceived dossier",
            "deceived leaked",
            "global response",
            "global may",
            "5 global",
            "day global",
            "giving global"
           ],
           "y": [
            0,
            0,
            0,
            0,
            0,
            15,
            14,
            12,
            11,
            9,
            0,
            0,
            0,
            0,
            0,
            0,
            0,
            0,
            0,
            0,
            0,
            0,
            0,
            0,
            0,
            0,
            0,
            0,
            0,
            0,
            0,
            0
           ]
          }
         ],
         "layout": {
          "bargap": 0.15,
          "font": {
           "size": 14
          },
          "plot_bgcolor": "#FFFFFF",
          "title": {
           "text": "COVID-19 top bigrams of 2020-04-28 00:00:00"
          },
          "xaxis": {
           "showline": false,
           "visible": false
          },
          "yaxis": {
           "showline": false,
           "visible": false
          }
         }
        },
        {
         "data": [
          {
           "cliponaxis": false,
           "hoverinfo": "none",
           "marker": {
            "color": [
             "rgb(78, 165, 168)",
             "rgb(58, 150, 197)",
             "rgb(164, 147, 134)",
             "rgb(65, 58, 146)",
             "rgb(134, 47, 240)",
             "rgb(136, 62, 159)",
             "rgb(105, 38, 190)",
             "rgb(109, 183, 143)",
             "rgb(98, 22, 139)",
             "rgb(169, 182, 238)",
             "rgb(52, 86, 134)",
             "rgb(85, 57, 229)",
             "rgb(70, 83, 178)",
             "rgb(44, 51, 138)",
             "rgb(79, 93, 199)",
             "rgb(40, 52, 255)",
             "rgb(10, 1, 181)",
             "rgb(10, 139, 156)",
             "rgb(88, 157, 147)",
             "rgb(90, 164, 134)",
             "rgb(182, 73, 168)",
             "rgb(117, 80, 136)",
             "rgb(54, 42, 234)",
             "rgb(88, 44, 127)",
             "rgb(171, 15, 244)",
             "rgb(146, 151, 213)",
             "rgb(66, 142, 131)",
             "rgb(84, 150, 141)",
             "rgb(180, 162, 213)",
             "rgb(98, 160, 255)",
             "rgb(76, 152, 241)",
             "rgb(121, 100, 177)"
            ]
           },
           "textposition": "outside",
           "texttemplate": "%{x}<br>%{y}",
           "type": "bar",
           "x": [
            "impact might",
            "home values",
            "home might",
            "home impact",
            "might values",
            "florida south",
            "2020 april",
            "distancing social",
            "coronavirus pandemic",
            "cases us",
            "30 april",
            "join us",
            "help may",
            "available report",
            "credit report",
            "free report",
            "available credit",
            "available free",
            "cases new",
            "pandemic us",
            "coronavirus new",
            "florida pandemic",
            "china intel",
            "deceived world",
            "deceived intel",
            "deceived dossier",
            "deceived leaked",
            "global response",
            "global may",
            "5 global",
            "day global",
            "giving global"
           ],
           "y": [
            0,
            0,
            0,
            0,
            0,
            14,
            14,
            0,
            0,
            0,
            13,
            11,
            9,
            0,
            0,
            0,
            0,
            0,
            0,
            0,
            0,
            0,
            0,
            0,
            0,
            0,
            0,
            0,
            0,
            0,
            0,
            0
           ]
          }
         ],
         "layout": {
          "bargap": 0.15,
          "font": {
           "size": 14
          },
          "plot_bgcolor": "#FFFFFF",
          "title": {
           "text": "COVID-19 top bigrams of 2020-04-29 00:00:00"
          },
          "xaxis": {
           "showline": false,
           "visible": false
          },
          "yaxis": {
           "showline": false,
           "visible": false
          }
         }
        },
        {
         "data": [
          {
           "cliponaxis": false,
           "hoverinfo": "none",
           "marker": {
            "color": [
             "rgb(78, 165, 168)",
             "rgb(58, 150, 197)",
             "rgb(164, 147, 134)",
             "rgb(65, 58, 146)",
             "rgb(134, 47, 240)",
             "rgb(136, 62, 159)",
             "rgb(105, 38, 190)",
             "rgb(109, 183, 143)",
             "rgb(98, 22, 139)",
             "rgb(169, 182, 238)",
             "rgb(52, 86, 134)",
             "rgb(85, 57, 229)",
             "rgb(70, 83, 178)",
             "rgb(44, 51, 138)",
             "rgb(79, 93, 199)",
             "rgb(40, 52, 255)",
             "rgb(10, 1, 181)",
             "rgb(10, 139, 156)",
             "rgb(88, 157, 147)",
             "rgb(90, 164, 134)",
             "rgb(182, 73, 168)",
             "rgb(117, 80, 136)",
             "rgb(54, 42, 234)",
             "rgb(88, 44, 127)",
             "rgb(171, 15, 244)",
             "rgb(146, 151, 213)",
             "rgb(66, 142, 131)",
             "rgb(84, 150, 141)",
             "rgb(180, 162, 213)",
             "rgb(98, 160, 255)",
             "rgb(76, 152, 241)",
             "rgb(121, 100, 177)"
            ]
           },
           "textposition": "outside",
           "texttemplate": "%{x}<br>%{y}",
           "type": "bar",
           "x": [
            "impact might",
            "home values",
            "home might",
            "home impact",
            "might values",
            "florida south",
            "2020 april",
            "distancing social",
            "coronavirus pandemic",
            "cases us",
            "30 april",
            "join us",
            "help may",
            "available report",
            "credit report",
            "free report",
            "available credit",
            "available free",
            "cases new",
            "pandemic us",
            "coronavirus new",
            "florida pandemic",
            "china intel",
            "deceived world",
            "deceived intel",
            "deceived dossier",
            "deceived leaked",
            "global response",
            "global may",
            "5 global",
            "day global",
            "giving global"
           ],
           "y": [
            0,
            0,
            0,
            0,
            0,
            0,
            0,
            0,
            0,
            0,
            0,
            0,
            0,
            23,
            23,
            23,
            23,
            23,
            0,
            0,
            0,
            0,
            0,
            0,
            0,
            0,
            0,
            0,
            0,
            0,
            0,
            0
           ]
          }
         ],
         "layout": {
          "bargap": 0.15,
          "font": {
           "size": 14
          },
          "plot_bgcolor": "#FFFFFF",
          "title": {
           "text": "COVID-19 top bigrams of 2020-04-30 00:00:00"
          },
          "xaxis": {
           "showline": false,
           "visible": false
          },
          "yaxis": {
           "showline": false,
           "visible": false
          }
         }
        },
        {
         "data": [
          {
           "cliponaxis": false,
           "hoverinfo": "none",
           "marker": {
            "color": [
             "rgb(78, 165, 168)",
             "rgb(58, 150, 197)",
             "rgb(164, 147, 134)",
             "rgb(65, 58, 146)",
             "rgb(134, 47, 240)",
             "rgb(136, 62, 159)",
             "rgb(105, 38, 190)",
             "rgb(109, 183, 143)",
             "rgb(98, 22, 139)",
             "rgb(169, 182, 238)",
             "rgb(52, 86, 134)",
             "rgb(85, 57, 229)",
             "rgb(70, 83, 178)",
             "rgb(44, 51, 138)",
             "rgb(79, 93, 199)",
             "rgb(40, 52, 255)",
             "rgb(10, 1, 181)",
             "rgb(10, 139, 156)",
             "rgb(88, 157, 147)",
             "rgb(90, 164, 134)",
             "rgb(182, 73, 168)",
             "rgb(117, 80, 136)",
             "rgb(54, 42, 234)",
             "rgb(88, 44, 127)",
             "rgb(171, 15, 244)",
             "rgb(146, 151, 213)",
             "rgb(66, 142, 131)",
             "rgb(84, 150, 141)",
             "rgb(180, 162, 213)",
             "rgb(98, 160, 255)",
             "rgb(76, 152, 241)",
             "rgb(121, 100, 177)"
            ]
           },
           "textposition": "outside",
           "texttemplate": "%{x}<br>%{y}",
           "type": "bar",
           "x": [
            "impact might",
            "home values",
            "home might",
            "home impact",
            "might values",
            "florida south",
            "2020 april",
            "distancing social",
            "coronavirus pandemic",
            "cases us",
            "30 april",
            "join us",
            "help may",
            "available report",
            "credit report",
            "free report",
            "available credit",
            "available free",
            "cases new",
            "pandemic us",
            "coronavirus new",
            "florida pandemic",
            "china intel",
            "deceived world",
            "deceived intel",
            "deceived dossier",
            "deceived leaked",
            "global response",
            "global may",
            "5 global",
            "day global",
            "giving global"
           ],
           "y": [
            0,
            0,
            0,
            0,
            0,
            14,
            0,
            0,
            0,
            0,
            0,
            0,
            0,
            0,
            0,
            0,
            0,
            0,
            11,
            11,
            10,
            10,
            0,
            0,
            0,
            0,
            0,
            0,
            0,
            0,
            0,
            0
           ]
          }
         ],
         "layout": {
          "bargap": 0.15,
          "font": {
           "size": 14
          },
          "plot_bgcolor": "#FFFFFF",
          "title": {
           "text": "COVID-19 top bigrams of 2020-05-01 00:00:00"
          },
          "xaxis": {
           "showline": false,
           "visible": false
          },
          "yaxis": {
           "showline": false,
           "visible": false
          }
         }
        },
        {
         "data": [
          {
           "cliponaxis": false,
           "hoverinfo": "none",
           "marker": {
            "color": [
             "rgb(78, 165, 168)",
             "rgb(58, 150, 197)",
             "rgb(164, 147, 134)",
             "rgb(65, 58, 146)",
             "rgb(134, 47, 240)",
             "rgb(136, 62, 159)",
             "rgb(105, 38, 190)",
             "rgb(109, 183, 143)",
             "rgb(98, 22, 139)",
             "rgb(169, 182, 238)",
             "rgb(52, 86, 134)",
             "rgb(85, 57, 229)",
             "rgb(70, 83, 178)",
             "rgb(44, 51, 138)",
             "rgb(79, 93, 199)",
             "rgb(40, 52, 255)",
             "rgb(10, 1, 181)",
             "rgb(10, 139, 156)",
             "rgb(88, 157, 147)",
             "rgb(90, 164, 134)",
             "rgb(182, 73, 168)",
             "rgb(117, 80, 136)",
             "rgb(54, 42, 234)",
             "rgb(88, 44, 127)",
             "rgb(171, 15, 244)",
             "rgb(146, 151, 213)",
             "rgb(66, 142, 131)",
             "rgb(84, 150, 141)",
             "rgb(180, 162, 213)",
             "rgb(98, 160, 255)",
             "rgb(76, 152, 241)",
             "rgb(121, 100, 177)"
            ]
           },
           "textposition": "outside",
           "texttemplate": "%{x}<br>%{y}",
           "type": "bar",
           "x": [
            "impact might",
            "home values",
            "home might",
            "home impact",
            "might values",
            "florida south",
            "2020 april",
            "distancing social",
            "coronavirus pandemic",
            "cases us",
            "30 april",
            "join us",
            "help may",
            "available report",
            "credit report",
            "free report",
            "available credit",
            "available free",
            "cases new",
            "pandemic us",
            "coronavirus new",
            "florida pandemic",
            "china intel",
            "deceived world",
            "deceived intel",
            "deceived dossier",
            "deceived leaked",
            "global response",
            "global may",
            "5 global",
            "day global",
            "giving global"
           ],
           "y": [
            0,
            0,
            0,
            0,
            0,
            0,
            0,
            0,
            0,
            0,
            0,
            0,
            0,
            0,
            0,
            0,
            0,
            0,
            0,
            0,
            0,
            0,
            9,
            9,
            9,
            9,
            9,
            0,
            0,
            0,
            0,
            0
           ]
          }
         ],
         "layout": {
          "bargap": 0.15,
          "font": {
           "size": 14
          },
          "plot_bgcolor": "#FFFFFF",
          "title": {
           "text": "COVID-19 top bigrams of 2020-05-02 00:00:00"
          },
          "xaxis": {
           "showline": false,
           "visible": false
          },
          "yaxis": {
           "showline": false,
           "visible": false
          }
         }
        },
        {
         "data": [
          {
           "cliponaxis": false,
           "hoverinfo": "none",
           "marker": {
            "color": [
             "rgb(78, 165, 168)",
             "rgb(58, 150, 197)",
             "rgb(164, 147, 134)",
             "rgb(65, 58, 146)",
             "rgb(134, 47, 240)",
             "rgb(136, 62, 159)",
             "rgb(105, 38, 190)",
             "rgb(109, 183, 143)",
             "rgb(98, 22, 139)",
             "rgb(169, 182, 238)",
             "rgb(52, 86, 134)",
             "rgb(85, 57, 229)",
             "rgb(70, 83, 178)",
             "rgb(44, 51, 138)",
             "rgb(79, 93, 199)",
             "rgb(40, 52, 255)",
             "rgb(10, 1, 181)",
             "rgb(10, 139, 156)",
             "rgb(88, 157, 147)",
             "rgb(90, 164, 134)",
             "rgb(182, 73, 168)",
             "rgb(117, 80, 136)",
             "rgb(54, 42, 234)",
             "rgb(88, 44, 127)",
             "rgb(171, 15, 244)",
             "rgb(146, 151, 213)",
             "rgb(66, 142, 131)",
             "rgb(84, 150, 141)",
             "rgb(180, 162, 213)",
             "rgb(98, 160, 255)",
             "rgb(76, 152, 241)",
             "rgb(121, 100, 177)"
            ]
           },
           "textposition": "outside",
           "texttemplate": "%{x}<br>%{y}",
           "type": "bar",
           "x": [
            "impact might",
            "home values",
            "home might",
            "home impact",
            "might values",
            "florida south",
            "2020 april",
            "distancing social",
            "coronavirus pandemic",
            "cases us",
            "30 april",
            "join us",
            "help may",
            "available report",
            "credit report",
            "free report",
            "available credit",
            "available free",
            "cases new",
            "pandemic us",
            "coronavirus new",
            "florida pandemic",
            "china intel",
            "deceived world",
            "deceived intel",
            "deceived dossier",
            "deceived leaked",
            "global response",
            "global may",
            "5 global",
            "day global",
            "giving global"
           ],
           "y": [
            0,
            0,
            0,
            0,
            0,
            0,
            0,
            0,
            0,
            0,
            0,
            0,
            0,
            0,
            0,
            0,
            0,
            0,
            0,
            0,
            0,
            0,
            0,
            0,
            0,
            0,
            0,
            14,
            13,
            13,
            13,
            13
           ]
          }
         ],
         "layout": {
          "bargap": 0.15,
          "font": {
           "size": 14
          },
          "plot_bgcolor": "#FFFFFF",
          "title": {
           "text": "COVID-19 top bigrams of 2020-05-03 00:00:00"
          },
          "xaxis": {
           "showline": false,
           "visible": false
          },
          "yaxis": {
           "showline": false,
           "visible": false
          }
         }
        }
       ],
       "layout": {
        "bargap": 0.15,
        "font": {
         "size": 14
        },
        "plot_bgcolor": "#FFFFFF",
        "template": {
         "data": {
          "bar": [
           {
            "error_x": {
             "color": "#2a3f5f"
            },
            "error_y": {
             "color": "#2a3f5f"
            },
            "marker": {
             "line": {
              "color": "#E5ECF6",
              "width": 0.5
             }
            },
            "type": "bar"
           }
          ],
          "barpolar": [
           {
            "marker": {
             "line": {
              "color": "#E5ECF6",
              "width": 0.5
             }
            },
            "type": "barpolar"
           }
          ],
          "carpet": [
           {
            "aaxis": {
             "endlinecolor": "#2a3f5f",
             "gridcolor": "white",
             "linecolor": "white",
             "minorgridcolor": "white",
             "startlinecolor": "#2a3f5f"
            },
            "baxis": {
             "endlinecolor": "#2a3f5f",
             "gridcolor": "white",
             "linecolor": "white",
             "minorgridcolor": "white",
             "startlinecolor": "#2a3f5f"
            },
            "type": "carpet"
           }
          ],
          "choropleth": [
           {
            "colorbar": {
             "outlinewidth": 0,
             "ticks": ""
            },
            "type": "choropleth"
           }
          ],
          "contour": [
           {
            "colorbar": {
             "outlinewidth": 0,
             "ticks": ""
            },
            "colorscale": [
             [
              0,
              "#0d0887"
             ],
             [
              0.1111111111111111,
              "#46039f"
             ],
             [
              0.2222222222222222,
              "#7201a8"
             ],
             [
              0.3333333333333333,
              "#9c179e"
             ],
             [
              0.4444444444444444,
              "#bd3786"
             ],
             [
              0.5555555555555556,
              "#d8576b"
             ],
             [
              0.6666666666666666,
              "#ed7953"
             ],
             [
              0.7777777777777778,
              "#fb9f3a"
             ],
             [
              0.8888888888888888,
              "#fdca26"
             ],
             [
              1,
              "#f0f921"
             ]
            ],
            "type": "contour"
           }
          ],
          "contourcarpet": [
           {
            "colorbar": {
             "outlinewidth": 0,
             "ticks": ""
            },
            "type": "contourcarpet"
           }
          ],
          "heatmap": [
           {
            "colorbar": {
             "outlinewidth": 0,
             "ticks": ""
            },
            "colorscale": [
             [
              0,
              "#0d0887"
             ],
             [
              0.1111111111111111,
              "#46039f"
             ],
             [
              0.2222222222222222,
              "#7201a8"
             ],
             [
              0.3333333333333333,
              "#9c179e"
             ],
             [
              0.4444444444444444,
              "#bd3786"
             ],
             [
              0.5555555555555556,
              "#d8576b"
             ],
             [
              0.6666666666666666,
              "#ed7953"
             ],
             [
              0.7777777777777778,
              "#fb9f3a"
             ],
             [
              0.8888888888888888,
              "#fdca26"
             ],
             [
              1,
              "#f0f921"
             ]
            ],
            "type": "heatmap"
           }
          ],
          "heatmapgl": [
           {
            "colorbar": {
             "outlinewidth": 0,
             "ticks": ""
            },
            "colorscale": [
             [
              0,
              "#0d0887"
             ],
             [
              0.1111111111111111,
              "#46039f"
             ],
             [
              0.2222222222222222,
              "#7201a8"
             ],
             [
              0.3333333333333333,
              "#9c179e"
             ],
             [
              0.4444444444444444,
              "#bd3786"
             ],
             [
              0.5555555555555556,
              "#d8576b"
             ],
             [
              0.6666666666666666,
              "#ed7953"
             ],
             [
              0.7777777777777778,
              "#fb9f3a"
             ],
             [
              0.8888888888888888,
              "#fdca26"
             ],
             [
              1,
              "#f0f921"
             ]
            ],
            "type": "heatmapgl"
           }
          ],
          "histogram": [
           {
            "marker": {
             "colorbar": {
              "outlinewidth": 0,
              "ticks": ""
             }
            },
            "type": "histogram"
           }
          ],
          "histogram2d": [
           {
            "colorbar": {
             "outlinewidth": 0,
             "ticks": ""
            },
            "colorscale": [
             [
              0,
              "#0d0887"
             ],
             [
              0.1111111111111111,
              "#46039f"
             ],
             [
              0.2222222222222222,
              "#7201a8"
             ],
             [
              0.3333333333333333,
              "#9c179e"
             ],
             [
              0.4444444444444444,
              "#bd3786"
             ],
             [
              0.5555555555555556,
              "#d8576b"
             ],
             [
              0.6666666666666666,
              "#ed7953"
             ],
             [
              0.7777777777777778,
              "#fb9f3a"
             ],
             [
              0.8888888888888888,
              "#fdca26"
             ],
             [
              1,
              "#f0f921"
             ]
            ],
            "type": "histogram2d"
           }
          ],
          "histogram2dcontour": [
           {
            "colorbar": {
             "outlinewidth": 0,
             "ticks": ""
            },
            "colorscale": [
             [
              0,
              "#0d0887"
             ],
             [
              0.1111111111111111,
              "#46039f"
             ],
             [
              0.2222222222222222,
              "#7201a8"
             ],
             [
              0.3333333333333333,
              "#9c179e"
             ],
             [
              0.4444444444444444,
              "#bd3786"
             ],
             [
              0.5555555555555556,
              "#d8576b"
             ],
             [
              0.6666666666666666,
              "#ed7953"
             ],
             [
              0.7777777777777778,
              "#fb9f3a"
             ],
             [
              0.8888888888888888,
              "#fdca26"
             ],
             [
              1,
              "#f0f921"
             ]
            ],
            "type": "histogram2dcontour"
           }
          ],
          "mesh3d": [
           {
            "colorbar": {
             "outlinewidth": 0,
             "ticks": ""
            },
            "type": "mesh3d"
           }
          ],
          "parcoords": [
           {
            "line": {
             "colorbar": {
              "outlinewidth": 0,
              "ticks": ""
             }
            },
            "type": "parcoords"
           }
          ],
          "pie": [
           {
            "automargin": true,
            "type": "pie"
           }
          ],
          "scatter": [
           {
            "marker": {
             "colorbar": {
              "outlinewidth": 0,
              "ticks": ""
             }
            },
            "type": "scatter"
           }
          ],
          "scatter3d": [
           {
            "line": {
             "colorbar": {
              "outlinewidth": 0,
              "ticks": ""
             }
            },
            "marker": {
             "colorbar": {
              "outlinewidth": 0,
              "ticks": ""
             }
            },
            "type": "scatter3d"
           }
          ],
          "scattercarpet": [
           {
            "marker": {
             "colorbar": {
              "outlinewidth": 0,
              "ticks": ""
             }
            },
            "type": "scattercarpet"
           }
          ],
          "scattergeo": [
           {
            "marker": {
             "colorbar": {
              "outlinewidth": 0,
              "ticks": ""
             }
            },
            "type": "scattergeo"
           }
          ],
          "scattergl": [
           {
            "marker": {
             "colorbar": {
              "outlinewidth": 0,
              "ticks": ""
             }
            },
            "type": "scattergl"
           }
          ],
          "scattermapbox": [
           {
            "marker": {
             "colorbar": {
              "outlinewidth": 0,
              "ticks": ""
             }
            },
            "type": "scattermapbox"
           }
          ],
          "scatterpolar": [
           {
            "marker": {
             "colorbar": {
              "outlinewidth": 0,
              "ticks": ""
             }
            },
            "type": "scatterpolar"
           }
          ],
          "scatterpolargl": [
           {
            "marker": {
             "colorbar": {
              "outlinewidth": 0,
              "ticks": ""
             }
            },
            "type": "scatterpolargl"
           }
          ],
          "scatterternary": [
           {
            "marker": {
             "colorbar": {
              "outlinewidth": 0,
              "ticks": ""
             }
            },
            "type": "scatterternary"
           }
          ],
          "surface": [
           {
            "colorbar": {
             "outlinewidth": 0,
             "ticks": ""
            },
            "colorscale": [
             [
              0,
              "#0d0887"
             ],
             [
              0.1111111111111111,
              "#46039f"
             ],
             [
              0.2222222222222222,
              "#7201a8"
             ],
             [
              0.3333333333333333,
              "#9c179e"
             ],
             [
              0.4444444444444444,
              "#bd3786"
             ],
             [
              0.5555555555555556,
              "#d8576b"
             ],
             [
              0.6666666666666666,
              "#ed7953"
             ],
             [
              0.7777777777777778,
              "#fb9f3a"
             ],
             [
              0.8888888888888888,
              "#fdca26"
             ],
             [
              1,
              "#f0f921"
             ]
            ],
            "type": "surface"
           }
          ],
          "table": [
           {
            "cells": {
             "fill": {
              "color": "#EBF0F8"
             },
             "line": {
              "color": "white"
             }
            },
            "header": {
             "fill": {
              "color": "#C8D4E3"
             },
             "line": {
              "color": "white"
             }
            },
            "type": "table"
           }
          ]
         },
         "layout": {
          "annotationdefaults": {
           "arrowcolor": "#2a3f5f",
           "arrowhead": 0,
           "arrowwidth": 1
          },
          "coloraxis": {
           "colorbar": {
            "outlinewidth": 0,
            "ticks": ""
           }
          },
          "colorscale": {
           "diverging": [
            [
             0,
             "#8e0152"
            ],
            [
             0.1,
             "#c51b7d"
            ],
            [
             0.2,
             "#de77ae"
            ],
            [
             0.3,
             "#f1b6da"
            ],
            [
             0.4,
             "#fde0ef"
            ],
            [
             0.5,
             "#f7f7f7"
            ],
            [
             0.6,
             "#e6f5d0"
            ],
            [
             0.7,
             "#b8e186"
            ],
            [
             0.8,
             "#7fbc41"
            ],
            [
             0.9,
             "#4d9221"
            ],
            [
             1,
             "#276419"
            ]
           ],
           "sequential": [
            [
             0,
             "#0d0887"
            ],
            [
             0.1111111111111111,
             "#46039f"
            ],
            [
             0.2222222222222222,
             "#7201a8"
            ],
            [
             0.3333333333333333,
             "#9c179e"
            ],
            [
             0.4444444444444444,
             "#bd3786"
            ],
            [
             0.5555555555555556,
             "#d8576b"
            ],
            [
             0.6666666666666666,
             "#ed7953"
            ],
            [
             0.7777777777777778,
             "#fb9f3a"
            ],
            [
             0.8888888888888888,
             "#fdca26"
            ],
            [
             1,
             "#f0f921"
            ]
           ],
           "sequentialminus": [
            [
             0,
             "#0d0887"
            ],
            [
             0.1111111111111111,
             "#46039f"
            ],
            [
             0.2222222222222222,
             "#7201a8"
            ],
            [
             0.3333333333333333,
             "#9c179e"
            ],
            [
             0.4444444444444444,
             "#bd3786"
            ],
            [
             0.5555555555555556,
             "#d8576b"
            ],
            [
             0.6666666666666666,
             "#ed7953"
            ],
            [
             0.7777777777777778,
             "#fb9f3a"
            ],
            [
             0.8888888888888888,
             "#fdca26"
            ],
            [
             1,
             "#f0f921"
            ]
           ]
          },
          "colorway": [
           "#636efa",
           "#EF553B",
           "#00cc96",
           "#ab63fa",
           "#FFA15A",
           "#19d3f3",
           "#FF6692",
           "#B6E880",
           "#FF97FF",
           "#FECB52"
          ],
          "font": {
           "color": "#2a3f5f"
          },
          "geo": {
           "bgcolor": "white",
           "lakecolor": "white",
           "landcolor": "#E5ECF6",
           "showlakes": true,
           "showland": true,
           "subunitcolor": "white"
          },
          "hoverlabel": {
           "align": "left"
          },
          "hovermode": "closest",
          "mapbox": {
           "style": "light"
          },
          "paper_bgcolor": "white",
          "plot_bgcolor": "#E5ECF6",
          "polar": {
           "angularaxis": {
            "gridcolor": "white",
            "linecolor": "white",
            "ticks": ""
           },
           "bgcolor": "#E5ECF6",
           "radialaxis": {
            "gridcolor": "white",
            "linecolor": "white",
            "ticks": ""
           }
          },
          "scene": {
           "xaxis": {
            "backgroundcolor": "#E5ECF6",
            "gridcolor": "white",
            "gridwidth": 2,
            "linecolor": "white",
            "showbackground": true,
            "ticks": "",
            "zerolinecolor": "white"
           },
           "yaxis": {
            "backgroundcolor": "#E5ECF6",
            "gridcolor": "white",
            "gridwidth": 2,
            "linecolor": "white",
            "showbackground": true,
            "ticks": "",
            "zerolinecolor": "white"
           },
           "zaxis": {
            "backgroundcolor": "#E5ECF6",
            "gridcolor": "white",
            "gridwidth": 2,
            "linecolor": "white",
            "showbackground": true,
            "ticks": "",
            "zerolinecolor": "white"
           }
          },
          "shapedefaults": {
           "line": {
            "color": "#2a3f5f"
           }
          },
          "ternary": {
           "aaxis": {
            "gridcolor": "white",
            "linecolor": "white",
            "ticks": ""
           },
           "baxis": {
            "gridcolor": "white",
            "linecolor": "white",
            "ticks": ""
           },
           "bgcolor": "#E5ECF6",
           "caxis": {
            "gridcolor": "white",
            "linecolor": "white",
            "ticks": ""
           }
          },
          "title": {
           "x": 0.05
          },
          "xaxis": {
           "automargin": true,
           "gridcolor": "white",
           "linecolor": "white",
           "ticks": "",
           "title": {
            "standoff": 15
           },
           "zerolinecolor": "white",
           "zerolinewidth": 2
          },
          "yaxis": {
           "automargin": true,
           "gridcolor": "white",
           "linecolor": "white",
           "ticks": "",
           "title": {
            "standoff": 15
           },
           "zerolinecolor": "white",
           "zerolinewidth": 2
          }
         }
        },
        "title": {
         "text": "COVID-19 top bigrams of 2020-04-27 00:00:00"
        },
        "updatemenus": [
         {
          "buttons": [
           {
            "args": [
             null,
             {
              "frame": {
               "duration": 2000,
               "redraw": true
              },
              "fromcurrent": true
             }
            ],
            "label": "Play",
            "method": "animate"
           },
           {
            "args": [
             [
              null
             ],
             {
              "frame": {
               "duration": 0,
               "redraw": false
              },
              "mode": "immediate",
              "transition": {
               "duration": 0
              }
             }
            ],
            "label": "Stop",
            "method": "animate"
           }
          ],
          "type": "buttons"
         }
        ],
        "xaxis": {
         "showline": false,
         "visible": false
        },
        "yaxis": {
         "range": [
          0,
          29
         ],
         "showline": false,
         "visible": false
        }
       }
      },
      "text/html": [
       "<div>\n",
       "        \n",
       "        \n",
       "            <div id=\"7d6b3d03-7b31-4321-9143-6c1256c25b1a\" class=\"plotly-graph-div\" style=\"height:525px; width:100%;\"></div>\n",
       "            <script type=\"text/javascript\">\n",
       "                require([\"plotly\"], function(Plotly) {\n",
       "                    window.PLOTLYENV=window.PLOTLYENV || {};\n",
       "                    \n",
       "                if (document.getElementById(\"7d6b3d03-7b31-4321-9143-6c1256c25b1a\")) {\n",
       "                    Plotly.newPlot(\n",
       "                        '7d6b3d03-7b31-4321-9143-6c1256c25b1a',\n",
       "                        [{\"cliponaxis\": false, \"hoverinfo\": \"none\", \"marker\": {\"color\": [\"rgb(78, 165, 168)\", \"rgb(58, 150, 197)\", \"rgb(164, 147, 134)\", \"rgb(65, 58, 146)\", \"rgb(134, 47, 240)\", \"rgb(136, 62, 159)\", \"rgb(105, 38, 190)\", \"rgb(109, 183, 143)\", \"rgb(98, 22, 139)\", \"rgb(169, 182, 238)\", \"rgb(52, 86, 134)\", \"rgb(85, 57, 229)\", \"rgb(70, 83, 178)\", \"rgb(44, 51, 138)\", \"rgb(79, 93, 199)\", \"rgb(40, 52, 255)\", \"rgb(10, 1, 181)\", \"rgb(10, 139, 156)\", \"rgb(88, 157, 147)\", \"rgb(90, 164, 134)\", \"rgb(182, 73, 168)\", \"rgb(117, 80, 136)\", \"rgb(54, 42, 234)\", \"rgb(88, 44, 127)\", \"rgb(171, 15, 244)\", \"rgb(146, 151, 213)\", \"rgb(66, 142, 131)\", \"rgb(84, 150, 141)\", \"rgb(180, 162, 213)\", \"rgb(98, 160, 255)\", \"rgb(76, 152, 241)\", \"rgb(121, 100, 177)\"]}, \"textposition\": \"outside\", \"texttemplate\": \"%{x}<br>%{y}\", \"type\": \"bar\", \"x\": [\"impact might\", \"home values\", \"home might\", \"home impact\", \"might values\", \"florida south\", \"2020 april\", \"distancing social\", \"coronavirus pandemic\", \"cases us\", \"30 april\", \"join us\", \"help may\", \"available report\", \"credit report\", \"free report\", \"available credit\", \"available free\", \"cases new\", \"pandemic us\", \"coronavirus new\", \"florida pandemic\", \"china intel\", \"deceived world\", \"deceived intel\", \"deceived dossier\", \"deceived leaked\", \"global response\", \"global may\", \"5 global\", \"day global\", \"giving global\"], \"y\": [29, 27, 27, 27, 27, 0, 0, 0, 0, 0, 0, 0, 0, 0, 0, 0, 0, 0, 0, 0, 0, 0, 0, 0, 0, 0, 0, 0, 0, 0, 0, 0]}],\n",
       "                        {\"bargap\": 0.15, \"font\": {\"size\": 14}, \"plot_bgcolor\": \"#FFFFFF\", \"template\": {\"data\": {\"bar\": [{\"error_x\": {\"color\": \"#2a3f5f\"}, \"error_y\": {\"color\": \"#2a3f5f\"}, \"marker\": {\"line\": {\"color\": \"#E5ECF6\", \"width\": 0.5}}, \"type\": \"bar\"}], \"barpolar\": [{\"marker\": {\"line\": {\"color\": \"#E5ECF6\", \"width\": 0.5}}, \"type\": \"barpolar\"}], \"carpet\": [{\"aaxis\": {\"endlinecolor\": \"#2a3f5f\", \"gridcolor\": \"white\", \"linecolor\": \"white\", \"minorgridcolor\": \"white\", \"startlinecolor\": \"#2a3f5f\"}, \"baxis\": {\"endlinecolor\": \"#2a3f5f\", \"gridcolor\": \"white\", \"linecolor\": \"white\", \"minorgridcolor\": \"white\", \"startlinecolor\": \"#2a3f5f\"}, \"type\": \"carpet\"}], \"choropleth\": [{\"colorbar\": {\"outlinewidth\": 0, \"ticks\": \"\"}, \"type\": \"choropleth\"}], \"contour\": [{\"colorbar\": {\"outlinewidth\": 0, \"ticks\": \"\"}, \"colorscale\": [[0.0, \"#0d0887\"], [0.1111111111111111, \"#46039f\"], [0.2222222222222222, \"#7201a8\"], [0.3333333333333333, \"#9c179e\"], [0.4444444444444444, \"#bd3786\"], [0.5555555555555556, \"#d8576b\"], [0.6666666666666666, \"#ed7953\"], [0.7777777777777778, \"#fb9f3a\"], [0.8888888888888888, \"#fdca26\"], [1.0, \"#f0f921\"]], \"type\": \"contour\"}], \"contourcarpet\": [{\"colorbar\": {\"outlinewidth\": 0, \"ticks\": \"\"}, \"type\": \"contourcarpet\"}], \"heatmap\": [{\"colorbar\": {\"outlinewidth\": 0, \"ticks\": \"\"}, \"colorscale\": [[0.0, \"#0d0887\"], [0.1111111111111111, \"#46039f\"], [0.2222222222222222, \"#7201a8\"], [0.3333333333333333, \"#9c179e\"], [0.4444444444444444, \"#bd3786\"], [0.5555555555555556, \"#d8576b\"], [0.6666666666666666, \"#ed7953\"], [0.7777777777777778, \"#fb9f3a\"], [0.8888888888888888, \"#fdca26\"], [1.0, \"#f0f921\"]], \"type\": \"heatmap\"}], \"heatmapgl\": [{\"colorbar\": {\"outlinewidth\": 0, \"ticks\": \"\"}, \"colorscale\": [[0.0, \"#0d0887\"], [0.1111111111111111, \"#46039f\"], [0.2222222222222222, \"#7201a8\"], [0.3333333333333333, \"#9c179e\"], [0.4444444444444444, \"#bd3786\"], [0.5555555555555556, \"#d8576b\"], [0.6666666666666666, \"#ed7953\"], [0.7777777777777778, \"#fb9f3a\"], [0.8888888888888888, \"#fdca26\"], [1.0, \"#f0f921\"]], \"type\": \"heatmapgl\"}], \"histogram\": [{\"marker\": {\"colorbar\": {\"outlinewidth\": 0, \"ticks\": \"\"}}, \"type\": \"histogram\"}], \"histogram2d\": [{\"colorbar\": {\"outlinewidth\": 0, \"ticks\": \"\"}, \"colorscale\": [[0.0, \"#0d0887\"], [0.1111111111111111, \"#46039f\"], [0.2222222222222222, \"#7201a8\"], [0.3333333333333333, \"#9c179e\"], [0.4444444444444444, \"#bd3786\"], [0.5555555555555556, \"#d8576b\"], [0.6666666666666666, \"#ed7953\"], [0.7777777777777778, \"#fb9f3a\"], [0.8888888888888888, \"#fdca26\"], [1.0, \"#f0f921\"]], \"type\": \"histogram2d\"}], \"histogram2dcontour\": [{\"colorbar\": {\"outlinewidth\": 0, \"ticks\": \"\"}, \"colorscale\": [[0.0, \"#0d0887\"], [0.1111111111111111, \"#46039f\"], [0.2222222222222222, \"#7201a8\"], [0.3333333333333333, \"#9c179e\"], [0.4444444444444444, \"#bd3786\"], [0.5555555555555556, \"#d8576b\"], [0.6666666666666666, \"#ed7953\"], [0.7777777777777778, \"#fb9f3a\"], [0.8888888888888888, \"#fdca26\"], [1.0, \"#f0f921\"]], \"type\": \"histogram2dcontour\"}], \"mesh3d\": [{\"colorbar\": {\"outlinewidth\": 0, \"ticks\": \"\"}, \"type\": \"mesh3d\"}], \"parcoords\": [{\"line\": {\"colorbar\": {\"outlinewidth\": 0, \"ticks\": \"\"}}, \"type\": \"parcoords\"}], \"pie\": [{\"automargin\": true, \"type\": \"pie\"}], \"scatter\": [{\"marker\": {\"colorbar\": {\"outlinewidth\": 0, \"ticks\": \"\"}}, \"type\": \"scatter\"}], \"scatter3d\": [{\"line\": {\"colorbar\": {\"outlinewidth\": 0, \"ticks\": \"\"}}, \"marker\": {\"colorbar\": {\"outlinewidth\": 0, \"ticks\": \"\"}}, \"type\": \"scatter3d\"}], \"scattercarpet\": [{\"marker\": {\"colorbar\": {\"outlinewidth\": 0, \"ticks\": \"\"}}, \"type\": \"scattercarpet\"}], \"scattergeo\": [{\"marker\": {\"colorbar\": {\"outlinewidth\": 0, \"ticks\": \"\"}}, \"type\": \"scattergeo\"}], \"scattergl\": [{\"marker\": {\"colorbar\": {\"outlinewidth\": 0, \"ticks\": \"\"}}, \"type\": \"scattergl\"}], \"scattermapbox\": [{\"marker\": {\"colorbar\": {\"outlinewidth\": 0, \"ticks\": \"\"}}, \"type\": \"scattermapbox\"}], \"scatterpolar\": [{\"marker\": {\"colorbar\": {\"outlinewidth\": 0, \"ticks\": \"\"}}, \"type\": \"scatterpolar\"}], \"scatterpolargl\": [{\"marker\": {\"colorbar\": {\"outlinewidth\": 0, \"ticks\": \"\"}}, \"type\": \"scatterpolargl\"}], \"scatterternary\": [{\"marker\": {\"colorbar\": {\"outlinewidth\": 0, \"ticks\": \"\"}}, \"type\": \"scatterternary\"}], \"surface\": [{\"colorbar\": {\"outlinewidth\": 0, \"ticks\": \"\"}, \"colorscale\": [[0.0, \"#0d0887\"], [0.1111111111111111, \"#46039f\"], [0.2222222222222222, \"#7201a8\"], [0.3333333333333333, \"#9c179e\"], [0.4444444444444444, \"#bd3786\"], [0.5555555555555556, \"#d8576b\"], [0.6666666666666666, \"#ed7953\"], [0.7777777777777778, \"#fb9f3a\"], [0.8888888888888888, \"#fdca26\"], [1.0, \"#f0f921\"]], \"type\": \"surface\"}], \"table\": [{\"cells\": {\"fill\": {\"color\": \"#EBF0F8\"}, \"line\": {\"color\": \"white\"}}, \"header\": {\"fill\": {\"color\": \"#C8D4E3\"}, \"line\": {\"color\": \"white\"}}, \"type\": \"table\"}]}, \"layout\": {\"annotationdefaults\": {\"arrowcolor\": \"#2a3f5f\", \"arrowhead\": 0, \"arrowwidth\": 1}, \"coloraxis\": {\"colorbar\": {\"outlinewidth\": 0, \"ticks\": \"\"}}, \"colorscale\": {\"diverging\": [[0, \"#8e0152\"], [0.1, \"#c51b7d\"], [0.2, \"#de77ae\"], [0.3, \"#f1b6da\"], [0.4, \"#fde0ef\"], [0.5, \"#f7f7f7\"], [0.6, \"#e6f5d0\"], [0.7, \"#b8e186\"], [0.8, \"#7fbc41\"], [0.9, \"#4d9221\"], [1, \"#276419\"]], \"sequential\": [[0.0, \"#0d0887\"], [0.1111111111111111, \"#46039f\"], [0.2222222222222222, \"#7201a8\"], [0.3333333333333333, \"#9c179e\"], [0.4444444444444444, \"#bd3786\"], [0.5555555555555556, \"#d8576b\"], [0.6666666666666666, \"#ed7953\"], [0.7777777777777778, \"#fb9f3a\"], [0.8888888888888888, \"#fdca26\"], [1.0, \"#f0f921\"]], \"sequentialminus\": [[0.0, \"#0d0887\"], [0.1111111111111111, \"#46039f\"], [0.2222222222222222, \"#7201a8\"], [0.3333333333333333, \"#9c179e\"], [0.4444444444444444, \"#bd3786\"], [0.5555555555555556, \"#d8576b\"], [0.6666666666666666, \"#ed7953\"], [0.7777777777777778, \"#fb9f3a\"], [0.8888888888888888, \"#fdca26\"], [1.0, \"#f0f921\"]]}, \"colorway\": [\"#636efa\", \"#EF553B\", \"#00cc96\", \"#ab63fa\", \"#FFA15A\", \"#19d3f3\", \"#FF6692\", \"#B6E880\", \"#FF97FF\", \"#FECB52\"], \"font\": {\"color\": \"#2a3f5f\"}, \"geo\": {\"bgcolor\": \"white\", \"lakecolor\": \"white\", \"landcolor\": \"#E5ECF6\", \"showlakes\": true, \"showland\": true, \"subunitcolor\": \"white\"}, \"hoverlabel\": {\"align\": \"left\"}, \"hovermode\": \"closest\", \"mapbox\": {\"style\": \"light\"}, \"paper_bgcolor\": \"white\", \"plot_bgcolor\": \"#E5ECF6\", \"polar\": {\"angularaxis\": {\"gridcolor\": \"white\", \"linecolor\": \"white\", \"ticks\": \"\"}, \"bgcolor\": \"#E5ECF6\", \"radialaxis\": {\"gridcolor\": \"white\", \"linecolor\": \"white\", \"ticks\": \"\"}}, \"scene\": {\"xaxis\": {\"backgroundcolor\": \"#E5ECF6\", \"gridcolor\": \"white\", \"gridwidth\": 2, \"linecolor\": \"white\", \"showbackground\": true, \"ticks\": \"\", \"zerolinecolor\": \"white\"}, \"yaxis\": {\"backgroundcolor\": \"#E5ECF6\", \"gridcolor\": \"white\", \"gridwidth\": 2, \"linecolor\": \"white\", \"showbackground\": true, \"ticks\": \"\", \"zerolinecolor\": \"white\"}, \"zaxis\": {\"backgroundcolor\": \"#E5ECF6\", \"gridcolor\": \"white\", \"gridwidth\": 2, \"linecolor\": \"white\", \"showbackground\": true, \"ticks\": \"\", \"zerolinecolor\": \"white\"}}, \"shapedefaults\": {\"line\": {\"color\": \"#2a3f5f\"}}, \"ternary\": {\"aaxis\": {\"gridcolor\": \"white\", \"linecolor\": \"white\", \"ticks\": \"\"}, \"baxis\": {\"gridcolor\": \"white\", \"linecolor\": \"white\", \"ticks\": \"\"}, \"bgcolor\": \"#E5ECF6\", \"caxis\": {\"gridcolor\": \"white\", \"linecolor\": \"white\", \"ticks\": \"\"}}, \"title\": {\"x\": 0.05}, \"xaxis\": {\"automargin\": true, \"gridcolor\": \"white\", \"linecolor\": \"white\", \"ticks\": \"\", \"title\": {\"standoff\": 15}, \"zerolinecolor\": \"white\", \"zerolinewidth\": 2}, \"yaxis\": {\"automargin\": true, \"gridcolor\": \"white\", \"linecolor\": \"white\", \"ticks\": \"\", \"title\": {\"standoff\": 15}, \"zerolinecolor\": \"white\", \"zerolinewidth\": 2}}}, \"title\": {\"text\": \"COVID-19 top bigrams of 2020-04-27 00:00:00\"}, \"updatemenus\": [{\"buttons\": [{\"args\": [null, {\"frame\": {\"duration\": 2000, \"redraw\": true}, \"fromcurrent\": true}], \"label\": \"Play\", \"method\": \"animate\"}, {\"args\": [[null], {\"frame\": {\"duration\": 0, \"redraw\": false}, \"mode\": \"immediate\", \"transition\": {\"duration\": 0}}], \"label\": \"Stop\", \"method\": \"animate\"}], \"type\": \"buttons\"}], \"xaxis\": {\"showline\": false, \"visible\": false}, \"yaxis\": {\"range\": [0, 29], \"showline\": false, \"visible\": false}},\n",
       "                        {\"responsive\": true}\n",
       "                    ).then(function(){\n",
       "                            Plotly.addFrames('7d6b3d03-7b31-4321-9143-6c1256c25b1a', [{\"data\": [{\"cliponaxis\": false, \"hoverinfo\": \"none\", \"marker\": {\"color\": [\"rgb(78, 165, 168)\", \"rgb(58, 150, 197)\", \"rgb(164, 147, 134)\", \"rgb(65, 58, 146)\", \"rgb(134, 47, 240)\", \"rgb(136, 62, 159)\", \"rgb(105, 38, 190)\", \"rgb(109, 183, 143)\", \"rgb(98, 22, 139)\", \"rgb(169, 182, 238)\", \"rgb(52, 86, 134)\", \"rgb(85, 57, 229)\", \"rgb(70, 83, 178)\", \"rgb(44, 51, 138)\", \"rgb(79, 93, 199)\", \"rgb(40, 52, 255)\", \"rgb(10, 1, 181)\", \"rgb(10, 139, 156)\", \"rgb(88, 157, 147)\", \"rgb(90, 164, 134)\", \"rgb(182, 73, 168)\", \"rgb(117, 80, 136)\", \"rgb(54, 42, 234)\", \"rgb(88, 44, 127)\", \"rgb(171, 15, 244)\", \"rgb(146, 151, 213)\", \"rgb(66, 142, 131)\", \"rgb(84, 150, 141)\", \"rgb(180, 162, 213)\", \"rgb(98, 160, 255)\", \"rgb(76, 152, 241)\", \"rgb(121, 100, 177)\"]}, \"textposition\": \"outside\", \"texttemplate\": \"%{x}<br>%{y}\", \"x\": [\"impact might\", \"home values\", \"home might\", \"home impact\", \"might values\", \"florida south\", \"2020 april\", \"distancing social\", \"coronavirus pandemic\", \"cases us\", \"30 april\", \"join us\", \"help may\", \"available report\", \"credit report\", \"free report\", \"available credit\", \"available free\", \"cases new\", \"pandemic us\", \"coronavirus new\", \"florida pandemic\", \"china intel\", \"deceived world\", \"deceived intel\", \"deceived dossier\", \"deceived leaked\", \"global response\", \"global may\", \"5 global\", \"day global\", \"giving global\"], \"y\": [29, 27, 27, 27, 27, 0, 0, 0, 0, 0, 0, 0, 0, 0, 0, 0, 0, 0, 0, 0, 0, 0, 0, 0, 0, 0, 0, 0, 0, 0, 0, 0], \"type\": \"bar\"}], \"layout\": {\"bargap\": 0.15, \"font\": {\"size\": 14}, \"plot_bgcolor\": \"#FFFFFF\", \"title\": {\"text\": \"COVID-19 top bigrams of 2020-04-27 00:00:00\"}, \"xaxis\": {\"showline\": false, \"visible\": false}, \"yaxis\": {\"showline\": false, \"visible\": false}}}, {\"data\": [{\"cliponaxis\": false, \"hoverinfo\": \"none\", \"marker\": {\"color\": [\"rgb(78, 165, 168)\", \"rgb(58, 150, 197)\", \"rgb(164, 147, 134)\", \"rgb(65, 58, 146)\", \"rgb(134, 47, 240)\", \"rgb(136, 62, 159)\", \"rgb(105, 38, 190)\", \"rgb(109, 183, 143)\", \"rgb(98, 22, 139)\", \"rgb(169, 182, 238)\", \"rgb(52, 86, 134)\", \"rgb(85, 57, 229)\", \"rgb(70, 83, 178)\", \"rgb(44, 51, 138)\", \"rgb(79, 93, 199)\", \"rgb(40, 52, 255)\", \"rgb(10, 1, 181)\", \"rgb(10, 139, 156)\", \"rgb(88, 157, 147)\", \"rgb(90, 164, 134)\", \"rgb(182, 73, 168)\", \"rgb(117, 80, 136)\", \"rgb(54, 42, 234)\", \"rgb(88, 44, 127)\", \"rgb(171, 15, 244)\", \"rgb(146, 151, 213)\", \"rgb(66, 142, 131)\", \"rgb(84, 150, 141)\", \"rgb(180, 162, 213)\", \"rgb(98, 160, 255)\", \"rgb(76, 152, 241)\", \"rgb(121, 100, 177)\"]}, \"textposition\": \"outside\", \"texttemplate\": \"%{x}<br>%{y}\", \"x\": [\"impact might\", \"home values\", \"home might\", \"home impact\", \"might values\", \"florida south\", \"2020 april\", \"distancing social\", \"coronavirus pandemic\", \"cases us\", \"30 april\", \"join us\", \"help may\", \"available report\", \"credit report\", \"free report\", \"available credit\", \"available free\", \"cases new\", \"pandemic us\", \"coronavirus new\", \"florida pandemic\", \"china intel\", \"deceived world\", \"deceived intel\", \"deceived dossier\", \"deceived leaked\", \"global response\", \"global may\", \"5 global\", \"day global\", \"giving global\"], \"y\": [0, 0, 0, 0, 0, 15, 14, 12, 11, 9, 0, 0, 0, 0, 0, 0, 0, 0, 0, 0, 0, 0, 0, 0, 0, 0, 0, 0, 0, 0, 0, 0], \"type\": \"bar\"}], \"layout\": {\"bargap\": 0.15, \"font\": {\"size\": 14}, \"plot_bgcolor\": \"#FFFFFF\", \"title\": {\"text\": \"COVID-19 top bigrams of 2020-04-28 00:00:00\"}, \"xaxis\": {\"showline\": false, \"visible\": false}, \"yaxis\": {\"showline\": false, \"visible\": false}}}, {\"data\": [{\"cliponaxis\": false, \"hoverinfo\": \"none\", \"marker\": {\"color\": [\"rgb(78, 165, 168)\", \"rgb(58, 150, 197)\", \"rgb(164, 147, 134)\", \"rgb(65, 58, 146)\", \"rgb(134, 47, 240)\", \"rgb(136, 62, 159)\", \"rgb(105, 38, 190)\", \"rgb(109, 183, 143)\", \"rgb(98, 22, 139)\", \"rgb(169, 182, 238)\", \"rgb(52, 86, 134)\", \"rgb(85, 57, 229)\", \"rgb(70, 83, 178)\", \"rgb(44, 51, 138)\", \"rgb(79, 93, 199)\", \"rgb(40, 52, 255)\", \"rgb(10, 1, 181)\", \"rgb(10, 139, 156)\", \"rgb(88, 157, 147)\", \"rgb(90, 164, 134)\", \"rgb(182, 73, 168)\", \"rgb(117, 80, 136)\", \"rgb(54, 42, 234)\", \"rgb(88, 44, 127)\", \"rgb(171, 15, 244)\", \"rgb(146, 151, 213)\", \"rgb(66, 142, 131)\", \"rgb(84, 150, 141)\", \"rgb(180, 162, 213)\", \"rgb(98, 160, 255)\", \"rgb(76, 152, 241)\", \"rgb(121, 100, 177)\"]}, \"textposition\": \"outside\", \"texttemplate\": \"%{x}<br>%{y}\", \"x\": [\"impact might\", \"home values\", \"home might\", \"home impact\", \"might values\", \"florida south\", \"2020 april\", \"distancing social\", \"coronavirus pandemic\", \"cases us\", \"30 april\", \"join us\", \"help may\", \"available report\", \"credit report\", \"free report\", \"available credit\", \"available free\", \"cases new\", \"pandemic us\", \"coronavirus new\", \"florida pandemic\", \"china intel\", \"deceived world\", \"deceived intel\", \"deceived dossier\", \"deceived leaked\", \"global response\", \"global may\", \"5 global\", \"day global\", \"giving global\"], \"y\": [0, 0, 0, 0, 0, 14, 14, 0, 0, 0, 13, 11, 9, 0, 0, 0, 0, 0, 0, 0, 0, 0, 0, 0, 0, 0, 0, 0, 0, 0, 0, 0], \"type\": \"bar\"}], \"layout\": {\"bargap\": 0.15, \"font\": {\"size\": 14}, \"plot_bgcolor\": \"#FFFFFF\", \"title\": {\"text\": \"COVID-19 top bigrams of 2020-04-29 00:00:00\"}, \"xaxis\": {\"showline\": false, \"visible\": false}, \"yaxis\": {\"showline\": false, \"visible\": false}}}, {\"data\": [{\"cliponaxis\": false, \"hoverinfo\": \"none\", \"marker\": {\"color\": [\"rgb(78, 165, 168)\", \"rgb(58, 150, 197)\", \"rgb(164, 147, 134)\", \"rgb(65, 58, 146)\", \"rgb(134, 47, 240)\", \"rgb(136, 62, 159)\", \"rgb(105, 38, 190)\", \"rgb(109, 183, 143)\", \"rgb(98, 22, 139)\", \"rgb(169, 182, 238)\", \"rgb(52, 86, 134)\", \"rgb(85, 57, 229)\", \"rgb(70, 83, 178)\", \"rgb(44, 51, 138)\", \"rgb(79, 93, 199)\", \"rgb(40, 52, 255)\", \"rgb(10, 1, 181)\", \"rgb(10, 139, 156)\", \"rgb(88, 157, 147)\", \"rgb(90, 164, 134)\", \"rgb(182, 73, 168)\", \"rgb(117, 80, 136)\", \"rgb(54, 42, 234)\", \"rgb(88, 44, 127)\", \"rgb(171, 15, 244)\", \"rgb(146, 151, 213)\", \"rgb(66, 142, 131)\", \"rgb(84, 150, 141)\", \"rgb(180, 162, 213)\", \"rgb(98, 160, 255)\", \"rgb(76, 152, 241)\", \"rgb(121, 100, 177)\"]}, \"textposition\": \"outside\", \"texttemplate\": \"%{x}<br>%{y}\", \"x\": [\"impact might\", \"home values\", \"home might\", \"home impact\", \"might values\", \"florida south\", \"2020 april\", \"distancing social\", \"coronavirus pandemic\", \"cases us\", \"30 april\", \"join us\", \"help may\", \"available report\", \"credit report\", \"free report\", \"available credit\", \"available free\", \"cases new\", \"pandemic us\", \"coronavirus new\", \"florida pandemic\", \"china intel\", \"deceived world\", \"deceived intel\", \"deceived dossier\", \"deceived leaked\", \"global response\", \"global may\", \"5 global\", \"day global\", \"giving global\"], \"y\": [0, 0, 0, 0, 0, 0, 0, 0, 0, 0, 0, 0, 0, 23, 23, 23, 23, 23, 0, 0, 0, 0, 0, 0, 0, 0, 0, 0, 0, 0, 0, 0], \"type\": \"bar\"}], \"layout\": {\"bargap\": 0.15, \"font\": {\"size\": 14}, \"plot_bgcolor\": \"#FFFFFF\", \"title\": {\"text\": \"COVID-19 top bigrams of 2020-04-30 00:00:00\"}, \"xaxis\": {\"showline\": false, \"visible\": false}, \"yaxis\": {\"showline\": false, \"visible\": false}}}, {\"data\": [{\"cliponaxis\": false, \"hoverinfo\": \"none\", \"marker\": {\"color\": [\"rgb(78, 165, 168)\", \"rgb(58, 150, 197)\", \"rgb(164, 147, 134)\", \"rgb(65, 58, 146)\", \"rgb(134, 47, 240)\", \"rgb(136, 62, 159)\", \"rgb(105, 38, 190)\", \"rgb(109, 183, 143)\", \"rgb(98, 22, 139)\", \"rgb(169, 182, 238)\", \"rgb(52, 86, 134)\", \"rgb(85, 57, 229)\", \"rgb(70, 83, 178)\", \"rgb(44, 51, 138)\", \"rgb(79, 93, 199)\", \"rgb(40, 52, 255)\", \"rgb(10, 1, 181)\", \"rgb(10, 139, 156)\", \"rgb(88, 157, 147)\", \"rgb(90, 164, 134)\", \"rgb(182, 73, 168)\", \"rgb(117, 80, 136)\", \"rgb(54, 42, 234)\", \"rgb(88, 44, 127)\", \"rgb(171, 15, 244)\", \"rgb(146, 151, 213)\", \"rgb(66, 142, 131)\", \"rgb(84, 150, 141)\", \"rgb(180, 162, 213)\", \"rgb(98, 160, 255)\", \"rgb(76, 152, 241)\", \"rgb(121, 100, 177)\"]}, \"textposition\": \"outside\", \"texttemplate\": \"%{x}<br>%{y}\", \"x\": [\"impact might\", \"home values\", \"home might\", \"home impact\", \"might values\", \"florida south\", \"2020 april\", \"distancing social\", \"coronavirus pandemic\", \"cases us\", \"30 april\", \"join us\", \"help may\", \"available report\", \"credit report\", \"free report\", \"available credit\", \"available free\", \"cases new\", \"pandemic us\", \"coronavirus new\", \"florida pandemic\", \"china intel\", \"deceived world\", \"deceived intel\", \"deceived dossier\", \"deceived leaked\", \"global response\", \"global may\", \"5 global\", \"day global\", \"giving global\"], \"y\": [0, 0, 0, 0, 0, 14, 0, 0, 0, 0, 0, 0, 0, 0, 0, 0, 0, 0, 11, 11, 10, 10, 0, 0, 0, 0, 0, 0, 0, 0, 0, 0], \"type\": \"bar\"}], \"layout\": {\"bargap\": 0.15, \"font\": {\"size\": 14}, \"plot_bgcolor\": \"#FFFFFF\", \"title\": {\"text\": \"COVID-19 top bigrams of 2020-05-01 00:00:00\"}, \"xaxis\": {\"showline\": false, \"visible\": false}, \"yaxis\": {\"showline\": false, \"visible\": false}}}, {\"data\": [{\"cliponaxis\": false, \"hoverinfo\": \"none\", \"marker\": {\"color\": [\"rgb(78, 165, 168)\", \"rgb(58, 150, 197)\", \"rgb(164, 147, 134)\", \"rgb(65, 58, 146)\", \"rgb(134, 47, 240)\", \"rgb(136, 62, 159)\", \"rgb(105, 38, 190)\", \"rgb(109, 183, 143)\", \"rgb(98, 22, 139)\", \"rgb(169, 182, 238)\", \"rgb(52, 86, 134)\", \"rgb(85, 57, 229)\", \"rgb(70, 83, 178)\", \"rgb(44, 51, 138)\", \"rgb(79, 93, 199)\", \"rgb(40, 52, 255)\", \"rgb(10, 1, 181)\", \"rgb(10, 139, 156)\", \"rgb(88, 157, 147)\", \"rgb(90, 164, 134)\", \"rgb(182, 73, 168)\", \"rgb(117, 80, 136)\", \"rgb(54, 42, 234)\", \"rgb(88, 44, 127)\", \"rgb(171, 15, 244)\", \"rgb(146, 151, 213)\", \"rgb(66, 142, 131)\", \"rgb(84, 150, 141)\", \"rgb(180, 162, 213)\", \"rgb(98, 160, 255)\", \"rgb(76, 152, 241)\", \"rgb(121, 100, 177)\"]}, \"textposition\": \"outside\", \"texttemplate\": \"%{x}<br>%{y}\", \"x\": [\"impact might\", \"home values\", \"home might\", \"home impact\", \"might values\", \"florida south\", \"2020 april\", \"distancing social\", \"coronavirus pandemic\", \"cases us\", \"30 april\", \"join us\", \"help may\", \"available report\", \"credit report\", \"free report\", \"available credit\", \"available free\", \"cases new\", \"pandemic us\", \"coronavirus new\", \"florida pandemic\", \"china intel\", \"deceived world\", \"deceived intel\", \"deceived dossier\", \"deceived leaked\", \"global response\", \"global may\", \"5 global\", \"day global\", \"giving global\"], \"y\": [0, 0, 0, 0, 0, 0, 0, 0, 0, 0, 0, 0, 0, 0, 0, 0, 0, 0, 0, 0, 0, 0, 9, 9, 9, 9, 9, 0, 0, 0, 0, 0], \"type\": \"bar\"}], \"layout\": {\"bargap\": 0.15, \"font\": {\"size\": 14}, \"plot_bgcolor\": \"#FFFFFF\", \"title\": {\"text\": \"COVID-19 top bigrams of 2020-05-02 00:00:00\"}, \"xaxis\": {\"showline\": false, \"visible\": false}, \"yaxis\": {\"showline\": false, \"visible\": false}}}, {\"data\": [{\"cliponaxis\": false, \"hoverinfo\": \"none\", \"marker\": {\"color\": [\"rgb(78, 165, 168)\", \"rgb(58, 150, 197)\", \"rgb(164, 147, 134)\", \"rgb(65, 58, 146)\", \"rgb(134, 47, 240)\", \"rgb(136, 62, 159)\", \"rgb(105, 38, 190)\", \"rgb(109, 183, 143)\", \"rgb(98, 22, 139)\", \"rgb(169, 182, 238)\", \"rgb(52, 86, 134)\", \"rgb(85, 57, 229)\", \"rgb(70, 83, 178)\", \"rgb(44, 51, 138)\", \"rgb(79, 93, 199)\", \"rgb(40, 52, 255)\", \"rgb(10, 1, 181)\", \"rgb(10, 139, 156)\", \"rgb(88, 157, 147)\", \"rgb(90, 164, 134)\", \"rgb(182, 73, 168)\", \"rgb(117, 80, 136)\", \"rgb(54, 42, 234)\", \"rgb(88, 44, 127)\", \"rgb(171, 15, 244)\", \"rgb(146, 151, 213)\", \"rgb(66, 142, 131)\", \"rgb(84, 150, 141)\", \"rgb(180, 162, 213)\", \"rgb(98, 160, 255)\", \"rgb(76, 152, 241)\", \"rgb(121, 100, 177)\"]}, \"textposition\": \"outside\", \"texttemplate\": \"%{x}<br>%{y}\", \"x\": [\"impact might\", \"home values\", \"home might\", \"home impact\", \"might values\", \"florida south\", \"2020 april\", \"distancing social\", \"coronavirus pandemic\", \"cases us\", \"30 april\", \"join us\", \"help may\", \"available report\", \"credit report\", \"free report\", \"available credit\", \"available free\", \"cases new\", \"pandemic us\", \"coronavirus new\", \"florida pandemic\", \"china intel\", \"deceived world\", \"deceived intel\", \"deceived dossier\", \"deceived leaked\", \"global response\", \"global may\", \"5 global\", \"day global\", \"giving global\"], \"y\": [0, 0, 0, 0, 0, 0, 0, 0, 0, 0, 0, 0, 0, 0, 0, 0, 0, 0, 0, 0, 0, 0, 0, 0, 0, 0, 0, 14, 13, 13, 13, 13], \"type\": \"bar\"}], \"layout\": {\"bargap\": 0.15, \"font\": {\"size\": 14}, \"plot_bgcolor\": \"#FFFFFF\", \"title\": {\"text\": \"COVID-19 top bigrams of 2020-05-03 00:00:00\"}, \"xaxis\": {\"showline\": false, \"visible\": false}, \"yaxis\": {\"showline\": false, \"visible\": false}}}]);\n",
       "                        }).then(function(){\n",
       "                            \n",
       "var gd = document.getElementById('7d6b3d03-7b31-4321-9143-6c1256c25b1a');\n",
       "var x = new MutationObserver(function (mutations, observer) {{\n",
       "        var display = window.getComputedStyle(gd).display;\n",
       "        if (!display || display === 'none') {{\n",
       "            console.log([gd, 'removed!']);\n",
       "            Plotly.purge(gd);\n",
       "            observer.disconnect();\n",
       "        }}\n",
       "}});\n",
       "\n",
       "// Listen for the removal of the full notebook cells\n",
       "var notebookContainer = gd.closest('#notebook-container');\n",
       "if (notebookContainer) {{\n",
       "    x.observe(notebookContainer, {childList: true});\n",
       "}}\n",
       "\n",
       "// Listen for the clearing of the current output cell\n",
       "var outputEl = gd.closest('.output');\n",
       "if (outputEl) {{\n",
       "    x.observe(outputEl, {childList: true});\n",
       "}}\n",
       "\n",
       "                        })\n",
       "                };\n",
       "                });\n",
       "            </script>\n",
       "        </div>"
      ]
     },
     "metadata": {},
     "output_type": "display_data"
    }
   ],
   "source": [
    "fig = get_bar_race_plot(df_bigram, 'COVID-19 top bigrams of ')\n",
    "fig.show()"
   ]
  },
  {
   "cell_type": "markdown",
   "metadata": {},
   "source": [
    "Let's demonstrate a few more visualizations. This time, let's visualize the top users during that same week in Florida. "
   ]
  },
  {
   "cell_type": "code",
   "execution_count": 9,
   "metadata": {},
   "outputs": [
    {
     "name": "stdout",
     "output_type": "stream",
     "text": [
      "unsupported for now...\n"
     ]
    }
   ],
   "source": [
    "print(\"unsupported for now...\")\n",
    "#start = datetime(year=2020, month=4, day=27)\n",
    "#end = datetime(year=2020, month=5, day=3)\n",
    "#df = days_to_df(lang=['en'], geo=['fl'], start_date=start, end_date=end, metric='users', top_n=10)\n",
    "#fig = get_bar_race_plot(df, 'COVID-19 top users of ')\n",
    "#fig.show()"
   ]
  },
  {
   "cell_type": "markdown",
   "metadata": {},
   "source": [
    "For instance, we can see a significant contribution of tweets are made by news outlets like wsvn and TheMiamiTimes. "
   ]
  },
  {
   "cell_type": "markdown",
   "metadata": {},
   "source": [
    "Let's now have a look at the top hashtags. "
   ]
  },
  {
   "cell_type": "code",
   "execution_count": 48,
   "metadata": {
    "scrolled": false
   },
   "outputs": [
    {
     "data": {
      "application/vnd.plotly.v1+json": {
       "config": {
        "plotlyServerURL": "https://plot.ly"
       },
       "data": [
        {
         "cliponaxis": false,
         "hoverinfo": "none",
         "marker": {
          "color": [
           "rgb(181, 131, 251)",
           "rgb(17, 53, 191)",
           "rgb(134, 45, 226)",
           "rgb(151, 145, 152)",
           "rgb(15, 137, 149)",
           "rgb(185, 72, 207)",
           "rgb(104, 33, 142)",
           "rgb(152, 162, 188)",
           "rgb(174, 127, 160)"
          ]
         },
         "textposition": "outside",
         "texttemplate": "%{x}<br>%{y}",
         "type": "bar",
         "x": [
          "covid19",
          "coronavirus",
          "covid",
          "health",
          "miami",
          "acscovid19",
          "staysafe",
          "pandemic",
          "givingtuesdaynow"
         ],
         "y": [
          109,
          28,
          13,
          13,
          9,
          0,
          0,
          0,
          0
         ]
        }
       ],
       "frames": [
        {
         "data": [
          {
           "cliponaxis": false,
           "hoverinfo": "none",
           "marker": {
            "color": [
             "rgb(181, 131, 251)",
             "rgb(17, 53, 191)",
             "rgb(134, 45, 226)",
             "rgb(151, 145, 152)",
             "rgb(15, 137, 149)",
             "rgb(185, 72, 207)",
             "rgb(104, 33, 142)",
             "rgb(152, 162, 188)",
             "rgb(174, 127, 160)"
            ]
           },
           "textposition": "outside",
           "texttemplate": "%{x}<br>%{y}",
           "type": "bar",
           "x": [
            "covid19",
            "coronavirus",
            "covid",
            "health",
            "miami",
            "acscovid19",
            "staysafe",
            "pandemic",
            "givingtuesdaynow"
           ],
           "y": [
            109,
            28,
            13,
            13,
            9,
            0,
            0,
            0,
            0
           ]
          }
         ],
         "layout": {
          "bargap": 0.15,
          "font": {
           "size": 14
          },
          "plot_bgcolor": "#FFFFFF",
          "title": {
           "text": "COVID-19 top fl en hashtags 2020-04-27 00:00:00"
          },
          "xaxis": {
           "showline": false,
           "visible": false
          },
          "yaxis": {
           "showline": false,
           "visible": false
          }
         }
        },
        {
         "data": [
          {
           "cliponaxis": false,
           "hoverinfo": "none",
           "marker": {
            "color": [
             "rgb(181, 131, 251)",
             "rgb(17, 53, 191)",
             "rgb(134, 45, 226)",
             "rgb(151, 145, 152)",
             "rgb(15, 137, 149)",
             "rgb(185, 72, 207)",
             "rgb(104, 33, 142)",
             "rgb(152, 162, 188)",
             "rgb(174, 127, 160)"
            ]
           },
           "textposition": "outside",
           "texttemplate": "%{x}<br>%{y}",
           "type": "bar",
           "x": [
            "covid19",
            "coronavirus",
            "covid",
            "health",
            "miami",
            "acscovid19",
            "staysafe",
            "pandemic",
            "givingtuesdaynow"
           ],
           "y": [
            112,
            30,
            26,
            0,
            0,
            23,
            7,
            0,
            0
           ]
          }
         ],
         "layout": {
          "bargap": 0.15,
          "font": {
           "size": 14
          },
          "plot_bgcolor": "#FFFFFF",
          "title": {
           "text": "COVID-19 top fl en hashtags 2020-04-28 00:00:00"
          },
          "xaxis": {
           "showline": false,
           "visible": false
          },
          "yaxis": {
           "showline": false,
           "visible": false
          }
         }
        },
        {
         "data": [
          {
           "cliponaxis": false,
           "hoverinfo": "none",
           "marker": {
            "color": [
             "rgb(181, 131, 251)",
             "rgb(17, 53, 191)",
             "rgb(134, 45, 226)",
             "rgb(151, 145, 152)",
             "rgb(15, 137, 149)",
             "rgb(185, 72, 207)",
             "rgb(104, 33, 142)",
             "rgb(152, 162, 188)",
             "rgb(174, 127, 160)"
            ]
           },
           "textposition": "outside",
           "texttemplate": "%{x}<br>%{y}",
           "type": "bar",
           "x": [
            "covid19",
            "coronavirus",
            "covid",
            "health",
            "miami",
            "acscovid19",
            "staysafe",
            "pandemic",
            "givingtuesdaynow"
           ],
           "y": [
            111,
            32,
            27,
            13,
            0,
            10,
            0,
            0,
            0
           ]
          }
         ],
         "layout": {
          "bargap": 0.15,
          "font": {
           "size": 14
          },
          "plot_bgcolor": "#FFFFFF",
          "title": {
           "text": "COVID-19 top fl en hashtags 2020-04-29 00:00:00"
          },
          "xaxis": {
           "showline": false,
           "visible": false
          },
          "yaxis": {
           "showline": false,
           "visible": false
          }
         }
        },
        {
         "data": [
          {
           "cliponaxis": false,
           "hoverinfo": "none",
           "marker": {
            "color": [
             "rgb(181, 131, 251)",
             "rgb(17, 53, 191)",
             "rgb(134, 45, 226)",
             "rgb(151, 145, 152)",
             "rgb(15, 137, 149)",
             "rgb(185, 72, 207)",
             "rgb(104, 33, 142)",
             "rgb(152, 162, 188)",
             "rgb(174, 127, 160)"
            ]
           },
           "textposition": "outside",
           "texttemplate": "%{x}<br>%{y}",
           "type": "bar",
           "x": [
            "covid19",
            "coronavirus",
            "covid",
            "health",
            "miami",
            "acscovid19",
            "staysafe",
            "pandemic",
            "givingtuesdaynow"
           ],
           "y": [
            102,
            34,
            31,
            13,
            0,
            0,
            0,
            10,
            0
           ]
          }
         ],
         "layout": {
          "bargap": 0.15,
          "font": {
           "size": 14
          },
          "plot_bgcolor": "#FFFFFF",
          "title": {
           "text": "COVID-19 top fl en hashtags 2020-04-30 00:00:00"
          },
          "xaxis": {
           "showline": false,
           "visible": false
          },
          "yaxis": {
           "showline": false,
           "visible": false
          }
         }
        },
        {
         "data": [
          {
           "cliponaxis": false,
           "hoverinfo": "none",
           "marker": {
            "color": [
             "rgb(181, 131, 251)",
             "rgb(17, 53, 191)",
             "rgb(134, 45, 226)",
             "rgb(151, 145, 152)",
             "rgb(15, 137, 149)",
             "rgb(185, 72, 207)",
             "rgb(104, 33, 142)",
             "rgb(152, 162, 188)",
             "rgb(174, 127, 160)"
            ]
           },
           "textposition": "outside",
           "texttemplate": "%{x}<br>%{y}",
           "type": "bar",
           "x": [
            "covid19",
            "coronavirus",
            "covid",
            "health",
            "miami",
            "acscovid19",
            "staysafe",
            "pandemic",
            "givingtuesdaynow"
           ],
           "y": [
            139,
            34,
            29,
            0,
            0,
            17,
            0,
            0,
            12
           ]
          }
         ],
         "layout": {
          "bargap": 0.15,
          "font": {
           "size": 14
          },
          "plot_bgcolor": "#FFFFFF",
          "title": {
           "text": "COVID-19 top fl en hashtags 2020-05-01 00:00:00"
          },
          "xaxis": {
           "showline": false,
           "visible": false
          },
          "yaxis": {
           "showline": false,
           "visible": false
          }
         }
        },
        {
         "data": [
          {
           "cliponaxis": false,
           "hoverinfo": "none",
           "marker": {
            "color": [
             "rgb(181, 131, 251)",
             "rgb(17, 53, 191)",
             "rgb(134, 45, 226)",
             "rgb(151, 145, 152)",
             "rgb(15, 137, 149)",
             "rgb(185, 72, 207)",
             "rgb(104, 33, 142)",
             "rgb(152, 162, 188)",
             "rgb(174, 127, 160)"
            ]
           },
           "textposition": "outside",
           "texttemplate": "%{x}<br>%{y}",
           "type": "bar",
           "x": [
            "covid19",
            "coronavirus",
            "covid",
            "health",
            "miami",
            "acscovid19",
            "staysafe",
            "pandemic",
            "givingtuesdaynow"
           ],
           "y": [
            105,
            20,
            27,
            10,
            0,
            17,
            0,
            0,
            0
           ]
          }
         ],
         "layout": {
          "bargap": 0.15,
          "font": {
           "size": 14
          },
          "plot_bgcolor": "#FFFFFF",
          "title": {
           "text": "COVID-19 top fl en hashtags 2020-05-02 00:00:00"
          },
          "xaxis": {
           "showline": false,
           "visible": false
          },
          "yaxis": {
           "showline": false,
           "visible": false
          }
         }
        },
        {
         "data": [
          {
           "cliponaxis": false,
           "hoverinfo": "none",
           "marker": {
            "color": [
             "rgb(181, 131, 251)",
             "rgb(17, 53, 191)",
             "rgb(134, 45, 226)",
             "rgb(151, 145, 152)",
             "rgb(15, 137, 149)",
             "rgb(185, 72, 207)",
             "rgb(104, 33, 142)",
             "rgb(152, 162, 188)",
             "rgb(174, 127, 160)"
            ]
           },
           "textposition": "outside",
           "texttemplate": "%{x}<br>%{y}",
           "type": "bar",
           "x": [
            "covid19",
            "coronavirus",
            "covid",
            "health",
            "miami",
            "acscovid19",
            "staysafe",
            "pandemic",
            "givingtuesdaynow"
           ],
           "y": [
            75,
            14,
            21,
            9,
            0,
            0,
            0,
            0,
            17
           ]
          }
         ],
         "layout": {
          "bargap": 0.15,
          "font": {
           "size": 14
          },
          "plot_bgcolor": "#FFFFFF",
          "title": {
           "text": "COVID-19 top fl en hashtags 2020-05-03 00:00:00"
          },
          "xaxis": {
           "showline": false,
           "visible": false
          },
          "yaxis": {
           "showline": false,
           "visible": false
          }
         }
        }
       ],
       "layout": {
        "bargap": 0.15,
        "font": {
         "size": 14
        },
        "plot_bgcolor": "#FFFFFF",
        "template": {
         "data": {
          "bar": [
           {
            "error_x": {
             "color": "#2a3f5f"
            },
            "error_y": {
             "color": "#2a3f5f"
            },
            "marker": {
             "line": {
              "color": "#E5ECF6",
              "width": 0.5
             }
            },
            "type": "bar"
           }
          ],
          "barpolar": [
           {
            "marker": {
             "line": {
              "color": "#E5ECF6",
              "width": 0.5
             }
            },
            "type": "barpolar"
           }
          ],
          "carpet": [
           {
            "aaxis": {
             "endlinecolor": "#2a3f5f",
             "gridcolor": "white",
             "linecolor": "white",
             "minorgridcolor": "white",
             "startlinecolor": "#2a3f5f"
            },
            "baxis": {
             "endlinecolor": "#2a3f5f",
             "gridcolor": "white",
             "linecolor": "white",
             "minorgridcolor": "white",
             "startlinecolor": "#2a3f5f"
            },
            "type": "carpet"
           }
          ],
          "choropleth": [
           {
            "colorbar": {
             "outlinewidth": 0,
             "ticks": ""
            },
            "type": "choropleth"
           }
          ],
          "contour": [
           {
            "colorbar": {
             "outlinewidth": 0,
             "ticks": ""
            },
            "colorscale": [
             [
              0,
              "#0d0887"
             ],
             [
              0.1111111111111111,
              "#46039f"
             ],
             [
              0.2222222222222222,
              "#7201a8"
             ],
             [
              0.3333333333333333,
              "#9c179e"
             ],
             [
              0.4444444444444444,
              "#bd3786"
             ],
             [
              0.5555555555555556,
              "#d8576b"
             ],
             [
              0.6666666666666666,
              "#ed7953"
             ],
             [
              0.7777777777777778,
              "#fb9f3a"
             ],
             [
              0.8888888888888888,
              "#fdca26"
             ],
             [
              1,
              "#f0f921"
             ]
            ],
            "type": "contour"
           }
          ],
          "contourcarpet": [
           {
            "colorbar": {
             "outlinewidth": 0,
             "ticks": ""
            },
            "type": "contourcarpet"
           }
          ],
          "heatmap": [
           {
            "colorbar": {
             "outlinewidth": 0,
             "ticks": ""
            },
            "colorscale": [
             [
              0,
              "#0d0887"
             ],
             [
              0.1111111111111111,
              "#46039f"
             ],
             [
              0.2222222222222222,
              "#7201a8"
             ],
             [
              0.3333333333333333,
              "#9c179e"
             ],
             [
              0.4444444444444444,
              "#bd3786"
             ],
             [
              0.5555555555555556,
              "#d8576b"
             ],
             [
              0.6666666666666666,
              "#ed7953"
             ],
             [
              0.7777777777777778,
              "#fb9f3a"
             ],
             [
              0.8888888888888888,
              "#fdca26"
             ],
             [
              1,
              "#f0f921"
             ]
            ],
            "type": "heatmap"
           }
          ],
          "heatmapgl": [
           {
            "colorbar": {
             "outlinewidth": 0,
             "ticks": ""
            },
            "colorscale": [
             [
              0,
              "#0d0887"
             ],
             [
              0.1111111111111111,
              "#46039f"
             ],
             [
              0.2222222222222222,
              "#7201a8"
             ],
             [
              0.3333333333333333,
              "#9c179e"
             ],
             [
              0.4444444444444444,
              "#bd3786"
             ],
             [
              0.5555555555555556,
              "#d8576b"
             ],
             [
              0.6666666666666666,
              "#ed7953"
             ],
             [
              0.7777777777777778,
              "#fb9f3a"
             ],
             [
              0.8888888888888888,
              "#fdca26"
             ],
             [
              1,
              "#f0f921"
             ]
            ],
            "type": "heatmapgl"
           }
          ],
          "histogram": [
           {
            "marker": {
             "colorbar": {
              "outlinewidth": 0,
              "ticks": ""
             }
            },
            "type": "histogram"
           }
          ],
          "histogram2d": [
           {
            "colorbar": {
             "outlinewidth": 0,
             "ticks": ""
            },
            "colorscale": [
             [
              0,
              "#0d0887"
             ],
             [
              0.1111111111111111,
              "#46039f"
             ],
             [
              0.2222222222222222,
              "#7201a8"
             ],
             [
              0.3333333333333333,
              "#9c179e"
             ],
             [
              0.4444444444444444,
              "#bd3786"
             ],
             [
              0.5555555555555556,
              "#d8576b"
             ],
             [
              0.6666666666666666,
              "#ed7953"
             ],
             [
              0.7777777777777778,
              "#fb9f3a"
             ],
             [
              0.8888888888888888,
              "#fdca26"
             ],
             [
              1,
              "#f0f921"
             ]
            ],
            "type": "histogram2d"
           }
          ],
          "histogram2dcontour": [
           {
            "colorbar": {
             "outlinewidth": 0,
             "ticks": ""
            },
            "colorscale": [
             [
              0,
              "#0d0887"
             ],
             [
              0.1111111111111111,
              "#46039f"
             ],
             [
              0.2222222222222222,
              "#7201a8"
             ],
             [
              0.3333333333333333,
              "#9c179e"
             ],
             [
              0.4444444444444444,
              "#bd3786"
             ],
             [
              0.5555555555555556,
              "#d8576b"
             ],
             [
              0.6666666666666666,
              "#ed7953"
             ],
             [
              0.7777777777777778,
              "#fb9f3a"
             ],
             [
              0.8888888888888888,
              "#fdca26"
             ],
             [
              1,
              "#f0f921"
             ]
            ],
            "type": "histogram2dcontour"
           }
          ],
          "mesh3d": [
           {
            "colorbar": {
             "outlinewidth": 0,
             "ticks": ""
            },
            "type": "mesh3d"
           }
          ],
          "parcoords": [
           {
            "line": {
             "colorbar": {
              "outlinewidth": 0,
              "ticks": ""
             }
            },
            "type": "parcoords"
           }
          ],
          "pie": [
           {
            "automargin": true,
            "type": "pie"
           }
          ],
          "scatter": [
           {
            "marker": {
             "colorbar": {
              "outlinewidth": 0,
              "ticks": ""
             }
            },
            "type": "scatter"
           }
          ],
          "scatter3d": [
           {
            "line": {
             "colorbar": {
              "outlinewidth": 0,
              "ticks": ""
             }
            },
            "marker": {
             "colorbar": {
              "outlinewidth": 0,
              "ticks": ""
             }
            },
            "type": "scatter3d"
           }
          ],
          "scattercarpet": [
           {
            "marker": {
             "colorbar": {
              "outlinewidth": 0,
              "ticks": ""
             }
            },
            "type": "scattercarpet"
           }
          ],
          "scattergeo": [
           {
            "marker": {
             "colorbar": {
              "outlinewidth": 0,
              "ticks": ""
             }
            },
            "type": "scattergeo"
           }
          ],
          "scattergl": [
           {
            "marker": {
             "colorbar": {
              "outlinewidth": 0,
              "ticks": ""
             }
            },
            "type": "scattergl"
           }
          ],
          "scattermapbox": [
           {
            "marker": {
             "colorbar": {
              "outlinewidth": 0,
              "ticks": ""
             }
            },
            "type": "scattermapbox"
           }
          ],
          "scatterpolar": [
           {
            "marker": {
             "colorbar": {
              "outlinewidth": 0,
              "ticks": ""
             }
            },
            "type": "scatterpolar"
           }
          ],
          "scatterpolargl": [
           {
            "marker": {
             "colorbar": {
              "outlinewidth": 0,
              "ticks": ""
             }
            },
            "type": "scatterpolargl"
           }
          ],
          "scatterternary": [
           {
            "marker": {
             "colorbar": {
              "outlinewidth": 0,
              "ticks": ""
             }
            },
            "type": "scatterternary"
           }
          ],
          "surface": [
           {
            "colorbar": {
             "outlinewidth": 0,
             "ticks": ""
            },
            "colorscale": [
             [
              0,
              "#0d0887"
             ],
             [
              0.1111111111111111,
              "#46039f"
             ],
             [
              0.2222222222222222,
              "#7201a8"
             ],
             [
              0.3333333333333333,
              "#9c179e"
             ],
             [
              0.4444444444444444,
              "#bd3786"
             ],
             [
              0.5555555555555556,
              "#d8576b"
             ],
             [
              0.6666666666666666,
              "#ed7953"
             ],
             [
              0.7777777777777778,
              "#fb9f3a"
             ],
             [
              0.8888888888888888,
              "#fdca26"
             ],
             [
              1,
              "#f0f921"
             ]
            ],
            "type": "surface"
           }
          ],
          "table": [
           {
            "cells": {
             "fill": {
              "color": "#EBF0F8"
             },
             "line": {
              "color": "white"
             }
            },
            "header": {
             "fill": {
              "color": "#C8D4E3"
             },
             "line": {
              "color": "white"
             }
            },
            "type": "table"
           }
          ]
         },
         "layout": {
          "annotationdefaults": {
           "arrowcolor": "#2a3f5f",
           "arrowhead": 0,
           "arrowwidth": 1
          },
          "coloraxis": {
           "colorbar": {
            "outlinewidth": 0,
            "ticks": ""
           }
          },
          "colorscale": {
           "diverging": [
            [
             0,
             "#8e0152"
            ],
            [
             0.1,
             "#c51b7d"
            ],
            [
             0.2,
             "#de77ae"
            ],
            [
             0.3,
             "#f1b6da"
            ],
            [
             0.4,
             "#fde0ef"
            ],
            [
             0.5,
             "#f7f7f7"
            ],
            [
             0.6,
             "#e6f5d0"
            ],
            [
             0.7,
             "#b8e186"
            ],
            [
             0.8,
             "#7fbc41"
            ],
            [
             0.9,
             "#4d9221"
            ],
            [
             1,
             "#276419"
            ]
           ],
           "sequential": [
            [
             0,
             "#0d0887"
            ],
            [
             0.1111111111111111,
             "#46039f"
            ],
            [
             0.2222222222222222,
             "#7201a8"
            ],
            [
             0.3333333333333333,
             "#9c179e"
            ],
            [
             0.4444444444444444,
             "#bd3786"
            ],
            [
             0.5555555555555556,
             "#d8576b"
            ],
            [
             0.6666666666666666,
             "#ed7953"
            ],
            [
             0.7777777777777778,
             "#fb9f3a"
            ],
            [
             0.8888888888888888,
             "#fdca26"
            ],
            [
             1,
             "#f0f921"
            ]
           ],
           "sequentialminus": [
            [
             0,
             "#0d0887"
            ],
            [
             0.1111111111111111,
             "#46039f"
            ],
            [
             0.2222222222222222,
             "#7201a8"
            ],
            [
             0.3333333333333333,
             "#9c179e"
            ],
            [
             0.4444444444444444,
             "#bd3786"
            ],
            [
             0.5555555555555556,
             "#d8576b"
            ],
            [
             0.6666666666666666,
             "#ed7953"
            ],
            [
             0.7777777777777778,
             "#fb9f3a"
            ],
            [
             0.8888888888888888,
             "#fdca26"
            ],
            [
             1,
             "#f0f921"
            ]
           ]
          },
          "colorway": [
           "#636efa",
           "#EF553B",
           "#00cc96",
           "#ab63fa",
           "#FFA15A",
           "#19d3f3",
           "#FF6692",
           "#B6E880",
           "#FF97FF",
           "#FECB52"
          ],
          "font": {
           "color": "#2a3f5f"
          },
          "geo": {
           "bgcolor": "white",
           "lakecolor": "white",
           "landcolor": "#E5ECF6",
           "showlakes": true,
           "showland": true,
           "subunitcolor": "white"
          },
          "hoverlabel": {
           "align": "left"
          },
          "hovermode": "closest",
          "mapbox": {
           "style": "light"
          },
          "paper_bgcolor": "white",
          "plot_bgcolor": "#E5ECF6",
          "polar": {
           "angularaxis": {
            "gridcolor": "white",
            "linecolor": "white",
            "ticks": ""
           },
           "bgcolor": "#E5ECF6",
           "radialaxis": {
            "gridcolor": "white",
            "linecolor": "white",
            "ticks": ""
           }
          },
          "scene": {
           "xaxis": {
            "backgroundcolor": "#E5ECF6",
            "gridcolor": "white",
            "gridwidth": 2,
            "linecolor": "white",
            "showbackground": true,
            "ticks": "",
            "zerolinecolor": "white"
           },
           "yaxis": {
            "backgroundcolor": "#E5ECF6",
            "gridcolor": "white",
            "gridwidth": 2,
            "linecolor": "white",
            "showbackground": true,
            "ticks": "",
            "zerolinecolor": "white"
           },
           "zaxis": {
            "backgroundcolor": "#E5ECF6",
            "gridcolor": "white",
            "gridwidth": 2,
            "linecolor": "white",
            "showbackground": true,
            "ticks": "",
            "zerolinecolor": "white"
           }
          },
          "shapedefaults": {
           "line": {
            "color": "#2a3f5f"
           }
          },
          "ternary": {
           "aaxis": {
            "gridcolor": "white",
            "linecolor": "white",
            "ticks": ""
           },
           "baxis": {
            "gridcolor": "white",
            "linecolor": "white",
            "ticks": ""
           },
           "bgcolor": "#E5ECF6",
           "caxis": {
            "gridcolor": "white",
            "linecolor": "white",
            "ticks": ""
           }
          },
          "title": {
           "x": 0.05
          },
          "xaxis": {
           "automargin": true,
           "gridcolor": "white",
           "linecolor": "white",
           "ticks": "",
           "title": {
            "standoff": 15
           },
           "zerolinecolor": "white",
           "zerolinewidth": 2
          },
          "yaxis": {
           "automargin": true,
           "gridcolor": "white",
           "linecolor": "white",
           "ticks": "",
           "title": {
            "standoff": 15
           },
           "zerolinecolor": "white",
           "zerolinewidth": 2
          }
         }
        },
        "title": {
         "text": "COVID-19 top fl en hashtags 2020-04-27 00:00:00"
        },
        "updatemenus": [
         {
          "buttons": [
           {
            "args": [
             null,
             {
              "frame": {
               "duration": 2000,
               "redraw": true
              },
              "fromcurrent": true
             }
            ],
            "label": "Play",
            "method": "animate"
           },
           {
            "args": [
             [
              null
             ],
             {
              "frame": {
               "duration": 0,
               "redraw": false
              },
              "mode": "immediate",
              "transition": {
               "duration": 0
              }
             }
            ],
            "label": "Stop",
            "method": "animate"
           }
          ],
          "type": "buttons"
         }
        ],
        "xaxis": {
         "showline": false,
         "visible": false
        },
        "yaxis": {
         "range": [
          0,
          139
         ],
         "showline": false,
         "visible": false
        }
       }
      },
      "text/html": [
       "<div>\n",
       "        \n",
       "        \n",
       "            <div id=\"00677314-c9e0-48b3-a640-767299a3ebda\" class=\"plotly-graph-div\" style=\"height:525px; width:100%;\"></div>\n",
       "            <script type=\"text/javascript\">\n",
       "                require([\"plotly\"], function(Plotly) {\n",
       "                    window.PLOTLYENV=window.PLOTLYENV || {};\n",
       "                    \n",
       "                if (document.getElementById(\"00677314-c9e0-48b3-a640-767299a3ebda\")) {\n",
       "                    Plotly.newPlot(\n",
       "                        '00677314-c9e0-48b3-a640-767299a3ebda',\n",
       "                        [{\"cliponaxis\": false, \"hoverinfo\": \"none\", \"marker\": {\"color\": [\"rgb(181, 131, 251)\", \"rgb(17, 53, 191)\", \"rgb(134, 45, 226)\", \"rgb(151, 145, 152)\", \"rgb(15, 137, 149)\", \"rgb(185, 72, 207)\", \"rgb(104, 33, 142)\", \"rgb(152, 162, 188)\", \"rgb(174, 127, 160)\"]}, \"textposition\": \"outside\", \"texttemplate\": \"%{x}<br>%{y}\", \"type\": \"bar\", \"x\": [\"covid19\", \"coronavirus\", \"covid\", \"health\", \"miami\", \"acscovid19\", \"staysafe\", \"pandemic\", \"givingtuesdaynow\"], \"y\": [109, 28, 13, 13, 9, 0, 0, 0, 0]}],\n",
       "                        {\"bargap\": 0.15, \"font\": {\"size\": 14}, \"plot_bgcolor\": \"#FFFFFF\", \"template\": {\"data\": {\"bar\": [{\"error_x\": {\"color\": \"#2a3f5f\"}, \"error_y\": {\"color\": \"#2a3f5f\"}, \"marker\": {\"line\": {\"color\": \"#E5ECF6\", \"width\": 0.5}}, \"type\": \"bar\"}], \"barpolar\": [{\"marker\": {\"line\": {\"color\": \"#E5ECF6\", \"width\": 0.5}}, \"type\": \"barpolar\"}], \"carpet\": [{\"aaxis\": {\"endlinecolor\": \"#2a3f5f\", \"gridcolor\": \"white\", \"linecolor\": \"white\", \"minorgridcolor\": \"white\", \"startlinecolor\": \"#2a3f5f\"}, \"baxis\": {\"endlinecolor\": \"#2a3f5f\", \"gridcolor\": \"white\", \"linecolor\": \"white\", \"minorgridcolor\": \"white\", \"startlinecolor\": \"#2a3f5f\"}, \"type\": \"carpet\"}], \"choropleth\": [{\"colorbar\": {\"outlinewidth\": 0, \"ticks\": \"\"}, \"type\": \"choropleth\"}], \"contour\": [{\"colorbar\": {\"outlinewidth\": 0, \"ticks\": \"\"}, \"colorscale\": [[0.0, \"#0d0887\"], [0.1111111111111111, \"#46039f\"], [0.2222222222222222, \"#7201a8\"], [0.3333333333333333, \"#9c179e\"], [0.4444444444444444, \"#bd3786\"], [0.5555555555555556, \"#d8576b\"], [0.6666666666666666, \"#ed7953\"], [0.7777777777777778, \"#fb9f3a\"], [0.8888888888888888, \"#fdca26\"], [1.0, \"#f0f921\"]], \"type\": \"contour\"}], \"contourcarpet\": [{\"colorbar\": {\"outlinewidth\": 0, \"ticks\": \"\"}, \"type\": \"contourcarpet\"}], \"heatmap\": [{\"colorbar\": {\"outlinewidth\": 0, \"ticks\": \"\"}, \"colorscale\": [[0.0, \"#0d0887\"], [0.1111111111111111, \"#46039f\"], [0.2222222222222222, \"#7201a8\"], [0.3333333333333333, \"#9c179e\"], [0.4444444444444444, \"#bd3786\"], [0.5555555555555556, \"#d8576b\"], [0.6666666666666666, \"#ed7953\"], [0.7777777777777778, \"#fb9f3a\"], [0.8888888888888888, \"#fdca26\"], [1.0, \"#f0f921\"]], \"type\": \"heatmap\"}], \"heatmapgl\": [{\"colorbar\": {\"outlinewidth\": 0, \"ticks\": \"\"}, \"colorscale\": [[0.0, \"#0d0887\"], [0.1111111111111111, \"#46039f\"], [0.2222222222222222, \"#7201a8\"], [0.3333333333333333, \"#9c179e\"], [0.4444444444444444, \"#bd3786\"], [0.5555555555555556, \"#d8576b\"], [0.6666666666666666, \"#ed7953\"], [0.7777777777777778, \"#fb9f3a\"], [0.8888888888888888, \"#fdca26\"], [1.0, \"#f0f921\"]], \"type\": \"heatmapgl\"}], \"histogram\": [{\"marker\": {\"colorbar\": {\"outlinewidth\": 0, \"ticks\": \"\"}}, \"type\": \"histogram\"}], \"histogram2d\": [{\"colorbar\": {\"outlinewidth\": 0, \"ticks\": \"\"}, \"colorscale\": [[0.0, \"#0d0887\"], [0.1111111111111111, \"#46039f\"], [0.2222222222222222, \"#7201a8\"], [0.3333333333333333, \"#9c179e\"], [0.4444444444444444, \"#bd3786\"], [0.5555555555555556, \"#d8576b\"], [0.6666666666666666, \"#ed7953\"], [0.7777777777777778, \"#fb9f3a\"], [0.8888888888888888, \"#fdca26\"], [1.0, \"#f0f921\"]], \"type\": \"histogram2d\"}], \"histogram2dcontour\": [{\"colorbar\": {\"outlinewidth\": 0, \"ticks\": \"\"}, \"colorscale\": [[0.0, \"#0d0887\"], [0.1111111111111111, \"#46039f\"], [0.2222222222222222, \"#7201a8\"], [0.3333333333333333, \"#9c179e\"], [0.4444444444444444, \"#bd3786\"], [0.5555555555555556, \"#d8576b\"], [0.6666666666666666, \"#ed7953\"], [0.7777777777777778, \"#fb9f3a\"], [0.8888888888888888, \"#fdca26\"], [1.0, \"#f0f921\"]], \"type\": \"histogram2dcontour\"}], \"mesh3d\": [{\"colorbar\": {\"outlinewidth\": 0, \"ticks\": \"\"}, \"type\": \"mesh3d\"}], \"parcoords\": [{\"line\": {\"colorbar\": {\"outlinewidth\": 0, \"ticks\": \"\"}}, \"type\": \"parcoords\"}], \"pie\": [{\"automargin\": true, \"type\": \"pie\"}], \"scatter\": [{\"marker\": {\"colorbar\": {\"outlinewidth\": 0, \"ticks\": \"\"}}, \"type\": \"scatter\"}], \"scatter3d\": [{\"line\": {\"colorbar\": {\"outlinewidth\": 0, \"ticks\": \"\"}}, \"marker\": {\"colorbar\": {\"outlinewidth\": 0, \"ticks\": \"\"}}, \"type\": \"scatter3d\"}], \"scattercarpet\": [{\"marker\": {\"colorbar\": {\"outlinewidth\": 0, \"ticks\": \"\"}}, \"type\": \"scattercarpet\"}], \"scattergeo\": [{\"marker\": {\"colorbar\": {\"outlinewidth\": 0, \"ticks\": \"\"}}, \"type\": \"scattergeo\"}], \"scattergl\": [{\"marker\": {\"colorbar\": {\"outlinewidth\": 0, \"ticks\": \"\"}}, \"type\": \"scattergl\"}], \"scattermapbox\": [{\"marker\": {\"colorbar\": {\"outlinewidth\": 0, \"ticks\": \"\"}}, \"type\": \"scattermapbox\"}], \"scatterpolar\": [{\"marker\": {\"colorbar\": {\"outlinewidth\": 0, \"ticks\": \"\"}}, \"type\": \"scatterpolar\"}], \"scatterpolargl\": [{\"marker\": {\"colorbar\": {\"outlinewidth\": 0, \"ticks\": \"\"}}, \"type\": \"scatterpolargl\"}], \"scatterternary\": [{\"marker\": {\"colorbar\": {\"outlinewidth\": 0, \"ticks\": \"\"}}, \"type\": \"scatterternary\"}], \"surface\": [{\"colorbar\": {\"outlinewidth\": 0, \"ticks\": \"\"}, \"colorscale\": [[0.0, \"#0d0887\"], [0.1111111111111111, \"#46039f\"], [0.2222222222222222, \"#7201a8\"], [0.3333333333333333, \"#9c179e\"], [0.4444444444444444, \"#bd3786\"], [0.5555555555555556, \"#d8576b\"], [0.6666666666666666, \"#ed7953\"], [0.7777777777777778, \"#fb9f3a\"], [0.8888888888888888, \"#fdca26\"], [1.0, \"#f0f921\"]], \"type\": \"surface\"}], \"table\": [{\"cells\": {\"fill\": {\"color\": \"#EBF0F8\"}, \"line\": {\"color\": \"white\"}}, \"header\": {\"fill\": {\"color\": \"#C8D4E3\"}, \"line\": {\"color\": \"white\"}}, \"type\": \"table\"}]}, \"layout\": {\"annotationdefaults\": {\"arrowcolor\": \"#2a3f5f\", \"arrowhead\": 0, \"arrowwidth\": 1}, \"coloraxis\": {\"colorbar\": {\"outlinewidth\": 0, \"ticks\": \"\"}}, \"colorscale\": {\"diverging\": [[0, \"#8e0152\"], [0.1, \"#c51b7d\"], [0.2, \"#de77ae\"], [0.3, \"#f1b6da\"], [0.4, \"#fde0ef\"], [0.5, \"#f7f7f7\"], [0.6, \"#e6f5d0\"], [0.7, \"#b8e186\"], [0.8, \"#7fbc41\"], [0.9, \"#4d9221\"], [1, \"#276419\"]], \"sequential\": [[0.0, \"#0d0887\"], [0.1111111111111111, \"#46039f\"], [0.2222222222222222, \"#7201a8\"], [0.3333333333333333, \"#9c179e\"], [0.4444444444444444, \"#bd3786\"], [0.5555555555555556, \"#d8576b\"], [0.6666666666666666, \"#ed7953\"], [0.7777777777777778, \"#fb9f3a\"], [0.8888888888888888, \"#fdca26\"], [1.0, \"#f0f921\"]], \"sequentialminus\": [[0.0, \"#0d0887\"], [0.1111111111111111, \"#46039f\"], [0.2222222222222222, \"#7201a8\"], [0.3333333333333333, \"#9c179e\"], [0.4444444444444444, \"#bd3786\"], [0.5555555555555556, \"#d8576b\"], [0.6666666666666666, \"#ed7953\"], [0.7777777777777778, \"#fb9f3a\"], [0.8888888888888888, \"#fdca26\"], [1.0, \"#f0f921\"]]}, \"colorway\": [\"#636efa\", \"#EF553B\", \"#00cc96\", \"#ab63fa\", \"#FFA15A\", \"#19d3f3\", \"#FF6692\", \"#B6E880\", \"#FF97FF\", \"#FECB52\"], \"font\": {\"color\": \"#2a3f5f\"}, \"geo\": {\"bgcolor\": \"white\", \"lakecolor\": \"white\", \"landcolor\": \"#E5ECF6\", \"showlakes\": true, \"showland\": true, \"subunitcolor\": \"white\"}, \"hoverlabel\": {\"align\": \"left\"}, \"hovermode\": \"closest\", \"mapbox\": {\"style\": \"light\"}, \"paper_bgcolor\": \"white\", \"plot_bgcolor\": \"#E5ECF6\", \"polar\": {\"angularaxis\": {\"gridcolor\": \"white\", \"linecolor\": \"white\", \"ticks\": \"\"}, \"bgcolor\": \"#E5ECF6\", \"radialaxis\": {\"gridcolor\": \"white\", \"linecolor\": \"white\", \"ticks\": \"\"}}, \"scene\": {\"xaxis\": {\"backgroundcolor\": \"#E5ECF6\", \"gridcolor\": \"white\", \"gridwidth\": 2, \"linecolor\": \"white\", \"showbackground\": true, \"ticks\": \"\", \"zerolinecolor\": \"white\"}, \"yaxis\": {\"backgroundcolor\": \"#E5ECF6\", \"gridcolor\": \"white\", \"gridwidth\": 2, \"linecolor\": \"white\", \"showbackground\": true, \"ticks\": \"\", \"zerolinecolor\": \"white\"}, \"zaxis\": {\"backgroundcolor\": \"#E5ECF6\", \"gridcolor\": \"white\", \"gridwidth\": 2, \"linecolor\": \"white\", \"showbackground\": true, \"ticks\": \"\", \"zerolinecolor\": \"white\"}}, \"shapedefaults\": {\"line\": {\"color\": \"#2a3f5f\"}}, \"ternary\": {\"aaxis\": {\"gridcolor\": \"white\", \"linecolor\": \"white\", \"ticks\": \"\"}, \"baxis\": {\"gridcolor\": \"white\", \"linecolor\": \"white\", \"ticks\": \"\"}, \"bgcolor\": \"#E5ECF6\", \"caxis\": {\"gridcolor\": \"white\", \"linecolor\": \"white\", \"ticks\": \"\"}}, \"title\": {\"x\": 0.05}, \"xaxis\": {\"automargin\": true, \"gridcolor\": \"white\", \"linecolor\": \"white\", \"ticks\": \"\", \"title\": {\"standoff\": 15}, \"zerolinecolor\": \"white\", \"zerolinewidth\": 2}, \"yaxis\": {\"automargin\": true, \"gridcolor\": \"white\", \"linecolor\": \"white\", \"ticks\": \"\", \"title\": {\"standoff\": 15}, \"zerolinecolor\": \"white\", \"zerolinewidth\": 2}}}, \"title\": {\"text\": \"COVID-19 top fl en hashtags 2020-04-27 00:00:00\"}, \"updatemenus\": [{\"buttons\": [{\"args\": [null, {\"frame\": {\"duration\": 2000, \"redraw\": true}, \"fromcurrent\": true}], \"label\": \"Play\", \"method\": \"animate\"}, {\"args\": [[null], {\"frame\": {\"duration\": 0, \"redraw\": false}, \"mode\": \"immediate\", \"transition\": {\"duration\": 0}}], \"label\": \"Stop\", \"method\": \"animate\"}], \"type\": \"buttons\"}], \"xaxis\": {\"showline\": false, \"visible\": false}, \"yaxis\": {\"range\": [0, 139], \"showline\": false, \"visible\": false}},\n",
       "                        {\"responsive\": true}\n",
       "                    ).then(function(){\n",
       "                            Plotly.addFrames('00677314-c9e0-48b3-a640-767299a3ebda', [{\"data\": [{\"cliponaxis\": false, \"hoverinfo\": \"none\", \"marker\": {\"color\": [\"rgb(181, 131, 251)\", \"rgb(17, 53, 191)\", \"rgb(134, 45, 226)\", \"rgb(151, 145, 152)\", \"rgb(15, 137, 149)\", \"rgb(185, 72, 207)\", \"rgb(104, 33, 142)\", \"rgb(152, 162, 188)\", \"rgb(174, 127, 160)\"]}, \"textposition\": \"outside\", \"texttemplate\": \"%{x}<br>%{y}\", \"x\": [\"covid19\", \"coronavirus\", \"covid\", \"health\", \"miami\", \"acscovid19\", \"staysafe\", \"pandemic\", \"givingtuesdaynow\"], \"y\": [109, 28, 13, 13, 9, 0, 0, 0, 0], \"type\": \"bar\"}], \"layout\": {\"bargap\": 0.15, \"font\": {\"size\": 14}, \"plot_bgcolor\": \"#FFFFFF\", \"title\": {\"text\": \"COVID-19 top fl en hashtags 2020-04-27 00:00:00\"}, \"xaxis\": {\"showline\": false, \"visible\": false}, \"yaxis\": {\"showline\": false, \"visible\": false}}}, {\"data\": [{\"cliponaxis\": false, \"hoverinfo\": \"none\", \"marker\": {\"color\": [\"rgb(181, 131, 251)\", \"rgb(17, 53, 191)\", \"rgb(134, 45, 226)\", \"rgb(151, 145, 152)\", \"rgb(15, 137, 149)\", \"rgb(185, 72, 207)\", \"rgb(104, 33, 142)\", \"rgb(152, 162, 188)\", \"rgb(174, 127, 160)\"]}, \"textposition\": \"outside\", \"texttemplate\": \"%{x}<br>%{y}\", \"x\": [\"covid19\", \"coronavirus\", \"covid\", \"health\", \"miami\", \"acscovid19\", \"staysafe\", \"pandemic\", \"givingtuesdaynow\"], \"y\": [112, 30, 26, 0, 0, 23, 7, 0, 0], \"type\": \"bar\"}], \"layout\": {\"bargap\": 0.15, \"font\": {\"size\": 14}, \"plot_bgcolor\": \"#FFFFFF\", \"title\": {\"text\": \"COVID-19 top fl en hashtags 2020-04-28 00:00:00\"}, \"xaxis\": {\"showline\": false, \"visible\": false}, \"yaxis\": {\"showline\": false, \"visible\": false}}}, {\"data\": [{\"cliponaxis\": false, \"hoverinfo\": \"none\", \"marker\": {\"color\": [\"rgb(181, 131, 251)\", \"rgb(17, 53, 191)\", \"rgb(134, 45, 226)\", \"rgb(151, 145, 152)\", \"rgb(15, 137, 149)\", \"rgb(185, 72, 207)\", \"rgb(104, 33, 142)\", \"rgb(152, 162, 188)\", \"rgb(174, 127, 160)\"]}, \"textposition\": \"outside\", \"texttemplate\": \"%{x}<br>%{y}\", \"x\": [\"covid19\", \"coronavirus\", \"covid\", \"health\", \"miami\", \"acscovid19\", \"staysafe\", \"pandemic\", \"givingtuesdaynow\"], \"y\": [111, 32, 27, 13, 0, 10, 0, 0, 0], \"type\": \"bar\"}], \"layout\": {\"bargap\": 0.15, \"font\": {\"size\": 14}, \"plot_bgcolor\": \"#FFFFFF\", \"title\": {\"text\": \"COVID-19 top fl en hashtags 2020-04-29 00:00:00\"}, \"xaxis\": {\"showline\": false, \"visible\": false}, \"yaxis\": {\"showline\": false, \"visible\": false}}}, {\"data\": [{\"cliponaxis\": false, \"hoverinfo\": \"none\", \"marker\": {\"color\": [\"rgb(181, 131, 251)\", \"rgb(17, 53, 191)\", \"rgb(134, 45, 226)\", \"rgb(151, 145, 152)\", \"rgb(15, 137, 149)\", \"rgb(185, 72, 207)\", \"rgb(104, 33, 142)\", \"rgb(152, 162, 188)\", \"rgb(174, 127, 160)\"]}, \"textposition\": \"outside\", \"texttemplate\": \"%{x}<br>%{y}\", \"x\": [\"covid19\", \"coronavirus\", \"covid\", \"health\", \"miami\", \"acscovid19\", \"staysafe\", \"pandemic\", \"givingtuesdaynow\"], \"y\": [102, 34, 31, 13, 0, 0, 0, 10, 0], \"type\": \"bar\"}], \"layout\": {\"bargap\": 0.15, \"font\": {\"size\": 14}, \"plot_bgcolor\": \"#FFFFFF\", \"title\": {\"text\": \"COVID-19 top fl en hashtags 2020-04-30 00:00:00\"}, \"xaxis\": {\"showline\": false, \"visible\": false}, \"yaxis\": {\"showline\": false, \"visible\": false}}}, {\"data\": [{\"cliponaxis\": false, \"hoverinfo\": \"none\", \"marker\": {\"color\": [\"rgb(181, 131, 251)\", \"rgb(17, 53, 191)\", \"rgb(134, 45, 226)\", \"rgb(151, 145, 152)\", \"rgb(15, 137, 149)\", \"rgb(185, 72, 207)\", \"rgb(104, 33, 142)\", \"rgb(152, 162, 188)\", \"rgb(174, 127, 160)\"]}, \"textposition\": \"outside\", \"texttemplate\": \"%{x}<br>%{y}\", \"x\": [\"covid19\", \"coronavirus\", \"covid\", \"health\", \"miami\", \"acscovid19\", \"staysafe\", \"pandemic\", \"givingtuesdaynow\"], \"y\": [139, 34, 29, 0, 0, 17, 0, 0, 12], \"type\": \"bar\"}], \"layout\": {\"bargap\": 0.15, \"font\": {\"size\": 14}, \"plot_bgcolor\": \"#FFFFFF\", \"title\": {\"text\": \"COVID-19 top fl en hashtags 2020-05-01 00:00:00\"}, \"xaxis\": {\"showline\": false, \"visible\": false}, \"yaxis\": {\"showline\": false, \"visible\": false}}}, {\"data\": [{\"cliponaxis\": false, \"hoverinfo\": \"none\", \"marker\": {\"color\": [\"rgb(181, 131, 251)\", \"rgb(17, 53, 191)\", \"rgb(134, 45, 226)\", \"rgb(151, 145, 152)\", \"rgb(15, 137, 149)\", \"rgb(185, 72, 207)\", \"rgb(104, 33, 142)\", \"rgb(152, 162, 188)\", \"rgb(174, 127, 160)\"]}, \"textposition\": \"outside\", \"texttemplate\": \"%{x}<br>%{y}\", \"x\": [\"covid19\", \"coronavirus\", \"covid\", \"health\", \"miami\", \"acscovid19\", \"staysafe\", \"pandemic\", \"givingtuesdaynow\"], \"y\": [105, 20, 27, 10, 0, 17, 0, 0, 0], \"type\": \"bar\"}], \"layout\": {\"bargap\": 0.15, \"font\": {\"size\": 14}, \"plot_bgcolor\": \"#FFFFFF\", \"title\": {\"text\": \"COVID-19 top fl en hashtags 2020-05-02 00:00:00\"}, \"xaxis\": {\"showline\": false, \"visible\": false}, \"yaxis\": {\"showline\": false, \"visible\": false}}}, {\"data\": [{\"cliponaxis\": false, \"hoverinfo\": \"none\", \"marker\": {\"color\": [\"rgb(181, 131, 251)\", \"rgb(17, 53, 191)\", \"rgb(134, 45, 226)\", \"rgb(151, 145, 152)\", \"rgb(15, 137, 149)\", \"rgb(185, 72, 207)\", \"rgb(104, 33, 142)\", \"rgb(152, 162, 188)\", \"rgb(174, 127, 160)\"]}, \"textposition\": \"outside\", \"texttemplate\": \"%{x}<br>%{y}\", \"x\": [\"covid19\", \"coronavirus\", \"covid\", \"health\", \"miami\", \"acscovid19\", \"staysafe\", \"pandemic\", \"givingtuesdaynow\"], \"y\": [75, 14, 21, 9, 0, 0, 0, 0, 17], \"type\": \"bar\"}], \"layout\": {\"bargap\": 0.15, \"font\": {\"size\": 14}, \"plot_bgcolor\": \"#FFFFFF\", \"title\": {\"text\": \"COVID-19 top fl en hashtags 2020-05-03 00:00:00\"}, \"xaxis\": {\"showline\": false, \"visible\": false}, \"yaxis\": {\"showline\": false, \"visible\": false}}}]);\n",
       "                        }).then(function(){\n",
       "                            \n",
       "var gd = document.getElementById('00677314-c9e0-48b3-a640-767299a3ebda');\n",
       "var x = new MutationObserver(function (mutations, observer) {{\n",
       "        var display = window.getComputedStyle(gd).display;\n",
       "        if (!display || display === 'none') {{\n",
       "            console.log([gd, 'removed!']);\n",
       "            Plotly.purge(gd);\n",
       "            observer.disconnect();\n",
       "        }}\n",
       "}});\n",
       "\n",
       "// Listen for the removal of the full notebook cells\n",
       "var notebookContainer = gd.closest('#notebook-container');\n",
       "if (notebookContainer) {{\n",
       "    x.observe(notebookContainer, {childList: true});\n",
       "}}\n",
       "\n",
       "// Listen for the clearing of the current output cell\n",
       "var outputEl = gd.closest('.output');\n",
       "if (outputEl) {{\n",
       "    x.observe(outputEl, {childList: true});\n",
       "}}\n",
       "\n",
       "                        })\n",
       "                };\n",
       "                });\n",
       "            </script>\n",
       "        </div>"
      ]
     },
     "metadata": {},
     "output_type": "display_data"
    }
   ],
   "source": [
    "fig = get_bar_race_plot(df_htags, 'COVID-19 top fl en hashtags ')\n",
    "fig.show()"
   ]
  },
  {
   "cell_type": "markdown",
   "metadata": {},
   "source": [
    "Feel free to add your own visualizations below! Or, if you prefer, you can tweak the parameters in the above cells and re-run them to get different visualizations. "
   ]
  },
  {
   "cell_type": "code",
   "execution_count": null,
   "metadata": {},
   "outputs": [],
   "source": []
  },
  {
   "cell_type": "code",
   "execution_count": null,
   "metadata": {},
   "outputs": [],
   "source": []
  },
  {
   "cell_type": "code",
   "execution_count": null,
   "metadata": {},
   "outputs": [],
   "source": []
  },
  {
   "cell_type": "markdown",
   "metadata": {},
   "source": [
    "## 3. Exporting the visualization\n",
    "\n",
    "The `plotly` package provides a convenience function for exporting visualizations to HTML, which can be opened on a browser and embedded on a website. Let's try it out with our last visualization.  \n"
   ]
  },
  {
   "cell_type": "code",
   "execution_count": 50,
   "metadata": {},
   "outputs": [],
   "source": [
    "import plotly.express as px\n",
    "fig.write_html(\"bar_race.html\")"
   ]
  },
  {
   "cell_type": "code",
   "execution_count": null,
   "metadata": {},
   "outputs": [],
   "source": []
  },
  {
   "cell_type": "code",
   "execution_count": null,
   "metadata": {},
   "outputs": [],
   "source": []
  },
  {
   "cell_type": "code",
   "execution_count": null,
   "metadata": {},
   "outputs": [],
   "source": []
  }
 ],
 "metadata": {
  "kernelspec": {
   "display_name": "Python 3",
   "language": "python",
   "name": "python3"
  },
  "language_info": {
   "codemirror_mode": {
    "name": "ipython",
    "version": 3
   },
   "file_extension": ".py",
   "mimetype": "text/x-python",
   "name": "python",
   "nbconvert_exporter": "python",
   "pygments_lexer": "ipython3",
   "version": "3.7.7"
  }
 },
 "nbformat": 4,
 "nbformat_minor": 2
}
